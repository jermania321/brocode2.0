{
  "nbformat": 4,
  "nbformat_minor": 0,
  "metadata": {
    "colab": {
      "name": "Exception Handling.ipynb",
      "provenance": [],
      "include_colab_link": true
    },
    "kernelspec": {
      "name": "python3",
      "display_name": "Python 3"
    }
  },
  "cells": [
    {
      "cell_type": "markdown",
      "metadata": {
        "id": "view-in-github",
        "colab_type": "text"
      },
      "source": [
        "<a href=\"https://colab.research.google.com/github/jermania321/brocode2.0/blob/master/Exception_Handling.ipynb\" target=\"_parent\"><img src=\"https://colab.research.google.com/assets/colab-badge.svg\" alt=\"Open In Colab\"/></a>"
      ]
    },
    {
      "cell_type": "markdown",
      "metadata": {
        "id": "mOFCzIreajPT"
      },
      "source": [
        "# **Exception Handling in Python**"
      ]
    },
    {
      "cell_type": "markdown",
      "metadata": {
        "id": "pDpHS_fPkMWP"
      },
      "source": [
        "We can make certain mistakes while writing a program that lead to errors when we try to run it. A python program terminates as soon as it encounters an unhandled error. These errors can be broadly classified into two classes:\n",
        "1. **Syntax errors**\n",
        "2. **Logical errors (Exceptions)**"
      ]
    },
    {
      "cell_type": "markdown",
      "metadata": {
        "id": "j9jqYHdQkoao"
      },
      "source": [
        "**Syntax Error:**\n",
        "\n",
        "As the name suggest this error is caused by wrong syntax in the code. It leads to the termination of the program."
      ]
    },
    {
      "cell_type": "code",
      "metadata": {
        "colab": {
          "base_uri": "https://localhost:8080/",
          "height": 129
        },
        "id": "ziuDcMKqk1fl",
        "outputId": "b8daf108-36df-431c-b2da-30a6d5d4fc89"
      },
      "source": [
        " if a < 3 "
      ],
      "execution_count": null,
      "outputs": [
        {
          "output_type": "error",
          "ename": "SyntaxError",
          "evalue": "ignored",
          "traceback": [
            "\u001b[0;36m  File \u001b[0;32m\"<ipython-input-2-7c6241bce93d>\"\u001b[0;36m, line \u001b[0;32m1\u001b[0m\n\u001b[0;31m    if a < 3\u001b[0m\n\u001b[0m             ^\u001b[0m\n\u001b[0;31mSyntaxError\u001b[0m\u001b[0;31m:\u001b[0m invalid syntax\n"
          ]
        }
      ]
    },
    {
      "cell_type": "markdown",
      "metadata": {
        "id": "iBk02L1ml_LO"
      },
      "source": [
        "As shown in the example, an arrow indicates where the parser ran into the syntax error.\n",
        "We can notice here that a colon : is missing in the if statement.\n"
      ]
    },
    {
      "cell_type": "markdown",
      "metadata": {
        "id": "vj5YMTvQku4n"
      },
      "source": [
        "# **Python Logical Errors (Exceptions)**"
      ]
    },
    {
      "cell_type": "markdown",
      "metadata": {
        "id": "1-JlgTlaauCo"
      },
      "source": [
        "An **exception** can be defined as **an unusual condition** in a program resulting in the interruption in the flow of the program.\n",
        "\n",
        "Whenever an exception occurs, the program stops the execution, and thus the further code is not executed. \n",
        "\n",
        "Therefore, an exception is the run-time errors that are unable to handle to Python script. \n",
        "\n",
        "**An exception is a Python object that represents an error**\n",
        "\n",
        "Python provides a way to handle the exception so that the code can be executed without any interruption. \n",
        "\n",
        "If we do not handle the exception, the interpreter doesn't execute all the code that exists after the exception."
      ]
    },
    {
      "cell_type": "markdown",
      "metadata": {
        "id": "8AlLASQMff3T"
      },
      "source": [
        "Python has many built-in exceptions that enable our program to run without interruption and give the output. These exceptions are given below:"
      ]
    },
    {
      "cell_type": "markdown",
      "metadata": {
        "id": "nPaHugRgfnzS"
      },
      "source": [
        "**Common Exceptions**"
      ]
    },
    {
      "cell_type": "markdown",
      "metadata": {
        "id": "GhSFG1r6gHGm"
      },
      "source": [
        "Python provides the number of built-in exceptions, but here we are describing the common standard exceptions. A list of common exceptions that can be thrown from a standard Python program is given below.\n",
        "\n",
        "1. **ZeroDivisionError:** Occurs when a number is divided by zero.\n",
        "2. **NameError:** It occurs when a name is not found. It may be local or global.\n",
        "3. **IndentationError:** If incorrect indentation is given.\n",
        "4. **IOError:** It occurs when Input Output operation fails.\n",
        "5. **EOFError:** It occurs when the end of the file is reached, and yet operations are being performed."
      ]
    },
    {
      "cell_type": "code",
      "metadata": {
        "colab": {
          "base_uri": "https://localhost:8080/",
          "height": 163
        },
        "id": "114-MrP_Bb7h",
        "outputId": "f28ec63f-7b75-4198-98c2-64da614420ad"
      },
      "source": [
        "int(\"string\")"
      ],
      "execution_count": null,
      "outputs": [
        {
          "output_type": "error",
          "ename": "ValueError",
          "evalue": "ignored",
          "traceback": [
            "\u001b[0;31m---------------------------------------------------------------------------\u001b[0m",
            "\u001b[0;31mValueError\u001b[0m                                Traceback (most recent call last)",
            "\u001b[0;32m<ipython-input-1-c625eff2cfad>\u001b[0m in \u001b[0;36m<module>\u001b[0;34m()\u001b[0m\n\u001b[0;32m----> 1\u001b[0;31m \u001b[0mint\u001b[0m\u001b[0;34m(\u001b[0m\u001b[0;34m\"string\"\u001b[0m\u001b[0;34m)\u001b[0m\u001b[0;34m\u001b[0m\u001b[0;34m\u001b[0m\u001b[0m\n\u001b[0m",
            "\u001b[0;31mValueError\u001b[0m: invalid literal for int() with base 10: 'string'"
          ]
        }
      ]
    },
    {
      "cell_type": "markdown",
      "metadata": {
        "id": "KgwPh_49h0x6"
      },
      "source": [
        "**The problem without handling exceptions**"
      ]
    },
    {
      "cell_type": "markdown",
      "metadata": {
        "id": "MaCoTDbgh7QC"
      },
      "source": [
        "As we have already discussed, the exception is an abnormal condition that halts the execution of the program.\n",
        "\n",
        "Suppose we have two variables a and b, which take the input from the user and perform the division of these values. What if the user entered the zero as the denominator? It will interrupt the program execution and through a ZeroDivision exception. Let's see the following example."
      ]
    },
    {
      "cell_type": "code",
      "metadata": {
        "colab": {
          "base_uri": "https://localhost:8080/",
          "height": 265
        },
        "id": "zWqTDNCnabhB",
        "outputId": "e004e500-bc41-4d97-f25e-f886c490f80f"
      },
      "source": [
        "a = int(input(\"Enter a:\"))    \n",
        "b = int(input(\"Enter b:\"))    \n",
        "c = a/b  \n",
        "print(\"a/b = %d\" %c)    \n",
        "    \n",
        "#other code:    \n",
        "print(\"Hi I am other part of the program\")  "
      ],
      "execution_count": null,
      "outputs": [
        {
          "output_type": "stream",
          "text": [
            "Enter a:3\n",
            "Enter b:0\n"
          ],
          "name": "stdout"
        },
        {
          "output_type": "error",
          "ename": "ZeroDivisionError",
          "evalue": "ignored",
          "traceback": [
            "\u001b[0;31m---------------------------------------------------------------------------\u001b[0m",
            "\u001b[0;31mZeroDivisionError\u001b[0m                         Traceback (most recent call last)",
            "\u001b[0;32m<ipython-input-1-a104c1c193bd>\u001b[0m in \u001b[0;36m<module>\u001b[0;34m()\u001b[0m\n\u001b[1;32m      1\u001b[0m \u001b[0ma\u001b[0m \u001b[0;34m=\u001b[0m \u001b[0mint\u001b[0m\u001b[0;34m(\u001b[0m\u001b[0minput\u001b[0m\u001b[0;34m(\u001b[0m\u001b[0;34m\"Enter a:\"\u001b[0m\u001b[0;34m)\u001b[0m\u001b[0;34m)\u001b[0m\u001b[0;34m\u001b[0m\u001b[0;34m\u001b[0m\u001b[0m\n\u001b[1;32m      2\u001b[0m \u001b[0mb\u001b[0m \u001b[0;34m=\u001b[0m \u001b[0mint\u001b[0m\u001b[0;34m(\u001b[0m\u001b[0minput\u001b[0m\u001b[0;34m(\u001b[0m\u001b[0;34m\"Enter b:\"\u001b[0m\u001b[0;34m)\u001b[0m\u001b[0;34m)\u001b[0m\u001b[0;34m\u001b[0m\u001b[0;34m\u001b[0m\u001b[0m\n\u001b[0;32m----> 3\u001b[0;31m \u001b[0mc\u001b[0m \u001b[0;34m=\u001b[0m \u001b[0ma\u001b[0m\u001b[0;34m/\u001b[0m\u001b[0mb\u001b[0m\u001b[0;34m\u001b[0m\u001b[0;34m\u001b[0m\u001b[0m\n\u001b[0m\u001b[1;32m      4\u001b[0m \u001b[0mprint\u001b[0m\u001b[0;34m(\u001b[0m\u001b[0;34m\"a/b = %d\"\u001b[0m \u001b[0;34m%\u001b[0m\u001b[0mc\u001b[0m\u001b[0;34m)\u001b[0m\u001b[0;34m\u001b[0m\u001b[0;34m\u001b[0m\u001b[0m\n\u001b[1;32m      5\u001b[0m \u001b[0;34m\u001b[0m\u001b[0m\n",
            "\u001b[0;31mZeroDivisionError\u001b[0m: division by zero"
          ]
        }
      ]
    },
    {
      "cell_type": "markdown",
      "metadata": {
        "id": "WgUldfhfic8k"
      },
      "source": [
        "The above program is syntactically correct, but it through the error because of unusual input. That kind of programming may not be suitable or recommended for the projects because these projects are required uninterrupted execution. That's why an exception-handling plays an essential role in handling these unexpected exceptions. We can handle these exceptions in the following way."
      ]
    },
    {
      "cell_type": "markdown",
      "metadata": {
        "id": "aS5nJ_7eimbm"
      },
      "source": [
        "**Exception handling in python**"
      ]
    },
    {
      "cell_type": "markdown",
      "metadata": {
        "id": "FzB7dn4pioC_"
      },
      "source": [
        "If the Python program contains suspicious code that may throw the exception, we must place that code in the try block. The try block must be followed with the except statement, which contains a block of code that will be executed if there is some exception in the try block.\n",
        "\n",
        "![image.png](data:image/png;base64,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)"
      ]
    },
    {
      "cell_type": "markdown",
      "metadata": {
        "id": "wkZ2nxvcvW1J"
      },
      "source": [
        "**Syntax:**\n",
        "\n",
        "\n",
        "```\n",
        "try:    \n",
        "    #block of code     \n",
        "    \n",
        "except Exception1:    \n",
        "    #block of code    \n",
        "    \n",
        "except Exception2:    \n",
        "    #block of code    \n",
        "    \n",
        "#other code  \n",
        "```\n",
        "\n",
        "\n",
        "  "
      ]
    },
    {
      "cell_type": "code",
      "metadata": {
        "colab": {
          "base_uri": "https://localhost:8080/"
        },
        "id": "rfSNf5UZvDbS",
        "outputId": "f546ea2b-bed4-4635-f69a-a37ce809351c"
      },
      "source": [
        "try:  \n",
        "    a = int(input(\"Enter a:\"))    \n",
        "    b = int(input(\"Enter b:\"))    \n",
        "    c = a/b  \n",
        "except Exception:  \n",
        "    print(\"Can't divide with zero\")  "
      ],
      "execution_count": null,
      "outputs": [
        {
          "output_type": "stream",
          "text": [
            "Enter a:5\n",
            "Enter b:0\n",
            "Can't divide with zero\n"
          ],
          "name": "stdout"
        }
      ]
    },
    {
      "cell_type": "markdown",
      "metadata": {
        "id": "dVCN4vc_yuF_"
      },
      "source": [
        "We can also use the else statement with the try-except statement in which, we can place the code which will be executed in the scenario if no exception occurs in the try block.\n",
        "\n",
        "The syntax to use the else statement with the try-except statement is given below.\n",
        "\n",
        "\n",
        "```\n",
        "try:    \n",
        "    #block of code     \n",
        "    \n",
        "except Exception1:    \n",
        "    #block of code     \n",
        "    \n",
        "else:    \n",
        "    #this code executes if no except block is executed  \n",
        "```\n",
        "![image.png](data:image/png;base64,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)\n"
      ]
    },
    {
      "cell_type": "code",
      "metadata": {
        "colab": {
          "base_uri": "https://localhost:8080/"
        },
        "id": "vtXRCMv3CgqI",
        "outputId": "67c82269-7e02-4431-dbda-f3e159baf5df"
      },
      "source": [
        "\n",
        "try:    \n",
        "    a = int(input(\"Enter a:\"))    \n",
        "    b = int(input(\"Enter b:\"))    \n",
        "    c = a/b  \n",
        "    print(\"a/b = %d\"%c)    \n",
        "# Using Exception with except statement. If we print(Exception) it will return exception class  \n",
        "except Exception:    \n",
        "    print(\"can't divide by zero\")    \n",
        "    print(Exception)  \n",
        "else:    \n",
        "    print(\"Hi I am else block\")  "
      ],
      "execution_count": null,
      "outputs": [
        {
          "output_type": "stream",
          "text": [
            "Enter a:3\n",
            "Enter b:0\n",
            "can't divide by zero\n",
            "<class 'Exception'>\n"
          ],
          "name": "stdout"
        }
      ]
    },
    {
      "cell_type": "markdown",
      "metadata": {
        "id": "_iyWlV3PDt5T"
      },
      "source": [
        "**The except statement with no exception**"
      ]
    },
    {
      "cell_type": "markdown",
      "metadata": {
        "id": "L9i8S0xCF4L4"
      },
      "source": [
        "Python provides the flexibility not to specify the name of exception with the exception statement.\n",
        "\n",
        "Consider the following example."
      ]
    },
    {
      "cell_type": "code",
      "metadata": {
        "colab": {
          "base_uri": "https://localhost:8080/"
        },
        "id": "RZxrgq-rG6fj",
        "outputId": "0728f7d8-87c6-413d-d7a7-64c2c2b3e701"
      },
      "source": [
        "try:    \n",
        "    a = int(input(\"Enter a:\"))    \n",
        "    b = int(input(\"Enter b:\"))    \n",
        "    c = a/b;    \n",
        "    print(\"a/b = %d\"%c)    \n",
        "except:    \n",
        "    print(\"can't divide by zero\")    \n",
        "else:    \n",
        "    print(\"Hi I am else block\")    "
      ],
      "execution_count": null,
      "outputs": [
        {
          "output_type": "stream",
          "text": [
            "Enter a:4\n",
            "Enter b:0\n",
            "can't divide by zero\n"
          ],
          "name": "stdout"
        }
      ]
    },
    {
      "cell_type": "markdown",
      "metadata": {
        "id": "HQN_vvN2HQpT"
      },
      "source": [
        "**The except statement using with exception variable**\n",
        "\n",
        "We can use the exception variable with the except statement. It is used by using the as keyword. this object will return the cause of the exception. Consider the following example:"
      ]
    },
    {
      "cell_type": "code",
      "metadata": {
        "colab": {
          "base_uri": "https://localhost:8080/"
        },
        "id": "EhmHV91uK_i1",
        "outputId": "80ac1117-4325-4e4c-925d-98fc5be59f7a"
      },
      "source": [
        "try:    \n",
        "    a = int(input(\"Enter a:\"))    \n",
        "    b = int(input(\"Enter b:\"))    \n",
        "    c = a/b  \n",
        "    print(\"a/b = %d\"%c)    \n",
        "    # Using exception object with the except statement  \n",
        "except Exception as e:    \n",
        "    print(\"can't divide by zero\")    \n",
        "    print(e)  \n",
        "else:    \n",
        "    print(\"Hi I am else block\")     "
      ],
      "execution_count": null,
      "outputs": [
        {
          "output_type": "stream",
          "text": [
            "Enter a:4\n",
            "Enter b:0\n",
            "can't divide by zero\n",
            "division by zero\n"
          ],
          "name": "stdout"
        }
      ]
    },
    {
      "cell_type": "markdown",
      "metadata": {
        "id": "9gI-eB1cKgx0"
      },
      "source": [
        "**Points to remember**\n",
        "\n",
        "\n",
        "1.   Python facilitates us to not specify the exception with the except statement.\n",
        "2.   We can declare multiple exceptions in the except statement since the try block may contain the statements which throw the different type of exceptions.\n",
        "3. We can also specify an else block along with the try-except statement, which will be executed if no exception is raised in the try block.\n",
        "4.  The statements that don't throw the exception should be placed inside the else block.\n",
        "\n"
      ]
    },
    {
      "cell_type": "code",
      "metadata": {
        "colab": {
          "base_uri": "https://localhost:8080/"
        },
        "id": "GPyEMag5OjDm",
        "outputId": "314562db-961f-4bd0-896b-b1950e439d67"
      },
      "source": [
        "try:    \n",
        "    #this will throw an exception if the file doesn't exist.     \n",
        "    fileptr = open(\"file.txt\",\"r\")    \n",
        "except IOError:    \n",
        "    print(\"File not found\")    \n",
        "else:    \n",
        "    print(\"The file opened successfully\")    \n",
        "    fileptr.close()"
      ],
      "execution_count": null,
      "outputs": [
        {
          "output_type": "stream",
          "text": [
            "File not found\n"
          ],
          "name": "stdout"
        }
      ]
    },
    {
      "cell_type": "markdown",
      "metadata": {
        "id": "HRVBkzkuMpFo"
      },
      "source": [
        "**Declaring Multiple Exceptions**"
      ]
    },
    {
      "cell_type": "markdown",
      "metadata": {
        "id": "ooNVonTMPJO7"
      },
      "source": [
        "The Python allows us to declare the multiple exceptions with the except clause. Declaring multiple exceptions is useful in the cases where a try block throws multiple exceptions. The syntax is given below.\n",
        "\n",
        "\n",
        "```\n",
        "try:    \n",
        "    #block of code     \n",
        "    \n",
        "except (<Exception 1>,<Exception 2>,<Exception 3>,...<Exception n>)    \n",
        "    #block of code     \n",
        "    \n",
        "else:    \n",
        "    #block of code    \n",
        "```\n",
        "\n"
      ]
    },
    {
      "cell_type": "code",
      "metadata": {
        "colab": {
          "base_uri": "https://localhost:8080/"
        },
        "id": "y74LIlwYPOj-",
        "outputId": "10a38154-807d-4295-db2a-0a3da73df06d"
      },
      "source": [
        "try:      \n",
        "    a=10/0;      \n",
        "except(ArithmeticError, IOError):      \n",
        "    print(\"Arithmetic Exception\")      \n",
        "else:      \n",
        "    print(\"Successfully Done\")     "
      ],
      "execution_count": null,
      "outputs": [
        {
          "output_type": "stream",
          "text": [
            "Arithmetic Exception\n"
          ],
          "name": "stdout"
        }
      ]
    },
    {
      "cell_type": "code",
      "metadata": {
        "id": "NQ4NVYK_IYLe"
      },
      "source": [
        "try:      \n",
        "    a=10/0;      \n",
        "except ArithmeticError:      \n",
        "    print(\"Arithmetic Exception\")  \n",
        "except IOError:    \n",
        "    print(\"IO Exception\")\n",
        "else:      \n",
        "    print(\"Successfully Done\")     "
      ],
      "execution_count": null,
      "outputs": []
    },
    {
      "cell_type": "markdown",
      "metadata": {
        "id": "yIlgtZk-PnFX"
      },
      "source": [
        "**The try...finally block**"
      ]
    },
    {
      "cell_type": "markdown",
      "metadata": {
        "id": "Oe8oLsGbPxvT"
      },
      "source": [
        "Python provides the optional finally statement, which is used with the try statement. It is executed no matter what exception occurs and used to release the external resource. The finally block provides a guarantee of the execution.\n",
        "\n",
        "ie, Python provides a keyword **finally, which is always executed after try and except blocks**. The finally block always executes after normal termination of try block or after try block terminates due to some exception.\n",
        "\n",
        "The syntax to use the finally block is given below.\n",
        "\n",
        "\n",
        "\n",
        "```\n",
        "try:    \n",
        "    # block of code     \n",
        "    # this may throw an exception    \n",
        "finally:    \n",
        "    # block of code    \n",
        "    # this will always be executed \n",
        "```\n",
        "\n",
        "![image.png](data:image/png;base64,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)"
      ]
    },
    {
      "cell_type": "code",
      "metadata": {
        "colab": {
          "base_uri": "https://localhost:8080/"
        },
        "id": "r98KhnwCQGCO",
        "outputId": "ee606e1b-c194-4e80-b57c-efe84957fed3"
      },
      "source": [
        "try:    \n",
        "    fileptr = open(\"file2.txt\",\"r\")      \n",
        "    try:    \n",
        "        fileptr.write(\"Hi I am good\")    \n",
        "    finally:    \n",
        "        fileptr.close()    \n",
        "        print(\"file closed\")    \n",
        "except:    \n",
        "    print(\"Error\")    "
      ],
      "execution_count": null,
      "outputs": [
        {
          "output_type": "stream",
          "text": [
            "Error\n"
          ],
          "name": "stdout"
        }
      ]
    },
    {
      "cell_type": "markdown",
      "metadata": {
        "id": "bASZoxu7RWCa"
      },
      "source": [
        "**Raising exceptions**"
      ]
    },
    {
      "cell_type": "markdown",
      "metadata": {
        "id": "iFKxWnPWRaN9"
      },
      "source": [
        "An exception can be raised forcefully by using the raise clause in Python. It is useful in in that scenario where we need to raise an exception to stop the execution of the program.\n",
        "\n",
        "For example, there is a program that requires 2GB memory for execution, and if the program tries to occupy 2GB of memory, then we can raise an exception to stop the execution of the program.\n",
        "\n",
        "The syntax to use the raise statement is given below.\n"
      ]
    },
    {
      "cell_type": "code",
      "metadata": {
        "id": "8mW1kAAw0KGO"
      },
      "source": [
        "raise Exception_class,<value>"
      ],
      "execution_count": null,
      "outputs": []
    },
    {
      "cell_type": "markdown",
      "metadata": {
        "id": "3e0ES81c0QXi"
      },
      "source": [
        "**Points to remember**\n",
        "1. To raise an exception, the raise statement is used. The exception class name follows it.\n",
        "2. An exception can be provided with a value that can be given in the parenthesis.\n",
        "3. To access the value \"as\" keyword is used. \"e\" is used as a reference variable which stores the value of the exception.\n",
        "4. We can pass the value to an exception to specify the exception type."
      ]
    },
    {
      "cell_type": "code",
      "metadata": {
        "colab": {
          "base_uri": "https://localhost:8080/"
        },
        "id": "7Lyuocpp0xZA",
        "outputId": "049b193b-f02f-49e0-b47c-9b6392a07212"
      },
      "source": [
        "try:    \n",
        "    age = int(input(\"Enter the age:\"))    \n",
        "    if(age<18):    \n",
        "        raise ValueError   \n",
        "    else:    \n",
        "        print(\"the age is valid\")    \n",
        "except ValueError:    \n",
        "    print(\"The age is not valid\")    "
      ],
      "execution_count": null,
      "outputs": [
        {
          "output_type": "stream",
          "text": [
            "Enter the age:5\n",
            "The age is not valid\n"
          ],
          "name": "stdout"
        }
      ]
    },
    {
      "cell_type": "markdown",
      "metadata": {
        "id": "IpJAWPaS1I0M"
      },
      "source": [
        "Example 2: Raise the exception with message"
      ]
    },
    {
      "cell_type": "code",
      "metadata": {
        "colab": {
          "base_uri": "https://localhost:8080/"
        },
        "id": "iCo2iXI21NAw",
        "outputId": "a58e2783-7846-46c5-f385-2d909a7c7838"
      },
      "source": [
        "try:  \n",
        "     num = int(input(\"Enter a positive integer: \"))  \n",
        "     if(num <= 0):  \n",
        "# we can pass the message in the raise statement  \n",
        "         raise ValueError(\"That is  a negative number!\")  \n",
        "except ValueError as e:  \n",
        "     print(e)"
      ],
      "execution_count": null,
      "outputs": [
        {
          "output_type": "stream",
          "text": [
            "Enter a positive integer: -5\n",
            "That is  a negative number!\n"
          ],
          "name": "stdout"
        }
      ]
    },
    {
      "cell_type": "code",
      "metadata": {
        "colab": {
          "base_uri": "https://localhost:8080/",
          "height": 214
        },
        "id": "L_lpEjFLQWxM",
        "outputId": "06a6ef98-1995-44e6-d00b-500c31cc60f0"
      },
      "source": [
        "num = int(input(\"Enter a positive integer: \"))  \n",
        "if(num <= 0):  \n",
        "# we can pass the message in the raise statement  \n",
        "    raise ValueError(\"That is  a negative number!\")"
      ],
      "execution_count": null,
      "outputs": [
        {
          "output_type": "stream",
          "text": [
            "Enter a positive integer: -5\n"
          ],
          "name": "stdout"
        },
        {
          "output_type": "error",
          "ename": "ValueError",
          "evalue": "ignored",
          "traceback": [
            "\u001b[0;31m---------------------------------------------------------------------------\u001b[0m",
            "\u001b[0;31mValueError\u001b[0m                                Traceback (most recent call last)",
            "\u001b[0;32m<ipython-input-11-395da80e2050>\u001b[0m in \u001b[0;36m<module>\u001b[0;34m()\u001b[0m\n\u001b[1;32m      2\u001b[0m \u001b[0;32mif\u001b[0m\u001b[0;34m(\u001b[0m\u001b[0mnum\u001b[0m \u001b[0;34m<=\u001b[0m \u001b[0;36m0\u001b[0m\u001b[0;34m)\u001b[0m\u001b[0;34m:\u001b[0m\u001b[0;34m\u001b[0m\u001b[0;34m\u001b[0m\u001b[0m\n\u001b[1;32m      3\u001b[0m \u001b[0;31m# we can pass the message in the raise statement\u001b[0m\u001b[0;34m\u001b[0m\u001b[0;34m\u001b[0m\u001b[0;34m\u001b[0m\u001b[0m\n\u001b[0;32m----> 4\u001b[0;31m     \u001b[0;32mraise\u001b[0m \u001b[0mValueError\u001b[0m\u001b[0;34m(\u001b[0m\u001b[0;34m\"That is  a negative number!\"\u001b[0m\u001b[0;34m)\u001b[0m\u001b[0;34m\u001b[0m\u001b[0;34m\u001b[0m\u001b[0m\n\u001b[0m",
            "\u001b[0;31mValueError\u001b[0m: That is  a negative number!"
          ]
        }
      ]
    }
  ]
}