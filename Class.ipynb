{
  "nbformat": 4,
  "nbformat_minor": 0,
  "metadata": {
    "colab": {
      "name": "Class.ipynb",
      "provenance": [],
      "include_colab_link": true
    },
    "kernelspec": {
      "name": "python3",
      "display_name": "Python 3"
    }
  },
  "cells": [
    {
      "cell_type": "markdown",
      "metadata": {
        "id": "view-in-github",
        "colab_type": "text"
      },
      "source": [
        "<a href=\"https://colab.research.google.com/github/jermania321/brocode2.0/blob/master/Class.ipynb\" target=\"_parent\"><img src=\"https://colab.research.google.com/assets/colab-badge.svg\" alt=\"Open In Colab\"/></a>"
      ]
    },
    {
      "cell_type": "markdown",
      "metadata": {
        "id": "k84ChiowRsGv"
      },
      "source": [
        "# **Classes and Objects in Python**"
      ]
    },
    {
      "cell_type": "markdown",
      "metadata": {
        "id": "-FUftZ-fYIba"
      },
      "source": [
        "Python is an **object-oriented programming language**, which means that it provides features that support object-oriented programming.\n",
        "\n",
        "The basic components of object oriented programming are **classes and objects**.\n",
        "\n",
        "---\n",
        "\n",
        "A Class is a **blue print to create an object**. It provides the definition of basic attributes(properties) and functions of objects.\n",
        "\n",
        "Object is a **running instance of the class having the identity(name), properties( values) and behaviors(functions)**.\n",
        "\n",
        "The class provides basic **definitions of an object**, which defines the attributes and methods of an object. \n",
        "\n",
        "**Methods** are defined inside a class definition in order to make the relationship between the class and the method explicit and are called with the object name.\n",
        "\n",
        "Programmers who use objects and classes know several things\n",
        "> * The interface or set of methods  that can be used with a class of objects.\n",
        "> * The attributes of an object that describe its state from the user's point of view.\n",
        "> *How to instantiate a class to obtain an object.\n",
        "\n"
      ]
    },
    {
      "cell_type": "markdown",
      "metadata": {
        "id": "kzRNTr6z9ubv"
      },
      "source": [
        "Like functions, **objects are abstractions**.\n",
        "\n",
        "A function packages an algorithm in a single operation that can be called by its name.\n",
        "\n",
        "An object packages a **set of data values(its state) and set of operations(its methods)**, in a single entity that can be **referenced with a name**.This makes an object a more complex abstraction than a function.\n",
        "\n",
        "A class definition is like a **blue print for each of the objects of that class**. \n",
        "\n",
        "This blue print contains:\n",
        "\n",
        "\n",
        "> * definitions of all of the methods that its objects recognize\n",
        "> *descriptions of the data structures used to maintain the state of an object, or its attributes from the implementer's point of view."
      ]
    },
    {
      "cell_type": "markdown",
      "metadata": {
        "id": "KhACDgAgShrp"
      },
      "source": [
        "**Creating a class**"
      ]
    },
    {
      "cell_type": "code",
      "metadata": {
        "id": "iS5cEZZz23dd"
      },
      "source": [
        "class Person:\n",
        "  pass"
      ],
      "execution_count": null,
      "outputs": []
    },
    {
      "cell_type": "markdown",
      "metadata": {
        "id": "gTq4hbV33IT8"
      },
      "source": [
        "will create a namespace for the class Person. **Class definitions cannot be empty**, but if you for some reason have a class definition with no content, put in the **pass** statement to avoid getting an error."
      ]
    },
    {
      "cell_type": "code",
      "metadata": {
        "id": "929MIlK15K-H",
        "outputId": "28805781-7230-459f-c513-695c1e9106bb",
        "colab": {
          "base_uri": "https://localhost:8080/"
        }
      },
      "source": [
        "class Person:\n",
        "  print('This is a class')"
      ],
      "execution_count": null,
      "outputs": [
        {
          "output_type": "stream",
          "text": [
            "This is a class\n"
          ],
          "name": "stdout"
        }
      ]
    },
    {
      "cell_type": "markdown",
      "metadata": {
        "id": "3ok1iFu6cP0j"
      },
      "source": [
        "**Creating an Object**"
      ]
    },
    {
      "cell_type": "code",
      "metadata": {
        "id": "Cz8RLQwyRqOb",
        "outputId": "49ae848f-e68f-4d05-df1d-bbf654b59e8c",
        "colab": {
          "base_uri": "https://localhost:8080/"
        }
      },
      "source": [
        "class Person:\n",
        "  \"\"\"Represents a class.\"\"\" #doc_string\n",
        "p1 = Person() #object creation\n",
        "p1"
      ],
      "execution_count": null,
      "outputs": [
        {
          "output_type": "execute_result",
          "data": {
            "text/plain": [
              "<__main__.Person at 0x7f83265bdb00>"
            ]
          },
          "metadata": {
            "tags": []
          },
          "execution_count": 1
        }
      ]
    },
    {
      "cell_type": "markdown",
      "metadata": {
        "id": "nzTpHSH2SqIK"
      },
      "source": [
        "Creating a new object is called **instantiation** and the object is an **instance** of the class."
      ]
    },
    {
      "cell_type": "markdown",
      "metadata": {
        "id": "ewB629voUxwd"
      },
      "source": [
        "**Attribute Reference: Accessing attributes of a class**\n",
        "\n",
        "Creates a class named **Person** and object named **p1**, **name** is the attribute of the class Person"
      ]
    },
    {
      "cell_type": "markdown",
      "metadata": {
        "id": "iuUpx0J8d9Yf"
      },
      "source": [
        "Classes and instances have their own namespaces, that is accessible with the **dot ('.') operator**.\n",
        "This is the standard syntax used for all attribute references which is\n",
        "\n",
        "**Object Name. Attribute Name.**"
      ]
    },
    {
      "cell_type": "code",
      "metadata": {
        "id": "ieXZxrzpTHKo",
        "outputId": "7fb00bab-d1a6-4607-ec6a-1c62c1f56908",
        "colab": {
          "base_uri": "https://localhost:8080/",
          "height": 35
        }
      },
      "source": [
        "class Person:\n",
        "  name = \"John\"\n",
        "p1=Person()\n",
        "p1.name"
      ],
      "execution_count": null,
      "outputs": [
        {
          "output_type": "execute_result",
          "data": {
            "application/vnd.google.colaboratory.intrinsic+json": {
              "type": "string"
            },
            "text/plain": [
              "'John'"
            ]
          },
          "metadata": {
            "tags": []
          },
          "execution_count": 1
        }
      ]
    },
    {
      "cell_type": "code",
      "metadata": {
        "id": "8zxt2W0b5rGj",
        "outputId": "5c9b082e-feec-497b-dbfd-4feb988a8808",
        "colab": {
          "base_uri": "https://localhost:8080/"
        }
      },
      "source": [
        "class Person:\n",
        "  pass\n",
        "p1 = Person()\n",
        "p1.name = 'john' #assign a value to object p1 where name is an attribute of p1\n",
        "p2 = Person()\n",
        "p2.name = 'Bob'\n",
        "print(p1.name)\n",
        "print(p2.name)"
      ],
      "execution_count": null,
      "outputs": [
        {
          "output_type": "stream",
          "text": [
            "john\n",
            "Bob\n"
          ],
          "name": "stdout"
        }
      ]
    },
    {
      "cell_type": "markdown",
      "metadata": {
        "id": "0t607Y477rV-"
      },
      "source": [
        "# **Methods**"
      ]
    },
    {
      "cell_type": "markdown",
      "metadata": {
        "id": "i-FKP9WH74tx"
      },
      "source": [
        "Methods are member functions defined inside the class, which gives the functionality.\n",
        "\n",
        "Class methods have only one specific difference from ordinary functions - they must have an extra argument in the beginning of the parameter list"
      ]
    },
    {
      "cell_type": "code",
      "metadata": {
        "id": "zXkzU8By6zoP",
        "outputId": "29ca4bf3-2c0e-4e72-d85a-d109457e636b",
        "colab": {
          "base_uri": "https://localhost:8080/",
          "height": 197
        }
      },
      "source": [
        "class Person:\n",
        "  def display():\n",
        "    print('hello')\n",
        "p1 =  Person()\n",
        "p1.display()"
      ],
      "execution_count": null,
      "outputs": [
        {
          "output_type": "error",
          "ename": "TypeError",
          "evalue": "ignored",
          "traceback": [
            "\u001b[0;31m---------------------------------------------------------------------------\u001b[0m",
            "\u001b[0;31mTypeError\u001b[0m                                 Traceback (most recent call last)",
            "\u001b[0;32m<ipython-input-6-4b2aaa799e7a>\u001b[0m in \u001b[0;36m<module>\u001b[0;34m()\u001b[0m\n\u001b[1;32m      3\u001b[0m     \u001b[0mprint\u001b[0m\u001b[0;34m(\u001b[0m\u001b[0;34m'hello'\u001b[0m\u001b[0;34m)\u001b[0m\u001b[0;34m\u001b[0m\u001b[0;34m\u001b[0m\u001b[0m\n\u001b[1;32m      4\u001b[0m \u001b[0mp1\u001b[0m \u001b[0;34m=\u001b[0m  \u001b[0mPerson\u001b[0m\u001b[0;34m(\u001b[0m\u001b[0;34m)\u001b[0m\u001b[0;34m\u001b[0m\u001b[0;34m\u001b[0m\u001b[0m\n\u001b[0;32m----> 5\u001b[0;31m \u001b[0mp1\u001b[0m\u001b[0;34m.\u001b[0m\u001b[0mdisplay\u001b[0m\u001b[0;34m(\u001b[0m\u001b[0;34m)\u001b[0m\u001b[0;34m\u001b[0m\u001b[0;34m\u001b[0m\u001b[0m\n\u001b[0m",
            "\u001b[0;31mTypeError\u001b[0m: display() takes 0 positional arguments but 1 was given"
          ]
        }
      ]
    },
    {
      "cell_type": "markdown",
      "metadata": {
        "id": "oGHkDkjg7S20"
      },
      "source": [
        "**The self Parameter**\n",
        "\n",
        "The self parameter is a **reference to the current instance** of the class, and is used to access variables that belongs to the class.\n",
        "\n",
        "ie, Self is an **instance identifier** and is required so that the statements within the methods can have automatic access to the current instance attributes.\n",
        "\n",
        "It does not have to be named self , you can call it whatever you like, but it has to be the first parameter of any function in the class."
      ]
    },
    {
      "cell_type": "code",
      "metadata": {
        "id": "zBhEDZnG6z42",
        "outputId": "5e8cdc39-1af0-4678-d98b-894bd8aae260",
        "colab": {
          "base_uri": "https://localhost:8080/"
        }
      },
      "source": [
        "class Person:\n",
        "  def display(self):\n",
        "    print('hello')\n",
        "p1 =  Person()\n",
        "p1.display()"
      ],
      "execution_count": null,
      "outputs": [
        {
          "output_type": "stream",
          "text": [
            "hello\n"
          ],
          "name": "stdout"
        }
      ]
    },
    {
      "cell_type": "code",
      "metadata": {
        "id": "kum4ylqq60F5",
        "outputId": "b661e6cc-da2f-48ee-cbbc-c0aaece84075",
        "colab": {
          "base_uri": "https://localhost:8080/"
        }
      },
      "source": [
        "class Person:\n",
        "  def display(self,name):\n",
        "    print('hello '+name)\n",
        "p1 =  Person()\n",
        "p1.display('john')"
      ],
      "execution_count": null,
      "outputs": [
        {
          "output_type": "stream",
          "text": [
            "hello john\n"
          ],
          "name": "stdout"
        }
      ]
    },
    {
      "cell_type": "code",
      "metadata": {
        "id": "Q7zeRNBG89hE",
        "outputId": "3ecaa8a2-4fd6-4251-e618-29fa83d8fc82",
        "colab": {
          "base_uri": "https://localhost:8080/"
        }
      },
      "source": [
        "class Person:\n",
        "  def display(self,name):\n",
        "    print('hello '+name)\n",
        "p1 =  Person()\n",
        "p1.display('john')\n",
        "p2 =  Person()\n",
        "p2.display('Bob')"
      ],
      "execution_count": null,
      "outputs": [
        {
          "output_type": "stream",
          "text": [
            "hello john\n",
            "hello Bob\n"
          ],
          "name": "stdout"
        }
      ]
    },
    {
      "cell_type": "markdown",
      "metadata": {
        "id": "b4prM-fh9iTw"
      },
      "source": [
        "# **The __init__() Function**"
      ]
    },
    {
      "cell_type": "markdown",
      "metadata": {
        "id": "gZumeEvg9p8l"
      },
      "source": [
        "* A constructor is a special method that is used to initialize the data members of a class. \n",
        "* In python, the built in method __init__ is a sort of constructor. \n",
        "* Notice the double underscores both in the beginning and end of init.\n",
        "* In fact it is the first method defined for the class and is the first piece of code executed in a newly created instance of the class. \n",
        "* The constructor will be executed automatically when the object is created."
      ]
    },
    {
      "cell_type": "markdown",
      "metadata": {
        "id": "6aN6EZJ9-E1N"
      },
      "source": [
        "Create a class named Person, use the __init__() function to assign values for name and age."
      ]
    },
    {
      "cell_type": "code",
      "metadata": {
        "id": "J1s0eAPq9QaE",
        "outputId": "a4487d46-56ae-4c31-9145-ab29f48b589c",
        "colab": {
          "base_uri": "https://localhost:8080/"
        }
      },
      "source": [
        "class Person:\n",
        "  def __init__(self, name, age):\n",
        "    self.name = name\n",
        "    self.age = age\n",
        "\n",
        "p1 = Person(\"John\", 36)\n",
        "\n",
        "print(p1.name)\n",
        "print(p1.age)"
      ],
      "execution_count": null,
      "outputs": [
        {
          "output_type": "stream",
          "text": [
            "John\n",
            "36\n"
          ],
          "name": "stdout"
        }
      ]
    },
    {
      "cell_type": "code",
      "metadata": {
        "id": "MgXrwO6A-hqi",
        "outputId": "ea934738-443a-44c3-c94a-b280818fcd53",
        "colab": {
          "base_uri": "https://localhost:8080/"
        }
      },
      "source": [
        "class Person:\n",
        "  def __init__(self, name, age):\n",
        "    self.name = name\n",
        "    self.age = age\n",
        "  def display(self):\n",
        "    print('hello '+self.name)\n",
        "    print('Age',self.age)\n",
        "p1 =  Person('john',26)\n",
        "p1.display()\n",
        "p2 =  Person('job',23)\n",
        "p2.display()"
      ],
      "execution_count": null,
      "outputs": [
        {
          "output_type": "stream",
          "text": [
            "hello john\n",
            "Age 26\n",
            "hello job\n",
            "Age 23\n"
          ],
          "name": "stdout"
        }
      ]
    },
    {
      "cell_type": "markdown",
      "metadata": {
        "id": "XSk45UrnVVPd"
      },
      "source": [
        "**Example**"
      ]
    },
    {
      "cell_type": "markdown",
      "metadata": {
        "id": "KCS9hTL5_lK9"
      },
      "source": [
        "Lets create a Point class representing a point (x,y) in a two dimensional coordinate system. A point object will have x,y values and also member functions to initialize and print the values."
      ]
    },
    {
      "cell_type": "code",
      "metadata": {
        "id": "ymfJddvY_h0f",
        "outputId": "657d22cb-9b4c-4686-bd75-009bee9187de",
        "colab": {
          "base_uri": "https://localhost:8080/"
        }
      },
      "source": [
        "class Point:\n",
        "    '''representing a point in xy plane'''\n",
        "    def __init__(self,x=0,y=0): \n",
        "        self.x=x\n",
        "        self.y=y\n",
        "    def printpoint(self):\n",
        "        print(\"(\",self.x,\",\",self.y,\")\")\n",
        "P1=Point()\n",
        "P1.printpoint() # will print (0,0)\n",
        "P2=Point(10,20)\n",
        "P2.printpoint() # will print ( 10,20)\n",
        "print(P1. __doc__) # will print docstring '''representing a point in xy plane'''"
      ],
      "execution_count": null,
      "outputs": [
        {
          "output_type": "stream",
          "text": [
            "( 0 , 0 )\n",
            "( 10 , 20 )\n",
            "representing a point in xy plane\n"
          ],
          "name": "stdout"
        }
      ]
    },
    {
      "cell_type": "markdown",
      "metadata": {
        "id": "ULft4Kfs6txs"
      },
      "source": [
        "**Sameness**"
      ]
    },
    {
      "cell_type": "markdown",
      "metadata": {
        "id": "fb3aSq4w6xbp"
      },
      "source": [
        "When you say Hari and I have the same car, you mean that his car and yours are the same make and model, but that they are two different cars.\n",
        "\n",
        "When you talk about objects, there is a similar ambiguity. For example, if two Points are the same, does that mean they contain the same data (coordinates) or that they are actually the same object?"
      ]
    },
    {
      "cell_type": "code",
      "metadata": {
        "id": "NSj4-XhR6-M1",
        "outputId": "c71c8ade-f3ae-466e-bbd5-8a3356129bdb",
        "colab": {
          "base_uri": "https://localhost:8080/"
        }
      },
      "source": [
        "class Point:\n",
        "    '''representing a point in xy plane'''\n",
        "    def __init__(self,x=0,y=0): \n",
        "        self.x=x\n",
        "        self.y=y\n",
        "    def printpoint(self):\n",
        "        print(\"(\",self.x,\",\",self.y,\")\")\n",
        "P1=Point(10,20)\n",
        "P2=Point(10,20)\n",
        "print(P1==P2)\n",
        "print(P1 is P2)"
      ],
      "execution_count": null,
      "outputs": [
        {
          "output_type": "stream",
          "text": [
            "False\n",
            "False\n"
          ],
          "name": "stdout"
        }
      ]
    },
    {
      "cell_type": "markdown",
      "metadata": {
        "id": "ODfTrWbI6816"
      },
      "source": [
        "It is noted that both print statement will print False even though they contain the same data, **they refer to two different objects.**\n",
        "\n",
        "If we assign P2=P1, they refer to the same object.\n",
        "\n",
        "**P2=P1**\n",
        "\n",
        "**print P1 is P2**\n",
        "\n",
        "This will print True because both P1 and P2 is now referring the same object. You can check id(P1) and id(P2)."
      ]
    },
    {
      "cell_type": "code",
      "metadata": {
        "id": "_5zPzQw-7g0S",
        "outputId": "0f8228a5-171e-4bdf-938c-178ddfeb7038",
        "colab": {
          "base_uri": "https://localhost:8080/"
        }
      },
      "source": [
        "class Point:\n",
        "    '''representing a point in xy plane'''\n",
        "    def __init__(self,x=0,y=0): \n",
        "        self.x=x\n",
        "        self.y=y\n",
        "    def printpoint(self):\n",
        "        print(\"(\",self.x,\",\",self.y,\")\")\n",
        "P1=Point(10,20)\n",
        "P2=P1\n",
        "print(P1 is P2)\n",
        "print(id(P1))\n",
        "print(id(P2))"
      ],
      "execution_count": null,
      "outputs": [
        {
          "output_type": "stream",
          "text": [
            "True\n",
            "139654780281352\n",
            "139654780281352\n"
          ],
          "name": "stdout"
        }
      ]
    },
    {
      "cell_type": "markdown",
      "metadata": {
        "id": "f9JwdW1R8mgk"
      },
      "source": [
        "This type of equality is called **shallow equality** because it compares only the references, not the contents of the objects.\n",
        "If you want to compare the actual contents of the object ie; **deep equality**, we have to write a separate function like this"
      ]
    },
    {
      "cell_type": "code",
      "metadata": {
        "id": "TeE1AIeK8qRs",
        "outputId": "370cd53d-049b-4bbc-a743-68bd9634c7fd",
        "colab": {
          "base_uri": "https://localhost:8080/"
        }
      },
      "source": [
        "class Point:\n",
        "    '''representing a point in xy plane'''\n",
        "    def __init__(self,x=0,y=0): \n",
        "        self.x=x\n",
        "        self.y=y\n",
        "    def printpoint(self):\n",
        "        print(\"(\",self.x,\",\",self.y,\")\")\n",
        "def compare(P1,P2):\n",
        "  return (P1.x==P2.x) and (P1.y==P2.y)\n",
        "P1=Point(10,20)\n",
        "P2=Point(10,20)\n",
        "x=compare(P1,P2)\n",
        "x"
      ],
      "execution_count": null,
      "outputs": [
        {
          "output_type": "execute_result",
          "data": {
            "text/plain": [
              "True"
            ]
          },
          "metadata": {
            "tags": []
          },
          "execution_count": 12
        }
      ]
    },
    {
      "cell_type": "markdown",
      "metadata": {
        "id": "oxZT28ma9Qoa"
      },
      "source": [
        "Now if we create two different objects that contain the same data, we can use **compare(P1,P2)** function to find out if they represent the same point."
      ]
    },
    {
      "cell_type": "markdown",
      "metadata": {
        "id": "dbT6EaM99stE"
      },
      "source": [
        "**Example2: The Students class**"
      ]
    },
    {
      "cell_type": "markdown",
      "metadata": {
        "id": "60zBlIa0952L"
      },
      "source": [
        "The course-management application needs to  represent information about students in course.Each student has a name and a list of test scores.We can use these as attributes of a class named **Student**.The student class should allow the user to view a student's name, view a test score at a given position( counting from 1), reset a test score at a given position, view the highest test score, view the average test score and obtain a string representation of the student's information. When a Student object is created, the user supplies the student's name and the number of test scores. Each score is initially presumed to be zero."
      ]
    },
    {
      "cell_type": "code",
      "metadata": {
        "id": "kcC_vT7xyZA2",
        "outputId": "a8cd501a-fef5-4070-ac7f-5018b1d0695a",
        "colab": {
          "base_uri": "https://localhost:8080/",
          "height": 103
        }
      },
      "source": [
        "class Student:\n",
        "    ''' represents a student '''\n",
        "    def __init__(self,name,number):\n",
        "        ''' constructor creates a Student with given name and number of scores and sets all scores to 0'''\n",
        "        self.name=name\n",
        "        self.scores=[]\n",
        "        for count in range(number):\n",
        "          self.scores.append(0)\n",
        "    def getName(self):\n",
        "        ''' returns the student's name '''\n",
        "        return self.name\n",
        "    def setScore(self, i , score ):\n",
        "        '''reset the ith score counting from 1'''\n",
        "        self.scores[i-1]=score\n",
        "    def getScore(self, i  ):\n",
        "        '''reset the ith score counting from 1'''\n",
        "        return self.scores[i-1]\n",
        "    def getAverage(self):\n",
        "        ''' returns the average score '''\n",
        "        return sum(self.scores)/len(self.scores)\n",
        "    def getHighScore(self):\n",
        "        ''' returns the highest score'''\n",
        "        return max(self.scores)\n",
        "    def __str__(self):\n",
        "        ''' return the string representation of student'''\n",
        "        return \"Name:\"+ self.name+ \"\\nScores:\"+\" \".join(map(str,self.scores))\n",
        "s = Student('John',3)\n",
        "print(s)\n",
        "s.setScore(1,85)\n",
        "s.setScore(2,100)\n",
        "s.setScore(3,75)\n",
        "print(s)\n",
        "s.getScore(1)\n",
        "s.getHighScore()\n",
        "s.getAverage()\n",
        "s.getName()"
      ],
      "execution_count": null,
      "outputs": [
        {
          "output_type": "stream",
          "text": [
            "Name:John\n",
            "Scores:0 0 0\n",
            "Name:John\n",
            "Scores:85 100 75\n"
          ],
          "name": "stdout"
        },
        {
          "output_type": "execute_result",
          "data": {
            "application/vnd.google.colaboratory.intrinsic+json": {
              "type": "string"
            },
            "text/plain": [
              "'John'"
            ]
          },
          "metadata": {
            "tags": []
          },
          "execution_count": 12
        }
      ]
    },
    {
      "cell_type": "markdown",
      "metadata": {
        "id": "kIeiQ6yK97Yy"
      },
      "source": [
        "**The __str__ method**\n",
        "\n",
        "Many built-in Python classes usually include an __str__ method. \n",
        "\n",
        "This method builds and returns a string representation of an object's state.\n",
        "\n",
        "When the str function is called with an object, that object's __str__ method is automatically invoked to obtain the string that str returns.\n",
        "\n",
        "The function print(s) also automatically runs str(s) to obtain the objects string representation for output."
      ]
    },
    {
      "cell_type": "markdown",
      "metadata": {
        "id": "foLPFIgW0Ow7"
      },
      "source": [
        "**map()**\n",
        "\n",
        "The **map()** function executes a specified function for each item in an iterable. The item is sent to the function as a parameter.\n",
        "\n",
        "*syntax*: **map(function, iterables)** \n",
        "\n",
        "**function**(Required) - The function to execute for each item\n",
        "\n",
        "**iterable**(Required) - A sequence, collection or an iterator object. You can send as many iterables as you like, just make sure the function has one parameter for each iterable."
      ]
    },
    {
      "cell_type": "markdown",
      "metadata": {
        "id": "bJgD7oHX7-u4"
      },
      "source": [
        "# **Accessors and Mutators**"
      ]
    },
    {
      "cell_type": "markdown",
      "metadata": {
        "id": "gZk72JZU8CY9"
      },
      "source": [
        "\n",
        "\n",
        "*   Methods that allow a user to observe but not change the state of an object are called **accessors**.\n",
        "*   Methods that allow a user to modify an object's state are called **mutators**. \n",
        "* The Students class has just one mutator method.It allows the user to reset a test score at a given position.\n",
        "\n",
        "```\n",
        "def setScore(self, i , score ):\n",
        "        '''reset the ith score counting from 1'''\n",
        "        self.scores[i-1]=score\n",
        "```\n",
        "\n",
        "\n",
        "\n"
      ]
    },
    {
      "cell_type": "markdown",
      "metadata": {
        "id": "JNGvOOi79ViT"
      },
      "source": [
        "# **Lifetime of Objects**"
      ]
    },
    {
      "cell_type": "markdown",
      "metadata": {
        "id": "MvhibbFU9YV-"
      },
      "source": [
        "An **object is created when the class is instantiated**.An object **will die when the program that created it can no longer refer to it**."
      ]
    }
  ]
}