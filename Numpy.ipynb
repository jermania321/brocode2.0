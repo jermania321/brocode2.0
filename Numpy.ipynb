{
  "nbformat": 4,
  "nbformat_minor": 0,
  "metadata": {
    "colab": {
      "name": "Numpy.ipynb",
      "provenance": [],
      "collapsed_sections": [],
      "include_colab_link": true
    },
    "kernelspec": {
      "name": "python3",
      "display_name": "Python 3"
    }
  },
  "cells": [
    {
      "cell_type": "markdown",
      "metadata": {
        "id": "view-in-github",
        "colab_type": "text"
      },
      "source": [
        "<a href=\"https://colab.research.google.com/github/jermania321/brocode2.0/blob/master/Numpy.ipynb\" target=\"_parent\"><img src=\"https://colab.research.google.com/assets/colab-badge.svg\" alt=\"Open In Colab\"/></a>"
      ]
    },
    {
      "cell_type": "markdown",
      "metadata": {
        "id": "rnATpyIADD7B"
      },
      "source": [
        "# Numpy"
      ]
    },
    {
      "cell_type": "markdown",
      "metadata": {
        "id": "_7NhSJThBXtu"
      },
      "source": [
        "**numpy**, short for **Numerical Python**\r\n",
        "\r\n",
        "\r\n",
        "*   fundamental package required for high performance scientific computing and data analysis\r\n",
        "*   package is adding support for large, multi-dimensional arrays and matrices, along with a large collection of high-level mathematical functions to operate on these arrays.\r\n",
        "\r\n",
        "\r\n",
        "*   Create on 2005\r\n",
        "*   open-source software\r\n",
        "\r\n",
        "Here are some of the things it provides:\r\n",
        "\r\n",
        "\r\n",
        "*   ndarray, a fast and space-efficient multidimensional array providing vectorized arithmetic operations and sophisticated broadcasting capabilities\r\n",
        "*   Standard mathematical functions for fast operations on entire arrays of data without having to write loops\r\n",
        "\r\n",
        "* Tools for reading / writing array data to disk and working with memory-mapped files\r\n",
        "*   Linear algebra, random number generation, and Fourier transform capabilities\r\n",
        "\r\n",
        "*   Tools for integrating code written in C, C++, and Fortran\r\n",
        "\r\n",
        "\r\n",
        "\r\n",
        "\r\n",
        "\r\n",
        "\r\n",
        "\r\n",
        "\r\n",
        "\r\n"
      ]
    },
    {
      "cell_type": "markdown",
      "metadata": {
        "id": "Dkf6y0yW60Ni"
      },
      "source": [
        "# NumPy - Environment"
      ]
    },
    {
      "cell_type": "markdown",
      "metadata": {
        "id": "PUj9CrOw63Lr"
      },
      "source": [
        "[Installing Numpy](https://www.tutorialspoint.com/numpy/numpy_environment.htm)"
      ]
    },
    {
      "cell_type": "markdown",
      "metadata": {
        "id": "Wg2P7Z-NDMzg"
      },
      "source": [
        "# The NumPy ndarray: A Multidimensional Array Object"
      ]
    },
    {
      "cell_type": "markdown",
      "metadata": {
        "id": "AmKaOn_7DQC5"
      },
      "source": [
        "\r\n",
        "\r\n",
        "* One of the key features of NumPy is its N-dimensional array object, or ndarray\r\n",
        "*   it is a fast, flexible container for large data sets in Python.\r\n",
        "\r\n",
        "\r\n",
        "* Arrays enable you to perform mathematical operations on whole blocks of data using similar syntax to the equivalent operations between scalar elements:\r\n",
        "*   A numpy array is a grid of values, all of the **same type**, and is indexed by a tuple of non negative integers.\r\n",
        "\r\n",
        "\r\n",
        "*   In NumPy dimensions are called axes.\r\n",
        "*   The number of dimensions is the rank of the array; the shape of an array is a tuple of integers giving the size of the array along each dimension.\r\n",
        "\r\n",
        "\r\n",
        "We can initialize numpy arrays from nested Python lists, and access elements using square brackets:\r\n",
        "Python array indexing start from 0.Matrix operations can be done with numpy arrays.\r\n",
        "\r\n",
        "\r\n",
        "\r\n",
        "\r\n",
        "\r\n"
      ]
    },
    {
      "cell_type": "markdown",
      "metadata": {
        "id": "RAyFa7HBl77c"
      },
      "source": [
        "**Creating numpy arrays**"
      ]
    },
    {
      "cell_type": "markdown",
      "metadata": {
        "id": "CVhaY9PQSiQo"
      },
      "source": [
        "The basic ndarray is created using an array function in NumPy as follows −\r\n",
        "\r\n",
        "    numpy.array \r\n",
        "\r\n",
        "Full syntax\r\n",
        "\r\n",
        "    numpy.array(object, dtype = None, copy = True, order = None, subok = False, ndmin = 0) "
      ]
    },
    {
      "cell_type": "markdown",
      "metadata": {
        "id": "IiCFjwLSUNNV"
      },
      "source": [
        "![numpy.png](data:image/png;base64,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)"
      ]
    },
    {
      "cell_type": "code",
      "metadata": {
        "colab": {
          "base_uri": "https://localhost:8080/"
        },
        "id": "GtMgCnq8lsd5",
        "outputId": "8fcc8256-90ac-4766-ebe7-172f2f462d8a"
      },
      "source": [
        "import numpy as np \r\n",
        "A = np.array([[1, 2, 3], [3, 4, 5]]) #Array of integers\r\n",
        "print(A) "
      ],
      "execution_count": null,
      "outputs": [
        {
          "output_type": "stream",
          "text": [
            "[[1 2 3]\n",
            " [3 4 5]]\n"
          ],
          "name": "stdout"
        }
      ]
    },
    {
      "cell_type": "code",
      "metadata": {
        "colab": {
          "base_uri": "https://localhost:8080/"
        },
        "id": "HITVClEjl-0F",
        "outputId": "79de7c99-3132-4742-fc40-a8b924812fcb"
      },
      "source": [
        "A = np.array([[1.1, 2, 3], [3, 4, 5]]) # Array of floats \r\n",
        "print(A) "
      ],
      "execution_count": null,
      "outputs": [
        {
          "output_type": "stream",
          "text": [
            "[[1.1 2.  3. ]\n",
            " [3.  4.  5. ]]\n"
          ],
          "name": "stdout"
        }
      ]
    },
    {
      "cell_type": "code",
      "metadata": {
        "colab": {
          "base_uri": "https://localhost:8080/"
        },
        "id": "NoMdrqCEmDm-",
        "outputId": "17baa1e2-5b70-4393-f370-6ef58622d4d2"
      },
      "source": [
        "A = np.array([[1, 2, 3], [3, 4, 5]], dtype = complex) # Array of complex numbers \r\n",
        "print(A)"
      ],
      "execution_count": null,
      "outputs": [
        {
          "output_type": "stream",
          "text": [
            "[[1.+0.j 2.+0.j 3.+0.j]\n",
            " [3.+0.j 4.+0.j 5.+0.j]]\n"
          ],
          "name": "stdout"
        }
      ]
    },
    {
      "cell_type": "markdown",
      "metadata": {
        "id": "Mdd9vmq3Mwqn"
      },
      "source": [
        "**Access Array Elements**\r\n",
        "\r\n",
        "Array indexing is the same as accessing an array element.\r\n",
        "\r\n",
        "You can access an array element by referring to its index number.\r\n",
        "\r\n",
        "The indexes in NumPy arrays start with 0, meaning that the first element has index 0, and the second has index 1 etc."
      ]
    },
    {
      "cell_type": "code",
      "metadata": {
        "colab": {
          "base_uri": "https://localhost:8080/"
        },
        "id": "6U8b8TM7NfO6",
        "outputId": "9b4756d9-1bd7-41e5-8e81-971965035f24"
      },
      "source": [
        "import numpy as np\r\n",
        "arr = np.array([1, 2, 3, 4])\r\n",
        "print(arr[0])"
      ],
      "execution_count": null,
      "outputs": [
        {
          "output_type": "stream",
          "text": [
            "1\n"
          ],
          "name": "stdout"
        }
      ]
    },
    {
      "cell_type": "markdown",
      "metadata": {
        "id": "IRALWToiOFFZ"
      },
      "source": [
        "**Access 2-D Arrays**\r\n",
        "\r\n",
        "To access elements from 2-D arrays we can use comma separated **integers representing the dimension and the index of the element**."
      ]
    },
    {
      "cell_type": "code",
      "metadata": {
        "colab": {
          "base_uri": "https://localhost:8080/"
        },
        "id": "2Qp5P7HKOQST",
        "outputId": "e734ca62-4054-45b2-89fe-95333ba0b8bb"
      },
      "source": [
        "import numpy as np\r\n",
        "arr = np.array([[1,2,3,4,5], [6,7,8,9,10]])\r\n",
        "print('2nd element on 1st dim: ', arr[0, 1])"
      ],
      "execution_count": null,
      "outputs": [
        {
          "output_type": "stream",
          "text": [
            "2nd element on 1st dim:  2\n"
          ],
          "name": "stdout"
        }
      ]
    },
    {
      "cell_type": "code",
      "metadata": {
        "colab": {
          "base_uri": "https://localhost:8080/"
        },
        "id": "_yDN2L1_O1rg",
        "outputId": "f3c0d508-b16b-47b8-9884-2c6d807469e0"
      },
      "source": [
        "import numpy as np\r\n",
        "arr = np.array([[1,2,3,4,5], [6,7,8,9,10]])\r\n",
        "print('5th element on 2nd dim: ', arr[1, 4])"
      ],
      "execution_count": null,
      "outputs": [
        {
          "output_type": "stream",
          "text": [
            "5th element on 2nd dim:  10\n"
          ],
          "name": "stdout"
        }
      ]
    },
    {
      "cell_type": "markdown",
      "metadata": {
        "id": "souxIwpWOph7"
      },
      "source": [
        "**Access 3-D Arrays**\r\n",
        "\r\n",
        "\r\n",
        "To access elements from 3-D arrays we can use comma separated integers representing the dimensions and the index of the element."
      ]
    },
    {
      "cell_type": "code",
      "metadata": {
        "colab": {
          "base_uri": "https://localhost:8080/"
        },
        "id": "ccd6ffP3PcV0",
        "outputId": "5b3fa6ce-7d77-4d7f-a06c-4f1c76deac88"
      },
      "source": [
        "import numpy as np\r\n",
        "arr = np.array([[[1, 2, 3], [4, 5, 6]], [[7, 8, 9], [10, 11, 12]]])\r\n",
        "print(arr[0, 1, 2])"
      ],
      "execution_count": null,
      "outputs": [
        {
          "output_type": "stream",
          "text": [
            "6\n"
          ],
          "name": "stdout"
        }
      ]
    },
    {
      "cell_type": "markdown",
      "metadata": {
        "id": "Na9iGACzPv75"
      },
      "source": [
        "**Negative Indexing**\r\n",
        "\r\n",
        "Use negative indexing to access an array from the end."
      ]
    },
    {
      "cell_type": "code",
      "metadata": {
        "colab": {
          "base_uri": "https://localhost:8080/"
        },
        "id": "r0TLreY-PzQH",
        "outputId": "22e1b501-54c8-4b16-e061-a66699cb2ad7"
      },
      "source": [
        "import numpy as np\r\n",
        "arr = np.array([[1,2,3,4,5], [6,7,8,9,10]])\r\n",
        "print('Last element from 2nd dim: ', arr[1, -1])"
      ],
      "execution_count": null,
      "outputs": [
        {
          "output_type": "stream",
          "text": [
            "Last element from 2nd dim:  10\n"
          ],
          "name": "stdout"
        }
      ]
    },
    {
      "cell_type": "markdown",
      "metadata": {
        "id": "2tpjiwN0mNKI"
      },
      "source": [
        "**Data Type Objects (dtype)**\r\n",
        "\r\n",
        "The data type or dtype is a special object containing the information the ndarray needs to interpret a chunk of memory as a particular type of data:\r\n",
        "\r\n",
        "A dtype object is constructed using the following syntax −\r\n",
        "\r\n",
        "    numpy.dtype(object, align, copy)\r\n",
        "\r\n",
        "The parameters are −\r\n",
        "\r\n",
        "\r\n",
        "    Object − To be converted to data type object\r\n",
        "\r\n",
        "    Align − If true, adds padding to the field to make it similar to C-struct\r\n",
        "\r\n",
        "    Copy − Makes a new copy of dtype object. If false, the result is reference to builtin data type object"
      ]
    },
    {
      "cell_type": "code",
      "metadata": {
        "colab": {
          "base_uri": "https://localhost:8080/"
        },
        "id": "jZEpqnJ-mQM2",
        "outputId": "07ecc4a2-3929-45fb-9b84-d33d855653c7"
      },
      "source": [
        "print(type(A))  # prints the class type"
      ],
      "execution_count": null,
      "outputs": [
        {
          "output_type": "stream",
          "text": [
            "<class 'numpy.ndarray'>\n"
          ],
          "name": "stdout"
        }
      ]
    },
    {
      "cell_type": "code",
      "metadata": {
        "colab": {
          "base_uri": "https://localhost:8080/"
        },
        "id": "1aDdzsJ8mSpB",
        "outputId": "953ea453-93d5-486d-e1cd-c0a22a4121fb"
      },
      "source": [
        "print(A.dtype) # print the data type"
      ],
      "execution_count": null,
      "outputs": [
        {
          "output_type": "stream",
          "text": [
            "complex128\n"
          ],
          "name": "stdout"
        }
      ]
    },
    {
      "cell_type": "code",
      "metadata": {
        "colab": {
          "base_uri": "https://localhost:8080/"
        },
        "id": "vC2fnytBmWUZ",
        "outputId": "4271f730-ef2d-4a18-9d08-65b956244f94"
      },
      "source": [
        "print(A.ndim) # print the number of dimensions"
      ],
      "execution_count": null,
      "outputs": [
        {
          "output_type": "stream",
          "text": [
            "2\n"
          ],
          "name": "stdout"
        }
      ]
    },
    {
      "cell_type": "code",
      "metadata": {
        "colab": {
          "base_uri": "https://localhost:8080/"
        },
        "id": "AVKQp3L_mivN",
        "outputId": "31b58dad-0f57-4bf6-bb76-7e812eb4fb2c"
      },
      "source": [
        "print(A.size) # print the size...size zero means array empty"
      ],
      "execution_count": null,
      "outputs": [
        {
          "output_type": "stream",
          "text": [
            "6\n"
          ],
          "name": "stdout"
        }
      ]
    },
    {
      "cell_type": "code",
      "metadata": {
        "colab": {
          "base_uri": "https://localhost:8080/"
        },
        "id": "K3HDCCPvmkMj",
        "outputId": "05fb7f7f-d26b-4a96-dfd7-b06da8933a1d"
      },
      "source": [
        "print(A.shape) # shape of the array as tuple"
      ],
      "execution_count": null,
      "outputs": [
        {
          "output_type": "stream",
          "text": [
            "(2, 3)\n"
          ],
          "name": "stdout"
        }
      ]
    },
    {
      "cell_type": "markdown",
      "metadata": {
        "id": "0TC6d5nmv1UO"
      },
      "source": [
        "You can explicitly convert or cast an array from one dtype to another using ndarray’s astype method:"
      ]
    },
    {
      "cell_type": "code",
      "metadata": {
        "colab": {
          "base_uri": "https://localhost:8080/"
        },
        "id": "TowmN0mtv4yA",
        "outputId": "978b4ed0-086a-47e0-d8fc-997bf2228294"
      },
      "source": [
        "A=np.arange(10)\r\n",
        "print(A)"
      ],
      "execution_count": null,
      "outputs": [
        {
          "output_type": "stream",
          "text": [
            "[0 1 2 3 4 5 6 7 8 9]\n"
          ],
          "name": "stdout"
        }
      ]
    },
    {
      "cell_type": "code",
      "metadata": {
        "colab": {
          "base_uri": "https://localhost:8080/"
        },
        "id": "06xt3A9xwBUr",
        "outputId": "895012da-3ab2-4a2e-c620-d60fb94e6ce8"
      },
      "source": [
        "print(A.astype(np.float))"
      ],
      "execution_count": null,
      "outputs": [
        {
          "output_type": "stream",
          "text": [
            "[0. 1. 2. 3. 4. 5. 6. 7. 8. 9.]\n"
          ],
          "name": "stdout"
        }
      ]
    },
    {
      "cell_type": "markdown",
      "metadata": {
        "id": "l-73MCrAytzk"
      },
      "source": [
        "**Arrays of zeros and ones**"
      ]
    },
    {
      "cell_type": "code",
      "metadata": {
        "colab": {
          "base_uri": "https://localhost:8080/"
        },
        "id": "ox4XuwmwyvYV",
        "outputId": "7a31d81e-f48d-41e6-b63f-8b39c299c3b2"
      },
      "source": [
        "import numpy as np \r\n",
        "za = np.zeros( (2, 3) ) \r\n",
        "print(za) "
      ],
      "execution_count": null,
      "outputs": [
        {
          "output_type": "stream",
          "text": [
            "[[0. 0. 0.]\n",
            " [0. 0. 0.]]\n"
          ],
          "name": "stdout"
        }
      ]
    },
    {
      "cell_type": "code",
      "metadata": {
        "colab": {
          "base_uri": "https://localhost:8080/"
        },
        "id": "RJGs4P1Zy0C4",
        "outputId": "0aa137b4-a552-419d-a831-bfdf6332b65f"
      },
      "source": [
        "oa= np.ones( (2,3), dtype=np.int32 ) \r\n",
        "print(oa)"
      ],
      "execution_count": null,
      "outputs": [
        {
          "output_type": "stream",
          "text": [
            "[[1 1 1]\n",
            " [1 1 1]]\n"
          ],
          "name": "stdout"
        }
      ]
    },
    {
      "cell_type": "markdown",
      "metadata": {
        "id": "5CQYnGj4zMml"
      },
      "source": [
        "**Identity matrix**"
      ]
    },
    {
      "cell_type": "code",
      "metadata": {
        "colab": {
          "base_uri": "https://localhost:8080/"
        },
        "id": "bMk5qWhKy_On",
        "outputId": "a45ed676-7424-4829-c179-a670b056b153"
      },
      "source": [
        "import numpy as np\r\n",
        "print(np.eye(4,4))"
      ],
      "execution_count": null,
      "outputs": [
        {
          "output_type": "stream",
          "text": [
            "[[1. 0. 0. 0.]\n",
            " [0. 1. 0. 0.]\n",
            " [0. 0. 1. 0.]\n",
            " [0. 0. 0. 1.]]\n"
          ],
          "name": "stdout"
        }
      ]
    },
    {
      "cell_type": "markdown",
      "metadata": {
        "id": "H5f1v9FKzn1z"
      },
      "source": [
        "**Constant array**"
      ]
    },
    {
      "cell_type": "code",
      "metadata": {
        "colab": {
          "base_uri": "https://localhost:8080/"
        },
        "id": "Jmtj2n52zpf5",
        "outputId": "05d80f12-f3a5-4d0e-ec31-57d3bc8836ae"
      },
      "source": [
        "import numpy as np\r\n",
        "print(np.full((4,4),5))"
      ],
      "execution_count": null,
      "outputs": [
        {
          "output_type": "stream",
          "text": [
            "[[5 5 5 5]\n",
            " [5 5 5 5]\n",
            " [5 5 5 5]\n",
            " [5 5 5 5]]\n"
          ],
          "name": "stdout"
        }
      ]
    },
    {
      "cell_type": "markdown",
      "metadata": {
        "id": "Q2D_KaM8zxCk"
      },
      "source": [
        "**An uninitialized array**"
      ]
    },
    {
      "cell_type": "code",
      "metadata": {
        "colab": {
          "base_uri": "https://localhost:8080/"
        },
        "id": "cdopZY531gMb",
        "outputId": "ecbed20c-0e17-472c-ded9-78622632e68f"
      },
      "source": [
        "import numpy as np\r\n",
        "print(np.empty((4,2)))"
      ],
      "execution_count": null,
      "outputs": [
        {
          "output_type": "stream",
          "text": [
            "[[2.06930819e-316 1.58101007e-322]\n",
            " [1.03321514e-047 2.19217547e-076]\n",
            " [1.10543354e+165 5.54019275e+174]\n",
            " [4.85800426e-033 0.00000000e+000]]\n"
          ],
          "name": "stdout"
        }
      ]
    },
    {
      "cell_type": "markdown",
      "metadata": {
        "id": "KEO6arQU2tl4"
      },
      "source": [
        "**Nine numbers from 0-2**"
      ]
    },
    {
      "cell_type": "code",
      "metadata": {
        "colab": {
          "base_uri": "https://localhost:8080/"
        },
        "id": "u3lnJ7rP2zPa",
        "outputId": "481b89f9-599d-464b-ee48-6e74b029da19"
      },
      "source": [
        "import numpy as np\r\n",
        "print(np.linspace(0,2,9))"
      ],
      "execution_count": null,
      "outputs": [
        {
          "output_type": "stream",
          "text": [
            "[0.   0.25 0.5  0.75 1.   1.25 1.5  1.75 2.  ]\n"
          ],
          "name": "stdout"
        }
      ]
    },
    {
      "cell_type": "markdown",
      "metadata": {
        "id": "knDp22ob3A81"
      },
      "source": [
        "**Using arange() and reshape()**"
      ]
    },
    {
      "cell_type": "markdown",
      "metadata": {
        "id": "Iq_WaunE4HZE"
      },
      "source": [
        "**arange([start,] stop[, step,][, dtype])** : Returns an array with evenly spaced elements as per the interval. The interval mentioned is half opened i.e. [Start, Stop)\r\n",
        "\r\n",
        "***Parameters :***\r\n",
        "\r\n",
        "start : [optional] start of interval range. By default start = 0\r\n",
        "\r\n",
        "stop  : end of interval range\r\n",
        "\r\n",
        "step  : [optional] step size of interval. By default step size = 1, \r\n",
        "\r\n",
        "For any output out, this is the distance between two adjacent values, out[i+1] - out[i]. \r\n",
        "\r\n",
        "dtype : type of output array\r\n",
        "\r\n",
        "***Return:***\r\n",
        "\r\n",
        "Array of evenly spaced values.\r\n",
        "\r\n",
        "Length of array being generated  = Ceil((Stop - Start) / Step)"
      ]
    },
    {
      "cell_type": "code",
      "metadata": {
        "colab": {
          "base_uri": "https://localhost:8080/"
        },
        "id": "Ngjeo0Gq3CnE",
        "outputId": "300066e1-3958-44d4-9a07-14ab927272dc"
      },
      "source": [
        "import numpy as np\r\n",
        "A = np.arange(4)\r\n",
        "print('A =', A)"
      ],
      "execution_count": null,
      "outputs": [
        {
          "output_type": "stream",
          "text": [
            "A = [0 1 2 3]\n"
          ],
          "name": "stdout"
        }
      ]
    },
    {
      "cell_type": "code",
      "metadata": {
        "colab": {
          "base_uri": "https://localhost:8080/"
        },
        "id": "1p8LFqPS3VGF",
        "outputId": "7e65b9a0-c9e0-42d0-f8df-14096a6889f3"
      },
      "source": [
        "import numpy as np \r\n",
        "print(np.arange(2, 10, dtype=float))"
      ],
      "execution_count": null,
      "outputs": [
        {
          "output_type": "stream",
          "text": [
            "[2. 3. 4. 5. 6. 7. 8. 9.]\n"
          ],
          "name": "stdout"
        }
      ]
    },
    {
      "cell_type": "code",
      "metadata": {
        "colab": {
          "base_uri": "https://localhost:8080/"
        },
        "id": "-eGBkMi7dC6S",
        "outputId": "a43d8a9a-6814-4bcd-b3f4-a3dcc4851c23"
      },
      "source": [
        "import numpy as np\r\n",
        "print(np.arange(2, 3, 0.1) )"
      ],
      "execution_count": null,
      "outputs": [
        {
          "output_type": "stream",
          "text": [
            "[2.  2.1 2.2 2.3 2.4 2.5 2.6 2.7 2.8 2.9]\n"
          ],
          "name": "stdout"
        }
      ]
    },
    {
      "cell_type": "markdown",
      "metadata": {
        "id": "MaGvRJkZbCSj"
      },
      "source": [
        "**ndarray.shape**\r\n",
        "\r\n",
        "This array attribute returns a tuple consisting of array dimensions. It can also be used to resize the array."
      ]
    },
    {
      "cell_type": "code",
      "metadata": {
        "colab": {
          "base_uri": "https://localhost:8080/"
        },
        "id": "7MY4mveBb_vS",
        "outputId": "077b6e35-5596-433e-c670-bf83e6ad603c"
      },
      "source": [
        "import numpy as np \r\n",
        "a = np.array([[1,2,3],[4,5,6]]) \r\n",
        "print(a.shape)"
      ],
      "execution_count": null,
      "outputs": [
        {
          "output_type": "stream",
          "text": [
            "(2, 3)\n"
          ],
          "name": "stdout"
        }
      ]
    },
    {
      "cell_type": "code",
      "metadata": {
        "colab": {
          "base_uri": "https://localhost:8080/"
        },
        "id": "3L2WZywBcPX4",
        "outputId": "201c6176-f1e0-4721-c4e4-b2f1176e572a"
      },
      "source": [
        "# this resizes the ndarray \r\n",
        "import numpy as np \r\n",
        "\r\n",
        "a = np.array([[1,2,3],[4,5,6]]) \r\n",
        "a.shape = (3,2) \r\n",
        "print(a)"
      ],
      "execution_count": null,
      "outputs": [
        {
          "output_type": "stream",
          "text": [
            "[[1 2]\n",
            " [3 4]\n",
            " [5 6]]\n"
          ],
          "name": "stdout"
        }
      ]
    },
    {
      "cell_type": "markdown",
      "metadata": {
        "id": "ow5oYdcE4_Dn"
      },
      "source": [
        "**numpy.reshape()** \r\n",
        "\r\n",
        "function shapes an array without changing data of array.\r\n",
        "\r\n",
        "**Syntax: numpy.reshape(array, shape, order = 'C')**"
      ]
    },
    {
      "cell_type": "markdown",
      "metadata": {
        "id": "kdcMbVT25Hmr"
      },
      "source": [
        "***Parameters :***\r\n",
        "\r\n",
        "array : [array_like]Input array\r\n",
        "\r\n",
        "shape : [int or tuples of int]  \r\n",
        "order  : [C-contiguous, F-contiguous, A-contiguous; optional]         \r\n",
        "\r\n",
        "         C-contiguous order in memory(last index varies the fastest)\r\n",
        "         C order means that operating row-rise on the array will be slightly quicker\r\n",
        "         FORTRAN-contiguous order in memory (first index varies the fastest).\r\n",
        "         F order means that column-wise operations will be faster. \r\n",
        "         ‘A’ means to read / write the elements in Fortran-like index order if,\r\n",
        "         array is Fortran contiguous in memory, C-like order otherwise\r\n",
        "\r\n",
        "***Return :***\r\n",
        "\r\n",
        "Array which is reshaped without changing the data."
      ]
    },
    {
      "cell_type": "code",
      "metadata": {
        "colab": {
          "base_uri": "https://localhost:8080/"
        },
        "id": "ePkM98zB3QkW",
        "outputId": "51d27e7d-5ca7-4461-f8e3-c7bd68ea41f8"
      },
      "source": [
        "import numpy as np \r\n",
        "B = np.arange(12).reshape(2, 6)\r\n",
        "print('B =', B)"
      ],
      "execution_count": null,
      "outputs": [
        {
          "output_type": "stream",
          "text": [
            "B = [[ 0  1  2  3  4  5]\n",
            " [ 6  7  8  9 10 11]]\n"
          ],
          "name": "stdout"
        }
      ]
    },
    {
      "cell_type": "code",
      "metadata": {
        "colab": {
          "base_uri": "https://localhost:8080/"
        },
        "id": "j0bkI61ndg3f",
        "outputId": "a1061ddd-e0f6-43cb-b76f-bc65ac7491da"
      },
      "source": [
        "import numpy as np \r\n",
        "A=np.random.random((2,3))\r\n",
        "print(A)"
      ],
      "execution_count": null,
      "outputs": [
        {
          "output_type": "stream",
          "text": [
            "[[0.65292392 0.77918074 0.84975557]\n",
            " [0.29448282 0.82802894 0.40924653]]\n"
          ],
          "name": "stdout"
        }
      ]
    },
    {
      "cell_type": "markdown",
      "metadata": {
        "id": "eGouerkyeXXD"
      },
      "source": [
        "# Adding and removing elements"
      ]
    },
    {
      "cell_type": "markdown",
      "metadata": {
        "id": "xGbcNEDwes3y"
      },
      "source": [
        "**Adding elements to an array**"
      ]
    },
    {
      "cell_type": "code",
      "metadata": {
        "colab": {
          "base_uri": "https://localhost:8080/"
        },
        "id": "2vEG4-dheytk",
        "outputId": "c8a0b42a-b7a1-409d-b920-c3e711a6529d"
      },
      "source": [
        "import numpy as np\r\n",
        "A=np.array([10,20,30])\r\n",
        "print(A)"
      ],
      "execution_count": null,
      "outputs": [
        {
          "output_type": "stream",
          "text": [
            "[10 20 30]\n"
          ],
          "name": "stdout"
        }
      ]
    },
    {
      "cell_type": "markdown",
      "metadata": {
        "id": "kanPlEvZhLsh"
      },
      "source": [
        "**append**"
      ]
    },
    {
      "cell_type": "code",
      "metadata": {
        "colab": {
          "base_uri": "https://localhost:8080/"
        },
        "id": "9MdJM-gXhBWh",
        "outputId": "34128b86-97d2-4230-b43e-5d9e38f9565a"
      },
      "source": [
        "A=np.append(A,[40,50])\r\n",
        "print(A)"
      ],
      "execution_count": null,
      "outputs": [
        {
          "output_type": "stream",
          "text": [
            "[10 20 30 40 50]\n"
          ],
          "name": "stdout"
        }
      ]
    },
    {
      "cell_type": "markdown",
      "metadata": {
        "id": "9nP9Fp9ghREx"
      },
      "source": [
        "**insert**"
      ]
    },
    {
      "cell_type": "code",
      "metadata": {
        "colab": {
          "base_uri": "https://localhost:8080/"
        },
        "id": "DQNCmuYZhFU1",
        "outputId": "43044bdb-e6cc-498b-8e11-4c204fca28bc"
      },
      "source": [
        "A=np.insert(A,0,100)\r\n",
        "print(A)"
      ],
      "execution_count": null,
      "outputs": [
        {
          "output_type": "stream",
          "text": [
            "[100  10  20  30  40  50]\n"
          ],
          "name": "stdout"
        }
      ]
    },
    {
      "cell_type": "code",
      "metadata": {
        "colab": {
          "base_uri": "https://localhost:8080/"
        },
        "id": "A4qKiNX7heGn",
        "outputId": "c2528bca-b5fb-48af-c381-14bf3facc390"
      },
      "source": [
        "A=np.array([[1,2],[3,4]])\r\n",
        "print(A)"
      ],
      "execution_count": null,
      "outputs": [
        {
          "output_type": "stream",
          "text": [
            "[[1 2]\n",
            " [3 4]]\n"
          ],
          "name": "stdout"
        }
      ]
    },
    {
      "cell_type": "markdown",
      "metadata": {
        "id": "IJUrcOf1hUuG"
      },
      "source": [
        "adding a row"
      ]
    },
    {
      "cell_type": "code",
      "metadata": {
        "colab": {
          "base_uri": "https://localhost:8080/"
        },
        "id": "C19qCuchhjMH",
        "outputId": "b6ac6a71-d761-4a1a-f47b-d1d9257fb57f"
      },
      "source": [
        "A=np.append(A,[[5,6]],axis=0)\r\n",
        "print(A)"
      ],
      "execution_count": null,
      "outputs": [
        {
          "output_type": "stream",
          "text": [
            "[[1 2]\n",
            " [3 4]\n",
            " [5 6]]\n"
          ],
          "name": "stdout"
        }
      ]
    },
    {
      "cell_type": "markdown",
      "metadata": {
        "id": "m46EW_mZhuT6"
      },
      "source": [
        "adding a column"
      ]
    },
    {
      "cell_type": "code",
      "metadata": {
        "colab": {
          "base_uri": "https://localhost:8080/"
        },
        "id": "Ad9qbT-UhvAa",
        "outputId": "9417fa62-9bd0-4759-d8cc-ce3aa58f26d7"
      },
      "source": [
        "A=np.array([[1,2],[3,4]])\r\n",
        "print(A)\r\n",
        "print('second array')\r\n",
        "A=np.append(A,[[5],[6]],axis=1)\r\n",
        "print(A)"
      ],
      "execution_count": null,
      "outputs": [
        {
          "output_type": "stream",
          "text": [
            "[[1 2]\n",
            " [3 4]]\n",
            "second array\n",
            "[[1 2 5]\n",
            " [3 4 6]]\n"
          ],
          "name": "stdout"
        }
      ]
    },
    {
      "cell_type": "markdown",
      "metadata": {
        "id": "P2tw3XFqj5zE"
      },
      "source": [
        "**DELETING ELEMENTS FROM AN ARRAY**"
      ]
    },
    {
      "cell_type": "code",
      "metadata": {
        "colab": {
          "base_uri": "https://localhost:8080/"
        },
        "id": "Ykyog_aZj-0N",
        "outputId": "b5af4beb-c105-4330-e2cb-a04e5ec2f343"
      },
      "source": [
        "A=np.array([10,20,30,40,50,60,70,80])\r\n",
        "print(A)"
      ],
      "execution_count": null,
      "outputs": [
        {
          "output_type": "stream",
          "text": [
            "[10 20 30 40 50 60 70 80]\n"
          ],
          "name": "stdout"
        }
      ]
    },
    {
      "cell_type": "markdown",
      "metadata": {
        "id": "sEaC-XYWkDYC"
      },
      "source": [
        "delete"
      ]
    },
    {
      "cell_type": "code",
      "metadata": {
        "colab": {
          "base_uri": "https://localhost:8080/"
        },
        "id": "7ufYTswZkFPh",
        "outputId": "fff237a0-1b9f-4c6f-d8a7-ddbaacbfadbe"
      },
      "source": [
        "A=np.delete(A,1)\r\n",
        "print(A)"
      ],
      "execution_count": null,
      "outputs": [
        {
          "output_type": "stream",
          "text": [
            "[10 30 40 50 60 70 80]\n"
          ],
          "name": "stdout"
        }
      ]
    },
    {
      "cell_type": "markdown",
      "metadata": {
        "id": "M1L2iJKhkP5W"
      },
      "source": [
        "deleting a row"
      ]
    },
    {
      "cell_type": "code",
      "metadata": {
        "colab": {
          "base_uri": "https://localhost:8080/"
        },
        "id": "_rT2rH7rkQxn",
        "outputId": "c96292d1-2fae-43cd-b686-a831549eedb3"
      },
      "source": [
        "A=np.array([[10,20,30],[40,50,60],[70,80,90]])\r\n",
        "print(A)"
      ],
      "execution_count": null,
      "outputs": [
        {
          "output_type": "stream",
          "text": [
            "[[10 20 30]\n",
            " [40 50 60]\n",
            " [70 80 90]]\n"
          ],
          "name": "stdout"
        }
      ]
    },
    {
      "cell_type": "code",
      "metadata": {
        "colab": {
          "base_uri": "https://localhost:8080/"
        },
        "id": "7IXs9-xkkVh5",
        "outputId": "6f58fd11-d17b-4736-827b-b705d255e6e3"
      },
      "source": [
        "A=np.delete(A,1,axis=0)\r\n",
        "print(A)"
      ],
      "execution_count": null,
      "outputs": [
        {
          "output_type": "stream",
          "text": [
            "[[10 20 30]\n",
            " [70 80 90]]\n"
          ],
          "name": "stdout"
        }
      ]
    }
  ]
}