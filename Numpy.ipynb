{
  "nbformat": 4,
  "nbformat_minor": 0,
  "metadata": {
    "colab": {
      "name": "Numpy.ipynb",
      "provenance": [],
      "collapsed_sections": [],
      "toc_visible": true,
      "include_colab_link": true
    },
    "kernelspec": {
      "name": "python3",
      "display_name": "Python 3"
    }
  },
  "cells": [
    {
      "cell_type": "markdown",
      "metadata": {
        "id": "view-in-github",
        "colab_type": "text"
      },
      "source": [
        "<a href=\"https://colab.research.google.com/github/jermania321/brocode2.0/blob/master/Numpy.ipynb\" target=\"_parent\"><img src=\"https://colab.research.google.com/assets/colab-badge.svg\" alt=\"Open In Colab\"/></a>"
      ]
    },
    {
      "cell_type": "markdown",
      "metadata": {
        "id": "rnATpyIADD7B"
      },
      "source": [
        "# Numpy"
      ]
    },
    {
      "cell_type": "markdown",
      "metadata": {
        "id": "_7NhSJThBXtu"
      },
      "source": [
        "**numpy**, short for **Numerical Python**\r\n",
        "\r\n",
        "\r\n",
        "*   fundamental package required for high performance scientific computing and data analysis\r\n",
        "*   package is adding support for large, multi-dimensional arrays and matrices, along with a large collection of high-level mathematical functions to operate on these arrays.\r\n",
        "\r\n",
        "\r\n",
        "*   Create on 2005\r\n",
        "*   open-source software\r\n",
        "\r\n",
        "Here are some of the things it provides:\r\n",
        "\r\n",
        "\r\n",
        "*   ndarray, a fast and space-efficient multidimensional array providing vectorized arithmetic operations and sophisticated broadcasting capabilities\r\n",
        "*   Standard mathematical functions for fast operations on entire arrays of data without having to write loops\r\n",
        "\r\n",
        "* Tools for reading / writing array data to disk and working with memory-mapped files\r\n",
        "*   Linear algebra, random number generation, and Fourier transform capabilities\r\n",
        "\r\n",
        "*   Tools for integrating code written in C, C++, and Fortran\r\n",
        "\r\n",
        "\r\n",
        "\r\n",
        "\r\n",
        "\r\n",
        "\r\n",
        "\r\n",
        "\r\n",
        "\r\n"
      ]
    },
    {
      "cell_type": "markdown",
      "metadata": {
        "id": "Dkf6y0yW60Ni"
      },
      "source": [
        "# NumPy - Environment"
      ]
    },
    {
      "cell_type": "markdown",
      "metadata": {
        "id": "PUj9CrOw63Lr"
      },
      "source": [
        "[Installing Numpy](https://www.tutorialspoint.com/numpy/numpy_environment.htm)"
      ]
    },
    {
      "cell_type": "markdown",
      "metadata": {
        "id": "Wg2P7Z-NDMzg"
      },
      "source": [
        "# The NumPy ndarray: A Multidimensional Array Object"
      ]
    },
    {
      "cell_type": "markdown",
      "metadata": {
        "id": "AmKaOn_7DQC5"
      },
      "source": [
        "\r\n",
        "\r\n",
        "* One of the key features of NumPy is its N-dimensional array object, or ndarray\r\n",
        "*   it is a fast, flexible container for large data sets in Python.\r\n",
        "\r\n",
        "\r\n",
        "* Arrays enable you to perform mathematical operations on whole blocks of data using similar syntax to the equivalent operations between scalar elements:\r\n",
        "*   A numpy array is a grid of values, all of the **same type**, and is indexed by a tuple of non negative integers.\r\n",
        "\r\n",
        "\r\n",
        "*   In NumPy dimensions are called axes.\r\n",
        "*   The number of dimensions is the rank of the array; the shape of an array is a tuple of integers giving the size of the array along each dimension.\r\n",
        "\r\n",
        "\r\n",
        "We can initialize numpy arrays from nested Python lists, and access elements using square brackets:\r\n",
        "Python array indexing start from 0.Matrix operations can be done with numpy arrays.\r\n",
        "\r\n",
        "\r\n",
        "\r\n",
        "\r\n",
        "\r\n"
      ]
    },
    {
      "cell_type": "markdown",
      "metadata": {
        "id": "RAyFa7HBl77c"
      },
      "source": [
        "**Creating numpy arrays**"
      ]
    },
    {
      "cell_type": "markdown",
      "metadata": {
        "id": "CVhaY9PQSiQo"
      },
      "source": [
        "The basic ndarray is created using an array function in NumPy as follows −\r\n",
        "\r\n",
        "    numpy.array \r\n",
        "\r\n",
        "Full syntax\r\n",
        "\r\n",
        "    numpy.array(object, dtype = None, copy = True, order = None, subok = False, ndmin = 0) "
      ]
    },
    {
      "cell_type": "markdown",
      "metadata": {
        "id": "IiCFjwLSUNNV"
      },
      "source": [
        "![numpy.png](data:image/png;base64,iVBORw0KGgoAAAANSUhEUgAAAj4AAAHuCAIAAAAQhpFJAAAAAXNSR0IArs4c6QAAAARnQU1BAACxjwv8YQUAAAAJcEhZcwAADsMAAA7DAcdvqGQAAEm7SURBVHhe7b3LbhxJtq7JN2nodRo9CoAPUNh7ICBfoIctMgZZOczSqMcMjkv5ApV7QAo4gBJ9JucAtXEmEkCiBOzzCMxeN7u5m8dFIoNhoe8bZJovt8uyi6/fzSLEuPhfAAAA4/Dnn3+qdP3vk+RkHQMAgNcC6QIAgMFAugAAYDCQLgAAGAykCwAABgPpAgCAwUC6AABgMJAuAAAYDKQLAAAGYx/p+s/Nv/8fib9s/mdYu/zn7V8018+/x/X//v0Xufz3zX/G5cEgXXAItt4afslrcTD+o3Tll/8IW8uss9/xoG3Hn+sFNzr8/rNk3xErAL6H3dLlq/Dmf/zXf/3XP/6qz8dft8SCkC7LbwZ7uv7t5p//5ZcHg3TBIZT1pvyPG12O/3bzQgF9J7///M3hu3TkH4sy0HZ2j8fzm/Hn+q+/b3+Kf/8laWcOGnYF8PzslC7fcv31H0l7/Cnx9JwkXTleIF1wTKbr7RVj6Pc1bR3R5+6f9gB265k9XLZR+8vmn3H5rGx/8MOZatu3Kz/Ad7GndAnt29z/3KhG/fyLPWDlTKZIV7yjtU+Xl3LKoeI2kC44hC3S1Tv3ni3jegH/5VbjsFt+uc1L95ff81FeidRV5baw5/WYJ0YutfAQOSW/8LO8Os5lYCZdbvn5H5aeuqTUD2AlM7W3fioYvf7ZXPv597i0Wz6kv/wcRax307H1PM0gO8mT6ahWzgDsw07pas7cZ8+A7sYcN/uK/OsmH9RUT1c8qL9bdjvc2OMkB+mCQ+i9KtmlBdNfbLlWa2+yjH/XO/LKJeRjugjrJh7/9OxWoaerwG2V2xGla5XXIKopeCi3tLXu6rLwEDnRrjohrc11S1iQLu1a1yUz/rtVZz31/Vk8s8u9FryzfmDomupeud0kzWo0Z4Tc385Tbyo1H9Vdp5EADXtIl+z9/TMDx9+PYkXqyvM8Tn4M4sHe3OSny27Fk5xy+uvwNpAuOASL3TUeqW3JSZC8+bcwR8SfLWNJ+NI1dH36ko5TuPpELqebSkweTBdL+G41xux2hrHwEAkR2QPJ/J+bn+f7kkXp+qc/sFOXXM+E2A+Vu7NPBPKDLIgxX0q66lfpQq+PefTKY+6XWRqj/pc854RzZS/pcvxNTdCXrLJkG6olXgURW9DNim8fhi0gXXAIJYDW6A1dfrJiJVjGrkuD7GQZxwGDblbynqlZqFukq0GVqVrw1bMQmH3hIUr5VU5CR//tL5YznXkEjVoYZhHFqt81AxPL6GDgu6VZJcrk8awv2wc5ijfnK1Wepad+cVQB9uMA6RLK1n63dEVasQVtl5NFXC6XQLrgEPqBuLVX6XYZ5zgr5PRikJ1Il21xaqqoXVqsWZSuqkJ5UPJOMXwozDq7yyXPJQkTZsH2c+2uy2l63V42alS60DjTjl7KXD31i6MKsB+7pMuXZvoQtaza5qmzVVsdYacVnw4oOmEiilT2yRtlgHTBIcyieWB2C9C+RHtr0pe3rV63bw+yJR3RvzoD1GQO05Keylh76i7JlqrC/BAJ05yTznpO3TIuuFQ17YpoZesOus/1gZ7mDXtc+ii5M5XdWkzObAsUs0aRLvgGdkmXEI+xo8tRX9/2WZGCLcrydNVVxSe30/AxAemCQ5hE8wpfisovf9XAavuM6dpLZ+KSyb5cJyt5Mcg2AbfsjeKFTMir3ZQsbXQE/7bI9pVfVait/MMuXcwy1tma6oO9vktVB4sb6TTFkZ4Kkwe5vgxZ2kRNMgJeiecRfvmPWqo7T/2kQqQLvoE9pMvQ5ZwIU3zMG9S3artQ3xL80gnTrEgG6YJDmSytGr+VyUZPOH4rky313Xla8Eshro3a4mnHLUKdnuA5nXzptzJurIkbRpgWjEKYlo2RShkkkWUp4xmEuDZLTjh+KcS1UV9ObgFsZ1/pei2QLoCTotlRAbwSSBcAHADSBacA0gUAh2Enf0gXvCZIFwAADAbSBQAAg4F0AQDAYCBdAAAwGEgXAAAMBtIFAACDgXQBAMBgFOkCAAAYhZAu+d8JcrKOAQDAa4F0AQDAYCBdAAAwGEgXAAAMBtIFAACDgXQBAMBgIF0AADAYSBcAAAwG0gUAAIOxn3Q9fnj75v2nuDgqSBcAAEzYQ7pUt4T3n56ewnJEkC4AAJiwQ7q+/qay9f7X92/e/A3pAgCAU2CXdP3x6euffz59+hvSBQAAJ8IO6Qr+kF0XB4YAAHASIF0AADAYSBcAAAzGeUrX4+3q4uJi/TEuM/dXYl5tvsQlAACMyDlL1/X91GGXrpvPh3bkfn25eYw0AAC8Mj+WdAlPRlzsxf1a6rrcPLxG9wEAYM5+0mUcGPGfh92OfdmoTDlX924L6drcxK20Z2oODD+qJBn1EaIJlaOlHjeXccVJIwDAiXCAdL0KOxxz3bq6t63U3bWkTaVcui7e3an5Xs2rzYNkLweGplur20ct9k6S1yZ6ZYP19Nlk792dGK3aGzWy8QIAOAHGli6TqPLZlV/K3qg9MAztEUnL0pUTqkYmY5rZ9cyUywr6RtP1TKXLjQAA8LqMLV2Tr11kxWqlyw/9rmUL1kpXgyhWWyqDdAEAnBZjS5dvsya7LrlsRahoT3fXlcm7LiuVQboAAE6LsaUrPuvST6SEojEuXZLWb2dUx4Bll1aplBvtKxhRg32nw9L6vQ/btCFdAAAnw+DSJbTfMNTNUz45fKcfcin2fQ2xF+kSTL0c2Z95BsmSyohcxRfiQwh7/8YZAACOz/jSZajyGHFdWRw3NtJlxO2qoBAmI0zJGBcAAPB6nIl07YlJl35fI64BAGBAfhjpSueK9XffAQBgRH4Y6TI49AMAOAN+LOkCAIAzAOkCAIDBQLoAAGAwkC4AABgMpAsAAAYD6QIAgMFAugAAYDCQLgAAGAykCwAABgPpAgCAwUC6AABgMM5EuuxPwq/v4+ql0Fb0xycbusYR0J/QXN3az2o+H4ONhv5RZv+V0ecgfgHu+Sp8Rr61p/pjdZebZ14lcPrIYj7yg6yPj8ZwiSH7/DLieUjX/fpiff0u/6L/S6FxOX6RudA1bkV/f/kEfrXSpMt+J/q7KT06fDReFQvo9e+3tRw0U/EqcFJ/4rkIz46eLmI1+O+GfyOI34BoRH2GH4c66IXJpMsavb+WWB7WRc5BuvTZuLp/kFH6vmdsJ0tx+cBQpQHxpVV2T54pyJYeDSZdxvIgHDRTKl0nMq0ZFx79se9Xli7zAQZBpsxfwuL6mzlo1RXpMgd2vVWfgXSlkNEovL0CX63Tb//bWaIMTXn7k6i043VAo7CTNs4Wl2+kZiPOJ9WYMuhT6lSvma1RHXO2vs5r0HQim85rLqJ3ZW1Z05uJP4oOhdMMSBDe2hDdPvq4ra9SiXJKkIvY3cUX56ZH7RCVEe6OzAKVq9Ugx2xKcZ3H9VrzWP2ls+G8Zs4Hoc2kz8hrxh6bdZpxK970S+h0oXjyf/70f/m94kNi+yDMJnoJ83CTaoihTmmnNOqTqEUM0R7r6c3mOixllmellMnUL0uXVhvj5m7s9CGNhnZcizQ1aLvTx1bQPMGOUaodSG2p5Wqd/CjTscARl1/F1tW1zed5f32pzBdzHjptq1oAMyRz0hubsl5wqNrNxjzX4Ule2+FYp0hlXF9J9vQ7wNr3HS9M40uXLX3vsC6a0GpffzoQT08PN5LWrYDsQ6vZvdQfnbSLDjq7luHp6U4ed1+LPsoik2p9Z0+jG32fYSvGWrS7i0ZxIyrRDB3sAfajp883+Wl/8nLe4pWW7/oj97XJj7qZ0J2oFfHFqvlsNGwRWysyXP7svTMftblY4pMR2LqSSo/MJV33Wiy71B2ZBSau+oRatT6b0oa6481pF607msxjVa17KegjaVcz7MnUp1Q91La0Hq0/nr3cr+XJLZ64t5IyB7yuSWYNhZWxP9F9Kg9tWqPXeZCr+SrjZkbd8fjM7pxlX+cHTL0tnhi3p6epD6W27EN+B9dVKkPX1qCzmSZaa8ijVE3x1qOk3sj31+QC6u3Rll+mrI3c65jx1NBCDb3+esEY0rSYtV9+txpPu5xRRdR5cNApa1ZInmiZ0BhkbdRHID1fQndteMfLdGfpSrVZus/w0iUjUhaHTqQvmojLbteVlxZxXoueWCCFdb+wZ08nR+rJRx9pVprKsyd6t5EZNcbZVHpol6iXTuuqrk4l7nb9yatBjSn4ahekmhQZzY3Ux1xQyb71R2CB0iMfDe+vlxL3uiOzhTRcWq37UFdrHcxLXKns3pG87nNige6glQFp+tXpQuNJM2KCZVZjXh6TlWCxoD/RHeq2qnSaGm2oxCPJYPOVp+CQWT5k6ptqtaAPl7KnD7MapGnvhU+6G2sf8hguYRmsVB752Zq0jH1S/eqhj0NdQzvpSmXPy2aS2EGzNnL9s4aWsILRX03XBfPwasIWW04sIcVNYzSdilsTzbKZTbTe9QEXoi9lcrtFFjqu5LYWGV26bLxa7HVSRyo/fukZyEMmd7cvqWbg8tPbrGDNo5Wkym3pNMhdfSnLbiR2zYpOYUtaELYUtKz70PWnfThLW/6qbriGpSEqy6vO3zi5I35VmWuXkif+Kl2zdfBL91erNHpNT5slbrecy1XuiBija/kh7JL7rnVuka7u5E6CS7XkbJo8m3QhLw+5mybL2DLRc+q2qnSaGnW1RbtTFsMBs9wYta0tUz+rtiXt+A+ULkvHpFvy0V7Jje3nb52R767J1Ls5ZVJefvkF7drQ+m0ptg31mfVXK6kLluHVVnTA5W71CtVBMuQZb2anWTYt/jJqG1LHjwRL8W6RZrotc+5v8naZwaVLR9nmPJF2zUvPgAzuavNx55JqiqdHuq6nzEo2+noNPxJNkSCvgAW0Zl27NXbDvLo08bJrrTw/h3mVNCu+acurSmcmqY9leQk5f38EFiit1P3NYaI7Mp5nRrRrWdoTmzyMvSdTqc+j7PG73/lpczNoW6SrP7ntUJcRU28tOgj5GMe7oKUy2lB3onvUbVXpNDXaurg6oUTqA2b5kKlvqv0mH2Y15KabSY/Va6eaKcOcLSPvGYozfcIBq+Dll1+iWRta/77SNe+vVtLzUJLa93d3UmTbaaFgzm+Vrv5EWx6bJjta1C1EKd4vMhvY9AxWj94SY0uX9Hy6jm3aJnpeD5CmhTxeC1RPrA5iWcFpIjVt+lcqj6YVLe6f8U6M+s64c1Zq56319hOI5pmc+SNJPySMIrYa9G76aFSNWjy10l+d3lwZgbKaO5RSZTRSDepSd2T6qFfVeFYjn6r12qons2q67YiwdZyrR0vr3CZd/S7UnlSzZnORg3WzPDyzjYyshP5E96nbmlalU5MTgjmguxM3Jk92z7I7o8borE3Hlqlvqt3lQ9WEdcF8aGqoByRPupayoxRBM2yZ0+7Ip3qUypku1t8yX9WEphqaibBW3B/NUzqiPgtbXG0odZoDviuqG1pg3t9pwXp4PU9xcgHNFku9Kd5fNu7DZvIdHNkhaKmqeHdtmKuRwQawlq4dfo4sXc2wZjRwrzb/X+8ZMHSw9lpSqhBO2l9bPTfp7EJHWagr1+kJ1DEvVRmrIpJjS5xqt95SxCrJnbU++jcM312nnFG53teRcbIb1ZFLrI8UJhZWZ1XEvti2JX75yBSXOmGiOzJ9bIKUq/vui/PkkfamhfXHotnJvuPJL33XOtNjUw1I7pekO11oPKnCbh7/y428evcGIb6vIS1MJlqLd6nbqtI+yCUiBGkxhCfX94uz3FnntVG/97Vl6ptqlVJbM56CRsMyAvbNWPWhqaEaQ++OT3rUYGwfpZyzGvlSTxquZel6meUnRTxSL1NGJh0jTRrq0+tvU3A2vDu6r0i2VKQpvrBs8kTnobNHxqbJWtTBWShSddy+w9mM2HY/R5Yuo7uO3VjfKmmdjF0LIiGlnLiuLI5YmmXdZghTz1inl/A8Qn3paUHS3rTbnbhnhKktksmWSUKYpAX9nKzqYxfP6Qm3CNmY045blohMbW05IdjN6aXgaTfqIzE5oFsg56kz18ZJ2qktnhYm6ZqwVva47lm61HkmaU8IbnfCVGWeGCNVlYprI0xGmBaYZPAiTpiSMScy+a4nhC1pJ66XiXwJt/gtIRuX8AyCp7PRE4LdnF4KnnZju/weN1c7ArFj1Sj1pae34Nky2eJ3hZyWiCFvBvWtLuJ8foEQulUJks4sWYT60tOOW4S4TohF/dx11jq8dB3K/hFtT3w1xMVxydIV18+Krx5PytvUa/XxW9HXvfyGCHBc2uX3ZbPedsRyNHafwiVkB5nODF8B8bNsy5b4oaTLd6+7B2VvNKb78VEYjotLV1w8O/ksQth+SnNquOdj+Qxnw2kuPzvN27mVKUj+l4stW5GwtuOLJMYPJV2KjMi+k7cfz17hQbx00947Ia7HYUSf4Ww4zeV3kFev2IV9mv7hpAsAAEYH6QIAgMFAugAAYDCQLgAAGAykCwAABgPpAgCAwUC6AABgMEaXrvgbWUr55U3/l8JK+qudQs7pf5Ev/fHT9K/c9Z/31n+g1kl/eczu9n5otfy73fKnJ3utAwDAszG2dKnG2L9a918oMKkIQVKb/QyBK4pqT/xdy/zDr5Zz/rc+9Z+d61/c0Kz139+0v5oRxviDpKpS/g+/7ddIr+Mv1s9aBwCAZ2R86arkQfTCtkHlTz2J5Jg4qcbkPymmpZalS4vkP5eitenf8vK7bvTi+sc0k8hpTmvd5GreOgAAPCdjS5cw/fFf+1NdDSpI+0uXGlt0s9WVrqJhmX7rAADwnAwvXYJud/I5Xtp11RwiXbFVipKJfFdod13t76f0WwcAgOdkbOlSRVn68V9FFcu/iJHkKoye1uK10cXJBMkr1VL2q4B96bLfCQxFVNGSbV+/dQAAeEbGli7RkdmP/wr9X55Nv9G5Wl8lGVO9cexrh7U4BfHVjAXpqmvIf6i/07oWKV+ABACA72J06VJUWxJhqoxxbbhFPx6LzZbiRidMPWNOCLVd8EshrhcskQIAgO/jHKTrUHzbxEEeAMCgIF0AADAYP6J0CRzfAQCMyw8qXQAAMC5IFwAADAbSBQAAg4F0AQDAYCBdAAAwGEgXAAAMBtIFAACDgXQBAMBgIF0AADAYSBcAAAwG0gUAAIOBdAEAwGAgXQAAMBhIFwAADAbSBQAAg1GkCwAAYBRCukzJTo6TdQwAAF4LpAsAAAYD6QIAgMFAugAAYDCQLgAAGAykCwAABgPpAgCAwUC6AABgMJAuAAAYjB3S9fW3t28S7/8I4zFBugAAYMJW6frjvQjWpz//fBI+/e3Nm7cfHuPO0UC6AABgwlbpMkS27P+fRMf+9snTxwPpAgCACbulK4F0AQDASbCvdNmHXu8/xQ7seCBdAAAwYT/p0g+99Gsa6fDweCBdAAAwYQ/pej3dEpAuAACYsEu6VLf0i4WvolvCIdJ1v764uLjcHP1bkAAAcFS2StfjB/2A65X2W87h0nXj0vV4u1p/tBQAAJwX26Sr/vfIztvfvsa9Y/EN0vXw9CS6Jcnr+1dTXAAAeDm2SZcjW66asB6LndLlKiWsbjchXffXblGu/t/mFPGjXq1uH//8stFiV2u9Vtb3nkGwPMZq8yVsAABwOuyWrtdlh2OuQO/uRFMfLDnZdQmWDhG6v1JBuvn8FAUvrrXk051qnZ80urZtpI6nu3eaoUgaAACcBmNLV3swaLut+YGhqZSoUX2iWGuelkySVrRNMBnj1BEA4NQYW7oapVn8rOtxc2mbqmpHNZGunN8qbDDNAwCAE2Js6Zrsuhaky7OtViJgWed27bpqND8AAJwMY0tXViBJulzFeeDkrM+z5bvF4kpWHSSmnZlkcRnjmxoAAKfG4NIlmNioyNxu8mddoUZ66d8tfLzRLVc6LRRC827cfnGxtu9r6K2n6guKIn6RHwAATobxpWv56/txrRb7uCv2WEZ1YJiJW22FYQIAgJPhHKRrNy5U+bQwW9JnXQAAMBDnL13xGVi95RKQLgCAYTl/6RLs5E+J60TXCAAAJ84PIV0AAHBOIF0AADAYSBcAAAwG0gUAAIOBdAEAwGAgXQAAMBhIFwAADAbSBQAAg4F0AQDAYCBdAAAwGEgXAAAMxuDS5X9Ft+bqPm7tjf6k5OGl/CfB1h/jYo7+2d/4tbBhSH+qeP0Nw/E66AJ4jp8Dfa56AOAonIF01b/Hf6c/E3mgDql02e8sH4hKV/kh5hkmXTdL0nWAsB0vqkaPnLCdJOVtIy0AM38Hz1UPAByFM5GuuBS+KdB/U6T+fumqfj9sC8eLqtKjMcK3v23kWXsGoUW6AIbi7KTrT/19/qQoqi5OPtnTqOekTU96hddfUl5fWQl7o0+nZyWn8jFVebXuSZf/HLOwWl8V6SqNuqzmSjyD9iIx3TLmLqw2H9aVJyozqar1JrlaDjBLnX0hn/WujNXqtnRXyd7mW1r5em2dWn+cjtu0s5Y59coyL56yzudL869uN2E3V4vnsle2BRAdnHfZBsf9VGvuV8mZBtzqQboARuH8pMuC3eYhRb1HPfz6fBMBTmLZ5Ub2OsLdO88Wr/Ce33dCgkc9fbG3nOlEUWOrH6k9WPSbSJftpbx+O7p0ZWob9aryrktrsmiuSfNzGkBTH6V02RWlOs3P2II8qWp71FY/o06Xci1TUXr3cCO9Tr1z1Rfs0lGNtNarqiz0y+iZVf1vxm3aWR3YGCgtqO1qeko1X6UjNinhgLma1dG7XEasdNmmxvy0wQk/2zrrAVcj0gUwFOcrXW2UlGCnRotlWW8kdvmtHGE9zLnRw6jm06pyKMx1RqC3tJOa9gsTp7x/saosELfSVd31+mcBtOpj9KJ2rynyKME9uunCZkZpdCKx2uUr1Si90Bpc20KYNdniOW27c63db4a9GTfH0m1ncyK3O6FXZ65k4qpPmRpzKb01m5ra2NQ/G/D2LgCcOOcnXSn+alRqsehZ2/1UyuNgFS4Fi5gN2kqrN5qnDfRt6JeGpueBq1VPutQB53LVCaB1H6NOabqyuJwYKmmbB9OYhtQvp+5pXUNXuspQrC63SZel+501Y0jOrP6EupG1J9c5r1wdmEtXOzX1GuhIV2fAq7sAcPqcnXRptMrBSMNWTeSxl+58rORxcBIlXQO8VKbViXmgb2rwYCrSpfXbVkOYHxjmLihbDwztQhpd3dzfrPKmKvdXSQ6IMZ3aZSxDkLpslPjek650V7HNjOZsXJqO27yznuf6/m5dxGlGv05NzF11/6WJUkpvzaamdK2qPyWUPOBN6wBw6pyZdGnMiqDWhFS1r24fTTDSNx0krpl4pDjehGAPhXaMZjITXzTwD0wsj2aYBnrL6aUs5mbpKioVgbiVrqhHc84DaNtHy5P7GG5ULnnOSoSsft9fFkrvQhustiXp8jot5z7SNeusYCOTbvWp6pk1OnHVp0x9Lp6U81ufL/VT6+lKV+QsA970CABOnTOQrobyAZWi4SxIH7HoViDQUJXjYBM6jYi2SuRUa27xcn09+wxJyPXrl+4mB4aXm/tWsTwohxqpwJT4W+HhO8mPhmPNE/6YCF2nRou9Gpl2TILSu/KpWE+67PMzY7X5KHXOA307bt3OJrtkM0+0yFRNlTJf/jWKqPzdda4zarNB0OGtPSldTvPVla7ugNf1AMDJM7h0GRqlKsKaCGtlj2sjWyYJx7IEYTLCZISpIm4YYWqNQm2s73rabjbkuxZkUzgWTLp0A5IIuxGmXoVC3DPCtLX1TDZ6QqjTguUqmE10sdKGj+uZRgZRJkqFLoap14on3CK4UYjr2d2ccCZGTwDAiXMO0vVDobul+kt6Sbri8mQRP8v2TvY9e/6tqXZLBwBgIF0DoXH8wj51G0u6/COlzZdv2NYgXQDQAekaDIn+EwGYW06Q73Hy9HsHAEcG6QIAgMFAugAAYDCQLgAAGAykCwAABgPpAgCAwUC6AABgMJAuAAAYDKQLAAAGA+kCAIDBQLoAAGAwkC4AABgMpAsAAAYD6QIAgMFAugAAYDCQLgAAGIwiXQAAAKMQ0mVKdnKcrGMAAPBaIF0AADAYSBcAAAwG0gUAAIOBdAEAwGAgXQAAMBhIFwAADAbSBQAAg4F0AQDAYOySrj/evwnefngM2zFBugAAYMJW6Xr88NYU6+np6V+SfPO3T3HjeCBdAAAwYat0GaJb+j+Tsb8/WPqIIF0AADBht3Q5X397++anD/9yGTsiSBcAAEzYQ7p0v6X87ZNswJAuAAB4ZfaQLuPp4e8iYO//iMujgXQBAMCEfaVL+PTrmze/HvuLGkgXAABM2F+6vn746c1b/bTrqGeGSBcAAEzYKl3py/GK/gMvvmEIAACvz1bpEso/SdYPuviaBgAAvDq7pMvQbxYacX1EdkvXl83qInF1v8X4eKu29dXazWH/qJer2/hLIfdXerX54lcAAHCK7CVdr8gOx1yiru5VV++vQ4Rq49OdWi83Ik0uXRfv7krmzYOYN5eS4ca061517PLm4TVEGgAA9mRs6XI1ur4PpTGtejLj6uZzGP1SNlI5s5BVKkma5fcd2EaUC+kCADhdxpYuP9/LKuVMjFmxcsLNutm6uJYtmO/SRLG6tQEAwKkxtnS1ahSUXVR72Wauzwb9zHCltzktBAA4ecaWrvhY691dTpfPutxYSZRLlx8STs4G41ZlAQCAk2Vw6RJcqBz7asaSMXZdm5u4lTMLkZ/TQgCAARhfugwRISeujTAlYz4wrPFbIV2cFgIAjMCZSNc+tJ91NfgtTgsBAIYA6fKvGrLlAgAYhh9IupzuvsrODpW4BgCAE+aHky4AABgdpAsAAAYD6QIAgMFAugAAYDCQLgAAGAykCwAABgPpAgCAwUC6AABgMJAuAAAYDKQLAAAGA+kCAIDBOA/pst+TDNb3YdyJ/uFd/WnK7+b+Sn/9Ky5m+J/9rVhtvsStvdnpaozAAd3R33nZ5Ynkudw8wwCp//v3+tnmZaGPz1S//lrp/ovtm9hnjoLnGzSAERhfuuynttYf05/Qvb+WCC6Xi5RwYE/75sHN34NKV/wocweVLvuz9M6D+nt9YMjb4ao1YT/Zsv9fELZx0J/WXIyP0qjapc7t2rwX0or/PvUC3gXL8GzzUvrYcHD9lW8VKl3Xdy/6J5v7/nd5vkEDGIHRpcue2NvHOmSrNmyJkm04OCDWL7OndMX1AfEosyMwaRPvJIoeUmd2Y8kfCc3ph6S3d3BPpJItrxRZfXd29gCWh/qgsZrOYEIqOaieb2O/JpAu+LEYXLq6scmMsl2wvcJGHmnDz3by0aJkCNmzMpbZie2F3b1ap8O+fDSk9kQYD5KuHKOlVDnhEZ2Yv9drR4zL9boEpnI66kqgFQbmj+4Ggqi/PtpKg5OG7q4aEM8RZKUp9cvIqJ/qjOb/b6kqRb1KyjT10NF6lkYp+6zvHB6Fb5Ipj/x8jibM2vU+bnQjLqTRrue972rTUONbRR7VPE1tJZkygGWK+65ubsMc7uXJUnqu5qabFQJw/gwuXRY+Zoc2+pBf39sxlyWEu3cp9Hg4+yy2BwuR+rRnOZGMEucscLhE6YmQ5LyRtIVdzWl7ETd6cW1ou3Q1qMOCyUBEQ6lBGlVjISKsZrVTUGurMn6+yXHNN5ru/zp656XsZLIepdT9eULQDIGMod01dPR8V2dx3IfUHUh5YsyXPFS0ocWTUpsC74LOS3/kY45s5EN7MpPhsna1RZ13LaXOeNC3nMuDOW+o8q0aIh0KcVK9lWr1nlYy62AafMGH8QBX8xz1XZ3U450C+CE4A+maf95QSZfFArXlKDAJBzmEpcfe41R699dIIsaJOJlRW/FSu6UrBT4lR6siD41OBMVPIXmoxiLVKnjmQG7C7dJIGH1w9pMuvZuZNRQdrAe8KZika1YwD2y/oUTVhe7Iq9Gk0RA3JnugpvJ6uLTUvKrlwUx3E1J2MrxBDIUJbeWMt5XRRtO5q6CJ/V3NObuudusB+DEYXLqapzeRjP78p6iR5KEUyU97CruGx6ksXW6MUCJowHJWq5Sh3O0xC3yl5hKD4mOeilpvcs7SesLaTT5rUip3VpevIV0LHho9hU5YF3wQuiOv9be0+5tmuFINbde0CV0Pabfdd7VZDM5sBo0yFI+6NXSmp75NX4K9XS3GrqtNPWmFAPwYDC5dvdCQg6BGvRxxchQoMSKXbSrxOLUgXWb0I5qDDgwXpEujz+XN/e3K67S7iSaWpSJq1GhVo7fD5xIWFTsw1NBWx7j5ODQNJVJDflU6qFVtla5UcMIs/5Q8a834tCPvm5Iaz6M0ldfDVVrUqnQDlKSr5+qkdWc2g0Y9FLaditPmtmxnbSy6WiQzSuWcXVe79QD8GIwuXR4Iqg+uNaBECNDnPz3bmvbIWB748rSX0G8h2IxNLEgBSI2S0MBhDXmGTniqmAY+LZgjTmwmJq/5RrSlSevjzCtz1T7yaaWr9C5iqxX3JjSnZ8jjUAakRiovxtLBJl7nsaqHve+hog0VOZxgXdgiXfUcxWymep2qVB4E63g9huJhka6dg+kNXd27ZUG69HsuaflphdOptGy+QfQ+Nm9FW121hM9C11U1zlYIwA/B+NKl2IfUQbycqlWj3nW6le32wGu4qcOBfRPBiU8mmrtt7I5sbpTM+a7GptmX39TY4p/q+10tW728t+R+rdflOKjqbPoQpYq2+fBqtfmYA5+3YtbbTffgVCjyb0iREoW91xJ2I16HvXTNvsmZ8nc8FHxw9FIqmQpPBF+L8gsjX89RXwJLuzHC3sfqG4bmTF1/39XSUHndEeZHlOXNIKgqyVQLIC/CvqvX7yJnuOr+6xwJXVezsV4hAOfPeUiXoiEh4RaPemEy3C7ky7lRiOvZ3UhVOR23+C2hTjuWqyFueFwrH8h18PxOmCpjXM8cqNluzImcDiQ0J80QcoaccPwyE9bWbgYVjKRtj5sr32BNyflTKWWSzoSpJe5tK9JIoxD32grDNKsnLoza4mnBLyfEPSNMkyJJpTKWRZmknbg2wmSECeDcOR/pmpOlK65PkTqgnxriW3xf/BmQ0BzngZpeT7/afkxOcsybDRYA7ADpej00WvWPmE4F1Zv41Of7eFYV/B58zJc/cns1kC6AQzhn6RL0DOWkd13NcdBp8lwenk5PdU2c5LCfplcAJ8iZSxcAAJwfSBcAAAwG0gUAAIOBdAEAwGAgXQAAMBhIFwAADAbSBQAAg4F0AQDAYCBdAAAwGEgXAAAMBtIFAACDgXQBAMBgIF0AADAYSBcAAAwG0gUAAINRpAsAAGAUQrpMyU6Ok3UMAABeC6QLAAAGA+kCAIDBQLoAAGAwkC4AABgMpAsAAAYD6QIAgMFAugAAYDCQLgAAGIx9pevTr2/e/PopLo4I0gUAABP2k64/3r8Rfv309PQUlmOBdAEAwIR9pOvrh5/evv0J6QIAgJNgt3R9/e3t29+++oEh0gUAAK/OTun69P7N+0/psy6kCwAAXp0d0iWK9f6PP0WxkC4AADgRtkrX44e3P334l8kV0gUAACfCNun6+ttb/WJhzU9//xo3j8TzS9fH9cXFxer2MS4BAGA0tkmXIzstIe+6hLhxFF5KujYPcQkAAKOxW7qc8zkwRLoAAAZnX+kSjr/lEnY79mWzEi1yru7d9nirtvWVqpQZHzeXmlTNuq2lK9u3lAUAgNPiAOl6FXY45rp1dW+qenct6cvNY5Kfi3d3Zn/yy2vN9XBjWmXS5bq11kyfbySHfwA2KevtAADA6TC2dJnMrG4+h8D45eZLyI9pldxyiboWLdJM+cDQZc8kSvKopF3eZNlLZQEA4OQYW7rur1SGWulS1ckJM9+rWF3ePHSlq+FazxabsgAAcHKMLV0mM9Ndl1y28rN711WDdAEAnDhjS1eWH7sou6uJ/FSX8b2M6rMu3Wnlz8zazAAAcIoMLl1Cfe5n39cQ21x+7t55juk3DP1bG8rlxk8UkS4AgBNnfOky/KxPiOveV/ndkgnrfmUBAOB0OBPpAgCAHwekCwAABgPpAgCAwUC6AABgMJAuAAAYDKQLAAAGA+kCAIDBQLoAAGAwkC4AABgMpAsAAAYD6QIAgMFAugAAYDCQLgAAGAykCwAABuMspKv+ya7LzWNYp9xfXaw/RvrV0N9oXusvWu5EOrXcl32pRyZYbb7EzcKhbe3fi6OhPe11bc6zDKxjw7u6XazsWZbc1koeN5ezXu+aHf9FuoNmUHzwH2ItPOMwAhzO+NJlP9gvz7b/yJb+pGT3iZJs6YcoXxP19vpuPzckxKSfxPxWLKDffPaxKcTdIMLfzL7MIb04EqmncbmVZxhYQ+u5Wq8ub/oR/NmW3P21/5b3DHXg9nHahM7Oenl29MfEr9UvJWy7UOmy3yJX2UvP13MNI8A3MLp06Y/0y/NTPYTynM/fUnsvp6/EISFjMWbtyz4B/Rsi7AlKl7H/wK6fYdcolcjY3vXWm/CcS25BJLQXnVnYLV37anymla4b/z1xMX/v+gT4VgaXroXQPA1hdrgRz5s82Jfrtf6uv0cWfQl1LACpFqZIpLeqdBuJrOnNbZSWl199qlPas+gDH6SyFlb8ac/5yzZx6ps6Iy/IfrOgTTtVtU3BxB7SNTmPKj7nA6Jucy5dVXdiQCSDGTepd1J5rtMb0surdQzcxGFhj4G1JoIw5tYjHTeLw/sM7HQxeFXrtflfj5Kideqi0u5YWG+QgnnJCQsOr6+SpzbaUlXTx2ZhzPZ2YqzeOcogX0lb6cViOhSlg9aQjkMi5tFmJ6bUhEp9iD7mXoQzS8MI8OIMLl36LG15wQz0CcwPuT1+6cDkQZ49eYY1qbs1fbw1s0eij+vVZUl7nNK040HhnTTuZaOeBzXbq2gqIugxZq6nCvpW+OFGwke5m33TtoozhRBUydC01RYMSuQKpvHXJDlrm4cq81m9sui21FzuRR0lrSpzxrfCViSK21muhjwLspqzNhbmA2sbjtJ68jllMGNufb/x6Q2sBuLJYnBnvC9CZDRUZnwnpHncsUKz5BYdTt38fCNpnRrxM42G1l8OA5tpcooDgnawWk4xKWUoSrt2LOFDkZ2M6bbaQqUMWw+6x8rGbBHicjqMAMfgDKQrhc5lZg/5LNoqFrkkm4YPjVXyWK4/3l+nR7eKI0Zdtk63LlkRe7f1Jzzd1VjQqGmOsE13PFI0kV3zZLWOMNQaK5JjNXHL0Qy5YBqBhGZebM78rB3Og1Abq3Tui8dB9ySHQs3sVD7vGlgr7sam9d3jY+3qLMe1ULeVh6Ix1ogqNOOmrVQ0S85YdFhRjbEaskRNtCpnyDSNzpeTNiGJ0sdHEafURFOVlVKjO+yz47fy7GTjZL78slmfAEdhcOlajCwNTRypI2AT0XLg9qghGzJ57xZjpKet1E3X6VynGp3Vaipdttubu1T75oiljext7EhhKDc6Yef4aIZccB4ftzQ3czi3VRurdA5zHgdLKG872Phcp0sfdaZiZGVb7PWnnPuOj1gm0tXkSYuhdqBCW5nQRvBmyW112DKUkY+CcrdxT2top6a2JG8drVmbmDtpeapZ1i47ukS9hqxSQh7MbJzOlw5jO30AR2Fw6Zo8tIpZ8gcGRhNH9HFNgbUJH6UqyX99f7dOe6/rzU0bR4y6bJ1OEVCf9jiN6RwY1gEiF2l8MyxSzCNszrMcmp2mgz00wyxe1yw2Z8b6bm6rNlZpj3pZuvRuMjYd3DWwOaHYtkqN3daXx6czsHVbeSgaY0bvSrUFPfHzD5OC2ZJbdlhp5eTy5n761cEqQxA++MXicrKxramqsj76AenhB4ZVhtmjAfDyjC5d/qDa5wSGPkttkBLU2DzYObRVwVrtEUrsgVyt/ATGPvGSPPbYV9Shp06nwKFPuz/kejeFg9y6JeyzB/VB7npblW+Ke942nQ7B/G4OUrNeK/3IWyOBrGSwjsfuQf3Xj+uXmsvxt75rVdW9qNK58m5w9Etl18Bawo02dMUTN+41Pnorn7AFvcXQHUA1TkZbj+OKVnn9zZLb4rBQK5OmNVNcOs00OTKMpcXShA1vuFeGwprzx6SRrmrhRW02aD5llmGndE3XJ8AxGF+6/vzTP+UO7B1w+izJc5vPc/QpTYFV0cfb8Q+01WbPechVE2Iqanud1votcFglyuVGXqLjga9atxgRGSIWTH3T2NGGMCPXbI2qk7nRCUvOV0hUqpvQDaKTveo3F35aoLR7t5trb6vuxaS/zyJdphPe5uZjyjAtFRnE0hsfHdgy3YXZYqirTaj/U9nz2ay+rCEF85Lb6XAjXT6k9TKwvs83N2LM6hgOWBtXaz8wVGsZivxhbdWWDotxde+T4hnSINj3PFvpShWWt67O+gR4ec5Buhx56py4bpBnrASgeTa3CHFt1JeTW5mlPDktiRoLFiUqhdWoLZ62MNETJMNzCnFdNTphyR60EVCwWpW4NsKUjPN0pns3pycJwe6XS2eSIVJtDTWtEihxo1vPdw/s3CJYoWxvlpzgdzPZ6Akhp1WE2q2MKMf0W0KKaEwllgtNCHHda0vwW5klo//XCePWYQR4Uc5HunYwC9Cvg7gx2WQsIyGsF7CeHQ2y9ec0Q3JIGD3SwH7jkptvZWSf1O+adqQ6pTwyx1qfAB1+GOmyV9f8kdirYAdB8YnCbiQWH+0DcG0rn26Nh25ThNkhXh8b2ON09uAlpwI87YhXstC1x5vXeu045voEmPEDSZfw6m+I4sBBPhzT4WO29ezYuJ7iwH5DQ/Mi2ys5Wl/mvGLT8IPzY0kXAACcAUgXAAAMBtIFAACDgXQBAMBgIF0AADAYSBcAAAwG0gUAAIOBdAEAwGAgXQAAMBhIFwAADAbSBQAAg4F0AQDAYCBdAAAwGEgXAAAMBtIFAACDUaQLAABgFEK6TMlOjpN1DAAAXgukCwAABgPpAgCAwUC6AABgMJAuAAAYDKQLAAAGA+kCAIDBQLoAAGAwkC4AABiMXdL1x/s3hbcfHsN8NJAuAACYsEO6vv729s2vn54q4saxQLoAAGDCDun69Oubt799Pb5iZZAuAACYsF26vn746c3fPr2abglIFwAATNguXZ+aT7p++xrmI4J0AQDAhK3S9fjh7RvddSkPf5f0+z/iztFAugAAYMJW6TLyB12ffn3z5tdPnj4aSBcAAEzYLV0Z/crGh38d+Ssbzyhdj7eri4uL9ce43Mn9lWRfbb7EJQAAnAhbpUv/Udf72Gdp+u3fHwb+crxL1/X9vl1w6br5/JrfUgEAgDlbpUuo/kny+z/K4eHRQLoAAGDCLuky9GsaRlwfkZ3SZQITxGHgl41q1NW9XdyvJX25eczStbnR/yWj47ecfKJYpMsrrPIDAMArspd0vSI7HPuowiQbqaenh5tLS4rRlebdneVw6brJ0iV2FeH7a0muNg+SI+/Giv1WRSpJ153WcHEtxaxCAAB4Zc5BuhTbY5n4pE1SK10PT0+1RFWS9rgRzbMMlv9RJdCkrtrP6d7LSgEAwOszuHS50mT8TG+XdJndFEv3UrapqqQr2Z/qo0jfnwEAwCkwunQpuiH6HJ9g6VnfXtKV7Q+TXVe+dOm6vq+OIgEA4AQYW7pcjfyLFf4xlSlTPgxMJ4qVdNV22UuJ6jWSVtmnX9MILQQAgFdmbOkSHkxWHJccMYZK6SZso4JW77reqUG50k+95pWkD8OaL8ffvdM0/zwZAOAUGF66BJWaRJhaoxDW/exhSsZ5GgAAXpFzkC4AAPihQLoAAGAwkC4AABgMpAsAAAYD6QIAgMFAugAAYDCQLgAAGAykCwAABgPpAgCAwUC6AABgMJAuAAAYDKQLAAAGA+kCAIDBQLoAAGAwBpcu/xHICv2V5G9Bf53Sf7KyS/oBsPUBv5Wsv1p5SP4TQLt5ufm2EXwO7CeqhasXGjat/1tXSMXLzuwzOXkg+ut0LzXsx6EZt295YI/FNw3166yK12NHQBbOQLr01yAD+5n/7R1eQEcq/fb/nBhHbyRsO9EAd33nP3H5DHqwey6/H3PVfkX6VTBJkBE7YJAPw57/zUNcVRwWTZKfcfnMLDr5ougIjP074PW4xePsmCU4BYX+pqF+nVXxemwPyMqZSFdc/vl4840TvFO66lb2o5Eu/ZnmsH8ju+fy+3l96brUH7qOy+dnq3TtH02QrlNkIl39B/YUuol07cGPJl350oJgCsG6jvu/za8xyLhal5Eqh5BeSgfR8Q27rrwgqlVLepUreyyXrvvryLtdEtTh9VqPy6aN2k5LF26+XGwu1/DfdBzWV6kf5TVzUq2TK7cifT+LA1LUqxM3VldrbUMcmPhfxjBa18z5uEMzz7ahOlxOdwQE9WF9ZWarU/vuNHMdlA5mZ8zD+fNf6vGBmi6AGerq+iblqkayO7wTOiPZohlWm5uoqhqo+cKrx/lAN6Z5tPKIpz0POw1V2coCm9Cp6pmXTcHHTSa3dG1ywtZMdN20PS9prrV4Hrcy5ot9LJTM4ae5lHzQu6lTF+9u0sgsHGlOF2HuXWeUlOnjc8DamLk9xTzfzB0uBcvo9VbF3Ld6LupGc846IC9wBtLVIPNhRwSiGGmYbMX33uV1FmV0hAerxkYqFq5aVXWubfg9pbZcm3D3Lp52W4vxGmVaYnssnYZm1yV4ng42Z96EumMrXpN6BOodKT54c5IQq1VuvatrsINTz1MdosaDlIwxPrkG6ZDKbE+6NM+VV/2Q97W2cLWDiil07X+MYW5Ixy1qloLuhl1VpBFrRkBrdlftqcgjqZnjdDFNRLeDldGc7L66eg2SRbzTes15WxW+AFpsqGN4W/fmwzuhO5It1k17A/M8EQJ0ACcLT3NW4+yu7uNGJ09ewz0POw1NssnUe9U1R1o2gXUqxlPr9WrtslAm2iaxel7yG3CEBUmp/zHm5n8rhFPaCcrjlqc4j7CNQDSt/nSeuHkUylVN5sLnV/L7grH8WmFnysKfydrouD2l73BnQU5nXBzo+WZlpw+v54xWqoC8yBlIVxoXRYOvrzBd6DYNOTElDZ9dxFrP82FGPX604Sur2ZGWfB2UtRij78u9L12eoU/KrGntVDmPSv4XH7w586E8XbMaZo9iv9r8SCju6tIDai1qbXlgsxtN60Zld0+k4CQxI1fS+J89jITXrK3bQ2J5rLluB/tVTfG+aEp9mK2KCalT1nqqsz+8HZLPZSRbtMLJwGb5zC2at5ao5kvv7uNGMyaKFCwjYFhD2cNOQ7pUqkosf4dkf8llE6SJULS5zsSl1jVVN90MSC6rFZZKJP/yo6FohSW/daR2qTStiRwQZnOhaFVlEqUq1/VcVW+UyvTlpvdaGx23p2xxuLRlc+qrIr8t2d25b9Z0fgvRCm2FN71eePQqzkS64lJGMQdfGQhNyLDOVobhOZOixDK1oW+w5VI9Cdpi3FlFBCmLUijV6kzos9E2tEDKnNItWnnxwZvzibfK95OuXdUqkqf7fJay2mt/hGo3mtb9lnO5yp7oepWC4lt5OWjRSmzt5oSSn/+cqI0VxcmEdLCpKvkww/siiXay2sHJdOvstj6nZCsj2dJ2zR5sbau38CSzvF0FfvCyjxut/04egQUPZw35WAUlWjX0qvKGnnPZBPW4LUzctJtbnxdLtJR3iD6lv77haKYyN92MgLYiTd/lkhLTexGjVNUdJTFLrA/ipG7vtTF1e0rP4c6C9Ay+YTLyqpj4pn1p0QrbXmue7gxmzle6dLxWm4/bA2V+bNJ6FaMNX025KymZxdgRl61uXpRCmYBUf28hzqid0U5pZKmZ+pAWilW+n3T1qp28zVWjV2OPjZ8zTE5+Uq+7rSv1UYyN7f3tqrxwTdBKLKQ2/ueHtjy9QtO60x23flVTSm11R6oxb8h+KqnObutTIrPdLCPZ0jqZ2lIPZwvPcZtEh33daMYkSCNgrc/m2jFjaiihpnyI1NDv7PMvm6Aet4WJW5roZkByWa1QEhMszzYkTzpqbqYyN92MQNW01y80vgWpqqVRMpKxKJDl22ttSHrphFwdzhEsOaDGdkFKwrJHRyarQk3JNykr/liuQtvrxRnMnJl0aYebtSLkVTJF3wUis46aj1S1UdXK83FtGMss2l2vXCN+DLqusMiQZuJg6Zo9hPLQ1j5sb04LNcOSC3arjdpsvUZt3RgUS9MGyivRochjO229Gq7WEyGGd45W4pJQuapGr6H2P1qM10sdYXmv7HYwnFebOVZqqKj6UhaAjYz701INwoJ7ZXhbKmfqShosTz0jNvK9haetpCClObfMcss0j0cTq7O0WHnYaUjzp8/hdaCqyJWIqjRZdbYa6pjEGOFvXjbBtFPd/KX1umkfKC9rrnpZW1fxOGjB+gsFM9IiNKQSmywr5TVYL6zpunde7Sw4TKKQbF9S77qjFHk0u5UVo27j9lkbXbf9KtN12BLNgoxV2q6Knm8RrMrDG1/90F7PZ2GJM5Culurzj939z8Uv19d5f1rVKVNrtVVPQimykTfBNNM66MZqc5um36ZHn40oIlOlSyetp5acOcgVlh7ZAvJIZI+BXXWaE7TFWGqN871qBX0/MvT7ex3pipFUru7VjbxMuzEouSqsP2qLeQrMXnezRSvJUlFclREzV+sHT7FF78S75EIHs3G9XjgwjA76M1wWgI5hqqTC/Ky/YThrqF2HNdVITjZPCe/mTVSV41p34RVXu/1ddqPK44u8zGblYZ7rXkPVeVQZ/5ZeZ7932UiRvoRM43Iu3uAuSQ1t02Ut2Vfpctn8aHgfI2eKzhOqzGnllHFbb6RgGYGbNHoLQ1cNuC2wcjrSH6U81GlC918bHbdbzOHrVDA5nOtvIuF0VWj5uW/1gNeNljqrgLzA4NJlaL8rwiroQCwHykQUM8JUGePaLJFaaDEuEtlS35VZXJqPyFDhFiGuexVmJneFLelMmBaME+J2wi1+S8hGxy8FT7tR12vn9byhvqvljbhu7wp+1wlTr5QQJiNMLZNbfinE9Yy4bYTJCNMeBT3txgmewQmTEabExOiXTpgW6nciR1WPJwS3ZyZGvxTi2ghTS9yzu/7fOiHYzU6FnnbjfNnU6Zo98/itnHD8MhPW1m6G++vOC0cQ+Yww9YxxkXDjnLhdlcoJp2sU3CLEdWURwtTLJoSpwqTLBSuIG21BYW5csghxbYTJCJMRph7nIF1L7BMoj8z91cI/4/gh0PdiUe6TmhE4eWLZxNWr83HdPzg5X7J0xfVpcK7Spcu97Fjh1fGjgMXzK4AeLJsTwKUrLk6Gc5UuRV/vWfGnBDMC3wBr5tU5wSk4Z+kCAICzBOkCAIDBQLoAAGAwkC4AABiMs5Eu+weJnT8c8Hzol50W/lYbAAAckcGlq8hJ/W/pXwZrK/2JCgAAeDXOQbpMTpAuAIAfhaGlq/pTfvHnKdNvy8bfc1Tjjt/V1b+vlf7CRX0kmP/ulv1ep/77eZeuTfpTXgt/xwwAAF6aoaWr7IT8z1P639P0X1iwf/6t0uV/F1LRvzypKlVlcIlKf+ew7KtUFP3Pqpbf69S76W95tb8sAAAAx+RMpCsfGIqsiDn95ZKZMf9FmaxYXemyrVgY81+hLm1VRgAAODrnJl1u7klXI2NFnHrSpeeK5Ud0kC4AgNPih5Cu2riPdLHrAgA4ZX4g6apUSu1xeKg1hAjZlzi8tqJM/s0OpAsA4HQYXLpchPQbE3tIV9Ihxc4DfQemmY3V7SZ+f1pQnQtjqBTSBQBwGowuXYppkKqI/9fJ6droaG4jriuLE9aw3xU9a2ur0wAAcDTOQbqeH91gxT/2so0aP1kJAHBCIF198imi/XtnNlgAACcE0rWIHhYmwgQAACcA0gUAAIOBdAEAwGAgXQAAMBhIFwAADAbSBQAAg4F0AQDAYCBdAAAwGEgXAAAMBtIFAACDgXQBAMBgIF0AADAYSBcAAAwG0gUAAIOBdAEAwGAgXQAAMBhFugAAAEYhpMuU7OQ4WccAAOC1QLoAAGAwkC4AABgMpAsAAAYD6QIAgMFAugAAYDCQLgAAGAykCwAABgPpAgCAwdgpXV8//PTGefvb17AdEaQLAAAm7JCuT7++efPTh389CZ/+9ubN+z/CfjSQLgAAmLBduj69f/P27w8qXH6dE0cD6QIAgAlbpeuP97LR+nR0uapBugAAYMIu6frpw6cPb/msCwAATodd0iWK5R91PfxdFIzPugAA4NXZKV3lwFC/svHrJ08fDaQLAAAmbJWuxw9vW+nyHZhfHodnkK6P64uLi9XtY1xu58tmJbmv7uMSAABOj63SZf+oS+RKkypj+m1Dsx+PZ5OuzUNcbsel691dXAIAwOmxXbqEr39P/yT5/R9jfjn+IOkyjt9NAADYn53SpejXNIy4PiI7pCvO9zabS/mfKdQXv/FYLLdZuu41dbnZXNkdMd7ep2wX649WrjowvNdsUVzhFBEA4DTYS7pekb2k6+L6TnT1800+63u81eT1vVgfbkycinRdrG4+i/3uWtOex9PXKk3VgaFJlxbUHO8sGboIAACvyVlI1ztVLtEaVaDLm8fYcqmeaZ5yYOjS5fY6T5WeSpfqnKSzFmqFAADwqpyJdNmFnweKdEVCtktqnkhX2JEuAIBROUPpenh62LbrQroAAAbnLKXrqVIalyWkCwDgfDhP6ZIL+2KFMP+GIdIFADA2g0uXYd/RCCbpmmz0hDCx1+mc6KYBAOAVOQfpAgCAHwqkCwAABgPpAgCAwUC6AABgMJAuAAAYDKQLAAAGA+kCAIDBQLoAAGAwkC4AABgMpAsAAAYD6QIAgMFAugAAYDCQLgAAGAykCwAABuMMpMt+hStYbb6E9bvQH1Ze31vSf6nr4uL//n8uL1a3j2Z7bqrmOmy/+0LkRo/Tuv5M2jPN3Xa0O8LLtHW0XgD88IwuXapboij+Y1pPn2+eJ3ZYvLZfodT6r++l6ocbkS79vcoXQJvzH73ssf3uC5FH4DitW9D3X/V8SfQ3RfNqCdszUnqhy2b9Mcz7gvIB7M3g0jULefdXzyYwFt0kBpX6XyTeGRZLFyvffvdFKOJ9vNZfvhWVrhf8qetWug5u6Ej6DXAODC5dvutqtcoioL9fb+SucrnJJ332s/3GVTkGS6eCKacF7nur3Fnd/nd/YbfsxV7erLWIM39xnjmjQSql5X40F4l18jCaS3fV86uNVGXU7vmBXmwpNBmZ1byrVEMenPWVNpp2Xfu0ruTiaWzNpat1GtyUM3dfTD6AFrVj3MrdZOkOS91cNb8Vk2lSZ4Jq6t1u/Q37dDEI2x22htRuxpvPD7khz1z8TEVsMNfJPTdmb3O1Ce1+EH3XhmJA1h+n/k+bs8ypw5bZuwAwMqNLV/NgV8+kxyl9h/WzvhKVLjcPuouwA8BKGyRMC3fvLi7e3WWLxIHrdGAoFZpGas1SUHOX80mJO97W05OUuLxpI6k7o8du0oJU6BmsuPmszdmhnPVFWol6vPJ010JS1SPxS3VaKyyOJRXXzNKRCGRbSlWUcYicyaV9Wu+Obd1xK6UuqVF6rTYdAa0nBf3Yr/jdB7H53aVhieZ01qZ9qacpF/nzUR2zQp7JMCcvb7yqahDSYtjhsKA+6x6r6oU0acvGKqz8nE2KGX3BpOKCVeu0S6u0ngbEVmbj/7Q59T+2gFrQFzbA2IwvXbbNigdViSClz/M7DUGaQ+ORPPPVM+xGCxkaR640zLhZEyl+lahkZTU+tg+/lLWgqdk8Kgm5qkSUNXuqR4kA5+5pnTkh5DiYjOpn6lGVzhXWNUeGNme3VEHv5nGYubSrHk3MxjbutqUi1GZ117tNZ/Pw1uOTjE3O0mK4ncnZlMbJSa+zMTvpgqd3tJJYNosOKx3pCkvCKrR6ZpNikq/C09bZUHL6pPR6Fz4bk+a0YE5USx1gXM5BujLyTKZ32Hie44bFoLunO412DRGYpuGsxMqZdFnEbAjF0jgbNOdRQt1EnU6Va52NTujNHJ6ScR/xyB3xDG3ObqlMWDyntW4jsG/rJt4NZWznpWzfZvihXOpsieNKPT4z6RLUHlQbbqMuUpyc91qojZpu8bYWHbZSyc9izMvGczqr1bdIV3FpdblNuizdb86Mul2TdsMrgMEZW7r8LTIuDA8ELl3x3AoRyPR9Xx7dCR5HIqdTAl+OQSlAaBTQWzVRyrSzHAMW6uBSp+vQ/LLSNTFOMjt1/WUEDml9Nrb5lFVp6vexyueNs85all3SZVgzGtObddBk6w9RojGKk5I23wp+y5Izh5Vt0qW9to2OFq4PDNOk7JCu1HfFdqE6Dv3eKd3mPM/1vby6pWEEGJyxpcue4fSRlaIhwx5jfVZTOLO0Bc0kbJZVHvLyLYkIfJZh81hiZY5BOUDUkcKak9YtlNhBpRqvpwGoLjItnkKzhaScEHJ4SkaPd9ILLVnSpULrkfdOa/aw5TnV1qRrNxLaUHiuOQ+TrvzSoGgGHdumlVRK975J2jXDJOjHIaFXWHxIMTfljJlSk3le9mpO1XTpV6/XE6P1tyyG9IWUqcM+9aX+aS+sFvXHhiIrU4y/D4WW9VZ2SFdx3ueizdn4321OsL6kWwDjM7h0KdVJnYWYElLfXdvzqmE0P7HpIzGhvIHGg62o0V5v/W6OQXWAqFpsPhwKyoclQV22qScqt3CpzeWEkMNTMqbQr3erdFWhRytlvZEezaJkla7dKORxsK8FNi7tbr0zts3dUqr4mQawjsXlrlr0rvowlS5JVs2lnA1lmppVMe311FgthlTt3OE6m33xspUu66ythFL2cnMvRUw8qomwekJR1BNhsmVPZ5WrzcdUf9WQlyr+95rLdsk2GyWAITkD6VI0wCTMEM9zmNrHNUxGmHrGLQlB8xlx3auhpjbO01qmTTgTY07M054Q3O5kiyeEpXSNlkzkyzoxT3tCcLuTLZ4QJnbHL4VJ2onr2d2cyLhlQtxbqCczMVqJIEwLVdVkY05M0hm3+C0hGyfpjBsz2egJoU4LlqtgNnlPymoHMDxnIl0zuu/XAD8qsnOtzh4ARgfpAjhz7PRSP4tNOzCA4TlX6VJ4UAEcOzjkcYDz4ZylCwAAzhKkCwAABgPpAgCAwUC6AABgMJAuAAAYDKQLAAAGA+kCAIDBQLoAAGAwkC4AABgMpAsAAAYD6QIAgMFAugAAYDCQLgAAGAykCwAABgPpAgCAwSjSBQAAMAp//vnn/w/91CXpwhBUpgAAAABJRU5ErkJggg==)"
      ]
    },
    {
      "cell_type": "code",
      "metadata": {
        "colab": {
          "base_uri": "https://localhost:8080/"
        },
        "id": "GtMgCnq8lsd5",
        "outputId": "8fcc8256-90ac-4766-ebe7-172f2f462d8a"
      },
      "source": [
        "import numpy as np \r\n",
        "A = np.array([[1, 2, 3], [3, 4, 5]]) #Array of integers\r\n",
        "print(A) "
      ],
      "execution_count": null,
      "outputs": [
        {
          "output_type": "stream",
          "text": [
            "[[1 2 3]\n",
            " [3 4 5]]\n"
          ],
          "name": "stdout"
        }
      ]
    },
    {
      "cell_type": "code",
      "metadata": {
        "colab": {
          "base_uri": "https://localhost:8080/"
        },
        "id": "HITVClEjl-0F",
        "outputId": "79de7c99-3132-4742-fc40-a8b924812fcb"
      },
      "source": [
        "A = np.array([[1.1, 2, 3], [3, 4, 5]]) # Array of floats \r\n",
        "print(A) "
      ],
      "execution_count": null,
      "outputs": [
        {
          "output_type": "stream",
          "text": [
            "[[1.1 2.  3. ]\n",
            " [3.  4.  5. ]]\n"
          ],
          "name": "stdout"
        }
      ]
    },
    {
      "cell_type": "code",
      "metadata": {
        "colab": {
          "base_uri": "https://localhost:8080/"
        },
        "id": "NoMdrqCEmDm-",
        "outputId": "17baa1e2-5b70-4393-f370-6ef58622d4d2"
      },
      "source": [
        "A = np.array([[1, 2, 3], [3, 4, 5]], dtype = complex) # Array of complex numbers \r\n",
        "print(A)"
      ],
      "execution_count": null,
      "outputs": [
        {
          "output_type": "stream",
          "text": [
            "[[1.+0.j 2.+0.j 3.+0.j]\n",
            " [3.+0.j 4.+0.j 5.+0.j]]\n"
          ],
          "name": "stdout"
        }
      ]
    },
    {
      "cell_type": "markdown",
      "metadata": {
        "id": "Mdd9vmq3Mwqn"
      },
      "source": [
        "**Access Array Elements**\r\n",
        "\r\n",
        "Array indexing is the same as accessing an array element.\r\n",
        "\r\n",
        "You can access an array element by referring to its index number.\r\n",
        "\r\n",
        "The indexes in NumPy arrays start with 0, meaning that the first element has index 0, and the second has index 1 etc."
      ]
    },
    {
      "cell_type": "code",
      "metadata": {
        "colab": {
          "base_uri": "https://localhost:8080/"
        },
        "id": "6U8b8TM7NfO6",
        "outputId": "9b4756d9-1bd7-41e5-8e81-971965035f24"
      },
      "source": [
        "import numpy as np\r\n",
        "arr = np.array([1, 2, 3, 4])\r\n",
        "print(arr[0])"
      ],
      "execution_count": null,
      "outputs": [
        {
          "output_type": "stream",
          "text": [
            "1\n"
          ],
          "name": "stdout"
        }
      ]
    },
    {
      "cell_type": "markdown",
      "metadata": {
        "id": "IRALWToiOFFZ"
      },
      "source": [
        "**Access 2-D Arrays**\r\n",
        "\r\n",
        "To access elements from 2-D arrays we can use comma separated **integers representing the dimension and the index of the element**."
      ]
    },
    {
      "cell_type": "code",
      "metadata": {
        "colab": {
          "base_uri": "https://localhost:8080/"
        },
        "id": "2Qp5P7HKOQST",
        "outputId": "e734ca62-4054-45b2-89fe-95333ba0b8bb"
      },
      "source": [
        "import numpy as np\r\n",
        "arr = np.array([[1,2,3,4,5], [6,7,8,9,10]])\r\n",
        "print('2nd element on 1st dim: ', arr[0, 1])"
      ],
      "execution_count": null,
      "outputs": [
        {
          "output_type": "stream",
          "text": [
            "2nd element on 1st dim:  2\n"
          ],
          "name": "stdout"
        }
      ]
    },
    {
      "cell_type": "code",
      "metadata": {
        "colab": {
          "base_uri": "https://localhost:8080/"
        },
        "id": "_yDN2L1_O1rg",
        "outputId": "f3c0d508-b16b-47b8-9884-2c6d807469e0"
      },
      "source": [
        "import numpy as np\r\n",
        "arr = np.array([[1,2,3,4,5], [6,7,8,9,10]])\r\n",
        "print('5th element on 2nd dim: ', arr[1, 4])"
      ],
      "execution_count": null,
      "outputs": [
        {
          "output_type": "stream",
          "text": [
            "5th element on 2nd dim:  10\n"
          ],
          "name": "stdout"
        }
      ]
    },
    {
      "cell_type": "markdown",
      "metadata": {
        "id": "souxIwpWOph7"
      },
      "source": [
        "**Access 3-D Arrays**\r\n",
        "\r\n",
        "\r\n",
        "To access elements from 3-D arrays we can use comma separated integers representing the dimensions and the index of the element."
      ]
    },
    {
      "cell_type": "code",
      "metadata": {
        "colab": {
          "base_uri": "https://localhost:8080/"
        },
        "id": "ccd6ffP3PcV0",
        "outputId": "5b3fa6ce-7d77-4d7f-a06c-4f1c76deac88"
      },
      "source": [
        "import numpy as np\r\n",
        "arr = np.array([[[1, 2, 3], [4, 5, 6]], [[7, 8, 9], [10, 11, 12]]])\r\n",
        "print(arr[0, 1, 2])"
      ],
      "execution_count": null,
      "outputs": [
        {
          "output_type": "stream",
          "text": [
            "6\n"
          ],
          "name": "stdout"
        }
      ]
    },
    {
      "cell_type": "markdown",
      "metadata": {
        "id": "Na9iGACzPv75"
      },
      "source": [
        "**Negative Indexing**\r\n",
        "\r\n",
        "Use negative indexing to access an array from the end."
      ]
    },
    {
      "cell_type": "code",
      "metadata": {
        "colab": {
          "base_uri": "https://localhost:8080/"
        },
        "id": "r0TLreY-PzQH",
        "outputId": "52edc742-1c94-4924-fa98-25e9f0a5dc88"
      },
      "source": [
        "import numpy as np\r\n",
        "arr = np.array([[1,2,3,4,5], [6,7,8,9,10]])\r\n",
        "print('Last element from 2nd dim: ', arr[1, -1])"
      ],
      "execution_count": null,
      "outputs": [
        {
          "output_type": "stream",
          "text": [
            "Last element from 2nd dim:  10\n"
          ],
          "name": "stdout"
        }
      ]
    },
    {
      "cell_type": "markdown",
      "metadata": {
        "id": "2tpjiwN0mNKI"
      },
      "source": [
        "**Data Type Objects (dtype)**\r\n",
        "\r\n",
        "The data type or dtype is a special object containing the information the ndarray needs to interpret a chunk of memory as a particular type of data:\r\n",
        "\r\n",
        "A dtype object is constructed using the following syntax −\r\n",
        "\r\n",
        "    numpy.dtype(object, align, copy)\r\n",
        "\r\n",
        "The parameters are −\r\n",
        "\r\n",
        "\r\n",
        "    Object − To be converted to data type object\r\n",
        "\r\n",
        "    Align − If true, adds padding to the field to make it similar to C-struct\r\n",
        "\r\n",
        "    Copy − Makes a new copy of dtype object. If false, the result is reference to builtin data type object"
      ]
    },
    {
      "cell_type": "code",
      "metadata": {
        "colab": {
          "base_uri": "https://localhost:8080/"
        },
        "id": "jZEpqnJ-mQM2",
        "outputId": "07ecc4a2-3929-45fb-9b84-d33d855653c7"
      },
      "source": [
        "print(type(A))  # prints the class type"
      ],
      "execution_count": null,
      "outputs": [
        {
          "output_type": "stream",
          "text": [
            "<class 'numpy.ndarray'>\n"
          ],
          "name": "stdout"
        }
      ]
    },
    {
      "cell_type": "code",
      "metadata": {
        "colab": {
          "base_uri": "https://localhost:8080/"
        },
        "id": "1aDdzsJ8mSpB",
        "outputId": "953ea453-93d5-486d-e1cd-c0a22a4121fb"
      },
      "source": [
        "print(A.dtype) # print the data type"
      ],
      "execution_count": null,
      "outputs": [
        {
          "output_type": "stream",
          "text": [
            "complex128\n"
          ],
          "name": "stdout"
        }
      ]
    },
    {
      "cell_type": "code",
      "metadata": {
        "colab": {
          "base_uri": "https://localhost:8080/"
        },
        "id": "vC2fnytBmWUZ",
        "outputId": "4271f730-ef2d-4a18-9d08-65b956244f94"
      },
      "source": [
        "print(A.ndim) # print the number of dimensions"
      ],
      "execution_count": null,
      "outputs": [
        {
          "output_type": "stream",
          "text": [
            "2\n"
          ],
          "name": "stdout"
        }
      ]
    },
    {
      "cell_type": "code",
      "metadata": {
        "colab": {
          "base_uri": "https://localhost:8080/"
        },
        "id": "AVKQp3L_mivN",
        "outputId": "31b58dad-0f57-4bf6-bb76-7e812eb4fb2c"
      },
      "source": [
        "print(A.size) # print the size...size zero means array empty"
      ],
      "execution_count": null,
      "outputs": [
        {
          "output_type": "stream",
          "text": [
            "6\n"
          ],
          "name": "stdout"
        }
      ]
    },
    {
      "cell_type": "code",
      "metadata": {
        "colab": {
          "base_uri": "https://localhost:8080/"
        },
        "id": "K3HDCCPvmkMj",
        "outputId": "05fb7f7f-d26b-4a96-dfd7-b06da8933a1d"
      },
      "source": [
        "print(A.shape) # shape of the array as tuple"
      ],
      "execution_count": null,
      "outputs": [
        {
          "output_type": "stream",
          "text": [
            "(2, 3)\n"
          ],
          "name": "stdout"
        }
      ]
    },
    {
      "cell_type": "markdown",
      "metadata": {
        "id": "0TC6d5nmv1UO"
      },
      "source": [
        "You can explicitly convert or cast an array from one dtype to another using ndarray’s astype method:"
      ]
    },
    {
      "cell_type": "code",
      "metadata": {
        "colab": {
          "base_uri": "https://localhost:8080/"
        },
        "id": "TowmN0mtv4yA",
        "outputId": "978b4ed0-086a-47e0-d8fc-997bf2228294"
      },
      "source": [
        "A=np.arange(10)\r\n",
        "print(A)"
      ],
      "execution_count": null,
      "outputs": [
        {
          "output_type": "stream",
          "text": [
            "[0 1 2 3 4 5 6 7 8 9]\n"
          ],
          "name": "stdout"
        }
      ]
    },
    {
      "cell_type": "code",
      "metadata": {
        "colab": {
          "base_uri": "https://localhost:8080/"
        },
        "id": "06xt3A9xwBUr",
        "outputId": "895012da-3ab2-4a2e-c620-d60fb94e6ce8"
      },
      "source": [
        "print(A.astype(np.float))"
      ],
      "execution_count": null,
      "outputs": [
        {
          "output_type": "stream",
          "text": [
            "[0. 1. 2. 3. 4. 5. 6. 7. 8. 9.]\n"
          ],
          "name": "stdout"
        }
      ]
    },
    {
      "cell_type": "markdown",
      "metadata": {
        "id": "l-73MCrAytzk"
      },
      "source": [
        "**Arrays of zeros and ones**"
      ]
    },
    {
      "cell_type": "code",
      "metadata": {
        "colab": {
          "base_uri": "https://localhost:8080/"
        },
        "id": "ox4XuwmwyvYV",
        "outputId": "7a31d81e-f48d-41e6-b63f-8b39c299c3b2"
      },
      "source": [
        "import numpy as np \r\n",
        "za = np.zeros( (2, 3) ) \r\n",
        "print(za) "
      ],
      "execution_count": null,
      "outputs": [
        {
          "output_type": "stream",
          "text": [
            "[[0. 0. 0.]\n",
            " [0. 0. 0.]]\n"
          ],
          "name": "stdout"
        }
      ]
    },
    {
      "cell_type": "code",
      "metadata": {
        "colab": {
          "base_uri": "https://localhost:8080/"
        },
        "id": "RJGs4P1Zy0C4",
        "outputId": "0aa137b4-a552-419d-a831-bfdf6332b65f"
      },
      "source": [
        "oa= np.ones( (2,3), dtype=np.int32 ) \r\n",
        "print(oa)"
      ],
      "execution_count": null,
      "outputs": [
        {
          "output_type": "stream",
          "text": [
            "[[1 1 1]\n",
            " [1 1 1]]\n"
          ],
          "name": "stdout"
        }
      ]
    },
    {
      "cell_type": "markdown",
      "metadata": {
        "id": "5CQYnGj4zMml"
      },
      "source": [
        "**Identity matrix**"
      ]
    },
    {
      "cell_type": "code",
      "metadata": {
        "colab": {
          "base_uri": "https://localhost:8080/"
        },
        "id": "bMk5qWhKy_On",
        "outputId": "a45ed676-7424-4829-c179-a670b056b153"
      },
      "source": [
        "import numpy as np\r\n",
        "print(np.eye(4,4))"
      ],
      "execution_count": null,
      "outputs": [
        {
          "output_type": "stream",
          "text": [
            "[[1. 0. 0. 0.]\n",
            " [0. 1. 0. 0.]\n",
            " [0. 0. 1. 0.]\n",
            " [0. 0. 0. 1.]]\n"
          ],
          "name": "stdout"
        }
      ]
    },
    {
      "cell_type": "markdown",
      "metadata": {
        "id": "H5f1v9FKzn1z"
      },
      "source": [
        "**Constant array**"
      ]
    },
    {
      "cell_type": "code",
      "metadata": {
        "colab": {
          "base_uri": "https://localhost:8080/"
        },
        "id": "Jmtj2n52zpf5",
        "outputId": "05d80f12-f3a5-4d0e-ec31-57d3bc8836ae"
      },
      "source": [
        "import numpy as np\r\n",
        "print(np.full((4,4),5))"
      ],
      "execution_count": null,
      "outputs": [
        {
          "output_type": "stream",
          "text": [
            "[[5 5 5 5]\n",
            " [5 5 5 5]\n",
            " [5 5 5 5]\n",
            " [5 5 5 5]]\n"
          ],
          "name": "stdout"
        }
      ]
    },
    {
      "cell_type": "markdown",
      "metadata": {
        "id": "Q2D_KaM8zxCk"
      },
      "source": [
        "# **An uninitialized array**"
      ]
    },
    {
      "cell_type": "code",
      "metadata": {
        "colab": {
          "base_uri": "https://localhost:8080/"
        },
        "id": "cdopZY531gMb",
        "outputId": "ecbed20c-0e17-472c-ded9-78622632e68f"
      },
      "source": [
        "import numpy as np\r\n",
        "print(np.empty((4,2)))"
      ],
      "execution_count": null,
      "outputs": [
        {
          "output_type": "stream",
          "text": [
            "[[2.06930819e-316 1.58101007e-322]\n",
            " [1.03321514e-047 2.19217547e-076]\n",
            " [1.10543354e+165 5.54019275e+174]\n",
            " [4.85800426e-033 0.00000000e+000]]\n"
          ],
          "name": "stdout"
        }
      ]
    },
    {
      "cell_type": "markdown",
      "metadata": {
        "id": "KEO6arQU2tl4"
      },
      "source": [
        "**Nine numbers from 0-2**"
      ]
    },
    {
      "cell_type": "code",
      "metadata": {
        "colab": {
          "base_uri": "https://localhost:8080/"
        },
        "id": "u3lnJ7rP2zPa",
        "outputId": "481b89f9-599d-464b-ee48-6e74b029da19"
      },
      "source": [
        "import numpy as np\r\n",
        "print(np.linspace(0,2,9))"
      ],
      "execution_count": null,
      "outputs": [
        {
          "output_type": "stream",
          "text": [
            "[0.   0.25 0.5  0.75 1.   1.25 1.5  1.75 2.  ]\n"
          ],
          "name": "stdout"
        }
      ]
    },
    {
      "cell_type": "markdown",
      "metadata": {
        "id": "knDp22ob3A81"
      },
      "source": [
        "**Using arange() and reshape()**"
      ]
    },
    {
      "cell_type": "markdown",
      "metadata": {
        "id": "Iq_WaunE4HZE"
      },
      "source": [
        "**arange([start,] stop[, step,][, dtype])** : Returns an array with evenly spaced elements as per the interval. The interval mentioned is half opened i.e. [Start, Stop)\r\n",
        "\r\n",
        "***Parameters :***\r\n",
        "\r\n",
        "start : [optional] start of interval range. By default start = 0\r\n",
        "\r\n",
        "stop  : end of interval range\r\n",
        "\r\n",
        "step  : [optional] step size of interval. By default step size = 1, \r\n",
        "\r\n",
        "For any output out, this is the distance between two adjacent values, out[i+1] - out[i]. \r\n",
        "\r\n",
        "dtype : type of output array\r\n",
        "\r\n",
        "***Return:***\r\n",
        "\r\n",
        "Array of evenly spaced values.\r\n",
        "\r\n",
        "Length of array being generated  = Ceil((Stop - Start) / Step)"
      ]
    },
    {
      "cell_type": "code",
      "metadata": {
        "colab": {
          "base_uri": "https://localhost:8080/"
        },
        "id": "Ngjeo0Gq3CnE",
        "outputId": "300066e1-3958-44d4-9a07-14ab927272dc"
      },
      "source": [
        "import numpy as np\r\n",
        "A = np.arange(4)\r\n",
        "print('A =', A)"
      ],
      "execution_count": null,
      "outputs": [
        {
          "output_type": "stream",
          "text": [
            "A = [0 1 2 3]\n"
          ],
          "name": "stdout"
        }
      ]
    },
    {
      "cell_type": "code",
      "metadata": {
        "colab": {
          "base_uri": "https://localhost:8080/"
        },
        "id": "1p8LFqPS3VGF",
        "outputId": "7e65b9a0-c9e0-42d0-f8df-14096a6889f3"
      },
      "source": [
        "import numpy as np \r\n",
        "print(np.arange(2, 10, dtype=float))"
      ],
      "execution_count": null,
      "outputs": [
        {
          "output_type": "stream",
          "text": [
            "[2. 3. 4. 5. 6. 7. 8. 9.]\n"
          ],
          "name": "stdout"
        }
      ]
    },
    {
      "cell_type": "code",
      "metadata": {
        "colab": {
          "base_uri": "https://localhost:8080/"
        },
        "id": "-eGBkMi7dC6S",
        "outputId": "a43d8a9a-6814-4bcd-b3f4-a3dcc4851c23"
      },
      "source": [
        "import numpy as np\r\n",
        "print(np.arange(2, 3, 0.1) )"
      ],
      "execution_count": null,
      "outputs": [
        {
          "output_type": "stream",
          "text": [
            "[2.  2.1 2.2 2.3 2.4 2.5 2.6 2.7 2.8 2.9]\n"
          ],
          "name": "stdout"
        }
      ]
    },
    {
      "cell_type": "markdown",
      "metadata": {
        "id": "MaGvRJkZbCSj"
      },
      "source": [
        "**ndarray.shape**\r\n",
        "\r\n",
        "This array attribute returns a tuple consisting of array dimensions. It can also be used to resize the array."
      ]
    },
    {
      "cell_type": "code",
      "metadata": {
        "colab": {
          "base_uri": "https://localhost:8080/"
        },
        "id": "7MY4mveBb_vS",
        "outputId": "077b6e35-5596-433e-c670-bf83e6ad603c"
      },
      "source": [
        "import numpy as np \r\n",
        "a = np.array([[1,2,3],[4,5,6]]) \r\n",
        "print(a.shape)"
      ],
      "execution_count": null,
      "outputs": [
        {
          "output_type": "stream",
          "text": [
            "(2, 3)\n"
          ],
          "name": "stdout"
        }
      ]
    },
    {
      "cell_type": "code",
      "metadata": {
        "colab": {
          "base_uri": "https://localhost:8080/"
        },
        "id": "3L2WZywBcPX4",
        "outputId": "201c6176-f1e0-4721-c4e4-b2f1176e572a"
      },
      "source": [
        "# this resizes the ndarray \r\n",
        "import numpy as np \r\n",
        "\r\n",
        "a = np.array([[1,2,3],[4,5,6]]) \r\n",
        "a.shape = (3,2) \r\n",
        "print(a)"
      ],
      "execution_count": null,
      "outputs": [
        {
          "output_type": "stream",
          "text": [
            "[[1 2]\n",
            " [3 4]\n",
            " [5 6]]\n"
          ],
          "name": "stdout"
        }
      ]
    },
    {
      "cell_type": "markdown",
      "metadata": {
        "id": "ow5oYdcE4_Dn"
      },
      "source": [
        "**numpy.reshape()** \r\n",
        "\r\n",
        "function shapes an array without changing data of array.\r\n",
        "\r\n",
        "**Syntax: numpy.reshape(array, shape, order = 'C')**"
      ]
    },
    {
      "cell_type": "markdown",
      "metadata": {
        "id": "kdcMbVT25Hmr"
      },
      "source": [
        "***Parameters :***\r\n",
        "\r\n",
        "array : [array_like]Input array\r\n",
        "\r\n",
        "shape : [int or tuples of int]  \r\n",
        "order  : [C-contiguous, F-contiguous, A-contiguous; optional]         \r\n",
        "\r\n",
        "         C-contiguous order in memory(last index varies the fastest)\r\n",
        "         C order means that operating row-rise on the array will be slightly quicker\r\n",
        "         FORTRAN-contiguous order in memory (first index varies the fastest).\r\n",
        "         F order means that column-wise operations will be faster. \r\n",
        "         ‘A’ means to read / write the elements in Fortran-like index order if,\r\n",
        "         array is Fortran contiguous in memory, C-like order otherwise\r\n",
        "\r\n",
        "***Return :***\r\n",
        "\r\n",
        "Array which is reshaped without changing the data."
      ]
    },
    {
      "cell_type": "code",
      "metadata": {
        "colab": {
          "base_uri": "https://localhost:8080/"
        },
        "id": "ePkM98zB3QkW",
        "outputId": "51d27e7d-5ca7-4461-f8e3-c7bd68ea41f8"
      },
      "source": [
        "import numpy as np \r\n",
        "B = np.arange(12).reshape(2, 6)\r\n",
        "print('B =', B)"
      ],
      "execution_count": null,
      "outputs": [
        {
          "output_type": "stream",
          "text": [
            "B = [[ 0  1  2  3  4  5]\n",
            " [ 6  7  8  9 10 11]]\n"
          ],
          "name": "stdout"
        }
      ]
    },
    {
      "cell_type": "code",
      "metadata": {
        "colab": {
          "base_uri": "https://localhost:8080/"
        },
        "id": "j0bkI61ndg3f",
        "outputId": "a1061ddd-e0f6-43cb-b76f-bc65ac7491da"
      },
      "source": [
        "import numpy as np \r\n",
        "A=np.random.random((2,3))\r\n",
        "print(A)"
      ],
      "execution_count": null,
      "outputs": [
        {
          "output_type": "stream",
          "text": [
            "[[0.65292392 0.77918074 0.84975557]\n",
            " [0.29448282 0.82802894 0.40924653]]\n"
          ],
          "name": "stdout"
        }
      ]
    },
    {
      "cell_type": "markdown",
      "metadata": {
        "id": "eGouerkyeXXD"
      },
      "source": [
        "# Adding and removing elements"
      ]
    },
    {
      "cell_type": "markdown",
      "metadata": {
        "id": "xGbcNEDwes3y"
      },
      "source": [
        "**Adding elements to an array**"
      ]
    },
    {
      "cell_type": "code",
      "metadata": {
        "colab": {
          "base_uri": "https://localhost:8080/"
        },
        "id": "2vEG4-dheytk",
        "outputId": "c8a0b42a-b7a1-409d-b920-c3e711a6529d"
      },
      "source": [
        "import numpy as np\r\n",
        "A=np.array([10,20,30])\r\n",
        "print(A)"
      ],
      "execution_count": null,
      "outputs": [
        {
          "output_type": "stream",
          "text": [
            "[10 20 30]\n"
          ],
          "name": "stdout"
        }
      ]
    },
    {
      "cell_type": "markdown",
      "metadata": {
        "id": "kanPlEvZhLsh"
      },
      "source": [
        "**append**"
      ]
    },
    {
      "cell_type": "code",
      "metadata": {
        "colab": {
          "base_uri": "https://localhost:8080/"
        },
        "id": "9MdJM-gXhBWh",
        "outputId": "34128b86-97d2-4230-b43e-5d9e38f9565a"
      },
      "source": [
        "A=np.append(A,[40,50])\r\n",
        "print(A)"
      ],
      "execution_count": null,
      "outputs": [
        {
          "output_type": "stream",
          "text": [
            "[10 20 30 40 50]\n"
          ],
          "name": "stdout"
        }
      ]
    },
    {
      "cell_type": "markdown",
      "metadata": {
        "id": "9nP9Fp9ghREx"
      },
      "source": [
        "**insert**"
      ]
    },
    {
      "cell_type": "code",
      "metadata": {
        "colab": {
          "base_uri": "https://localhost:8080/"
        },
        "id": "DQNCmuYZhFU1",
        "outputId": "43044bdb-e6cc-498b-8e11-4c204fca28bc"
      },
      "source": [
        "A=np.insert(A,0,100)\r\n",
        "print(A)"
      ],
      "execution_count": null,
      "outputs": [
        {
          "output_type": "stream",
          "text": [
            "[100  10  20  30  40  50]\n"
          ],
          "name": "stdout"
        }
      ]
    },
    {
      "cell_type": "code",
      "metadata": {
        "colab": {
          "base_uri": "https://localhost:8080/"
        },
        "id": "A4qKiNX7heGn",
        "outputId": "c2528bca-b5fb-48af-c381-14bf3facc390"
      },
      "source": [
        "A=np.array([[1,2],[3,4]])\r\n",
        "print(A)"
      ],
      "execution_count": null,
      "outputs": [
        {
          "output_type": "stream",
          "text": [
            "[[1 2]\n",
            " [3 4]]\n"
          ],
          "name": "stdout"
        }
      ]
    },
    {
      "cell_type": "markdown",
      "metadata": {
        "id": "IJUrcOf1hUuG"
      },
      "source": [
        "adding a row"
      ]
    },
    {
      "cell_type": "code",
      "metadata": {
        "colab": {
          "base_uri": "https://localhost:8080/"
        },
        "id": "C19qCuchhjMH",
        "outputId": "b6ac6a71-d761-4a1a-f47b-d1d9257fb57f"
      },
      "source": [
        "A=np.append(A,[[5,6]],axis=0)\r\n",
        "print(A)"
      ],
      "execution_count": null,
      "outputs": [
        {
          "output_type": "stream",
          "text": [
            "[[1 2]\n",
            " [3 4]\n",
            " [5 6]]\n"
          ],
          "name": "stdout"
        }
      ]
    },
    {
      "cell_type": "markdown",
      "metadata": {
        "id": "m46EW_mZhuT6"
      },
      "source": [
        "adding a column"
      ]
    },
    {
      "cell_type": "code",
      "metadata": {
        "colab": {
          "base_uri": "https://localhost:8080/"
        },
        "id": "Ad9qbT-UhvAa",
        "outputId": "9417fa62-9bd0-4759-d8cc-ce3aa58f26d7"
      },
      "source": [
        "A=np.array([[1,2],[3,4]])\r\n",
        "print(A)\r\n",
        "print('second array')\r\n",
        "A=np.append(A,[[5],[6]],axis=1)\r\n",
        "print(A)"
      ],
      "execution_count": null,
      "outputs": [
        {
          "output_type": "stream",
          "text": [
            "[[1 2]\n",
            " [3 4]]\n",
            "second array\n",
            "[[1 2 5]\n",
            " [3 4 6]]\n"
          ],
          "name": "stdout"
        }
      ]
    },
    {
      "cell_type": "markdown",
      "metadata": {
        "id": "P2tw3XFqj5zE"
      },
      "source": [
        "**DELETING ELEMENTS FROM AN ARRAY**"
      ]
    },
    {
      "cell_type": "code",
      "metadata": {
        "colab": {
          "base_uri": "https://localhost:8080/"
        },
        "id": "Ykyog_aZj-0N",
        "outputId": "b5af4beb-c105-4330-e2cb-a04e5ec2f343"
      },
      "source": [
        "A=np.array([10,20,30,40,50,60,70,80])\r\n",
        "print(A)"
      ],
      "execution_count": null,
      "outputs": [
        {
          "output_type": "stream",
          "text": [
            "[10 20 30 40 50 60 70 80]\n"
          ],
          "name": "stdout"
        }
      ]
    },
    {
      "cell_type": "markdown",
      "metadata": {
        "id": "sEaC-XYWkDYC"
      },
      "source": [
        "delete"
      ]
    },
    {
      "cell_type": "code",
      "metadata": {
        "colab": {
          "base_uri": "https://localhost:8080/"
        },
        "id": "7ufYTswZkFPh",
        "outputId": "fff237a0-1b9f-4c6f-d8a7-ddbaacbfadbe"
      },
      "source": [
        "A=np.delete(A,1)\r\n",
        "print(A)"
      ],
      "execution_count": null,
      "outputs": [
        {
          "output_type": "stream",
          "text": [
            "[10 30 40 50 60 70 80]\n"
          ],
          "name": "stdout"
        }
      ]
    },
    {
      "cell_type": "markdown",
      "metadata": {
        "id": "M1L2iJKhkP5W"
      },
      "source": [
        "deleting a row"
      ]
    },
    {
      "cell_type": "code",
      "metadata": {
        "colab": {
          "base_uri": "https://localhost:8080/"
        },
        "id": "_rT2rH7rkQxn",
        "outputId": "c96292d1-2fae-43cd-b686-a831549eedb3"
      },
      "source": [
        "A=np.array([[10,20,30],[40,50,60],[70,80,90]])\r\n",
        "print(A)"
      ],
      "execution_count": null,
      "outputs": [
        {
          "output_type": "stream",
          "text": [
            "[[10 20 30]\n",
            " [40 50 60]\n",
            " [70 80 90]]\n"
          ],
          "name": "stdout"
        }
      ]
    },
    {
      "cell_type": "code",
      "metadata": {
        "colab": {
          "base_uri": "https://localhost:8080/"
        },
        "id": "7IXs9-xkkVh5",
        "outputId": "6f58fd11-d17b-4736-827b-b705d255e6e3"
      },
      "source": [
        "A=np.delete(A,1,axis=0)\r\n",
        "print(A)"
      ],
      "execution_count": null,
      "outputs": [
        {
          "output_type": "stream",
          "text": [
            "[[10 20 30]\n",
            " [70 80 90]]\n"
          ],
          "name": "stdout"
        }
      ]
    },
    {
      "cell_type": "markdown",
      "metadata": {
        "id": "rq4m8_Zhb7zs"
      },
      "source": [
        "# Indexing and slicing"
      ]
    },
    {
      "cell_type": "markdown",
      "metadata": {
        "id": "44P8ofvwcASk"
      },
      "source": [
        "One-dimensional arrays can be indexed, sliced and iterated over, much like lists and other Python sequences."
      ]
    },
    {
      "cell_type": "code",
      "metadata": {
        "colab": {
          "base_uri": "https://localhost:8080/"
        },
        "id": "MeKd8Cm9cEQL",
        "outputId": "437c8e1c-f787-4b0f-b748-ff38cdbd09dd"
      },
      "source": [
        "import numpy as np\r\n",
        "A=np.arange(10)\r\n",
        "print(A)"
      ],
      "execution_count": null,
      "outputs": [
        {
          "output_type": "stream",
          "text": [
            "[0 1 2 3 4 5 6 7 8 9]\n"
          ],
          "name": "stdout"
        }
      ]
    },
    {
      "cell_type": "code",
      "metadata": {
        "colab": {
          "base_uri": "https://localhost:8080/"
        },
        "id": "JFATVZ24cMde",
        "outputId": "3f121e60-10fd-4600-ef3b-b5c9dd772ba9"
      },
      "source": [
        "print(A[0])"
      ],
      "execution_count": null,
      "outputs": [
        {
          "output_type": "stream",
          "text": [
            "0\n"
          ],
          "name": "stdout"
        }
      ]
    },
    {
      "cell_type": "code",
      "metadata": {
        "colab": {
          "base_uri": "https://localhost:8080/"
        },
        "id": "uKOTLgZ4cUE2",
        "outputId": "0e269f4f-2c5c-4dd4-8240-afafd5a53959"
      },
      "source": [
        "print(A[-1])"
      ],
      "execution_count": null,
      "outputs": [
        {
          "output_type": "stream",
          "text": [
            "9\n"
          ],
          "name": "stdout"
        }
      ]
    },
    {
      "cell_type": "code",
      "metadata": {
        "colab": {
          "base_uri": "https://localhost:8080/"
        },
        "id": "MzdRZ2h-cXwL",
        "outputId": "7a1eef34-543d-4233-f804-caed312fc56c"
      },
      "source": [
        "print(A[0:3])"
      ],
      "execution_count": null,
      "outputs": [
        {
          "output_type": "stream",
          "text": [
            "[0 1 2]\n"
          ],
          "name": "stdout"
        }
      ]
    },
    {
      "cell_type": "code",
      "metadata": {
        "colab": {
          "base_uri": "https://localhost:8080/"
        },
        "id": "_VMuETUAcfrL",
        "outputId": "c38a7165-4145-4fd7-9366-64f1fdfaebc0"
      },
      "source": [
        "A[0:3]=100\r\n",
        "A[3]=200\r\n",
        "print(A)"
      ],
      "execution_count": null,
      "outputs": [
        {
          "output_type": "stream",
          "text": [
            "[100 100 100 200   4   5   6   7   8   9]\n"
          ],
          "name": "stdout"
        }
      ]
    },
    {
      "cell_type": "markdown",
      "metadata": {
        "id": "Pswxyx-scssF"
      },
      "source": [
        "As you can see, if you assign a scalar value to a slice, as in A[0:3] = 100, the value is propagated (or broadcasted henceforth) to the entire selection. An important first distinction from lists is that array slices are views on the original array. This means that the data is not copied, and any modifications to the view will be reflected in the source array:"
      ]
    },
    {
      "cell_type": "code",
      "metadata": {
        "colab": {
          "base_uri": "https://localhost:8080/"
        },
        "id": "gikd9e-vcveR",
        "outputId": "645f9c93-72ae-4b23-dd3b-974ae9a196b5"
      },
      "source": [
        "slice=A[5:9]\r\n",
        "print(slice)"
      ],
      "execution_count": null,
      "outputs": [
        {
          "output_type": "stream",
          "text": [
            "[5 6 7 8]\n"
          ],
          "name": "stdout"
        }
      ]
    },
    {
      "cell_type": "code",
      "metadata": {
        "colab": {
          "base_uri": "https://localhost:8080/"
        },
        "id": "j7VP1Y6Vc2UL",
        "outputId": "d1c29e4f-c402-4ff3-af3e-ddb2f12a1b88"
      },
      "source": [
        "slice[:]=200\r\n",
        "print(A)"
      ],
      "execution_count": null,
      "outputs": [
        {
          "output_type": "stream",
          "text": [
            "[100 100 100 200   4 200 200 200 200   9]\n"
          ],
          "name": "stdout"
        }
      ]
    },
    {
      "cell_type": "code",
      "metadata": {
        "colab": {
          "base_uri": "https://localhost:8080/"
        },
        "id": "10XRdVqHc8wz",
        "outputId": "d8054805-6763-4a8f-e892-cfbe9df4ba7f"
      },
      "source": [
        "B=np.arange(10)\r\n",
        "print(B[0:8:2])"
      ],
      "execution_count": null,
      "outputs": [
        {
          "output_type": "stream",
          "text": [
            "[0 2 4 6]\n"
          ],
          "name": "stdout"
        }
      ]
    },
    {
      "cell_type": "code",
      "metadata": {
        "colab": {
          "base_uri": "https://localhost:8080/"
        },
        "id": "u-G7D7K-dAry",
        "outputId": "b880a6f5-485a-4d08-bae7-c6cb998b42c0"
      },
      "source": [
        "print(B[8:0:-2])"
      ],
      "execution_count": null,
      "outputs": [
        {
          "output_type": "stream",
          "text": [
            "[8 6 4 2]\n"
          ],
          "name": "stdout"
        }
      ]
    },
    {
      "cell_type": "code",
      "metadata": {
        "colab": {
          "base_uri": "https://localhost:8080/"
        },
        "id": "QTLJJ8OcdDTF",
        "outputId": "ac891daa-26be-43ea-832f-c296dc7888cd"
      },
      "source": [
        "print(B[:4])"
      ],
      "execution_count": null,
      "outputs": [
        {
          "output_type": "stream",
          "text": [
            "[0 1 2 3]\n"
          ],
          "name": "stdout"
        }
      ]
    },
    {
      "cell_type": "code",
      "metadata": {
        "colab": {
          "base_uri": "https://localhost:8080/"
        },
        "id": "oAKuAm92dH7M",
        "outputId": "aeba9cec-5c76-424a-ddff-369dbbe0684a"
      },
      "source": [
        "print(B[5:])"
      ],
      "execution_count": null,
      "outputs": [
        {
          "output_type": "stream",
          "text": [
            "[5 6 7 8 9]\n"
          ],
          "name": "stdout"
        }
      ]
    },
    {
      "cell_type": "code",
      "metadata": {
        "colab": {
          "base_uri": "https://localhost:8080/"
        },
        "id": "kKg7AwOpdKRE",
        "outputId": "9acf16bf-ab6c-4f01-aac6-b603c4a07f86"
      },
      "source": [
        "print(B[::-1])"
      ],
      "execution_count": null,
      "outputs": [
        {
          "output_type": "stream",
          "text": [
            "[9 8 7 6 5 4 3 2 1 0]\n"
          ],
          "name": "stdout"
        }
      ]
    },
    {
      "cell_type": "markdown",
      "metadata": {
        "id": "boC9KWXOdoUs"
      },
      "source": [
        "# Indexing on 2-D array"
      ]
    },
    {
      "cell_type": "markdown",
      "metadata": {
        "id": "BFFO03FsdxdU"
      },
      "source": [
        "![image.png](data:image/png;base64,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)"
      ]
    },
    {
      "cell_type": "code",
      "metadata": {
        "colab": {
          "base_uri": "https://localhost:8080/"
        },
        "id": "azD4BtVbd2l4",
        "outputId": "d54d8712-6e14-446a-c8f8-375bc9554e5e"
      },
      "source": [
        "A=np.array([[1,2,3],[4,5,6],[7,8,9]])\r\n",
        "print(A[2])#print a row"
      ],
      "execution_count": null,
      "outputs": [
        {
          "output_type": "stream",
          "text": [
            "[7 8 9]\n"
          ],
          "name": "stdout"
        }
      ]
    },
    {
      "cell_type": "code",
      "metadata": {
        "colab": {
          "base_uri": "https://localhost:8080/"
        },
        "id": "tR93YEtsd__r",
        "outputId": "72317581-3172-4ae8-af61-f617ee7dc1b8"
      },
      "source": [
        "print(A[2,2])"
      ],
      "execution_count": null,
      "outputs": [
        {
          "output_type": "stream",
          "text": [
            "9\n"
          ],
          "name": "stdout"
        }
      ]
    },
    {
      "cell_type": "code",
      "metadata": {
        "colab": {
          "base_uri": "https://localhost:8080/"
        },
        "id": "n11dRCXoeErr",
        "outputId": "0408cdaf-ef63-4a97-baa0-b1081e25d546"
      },
      "source": [
        "print(A[2][2])"
      ],
      "execution_count": null,
      "outputs": [
        {
          "output_type": "stream",
          "text": [
            "9\n"
          ],
          "name": "stdout"
        }
      ]
    },
    {
      "cell_type": "code",
      "metadata": {
        "colab": {
          "base_uri": "https://localhost:8080/"
        },
        "id": "vs2xueLreZTo",
        "outputId": "96dc9494-3aa3-4c7f-b624-c20d2ae24a10"
      },
      "source": [
        "print(A[1:,1:])"
      ],
      "execution_count": null,
      "outputs": [
        {
          "output_type": "stream",
          "text": [
            "[[5 6]\n",
            " [8 9]]\n"
          ],
          "name": "stdout"
        }
      ]
    },
    {
      "cell_type": "code",
      "metadata": {
        "colab": {
          "base_uri": "https://localhost:8080/"
        },
        "id": "Hh3W6AZ2ejK7",
        "outputId": "c9d71407-16c6-42a0-fe17-669e22764f72"
      },
      "source": [
        "print(A[:2,1:])"
      ],
      "execution_count": null,
      "outputs": [
        {
          "output_type": "stream",
          "text": [
            "[[2 3]\n",
            " [5 6]]\n"
          ],
          "name": "stdout"
        }
      ]
    },
    {
      "cell_type": "code",
      "metadata": {
        "colab": {
          "base_uri": "https://localhost:8080/"
        },
        "id": "D4Lj5nDne4iC",
        "outputId": "a5c2c18b-8a42-4efa-9663-6c66bb663653"
      },
      "source": [
        "print(A[:,:1])"
      ],
      "execution_count": null,
      "outputs": [
        {
          "output_type": "stream",
          "text": [
            "[[1]\n",
            " [4]\n",
            " [7]]\n"
          ],
          "name": "stdout"
        }
      ]
    },
    {
      "cell_type": "code",
      "metadata": {
        "colab": {
          "base_uri": "https://localhost:8080/"
        },
        "id": "zLxS81xmfBjp",
        "outputId": "498df3af-3a2d-4ef8-b663-e5d8b2602efa"
      },
      "source": [
        "A[:,:1]=10 \r\n",
        "print(A)"
      ],
      "execution_count": null,
      "outputs": [
        {
          "output_type": "stream",
          "text": [
            "[[10  2  3]\n",
            " [10  5  6]\n",
            " [10  8  9]]\n"
          ],
          "name": "stdout"
        }
      ]
    },
    {
      "cell_type": "markdown",
      "metadata": {
        "id": "w5_gz2jpfEOs"
      },
      "source": [
        "# Boolean array Indexing"
      ]
    },
    {
      "cell_type": "markdown",
      "metadata": {
        "id": "V2DbdsPVfPko"
      },
      "source": [
        "Boolean array indexing lets you pick out arbitrary elements of an array. Frequently this type of indexing is used to select the elements of an array that satisfy some condition."
      ]
    },
    {
      "cell_type": "code",
      "metadata": {
        "colab": {
          "base_uri": "https://localhost:8080/"
        },
        "id": "g4NIrdVHfQUa",
        "outputId": "1e2a5862-36cd-468e-8031-d2eab194485a"
      },
      "source": [
        "import numpy as np\r\n",
        "A=np.random.randn(3,2)\r\n",
        "print(A)"
      ],
      "execution_count": null,
      "outputs": [
        {
          "output_type": "stream",
          "text": [
            "[[2.68500105 1.60237021]\n",
            " [0.73657591 0.05770109]\n",
            " [1.13910478 0.71025983]]\n"
          ],
          "name": "stdout"
        }
      ]
    },
    {
      "cell_type": "code",
      "metadata": {
        "colab": {
          "base_uri": "https://localhost:8080/"
        },
        "id": "NYIMa6u8fT2R",
        "outputId": "250ffcd9-0c9e-4184-fa48-f3488d787763"
      },
      "source": [
        "print(A[A<1])"
      ],
      "execution_count": null,
      "outputs": [
        {
          "output_type": "stream",
          "text": [
            "[0.73657591 0.05770109 0.71025983]\n"
          ],
          "name": "stdout"
        }
      ]
    },
    {
      "cell_type": "markdown",
      "metadata": {
        "id": "ySlsYNdFfumG"
      },
      "source": [
        "**Q.**\r\n",
        "\r\n",
        "Consider student names and their marks are stored in another array marks.Students names are repeated and we can get all those rows of marks array."
      ]
    },
    {
      "cell_type": "code",
      "metadata": {
        "colab": {
          "base_uri": "https://localhost:8080/"
        },
        "id": "MKyFqLzyf0qb",
        "outputId": "1c250c7c-66c5-4a22-a753-26c7cbcd0113"
      },
      "source": [
        "import numpy as np\r\n",
        "names=np.array(['biju','bini','binu','bini'])\r\n",
        "marks=np.array([[30,40,40],[45,46,47],[38,40,45],[47,48,30]])\r\n",
        "index=names=='bini'\r\n",
        "print(index)"
      ],
      "execution_count": null,
      "outputs": [
        {
          "output_type": "stream",
          "text": [
            "[False  True False  True]\n"
          ],
          "name": "stdout"
        }
      ]
    },
    {
      "cell_type": "code",
      "metadata": {
        "colab": {
          "base_uri": "https://localhost:8080/"
        },
        "id": "IgfkeSw-gCYi",
        "outputId": "30858364-ac73-487f-da67-54ad46ce4bd5"
      },
      "source": [
        "print(marks[index])"
      ],
      "execution_count": null,
      "outputs": [
        {
          "output_type": "stream",
          "text": [
            "[[45 46 47]\n",
            " [47 48 30]]\n"
          ],
          "name": "stdout"
        }
      ]
    },
    {
      "cell_type": "markdown",
      "metadata": {
        "id": "GqM3F4pVgI5m"
      },
      "source": [
        "***Selecting data from an array by boolean indexing always creates a copy of the data,even if the returned array is unchanged.***"
      ]
    },
    {
      "cell_type": "markdown",
      "metadata": {
        "id": "tUR9a2Z9hR3Y"
      },
      "source": [
        "# Universal Functions"
      ]
    },
    {
      "cell_type": "markdown",
      "metadata": {
        "id": "xPfCThCQiy2u"
      },
      "source": [
        "A universal function, or ufunc, is a function that performs element wise operations on data in ndarrays. You can think of them as fast vectorized wrappers for simple functions that take one or more scalar values and produce one or more scalar results."
      ]
    },
    {
      "cell_type": "markdown",
      "metadata": {
        "id": "w-ooEx3di26y"
      },
      "source": [
        "**Unary function** takes single array and apply the operation to all values."
      ]
    },
    {
      "cell_type": "code",
      "metadata": {
        "colab": {
          "base_uri": "https://localhost:8080/"
        },
        "id": "JgthACaYiz66",
        "outputId": "8aed211a-5113-400e-c6f8-2dedf54e8f01"
      },
      "source": [
        "A=np.arange(10)\r\n",
        "print(np.sqrt(A))"
      ],
      "execution_count": null,
      "outputs": [
        {
          "output_type": "stream",
          "text": [
            "[0.         1.         1.41421356 1.73205081 2.         2.23606798\n",
            " 2.44948974 2.64575131 2.82842712 3.        ]\n"
          ],
          "name": "stdout"
        }
      ]
    },
    {
      "cell_type": "code",
      "metadata": {
        "colab": {
          "base_uri": "https://localhost:8080/"
        },
        "id": "FRrZQEfNi9Po",
        "outputId": "55fb1624-2829-4ea6-e8fb-f3e1ce4dafd9"
      },
      "source": [
        "print(np.exp(A))"
      ],
      "execution_count": null,
      "outputs": [
        {
          "output_type": "stream",
          "text": [
            "[1.00000000e+00 2.71828183e+00 7.38905610e+00 2.00855369e+01\n",
            " 5.45981500e+01 1.48413159e+02 4.03428793e+02 1.09663316e+03\n",
            " 2.98095799e+03 8.10308393e+03]\n"
          ],
          "name": "stdout"
        }
      ]
    },
    {
      "cell_type": "code",
      "metadata": {
        "colab": {
          "base_uri": "https://localhost:8080/"
        },
        "id": "87ZvgePajBdg",
        "outputId": "94343692-674d-40b4-c362-6b0f2062fbf9"
      },
      "source": [
        "print(np.square(A))"
      ],
      "execution_count": null,
      "outputs": [
        {
          "output_type": "stream",
          "text": [
            "[ 0  1  4  9 16 25 36 49 64 81]\n"
          ],
          "name": "stdout"
        }
      ]
    },
    {
      "cell_type": "markdown",
      "metadata": {
        "id": "qx-c3plnjIkC"
      },
      "source": [
        "The **binary functions** take two arrays as arguments and return a single array."
      ]
    },
    {
      "cell_type": "code",
      "metadata": {
        "colab": {
          "base_uri": "https://localhost:8080/"
        },
        "id": "AxPHSQhgjKmX",
        "outputId": "11f9033e-d3bc-4668-b180-ec15a47faafc"
      },
      "source": [
        "x=np.array([3,4,5,6])\r\n",
        "y=np.array([1,4,7,2])\r\n",
        "print(np.minimum(x,y))"
      ],
      "execution_count": null,
      "outputs": [
        {
          "output_type": "stream",
          "text": [
            "[1 4 5 2]\n"
          ],
          "name": "stdout"
        }
      ]
    },
    {
      "cell_type": "code",
      "metadata": {
        "colab": {
          "base_uri": "https://localhost:8080/"
        },
        "id": "-OQ3H8Yijisg",
        "outputId": "0d575f0f-20f5-4410-f2b2-a5d33489f7fc"
      },
      "source": [
        "print(np.maximum(x,y))"
      ],
      "execution_count": null,
      "outputs": [
        {
          "output_type": "stream",
          "text": [
            "[3 4 7 6]\n"
          ],
          "name": "stdout"
        }
      ]
    },
    {
      "cell_type": "code",
      "metadata": {
        "colab": {
          "base_uri": "https://localhost:8080/"
        },
        "id": "jNSdNbHSjtPd",
        "outputId": "9ea03d50-fd77-4327-9dce-26189c49045c"
      },
      "source": [
        "print(np.mod(x,y))"
      ],
      "execution_count": null,
      "outputs": [
        {
          "output_type": "stream",
          "text": [
            "[0 0 5 0]\n"
          ],
          "name": "stdout"
        }
      ]
    },
    {
      "cell_type": "markdown",
      "metadata": {
        "id": "Q9hZSQMZjw_F"
      },
      "source": [
        "# Data Processing"
      ]
    },
    {
      "cell_type": "markdown",
      "metadata": {
        "id": "3RdfCZ8yj0a3"
      },
      "source": [
        "A typical use of where in data analysis is to produce a new array of values based on another array. "
      ]
    },
    {
      "cell_type": "markdown",
      "metadata": {
        "id": "rHGSjUvmkEC_"
      },
      "source": [
        "eg:\r\n",
        "\r\n",
        "Suppose you had a matrix of randomly generated data and you wanted to replace all positive values with 2 and all negative values with -2.This is very easy to do with np.where"
      ]
    },
    {
      "cell_type": "code",
      "metadata": {
        "colab": {
          "base_uri": "https://localhost:8080/"
        },
        "id": "NELfkC9ZkH44",
        "outputId": "5a788be1-7a06-466a-d1bd-3de7e0e1aca4"
      },
      "source": [
        "A=np.random.randn(4,4)\r\n",
        "B=np.where(A>0,2,-2)\r\n",
        "print(A)\r\n",
        "print(B)"
      ],
      "execution_count": null,
      "outputs": [
        {
          "output_type": "stream",
          "text": [
            "[[-1.10361125  1.15103568  1.77139154 -1.73167485]\n",
            " [-0.81219091  0.99565039 -0.62625051  1.78111163]\n",
            " [-1.96221767 -0.40079249  2.25514678  0.2248661 ]\n",
            " [-1.86564829  0.04072233 -0.2264931   1.04109163]]\n",
            "[[-2  2  2 -2]\n",
            " [-2  2 -2  2]\n",
            " [-2 -2  2  2]\n",
            " [-2  2 -2  2]]\n"
          ],
          "name": "stdout"
        }
      ]
    },
    {
      "cell_type": "markdown",
      "metadata": {
        "id": "r0Qoed6dkZTC"
      },
      "source": [
        "# statistical methods"
      ]
    },
    {
      "cell_type": "code",
      "metadata": {
        "colab": {
          "base_uri": "https://localhost:8080/"
        },
        "id": "4K25SRu3kcep",
        "outputId": "0eba91dc-049c-40af-8da0-ea543691ce63"
      },
      "source": [
        "A=np.array([[1,2,3],[4,5,6]])\r\n",
        "print(A)"
      ],
      "execution_count": null,
      "outputs": [
        {
          "output_type": "stream",
          "text": [
            "[[1 2 3]\n",
            " [4 5 6]]\n"
          ],
          "name": "stdout"
        }
      ]
    },
    {
      "cell_type": "code",
      "metadata": {
        "colab": {
          "base_uri": "https://localhost:8080/"
        },
        "id": "bNGulp1_kgHY",
        "outputId": "beba8c13-fffd-49bf-e8ff-23fad3963615"
      },
      "source": [
        "print(np.min(A))"
      ],
      "execution_count": null,
      "outputs": [
        {
          "output_type": "stream",
          "text": [
            "1\n"
          ],
          "name": "stdout"
        }
      ]
    },
    {
      "cell_type": "code",
      "metadata": {
        "colab": {
          "base_uri": "https://localhost:8080/"
        },
        "id": "xro2U6ehkiZd",
        "outputId": "a0aba59f-4f30-464c-af25-8161c4b90902"
      },
      "source": [
        "print(np.min(A,axis=0))"
      ],
      "execution_count": null,
      "outputs": [
        {
          "output_type": "stream",
          "text": [
            "[1 2 3]\n"
          ],
          "name": "stdout"
        }
      ]
    },
    {
      "cell_type": "code",
      "metadata": {
        "colab": {
          "base_uri": "https://localhost:8080/"
        },
        "id": "Adh_RKockklU",
        "outputId": "7fa04e76-d00c-418b-f898-998908e8e801"
      },
      "source": [
        "print(np.min(A,axis=1))"
      ],
      "execution_count": null,
      "outputs": [
        {
          "output_type": "stream",
          "text": [
            "[1 4]\n"
          ],
          "name": "stdout"
        }
      ]
    },
    {
      "cell_type": "code",
      "metadata": {
        "colab": {
          "base_uri": "https://localhost:8080/"
        },
        "id": "QHq8ri7Skm6f",
        "outputId": "f2a7430e-bc7c-4f14-d792-a6b901a1359d"
      },
      "source": [
        "print(np.max(A))"
      ],
      "execution_count": null,
      "outputs": [
        {
          "output_type": "stream",
          "text": [
            "6\n"
          ],
          "name": "stdout"
        }
      ]
    },
    {
      "cell_type": "code",
      "metadata": {
        "colab": {
          "base_uri": "https://localhost:8080/"
        },
        "id": "1gkFgw_Mkoap",
        "outputId": "09f193a7-cbaa-44f0-f325-868127af892c"
      },
      "source": [
        "print(np.max(A,axis=0))"
      ],
      "execution_count": null,
      "outputs": [
        {
          "output_type": "stream",
          "text": [
            "[4 5 6]\n"
          ],
          "name": "stdout"
        }
      ]
    },
    {
      "cell_type": "code",
      "metadata": {
        "colab": {
          "base_uri": "https://localhost:8080/"
        },
        "id": "hNm7X1_MksKh",
        "outputId": "45b08fa0-3dd3-4cfd-dcf8-7d39e6185acd"
      },
      "source": [
        "print(np.max(A,axis=1))"
      ],
      "execution_count": null,
      "outputs": [
        {
          "output_type": "stream",
          "text": [
            "[3 6]\n"
          ],
          "name": "stdout"
        }
      ]
    },
    {
      "cell_type": "code",
      "metadata": {
        "colab": {
          "base_uri": "https://localhost:8080/"
        },
        "id": "NdxzBW6qkupA",
        "outputId": "94f2e014-0629-4a09-a3ee-39ec9dc2fc5b"
      },
      "source": [
        "print(np.sum(A))"
      ],
      "execution_count": null,
      "outputs": [
        {
          "output_type": "stream",
          "text": [
            "21\n"
          ],
          "name": "stdout"
        }
      ]
    },
    {
      "cell_type": "code",
      "metadata": {
        "colab": {
          "base_uri": "https://localhost:8080/"
        },
        "id": "gfR0txvMkyR0",
        "outputId": "18be9da5-0176-4f93-b63d-d6095c768bd6"
      },
      "source": [
        "print(np.sum(A,axis=0))"
      ],
      "execution_count": null,
      "outputs": [
        {
          "output_type": "stream",
          "text": [
            "[5 7 9]\n"
          ],
          "name": "stdout"
        }
      ]
    },
    {
      "cell_type": "code",
      "metadata": {
        "colab": {
          "base_uri": "https://localhost:8080/"
        },
        "id": "3hPLIJQtk1IH",
        "outputId": "5bc589b0-5624-4327-bf69-d1c0cec67217"
      },
      "source": [
        "print(np.sum(A,axis=1))"
      ],
      "execution_count": null,
      "outputs": [
        {
          "output_type": "stream",
          "text": [
            "[ 6 15]\n"
          ],
          "name": "stdout"
        }
      ]
    },
    {
      "cell_type": "code",
      "metadata": {
        "colab": {
          "base_uri": "https://localhost:8080/"
        },
        "id": "5CAdSoUwk8Tc",
        "outputId": "b7b41f0b-2938-4c3c-f475-edd522a36553"
      },
      "source": [
        "print(np.mean(A))"
      ],
      "execution_count": null,
      "outputs": [
        {
          "output_type": "stream",
          "text": [
            "3.5\n"
          ],
          "name": "stdout"
        }
      ]
    },
    {
      "cell_type": "code",
      "metadata": {
        "colab": {
          "base_uri": "https://localhost:8080/"
        },
        "id": "bdZ_0D-zk-ii",
        "outputId": "1c7e7580-5b53-4bd6-9f49-03c9ea556f0d"
      },
      "source": [
        "print(np.mean(A,axis=0))"
      ],
      "execution_count": null,
      "outputs": [
        {
          "output_type": "stream",
          "text": [
            "[2.5 3.5 4.5]\n"
          ],
          "name": "stdout"
        }
      ]
    },
    {
      "cell_type": "code",
      "metadata": {
        "colab": {
          "base_uri": "https://localhost:8080/"
        },
        "id": "gO4EK693lAfU",
        "outputId": "ecb1c799-e8b7-4c9f-a7e7-b91d916980e8"
      },
      "source": [
        "print(np.mean(A,axis=1))"
      ],
      "execution_count": null,
      "outputs": [
        {
          "output_type": "stream",
          "text": [
            "[2. 5.]\n"
          ],
          "name": "stdout"
        }
      ]
    },
    {
      "cell_type": "code",
      "metadata": {
        "colab": {
          "base_uri": "https://localhost:8080/"
        },
        "id": "4VdzB5vylEJ2",
        "outputId": "83dfbb45-eb37-400f-fc03-39eb11891f6a"
      },
      "source": [
        "print(np.var(A))"
      ],
      "execution_count": null,
      "outputs": [
        {
          "output_type": "stream",
          "text": [
            "2.9166666666666665\n"
          ],
          "name": "stdout"
        }
      ]
    },
    {
      "cell_type": "code",
      "metadata": {
        "colab": {
          "base_uri": "https://localhost:8080/"
        },
        "id": "JwcaTCgXlIlI",
        "outputId": "13f15688-dc1f-4324-f5cc-7a66c92e7ee5"
      },
      "source": [
        "print(np.var(A,axis=0))"
      ],
      "execution_count": null,
      "outputs": [
        {
          "output_type": "stream",
          "text": [
            "[2.25 2.25 2.25]\n"
          ],
          "name": "stdout"
        }
      ]
    },
    {
      "cell_type": "code",
      "metadata": {
        "colab": {
          "base_uri": "https://localhost:8080/"
        },
        "id": "4A-v7ZeJlK8E",
        "outputId": "b56ab515-f668-4e6d-a728-bb1457f509e2"
      },
      "source": [
        "print(np.var(A,axis=1))"
      ],
      "execution_count": null,
      "outputs": [
        {
          "output_type": "stream",
          "text": [
            "[0.66666667 0.66666667]\n"
          ],
          "name": "stdout"
        }
      ]
    },
    {
      "cell_type": "code",
      "metadata": {
        "colab": {
          "base_uri": "https://localhost:8080/"
        },
        "id": "IVmi3fIflNQg",
        "outputId": "a75c7436-f5a4-4e22-ada1-e7d2d469762b"
      },
      "source": [
        "print(np.std(A))"
      ],
      "execution_count": null,
      "outputs": [
        {
          "output_type": "stream",
          "text": [
            "1.707825127659933\n"
          ],
          "name": "stdout"
        }
      ]
    },
    {
      "cell_type": "code",
      "metadata": {
        "colab": {
          "base_uri": "https://localhost:8080/"
        },
        "id": "JFWQwZz7lRD7",
        "outputId": "d3b44631-44c4-48e9-c0b0-c2e3eb727a1a"
      },
      "source": [
        "print(np.std(A,axis=0))"
      ],
      "execution_count": null,
      "outputs": [
        {
          "output_type": "stream",
          "text": [
            "[1.5 1.5 1.5]\n"
          ],
          "name": "stdout"
        }
      ]
    },
    {
      "cell_type": "code",
      "metadata": {
        "colab": {
          "base_uri": "https://localhost:8080/"
        },
        "id": "VYfbGAhZlTj-",
        "outputId": "5498fb50-bb18-4916-a0eb-a510e6ce8bf9"
      },
      "source": [
        "print(np.std(A,axis=1))"
      ],
      "execution_count": null,
      "outputs": [
        {
          "output_type": "stream",
          "text": [
            "[0.81649658 0.81649658]\n"
          ],
          "name": "stdout"
        }
      ]
    },
    {
      "cell_type": "code",
      "metadata": {
        "colab": {
          "base_uri": "https://localhost:8080/"
        },
        "id": "z7z7dsP_lV-Q",
        "outputId": "0bcb1a54-058a-4617-c98d-7ac7354b9cec"
      },
      "source": [
        "print(np.cumsum(A))"
      ],
      "execution_count": null,
      "outputs": [
        {
          "output_type": "stream",
          "text": [
            "[ 1  3  6 10 15 21]\n"
          ],
          "name": "stdout"
        }
      ]
    },
    {
      "cell_type": "code",
      "metadata": {
        "colab": {
          "base_uri": "https://localhost:8080/"
        },
        "id": "r6N2FyqDlZnH",
        "outputId": "ad489d27-25dd-4aae-92be-a4c436877e17"
      },
      "source": [
        "print(np.cumsum(A,axis=0))"
      ],
      "execution_count": null,
      "outputs": [
        {
          "output_type": "stream",
          "text": [
            "[[1 2 3]\n",
            " [5 7 9]]\n"
          ],
          "name": "stdout"
        }
      ]
    },
    {
      "cell_type": "code",
      "metadata": {
        "colab": {
          "base_uri": "https://localhost:8080/"
        },
        "id": "Aw0g0IVblnv1",
        "outputId": "f03060e1-3ff9-4d2a-935a-65a7cff2d485"
      },
      "source": [
        "print(np.cumsum(A,axis=1))"
      ],
      "execution_count": null,
      "outputs": [
        {
          "output_type": "stream",
          "text": [
            "[[ 1  3  6]\n",
            " [ 4  9 15]]\n"
          ],
          "name": "stdout"
        }
      ]
    },
    {
      "cell_type": "code",
      "metadata": {
        "colab": {
          "base_uri": "https://localhost:8080/"
        },
        "id": "cIxXKiunlqCj",
        "outputId": "7c025b4e-d4c3-4517-fa24-52fb82d1b3a4"
      },
      "source": [
        "print(np.cumprod(A))"
      ],
      "execution_count": null,
      "outputs": [
        {
          "output_type": "stream",
          "text": [
            "[  1   2   6  24 120 720]\n"
          ],
          "name": "stdout"
        }
      ]
    },
    {
      "cell_type": "code",
      "metadata": {
        "colab": {
          "base_uri": "https://localhost:8080/"
        },
        "id": "w4MkojsypuPY",
        "outputId": "c5cb0b05-65a1-487b-cf07-a2bb5893edc1"
      },
      "source": [
        "print(np.cumprod(A,axis=1))"
      ],
      "execution_count": null,
      "outputs": [
        {
          "output_type": "stream",
          "text": [
            "[[  1   2   6]\n",
            " [  4  20 120]]\n"
          ],
          "name": "stdout"
        }
      ]
    },
    {
      "cell_type": "code",
      "metadata": {
        "colab": {
          "base_uri": "https://localhost:8080/"
        },
        "id": "2UUH-TmwpuCt",
        "outputId": "b1cfbddf-63c9-45ba-f787-87e3791ee912"
      },
      "source": [
        "#Counting number of +ve elements\r\n",
        "A=np.array([1,2,3,-1,-4])\r\n",
        "print((A>0).sum())"
      ],
      "execution_count": null,
      "outputs": [
        {
          "output_type": "stream",
          "text": [
            "3\n"
          ],
          "name": "stdout"
        }
      ]
    },
    {
      "cell_type": "markdown",
      "metadata": {
        "id": "FUIyTB6zlxO9"
      },
      "source": [
        "# Sorting and searching"
      ]
    },
    {
      "cell_type": "markdown",
      "metadata": {
        "id": "BZiqh19WpT1R"
      },
      "source": [
        "**sort**"
      ]
    },
    {
      "cell_type": "code",
      "metadata": {
        "colab": {
          "base_uri": "https://localhost:8080/"
        },
        "id": "LfO6fNlylzkN",
        "outputId": "0c211cb6-022b-49fe-ccf6-adf8687e7f40"
      },
      "source": [
        "import numpy as np\r\n",
        "A=np.random.randn(10)\r\n",
        "print(A)"
      ],
      "execution_count": null,
      "outputs": [
        {
          "output_type": "stream",
          "text": [
            "[-0.61375273 -0.26564901  0.35410195 -1.33925845 -0.80708432  1.47007336\n",
            "  1.359131   -2.08566297  0.86742672 -0.26237533]\n"
          ],
          "name": "stdout"
        }
      ]
    },
    {
      "cell_type": "code",
      "metadata": {
        "colab": {
          "base_uri": "https://localhost:8080/"
        },
        "id": "fIGnawInmPF7",
        "outputId": "7c71d918-1af7-475b-9e9e-d2178c17b3d2"
      },
      "source": [
        "#sorting the entire array\r\n",
        "A.sort()\r\n",
        "print(A)"
      ],
      "execution_count": null,
      "outputs": [
        {
          "output_type": "stream",
          "text": [
            "[-2.08566297 -1.33925845 -0.80708432 -0.61375273 -0.26564901 -0.26237533\n",
            "  0.35410195  0.86742672  1.359131    1.47007336]\n"
          ],
          "name": "stdout"
        }
      ]
    },
    {
      "cell_type": "code",
      "metadata": {
        "colab": {
          "base_uri": "https://localhost:8080/"
        },
        "id": "S3kTWYPsmwct",
        "outputId": "9eb94204-9748-40d1-be5d-a0a636ddf2bd"
      },
      "source": [
        "A=np.random.randn(2,3)\r\n",
        "print(A)"
      ],
      "execution_count": null,
      "outputs": [
        {
          "output_type": "stream",
          "text": [
            "[[-1.61352274 -0.75832385  0.93433673]\n",
            " [ 0.14050828 -0.36712653 -0.26132225]]\n"
          ],
          "name": "stdout"
        }
      ]
    },
    {
      "cell_type": "code",
      "metadata": {
        "colab": {
          "base_uri": "https://localhost:8080/"
        },
        "id": "qRRA1ozvmy3j",
        "outputId": "b032cb78-93a0-4c13-a10f-6e7e8502db8a"
      },
      "source": [
        "#row wise comparison\r\n",
        "A.sort(0)\r\n",
        "print(A)"
      ],
      "execution_count": null,
      "outputs": [
        {
          "output_type": "stream",
          "text": [
            "[[-1.61352274 -0.75832385 -0.26132225]\n",
            " [ 0.14050828 -0.36712653  0.93433673]]\n"
          ],
          "name": "stdout"
        }
      ]
    },
    {
      "cell_type": "code",
      "metadata": {
        "colab": {
          "base_uri": "https://localhost:8080/"
        },
        "id": "zUQ-uHo9nBuQ",
        "outputId": "88b23af6-5cde-4a66-9e46-90ac6ecebff9"
      },
      "source": [
        "#coloum wise comparison\r\n",
        "A.sort(1)\r\n",
        "print(A)"
      ],
      "execution_count": null,
      "outputs": [
        {
          "output_type": "stream",
          "text": [
            "[[-1.61352274 -0.75832385 -0.26132225]\n",
            " [-0.36712653  0.14050828  0.93433673]]\n"
          ],
          "name": "stdout"
        }
      ]
    },
    {
      "cell_type": "markdown",
      "metadata": {
        "id": "_jGBy-4NnszK"
      },
      "source": [
        "**unique**"
      ]
    },
    {
      "cell_type": "code",
      "metadata": {
        "colab": {
          "base_uri": "https://localhost:8080/"
        },
        "id": "OX6zCuTznl1h",
        "outputId": "910159c5-895f-40e8-c1b1-93db961a1137"
      },
      "source": [
        "#uniqe elements in sorted order\r\n",
        "A=np.array([3,3,2,1,1,5,4,4,6,7,3])\r\n",
        "print(np.unique(A))"
      ],
      "execution_count": null,
      "outputs": [
        {
          "output_type": "stream",
          "text": [
            "[1 2 3 4 5 6 7]\n"
          ],
          "name": "stdout"
        }
      ]
    },
    {
      "cell_type": "markdown",
      "metadata": {
        "id": "6NIvSQPYn59-"
      },
      "source": [
        "**intersec1d**"
      ]
    },
    {
      "cell_type": "code",
      "metadata": {
        "colab": {
          "base_uri": "https://localhost:8080/"
        },
        "id": "xxjTRTaZn3aE",
        "outputId": "76eab1f9-b52b-46bc-b9cf-2e48583fd880"
      },
      "source": [
        "#common elements in sorted order\r\n",
        "A=np.array([3,3,2,1,1,5,4,4,6,7,3])\r\n",
        "B=np.array([3,4,5,5,8])\r\n",
        "print(np.intersect1d(A,B))"
      ],
      "execution_count": null,
      "outputs": [
        {
          "output_type": "stream",
          "text": [
            "[3 4 5]\n"
          ],
          "name": "stdout"
        }
      ]
    },
    {
      "cell_type": "markdown",
      "metadata": {
        "id": "Z1Tv4sBUoK23"
      },
      "source": [
        "**union** of elements"
      ]
    },
    {
      "cell_type": "code",
      "metadata": {
        "colab": {
          "base_uri": "https://localhost:8080/"
        },
        "id": "Grvk0Bx8oPPn",
        "outputId": "dc1e2259-ad4c-41f7-abfa-bd970c0684ff"
      },
      "source": [
        "A=np.array([3,3,2,1,1,5,4,4,6,7,3])\r\n",
        "B=np.array([3,4,5,5,8])\r\n",
        "print(np.union1d(A,B))"
      ],
      "execution_count": null,
      "outputs": [
        {
          "output_type": "stream",
          "text": [
            "[1 2 3 4 5 6 7 8]\n"
          ],
          "name": "stdout"
        }
      ]
    },
    {
      "cell_type": "markdown",
      "metadata": {
        "id": "NgtQ3icfoSap"
      },
      "source": [
        "**difference**--**setdiff1d**"
      ]
    },
    {
      "cell_type": "code",
      "metadata": {
        "colab": {
          "base_uri": "https://localhost:8080/"
        },
        "id": "inU1TeIkoWhB",
        "outputId": "2c4e5aba-1064-437e-acca-ff0f95932834"
      },
      "source": [
        "A=np.array([3,3,2,1,1,5,4,4,6,7,3])\r\n",
        "B=np.array([3,4,5,5,8])\r\n",
        "print(np.setdiff1d(A,B))"
      ],
      "execution_count": null,
      "outputs": [
        {
          "output_type": "stream",
          "text": [
            "[1 2 6 7]\n"
          ],
          "name": "stdout"
        }
      ]
    },
    {
      "cell_type": "markdown",
      "metadata": {
        "id": "gPDoKG_-ohO2"
      },
      "source": [
        "**symmetric difference--setxor1d**"
      ]
    },
    {
      "cell_type": "code",
      "metadata": {
        "colab": {
          "base_uri": "https://localhost:8080/"
        },
        "id": "aNOQvAF6oqFL",
        "outputId": "a2bfd1a6-d70e-4e7b-91d3-e163960f001e"
      },
      "source": [
        "A=np.array([3,3,2,1,1,5,4,4,6,7,3])\r\n",
        "B=np.array([3,4,5,5,8])\r\n",
        "print(np.setxor1d(A,B))"
      ],
      "execution_count": null,
      "outputs": [
        {
          "output_type": "stream",
          "text": [
            "[1 2 6 7 8]\n"
          ],
          "name": "stdout"
        }
      ]
    },
    {
      "cell_type": "markdown",
      "metadata": {
        "id": "nWNb1_sOo7I8"
      },
      "source": [
        "**in1d(A, B)** Compute a boolean array indicating whether each element of A is contained in B"
      ]
    },
    {
      "cell_type": "code",
      "metadata": {
        "colab": {
          "base_uri": "https://localhost:8080/"
        },
        "id": "VP8yijbvo98m",
        "outputId": "4e421df4-2843-4a3d-9f84-2dc8ea230c0c"
      },
      "source": [
        "A=np.array([1,2,3,4])\r\n",
        "B=np.array([3,4,5,6,7,8])\r\n",
        "print(np.in1d(A,B))"
      ],
      "execution_count": null,
      "outputs": [
        {
          "output_type": "stream",
          "text": [
            "[False False  True  True]\n"
          ],
          "name": "stdout"
        }
      ]
    },
    {
      "cell_type": "markdown",
      "metadata": {
        "id": "QrRC0DgumY5v"
      },
      "source": [
        "**where** function is used for searching which will return the index"
      ]
    },
    {
      "cell_type": "code",
      "metadata": {
        "colab": {
          "base_uri": "https://localhost:8080/"
        },
        "id": "mIzyaWfYmbGJ",
        "outputId": "0eeaa3a1-9b98-4633-b077-97a187550ba5"
      },
      "source": [
        "A=np.array([[10,20,30],[40,50,60],[70,80,90]])\r\n",
        "print(A)\r\n",
        "pos=np.where(A==30)\r\n",
        "print(pos[0],pos[1])"
      ],
      "execution_count": null,
      "outputs": [
        {
          "output_type": "stream",
          "text": [
            "[[10 20 30]\n",
            " [40 50 60]\n",
            " [70 80 90]]\n",
            "[0] [2]\n"
          ],
          "name": "stdout"
        }
      ]
    }
  ]
}