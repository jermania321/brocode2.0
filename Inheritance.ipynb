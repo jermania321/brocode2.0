{
  "nbformat": 4,
  "nbformat_minor": 0,
  "metadata": {
    "colab": {
      "name": "Inheritance.ipynb",
      "provenance": [],
      "toc_visible": true,
      "include_colab_link": true
    },
    "kernelspec": {
      "name": "python3",
      "display_name": "Python 3"
    }
  },
  "cells": [
    {
      "cell_type": "markdown",
      "metadata": {
        "id": "view-in-github",
        "colab_type": "text"
      },
      "source": [
        "<a href=\"https://colab.research.google.com/github/jermania321/brocode2.0/blob/master/Inheritance.ipynb\" target=\"_parent\"><img src=\"https://colab.research.google.com/assets/colab-badge.svg\" alt=\"Open In Colab\"/></a>"
      ]
    },
    {
      "cell_type": "markdown",
      "metadata": {
        "id": "HSAiFWmeHNHL"
      },
      "source": [
        "# **Inheritance in Python**"
      ]
    },
    {
      "cell_type": "markdown",
      "metadata": {
        "id": "P0i4ZTYSrMhm"
      },
      "source": [
        "**Inheritance** is defined as the capability of one class to derive or inherit the properties from some other class and use it whenever needed. \n",
        "\n",
        "Inheritance provides the following properties: \n",
        "\n",
        "\n",
        "*   It represents **real-world relationships** well. \n",
        "*   It provides **reusability of code**. We don’t have to write the same code again and again. Also, it allows us to add more features to a class without modifying it. \n",
        "*  It is transitive in nature, which means that if class B inherits from another class A, then all the subclasses of B would automatically inherit from class A. \n",
        "\n",
        "Inheritance enables us to define a class that takes all the functionality from a parent class and allows us to add more.The new class is called **derived (or child) class** and the one from which it inherits is called the **base (or parent) class**"
      ]
    },
    {
      "cell_type": "markdown",
      "metadata": {
        "id": "1xScUo0ys-kV"
      },
      "source": [
        "# **Types of Inheritance in Python**"
      ]
    },
    {
      "cell_type": "markdown",
      "metadata": {
        "id": "bOPiNkt0tFwk"
      },
      "source": [
        "Types of Inheritance d**epends upon the number of child and parent classes involved**. There are four types of inheritance in Python:"
      ]
    },
    {
      "cell_type": "markdown",
      "metadata": {
        "id": "gigu0jEutLze"
      },
      "source": [
        "**1. Single Inheritance:**"
      ]
    },
    {
      "cell_type": "markdown",
      "metadata": {
        "id": "zK-1TLDdtWsB"
      },
      "source": [
        "Single inheritance enables a derived class to inherit properties from **a single parent class**, thus enabling code reusability and the addition of new features to existing code.\n",
        "\n",
        "![image.png](data:image/png;base64,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)\n"
      ]
    },
    {
      "cell_type": "markdown",
      "metadata": {
        "id": "DQ2vRL5WvizQ"
      },
      "source": [
        "**Syntax:**"
      ]
    },
    {
      "cell_type": "code",
      "metadata": {
        "id": "oOtPuga5rJ0n"
      },
      "source": [
        "class Base1:  \n",
        "    <class-suite>  \n",
        "class derived-class(base1):  \n",
        "    <class-suite>   "
      ],
      "execution_count": null,
      "outputs": []
    },
    {
      "cell_type": "markdown",
      "metadata": {
        "id": "8fBzmFvhvqAh"
      },
      "source": [
        "**Example:**"
      ]
    },
    {
      "cell_type": "code",
      "metadata": {
        "colab": {
          "base_uri": "https://localhost:8080/"
        },
        "id": "xQxIKKSCaQO-",
        "outputId": "518f5225-2fdc-4e26-e19b-564bfb05b380"
      },
      "source": [
        "# Base class\n",
        "class Parent:\n",
        "     def func1(self):\n",
        "          print(\"This function is in parent class.\")\n",
        " \n",
        "# Derived class\n",
        "class Child(Parent):\n",
        "     def func2(self):\n",
        "          print(\"This function is in child class.\")\n",
        " \n",
        "# Driver's code\n",
        "object = Child()\n",
        "object.func1()\n",
        "object.func2()"
      ],
      "execution_count": null,
      "outputs": [
        {
          "output_type": "stream",
          "text": [
            "This function is in parent class.\n",
            "This function is in child class.\n"
          ],
          "name": "stdout"
        }
      ]
    },
    {
      "cell_type": "markdown",
      "metadata": {
        "id": "2M7r5kNov7zv"
      },
      "source": [
        "**2. Multiple Inheritance:**"
      ]
    },
    {
      "cell_type": "markdown",
      "metadata": {
        "id": "CQkhNyBkwX45"
      },
      "source": [
        "When a class can be derived from **more than one base class** this type of inheritance is called **multiple inheritance**. In multiple inheritance, all the features of the base classes are inherited into the derived class. \n",
        "\n",
        "![image.png](data:image/png;base64,iVBORw0KGgoAAAANSUhEUgAAAW8AAAFuCAYAAABOYJmxAAAgAElEQVR4Ae2dXagd13n3ly35+9hOIifHX8lxfGwpcdzIeh1XddxW/bTc1kHBBLvGlNNSiiAE9OIbkYsXQ6nRTUAlBISudBGCQmkREYc6N+YEYiMMm+giBCtQIjAUQyjstKE2uCnPy7NnnjNrrzOzz8zZ87nmt2Exe/aeWR+/Z63/nr3meWY5CV6/+c1vRFPea9F3evx0Os07bZbfXvKkPHiGHWpRn1j0Hf2z+piGZ7/Hn2NwZATorP3urGqpRTZa9B3ijXhnIz15N/T+4qwBtr127Zr89Kc/lZ/97Gc7kn5e9J0e/8477+w4Rz9fdN5ev6O86jZaxBqe8NQ+4Cf6S7/07Ne//vX2xYvq9Q7xfuSRR8Q5R4IBfYA+QB/oUR94880358U7/Cvx6KOPzgx22223ycrKCgkG9AH6AH2gwz5w4403zjT5Rz/60Zxc75jzNvHe2tqaO5AdCEAAAhBon8DBgwcR7/axUyIEIACB5Qgg3svx42wIQAACnRBAvDvBTqEQgAAEliOAeC/Hj7MhAAEIdEKgULw1KtJP6+vrs8lxblh2YicKhQAEIDBHwMR7c3NzTqvxNpnDxA4EIACBfhEw8cZVsF92oTYQgAAEFhJAvBfi4UsIQAAC/SSAePfTLtQKAhCAwEICiPdCPHwJAQhAoJ8ECsXbniZoW3swFd4m/TQktYIABMZFwMR7x4OpTLRti3iPq2PQWghAoN8ECsU7rDYPpgqJsA8BCECgOwIm3rgKdmcDSoYABCBQmQDiXRkZJ0AAAhDongDi3b0NqAEEIACBygQQ78rIOAECEIBA9wQKxdu8TGyLt0n3xqIGEIAABIyAiTeugkaELQQgAIEBECgU77DuuAqGRNiHAAQg0B0BE29cBbuzASVDAAIQqEwA8a6MjBMgAAEIdE8A8e7eBtQAAhCAQGUCiHdlZJwAAQhAoHsCheJtLoK2xVWwe2NRAwhAAAJGwMQbV0EjwhYCEIDAAAgUindYd1wFQyLsQwACEOiOgIk3roLd2YCSIQABCFQmgHhXRsYJEIAABLongHh3bwNqAAEIQKAyAcS7MjJOgAAEINA9AcS7extQAwhAAAKVCRSK93Q6FT+tr6+Lc05YPb4yY06AAAQgUDsBE+/Nzc05rXZhSbgKhkTYhwAEINAdARNvXAW7swElQwACEKhMAPGujIwTIAABCHRPAPHu3gbUAAIQgEBlAoh3ZWScAAEIQKB7AoXibU8TtC1PFezeWNQAAhCAgBEw8eapgkaELQQgAIEBECgU77DuuAqGRNiHAAQg0B0BE29cBbuzASVDAAIQqEwA8a6MjBMgAAEIdE8A8e7eBtQAAhCAQGUCiHdlZJwAAQhAoHsCheJtLoK2bdtV8Be/+IVcu3Yt+vTBBx903wuoAQQ6JsB4r24AE+/euQqad4s+yTDmFN4prm5CzoDA8Akw3qvbsFC8w6wMbluPhLXy3C37xN1+U3zpxhtmP0qId9jT2B8jAcZ7daubeIca0vkjYbeNef7PxU3+Nr60djfiXb2/ckakBBjv1Q07APF+Ttzkb+JLa3ch3tX7K2dESiAT7z+Lb6yrfjUw3gcg3sfFTTbiSw0YM9JxTbNGQCATb8Z7WXMPQLz/VNzkr+JLiHfZPspxIyCQifez8Y111a8GxnuheJuLoG3bdhXMjPkn4iavxJfW7mTaZASiRBPLEWC8l+PkH2Xi3V9XwfN/JG7ycnwJ8fb7Ie9HTiAT7z+Ob6yrfjUw3gvFO+xLBrd1V8GZeP+luElkqQFjhjZjHwJDIWD64hjvpU1m4t1jV8E/EDd5Mb6EeJfupBwYP4FMvBnvZa09APE+Jm7ytfjS2gpz3mV7KcdFTyATb8Z7WWMPQLx/T9zkhfgS4l22j3LcCAhk4s14L2vuAYj374qbfDW+hHiX7aMcNwICmXgz3suaewDi/Yy4yYn4EuJdto9y3AgIZOLNeC9r7kLxnk6n4qf19fXZHG373iZPi5t8Jb60dgdz3mV7KcdFTyAT7y/HN9ZVvxoY7ybem5ubc1rdowdT/Y64yV/ElxowZvQjnAZGSyATb8Z7WSObePfYVfC3xU30YTWRJcS7bB/luBEQyMT7aHxjXbWrgfE+APF+StxEH1YTWVq7nWmTEYgSTSxHIBNvxns5YiIDEO8nxU304VSRJcS7bB/luBEQyMT7S/GNddWuBsb7QMRbH04VWWrAmCMY4zQxUgKZeOvFWmRjXdvTwHgvFG97mqBtu3uq4BFxE304VWSpAWNGOq5p1ggIZOLNeC9rbhPvHj9V8AlxE33eQVPpy+KOpYscP/94g+UE9V+7jTnvsr2U46InkIl33eP9/8zGWeEi5o/fI+6bXxS3FYzPuvWmgfFeKN5hbzG47ft5f1Hc5PebS5cPJsY9cJM493Fxlxssy29HA8YMbcY+BIZCwPTFna97vD+Rivct4p68O0jJM/Vnwv74Q+LebnDsNzDeTbx77Cr4W+ImGjLbUHpVg2XuFvf6ZxMjv6q//A2V5efbgDGHMlCpJwRCApl41z3ev5iK91rBuP4dcd9IRXyj7rI9HWlgvA9AvHUqQ0Nmm0iHxR104g5+VtwkfX/gAXFvN1FWkOfarbNOFf5qhp2afQiMgUAm3nWPd1+8gzFomrL1uUTgD6jAFxyz7OcNjPcBiPdj4iYaIt9AOn9/erWtf9WeFvearuh+k7jzGijQQHl+ng0YcwyDnDbGSSAT77rH++PplfdnFozpMscsqQcNjPcBiPfnxU1UTOtOT4nb0Hnuu8VdTvO+/HBi6OcfbaC8oP4NGDPOYU2rxkAgE++6x/tjqXh/unhM//CR5JinHy4+Zln9aWC8F4q3uQjatjtXwUPiJhp1VXPaSg32/CNe3kfEPa+eJ3eJu1xzeWH9GzDmGAY5bYyTQCbedY/3z6fi/aA3zr2xffmQuKf3i3N3iLugPubed3W+b2C8m3j32FXwoLiJQq05fetAYtRvH57P+/ynks9f1SuAmsv081u7ZVYOc95xihGtqkYgE++6x/uhVLxTd2CXt1XhDnTAH6t1vG9gvBeKd4je4LbvKqhXxuq4X2d6TNzTTtyBT4l7O8j37UfEHSj4rs46NGDM0GbsQ2AoBExf3Pm6x3vqCuxuFvfkys50XyrmB1bEfVvn2wM9qGu/gfFu4h1eAPbokbBqTHXfqzFd/kyJX2Mn7tvqOlRjuX5eDRhzKAOVekIgJDAv3nWOuUfTsX5f8Vj+3meSCzZ3u7jvqfNCneWneTUw3gcg3noTQYHWmF5VN7394p68oyAlUxrueXUdqrFcP68GjBkOCPYhMBQCmXjXPd6TRWScu3fxWH4tWRDcvVx3+al+NDDeByDe6oOtvp91pYfTaZHVBXmuJ/7fbkXc5brKDfJZu5k576EoC/VsnEAm3g2M99k896Lx/ri4C6vJFfoxvbEZjNU69hsY7wMQb7361bmomtL59EblNx5anOdryfO23av6S1xT2X4+DRiz8RFGARBoiEAm3jWP98lD6bTJpxaP49fTKMuX6y4/1Y4GxnuheJuLoG27cxVU5/rP1ZQeFfeC3qDYJ+7CLnlevi8x+oFPiHt7l2P3Ur8GjNnQuCJbCDROIBPvOse7jtu1VLw/Wawh/3xfOue9T9x59XYZxng38e6xq6D+jVGgNaStNKLywD0l8vts4pGif7m+tV7i+Ir1W9MAISfhneLGRwkFQKCHBDLxrnG8zzTj06l46z2u23amtX3p907cNzSQp+I4Lnt8A+O9ULxD+xrc9l0FHxA30YjHGpJNhWyUzNOOP6Y3O2oo38+jAWOGNmMfAkMhYPrizpccm/5YWvj+wUyc83y877tV3PMHxF3Qufaax7ifXwPj3cQ7vADskavg/eImeuUbWWrAmEMZqNQTAiGBTLwZ7yGbov0BiLde9eqvYmQJ8S7qk3w+QgKZeDPey5p/AOKtLj56BziytKbPU2DOu2xH5bi4CWTizXgva+kBiLfeJdYbCZElxLtsH+W4ERDIxJvxXtbcAxFvvQMdWUK8y/ZRjhsBgXnxjmysq3Y1MN4LxXs6nYqf1teTMNP2vU0OiJvoTYzIUuqiFN4pHsE4pYkQ2EEgE2/G+w44BR+YeG9ubs5pdY+8TT4hbqI3MSJLiHdBl+TjMRLIxJvxXtb+Jt7hBWCPxPtj4iYa2hpZQrzL9lGOGwGBTLwZ72XNPQDxvlvcRCMiI0uId9k+ynEjIJCJN+O9rLkHIN53ipvoX6nI0tqNuAqW7aUcFz2BTLwZ72WNPQDxXhE3+Xh8CfEu20c5bgQEMvFmvJc1d6F429MEbdvdUwXvEDfRv1KRJcS7bB/luBEQyMSb8V7W3CbePX6q4G3iJvpXKrK0dgPTJmV7KcdFTyATb8Z7WWMXineYgcFt38/7VnET/TWOLCHeYRdjf8QETF/cecZ72W5g4t1jV8GbxU301ziyhHiX7aMcNwICmXgz3suaeyDirb/GkSXEu2wf5bgREJgX78jGumpXA+N9AOK9X9xEf40jS2u6HBtPFRyBLtHEEgQy8Wa8l8A1O2QA4r1P3EQNGllCvMv2UY4bAYFMvBnvZc1dKN7mImjbzlwF//4Gcf8SYbqfK++ynZTj4iewLd6M99LGNvHur6tg3rpzDX32f52T+xvKW6dI8lJ4p7i05TgQAhER2BbvgnGSN3aG+Fmd471QvMN+YXDbchU8cuSIrKystJb+3803izgnP7vxRvn0HXe0Vu5bb70VomYfAqMj0PZ4b1Nb/LLqHO8m3uEPQudPFWy99/70pyKf+MRMwOWpp0Q+/LD1KlAgBCDQAwLvvSfy7W/3oCKLq4B4+3zeeUfkllsSAf/KV0T+53/8b3kPAQjETuC//1vkyJFEA/7hH3rdWsQ7NM8PfiCyb19ivFdeCb9lHwIQiJnAiy8mY//WW0V6PqWJeOd1xO9+NzGgcyKnT+cdwWcQgEBsBM6cycb9P/1T71tXKN7mImjbtl0FOyfnG/Ls2c6rQwUgAIEGCfzrv4rccEMi3gO5YDPx7p2rYINmKp/1qVOJMdWoejXOCwIQiI/AtWsid92VjPVnnxX53/8dRBsLxTusfduugmH5neyrEXXeW6dPdB78zTc7qQaFQgACDRH41a9EDh5Mxvijj4r85382VFD92Zp44ypYxFY9Tv7wDxPjrqyIqEcKLwhAYPgE9OLsueeSsX3nnSI///mg2oR4lzHXf/2XzHy/9QpcfcH/7d/KnMUxEIBAnwno3LaO6f37RX74wz7XNLduiHculpwP/+M/RB5+ODG2bnWfFwQgMEwC3/9+MpZVvM+dG2QbEO8qZtMr7vvuS4yuUZh6Rc4LAhAYFoGf/ERE/bhVuE+eHFbdvdoi3h6MUm/9MHqdCycKsxQ2DoJALwj88pciDz6YCPeXvyzy0Ue9qNZeKlEo3tPpVPy0vr4+eypeWw+m2ktjWjvHD6NXb5SBuBa1xoeCINBHAirUzzyTCLcKuAr5gF8m3pubm3NaPb4HU1U1oh9Gr/7gvCAAgX4T0CkSnSrRKZOrV/td1xK1M/HGVbAErB2H+GH0GpHJCwIQ6CcBvSmpwq0BdwMIfS8DEfEuQ2nRMX4YPVGYi0jxHQS6IfDjHyfugCreEV1kId51dCcLo9coTJ1O4QUBCPSDgD6b+557kqvur32tH3WqqRaIdx0g/TB6fR44UZh1UCUPCCxHQEPfn3giEW7dfvDBcvn17OxC8banCdp2dE8VrGoodRnUBRz0r5lGYapLIS8IQKAbAn7ou1556xV4ZC8Tb54qWIdhdek0Dd5RAddgnn//9zpyJQ8IQKAqAT/0Xee8I3wVinfY1lE+VTCEUGZfw+a/8IVEwHVLGH0ZahwDgfoIRBD6XgaGiTeugmVolT1Gr7j9MHoWMy5LjuMgsByBSELfy0BAvMtQ2ssxfhg9ixnvhSDnQKAaAT/0XR/1OuDQ9zINR7zLUNrrMWEY/V7z4TwIQGAxAT/0XRdXUE+TyF+Id9MG9sPoB7I2XtNIyB8CtROw0HddzkyXNRvBq1C8zUXQtrgKLtEb/DB6FjNeAiSnQiCHgI4pC33XhYRH8jLxxlWwaYNbGD2LGTdNmvzHRMBf9T2i0PcyJiwU7/BkXAVDInvY98PoWcx4DwA5BQIeAX/V9xdf9L4Yx1sTb1wF27C3H0bPYsZtEKeMWAn4q75HGPpexmyIdxlKdR7jr0bPYsZ1kiWvsRAYQeh7GVMi3mUo1X2Mvxq9LmZMGH3dhMkvZgIjCH0vYz7EuwylJo7xV6PXMHoWM26CMnnGRmAkoe9lzFYo3uYiaFtcBcvgrHiMvxq9LmZMGH1FgBw+KgJ+6DtLD4qJN66CXY0CDaPXm5fqp6ph9DqfxwsCEJgnEIa+M06KxXuenAiugiGRGvfVbVAXcVAB//rXa8yYrCAQAQFdRMFWfR9J6HsZq9mVN66CZWg1eYyG0WsAjwr4a681WRJ5Q2BYBNSHW8fFiELfyxgI8S5Dqa1jvvOdpJNqR9X3vCAwdgJ+ZPKIQt/LmB3xLkOpzWP0qlvFW6/CWcy4TfKU1TcCIw59L2MKxLsMpbaP0XlvFXCdByeMvm36lNcHAiMPfS9jAsS7DKW2jwnD6FnMuG0LUF6XBAh9L0W/ULyn06n4aX19XZxzsrW1VSpjDlqSgB9Gr0uqqU84LwjEToDQ99IWNvHe3Nyc02oX5oCrYEikhf0wjJ7FjFuAThGdEiD0vTR+E29cBUsja/lAP4z+qacIo28ZP8W1SOD8+czb6ty5FgseZlGI9xDsFobR65QKLwjERODHPxbZvz8Rb0LfS1kW8S6FqQcH+WH0r7xCGH0PTEIVaiLw3nsi99yTCLeu+k7oeymwiHcpTD05yA+j5+qkJ0ahGksR0NB3XUxBXWMJfa+EslC87WmCtuWpgpW4NnewH0Y/sjX7moNKzp0RIPR9z+hNvHmq4J4RdnCiH0avK9PzgsAQCRD6vpTVCsU7zBVXwZBIx/sWRr9vH2H0HZuC4vdAgND3PUCbP8XEG1fBeS7D2PPD6N95Zxh1ppYQIPS9lj6AeNeCsaNM9K68LuCgN3t0MWPC6DsyBMWWJqCLKuiNSe2zI131vTSrXQ5EvHcB1Puvdek0XUJNB4OG0bOYce9NNtoKfvRRtqiCugaqiyCvPRNAvPeMrkcnahi9LmKsAq5bwuh7ZByqsk3g5Mmkj2owjgbl8FqKQKF4m4ugbXEVXIpz8yfrFffDDyeDQ8PoWcy4eeaUUJ6AhrvrxYUmDYPntTQBE29cBZdG2YMMNIxe5751gOhcOGH0PTAKVZhdZVvouz54ilctBArFO8wdV8GQSE/31evEVqPXMHpeEOiSAKHvjdE38cZVsDHEHWSsYfTq/61X4FzpdGAAipwRIPS90Y6AeDeKt8PMNfLSVqM/e7bDilD0aAkQ+t6o6RHvRvF2nLmKtl59q4gTRt+xMUZWvEUAa99j1fdGjI94N4K1R5nayiQ6jcJixj0yTMRV+f73k4sGvXDg4WmNGbpQvM1F0La4CjZmg+YztjB6vZFJGH3zvMdcwk9+InLrrYl467QJr8YImHjjKtgY4h5kHIbRs5hxD4wSYRU09P3BBxPhJvS9cQMXindYMq6CIZGB7fth9BrMQxj9wAzY8+oS+t66gUy8cRVsHX0HBYZh9LrPCwJ1ECD0vQ6KlfJAvCvhiuBgP4xeH2hFGH0ERu24CYS+d2IAxLsT7B0XGobRs+BrxwYZcPH+qu8EhLVqSMS7Vdw9KswPo1dvFF4QqEpAF1Vg1feq1Go7HvGuDeUAM/LD6DWoghcEyhL41a+yRRVY9b0stVqPKxTv6XQqflpfXxfnnGxtbdVaATLrmIAfRq8LG/OCwG4EdJrtuecSl8C77hLRK3BerRMw8d7c3JzTahfWBFfBkEhE+34Y/Q9+EFHDaEojBCxql9D3RvCWzdTEG1fBssRiPc4G5C23EEYfq43raBeh73VQrCUPxLsWjJFkos//1udRaBg9ixlHYtQam0Hoe40wl88K8V6eYTw56Mo7thq9LmZMGH08tl22JYS+L0uw9vMR79qRDjxDDdrRNTD1ClzD6FnMeOAGraH6hL7XALH+LArF254maFueKlg//N7mqIJtq9GrkBNG31tTtVIxC33XpwWy6nsryMsUYuLNUwXL0BrTMRpGr1MnegWuYfQsZjwm62dtNU8k7Qd6s5JXbwgUindYQ1wFQyIj2NeblrYavd7MJIx+BEb3mqgr4NhSeoS+e2D68dbEG1fBftijf7XQMHp1H9Qrr1On+lc/atQMAQ280QActbsG5PDD3QznJXJFvJeAN5pTNXDHVqNnWav4zU7o+yBsjHgPwkw9qKQfRs9ixj0wSENVIPS9IbD1Z4t418803hzt5pVehRNGH6edLdKW0Pfe27dQvM1F0La4Cvbelu1U0Aa3zoOzmHE7zNsqhdD3tkjXUo6JN66CteAcSSYWRq+eKITRx2F0Qt8HZ8dC8Q5bgqtgSGTE+2EYPYsZD7szvPceq74P0IIm3rgKDtB4nVbZD6PXaEzC6Ds1x54L/+ADkSeeSFwCdVUcFXJegyCAeA/CTD2tZBhGz2LGPTXUgmq9+GIi3IS+L4DUz68Q737aZTi18sPo9YmEhNEPx3bqs69BOIS+D8dmXk0Rbw8Gb/dIIAyj32M2nNYiAULfW4TdTFGF4m0ugrbFVbAZA0STqx9Gz3Mw+m1WQt/7bZ+StTPxxlWwJDAOW0DAD6PXgB5e/SNA6Hv/bLLHGhWKd5gfroIhEfZzCWjovM6haoQeYfS5iDr7kND3ztA3UbCJN66CTdAda552I0zD6N98c6wU+tdufSqk/bDqnDevQRNAvAdtvh5X3oRCFzMmjL57Q507l3mW8GTI7u1RQw0Q7xogkkUOAf2L7ofRs5hxDqSWPtKly/bvT8Rb/bp5RUEA8Y7CjD1thPp86xJq+lddFzMmjL59Q2nEpEZOqg00klIjKnlFQQDxjsKMPW6ELl5sq9FrGD2LGbdnLD/0/cEHCX1vj3wrJRWK93Q6FT+tr6+Lc062trZaqRiFRERAw+j1yluv/vRKnDD6dozrh77rUwN5RUXAxHtzc3NOq13YSlwFQyLsVyKgc962Gr2G0bMmYiV8lQ82jx/9wWTV98r4hnCCiTeugkOw1tDrqGH06n2igvL1rw+9Nf2tP6Hv/bVNjTVDvGuESVYlCKjft61G/9prJU7gkEoEdHqEVd8rIRvqwYj3UC035Hr7YfTf+c6QW9Kvuv/yl9miCgcPimgoPK9oCSDe0Zq25w3zw+hZzHh5Y330kcgzzyRTUnrlrQ+f4hU1gULxtqcJ2panCkbdD7ppnN1U02kUwuiXs8HJk4lws+r7chwHdLaJN08VHJDRoqqqH0bPYsZ7My2h73vjNvCzCsU7bBeugiER9msh4IfRqyshYfTVsBL6Xo1XREebeOMqGJFRB9eUMIyexYx3mvDSpZ2f+aHvOt9N6PtORhF/gnhHbNxBNc0Po9dw+rww+jFH925siFy4kJk0DH1XTxNeoyKAeI/K3D1vbBhG7y9mPJ2KPPRQzxvQYPXW1ubbT+h7g7CHkTXiPQw7jaeWfhi9PlLWwuh1WTWNzLx6dTwsrKX6w6Vt16T/PjS4yfYJfTdKo9sWire5CNoWV8HR9Y3uGuyH0as3ir70ylMFa4xrY+p8t4n1Y49l71noubs+2oOSTbxxFeyBMaiCR8APo/+7v8sE69gx76CRvPWvtE3En3tuJI2nmUUECsU7PAFXwZAI+40T0MhLDToxwbJt4wX3rAD9wbK2+1u9B/DXfy3yj/84zumknpmp7eqYeOMq2DZ5yismcP16Ikhf/Wq+aOW5zRXnNvxvfMHOe6/iPjYmw7fq0i1AvJdGSAa1EdCbkUVXmb5o2Tx4bQX3OCO9Qem33X+v7oNjvIHbY3O1WTXEu03alFWOgF5FqjD5QuW/H5PLoHnZWPvvvjvxNtF/J7xGTQDxHrX5e954dZFT8TJPExMw3Y5FvE6cSH7ElIEG6SgTXhAQkULxNhdB2+IqSH/plMDVq/KLF16Qaysrcs05ufbNb8q1a9eiTB/4Ye5hZGWnRqDwPhEw8cZVsE9WoS65BMzjSRfCjjmF3gO5MPhw9AQKxTskYwOH1eNDMuy3RcD6oLtln7jbb4ov3XjD7EcJ8W6rRw27HBPvsL+wevyw7Rpl7bfF+/yfi5v8bXxp7W7EO8qe20yjEO9muJJrAwQy8f4zcZO/iS+t3YV4N9BvYs0S8Y7VshG2KxPv4+ImG/ElxDvCXttckxDv5tiSc80EMvF+Vtzkr+JLiHfNPSbu7BDvuO0bVesy8f4TcZNX4ktrdzJtElWPbbYxheI9nU7FT+vr67OOhbdJswYh92ICmXj/sbjJy/ElxLvY+Hyzg4CJ9+bm5pxW422yAxUfdE0gE+8/Ejf5y/gS4t11FxtU+SbeuAoOymzjrGwm3n8gbvJifAnxHmfH3mOrEe89guO09glk4n1M3ORr8aW1Fea82+9Wgy0R8R6s6cZX8Uy8f0/c5IX4EuI9vk69RIsR7yXgcWq7BDLx/l1xk6/GlxDvdjvUwEsrFG97mqBteargwC0dQfUz8X5G3OREfAnxjqCXttcEE2+eKtgec0raI4FMvL8sbvKV+NLaHcx577FvjPG0QvEOYdjAwc87JMN+WwSsD7rzvyNu8hfxJcS7ra4URTkm3rgKRmHOuBuRifdRcRN9OFVkCfGOuwPX3DrEu2agZNccgUy8nxI30YdTRZbWbmfapLnuE13OiHd0Jo23QZl4f0nc5E/jS4h3vJ23gZYh3g1AJctmCGTi/aS4iT6cKrKEeDfTcSLNtVC8zUXQtrgKRtoDBtSsTLyPiJvo800iS4j3gHpj91U18cZVsHtbUINdCGTi/YS4iT7fpIF0+YviXr5X3NrNs6oTgqUAABKhSURBVPln524W9+S94l5rsExrx9ptzHnv0gf4OiNQKN7ZIck7Gzi4CoZk2G+LgPVBd/6L4ia/X3P6bXEvJ2tIugO3iXv+AXGvPixu4z5xazclQn7fqrh/1ujOustO80O82+pKUZRj4o2rYBTmjLsRmXj/lriJimhd6Uvink0FeuML+fl+695EwA/cI+6HdZUb5IN4x92Ba24d4l0zULJrjkAm3o+Lm2iIfE3ptY8lwvzyLvm+mjz1z23sctxe67V2K9MmzXWf6HJGvKMzabwNysT7MXGTp2tKj4s74MS5j4m7vEueW4fE6TqTL3+uprKD8hDveDtvAy1DvBuASpbNEMjE+/PiJhplWUP63qeTq+4nH64nv2XqhHg303EizbVQvM1F0La4CkbaAwbUrEy8D4mbaJRlDen1dMrkG/qDUEN+y+SBeA+oN3ZfVRNvXAW7twU12IVAJt4HxU00UKeG9HrqYfIN/UGoIb9l8li7hTnvXfoAX2cECsU7OyR5ZwMHV8GQDPttEbA+6M4/Im6igTo1pG3x1h+EGvJbJg/Eu62uFEU5Jt64CkZhzrgbMS/eGjRTQ/pWOm2y8Wg9+S1TJ8Q77g5cc+sQ75qBkl1zBDLx1puLGqhTQ/refekNywdL5Pd5cc/fLu6Fe8VpJGYd5ft5IN7NdZ4Ic0a8IzRqrE3KxPuz4ibqa11HWhd3UF0FV8Rd3iW/yw8kQq+BOm/vcuxe6paG5Id/g2O1J+1ajgDivRw/zm6RQCbea+Im6utdU3r9zkSUX/jMgjw/J24juaE4C5uvq2w/H8S7xd40/KIQ7+HbcDQtyMRbRVYDZepK6+Ke3ZcK+APi3g7zfVTcq8n6ku7xT+Z8Hx6/x33EezR9uY6GFor3dDoVP62vr886N94mdWAnj70QyMRb56fVO6TG9PZnxD2dCviBm8Q9/zFxr35S3Mt3ibtPp1WcuMfvFne5xjLD+qcPwGLaZC+9Y3znmHhvbm7OabULUdjAQbxDMuy3RcD6oDv/gLiJeofUndbFnV8V9/xtmWC7feKevFPc6/qDUXd5QX6Id1tdKYpyTLzDH3vEOwrzxtWITLzvFzdZjy8h3nF12IZbg3g3DJjs6yOQife94ibqcRJZQrzr6ywjyAnxHoGRY2liJt6r4ibqcRJZWts/m1sP/wbHYj/aUS8BxLtenuTWIIFMvD8pbvLp+BLi3WDviS/rQvG2pwnalqcKxmf8obVoXrz1BmJkCfEeWpfstL4m3jxVsFMzUHgZApl4HxA30ZuWkaW1xFWRaZMyvYFjCsU7RGMDB1fBkAz7bRGwPujOf0LcRG9aRpYQ77a6UhTlmHiHP/a4CkZh3rgakYn3x8RNPhVfQrzj6rANtwbxbhgw2ddHIBPvu8VN7okvId71dZYR5IR4j8DIsTQxE+87xU106iSytHYjroKxdNYW2oF4twCZIuohkIn3irjJx+NLiHc9HWUkuRSKt7kI2hZXwZH0iB43MxPvO8RNdOoksoR497j39a9qJt64CvbPNtQoIJCJ923iJjp1Ellau4Fpk8Dm7BYTKBTv8BQbOLgKhmTYb4uA9UF3/lZxE736jiwh3m11pSjKMfHGVTAKc8bdiEy8bxY30avvyBLiHXcHrrl1iHfNQMmuOQLz4q1X35ElxLu5zhNhzoh3hEaNtUmZeO8XN9Gr78jSWrJiT/g3OFZ70q7lCCDey/Hj7BYJZOK9T9xEBTyyhHi32JuGX1SheJuLoG1xFRy+sYfegm3x/vsbxP1LhOl+rryH3kfbrL+JN66CbVKnrD0R2BZvXQw44sS0yZ66x+hOKhTvkIQNHFwFQzLst0XgyJEjsrKyEn1666232kJKOQMmYOId/tjzVMEBG5WqQwAC8RNAvOO3MS2EAAQiJIB4R2hUmgQBCMRPAPGO38a0EAIQiJAA4h2hUWkSBCAQP4FC8Z5Op+Kn9fX1mXsW3ibxdwpaCAEI9J+Aiffm5uacVuNt0n/bUUMIQGDEBEy8cRUccSeg6RCAwPAIIN7Dsxk1hgAEICCIN50AAhCAwAAJIN4DNBpVhgAEIFAo3vY0QdvyVEE6CwQgAIH+EDDx5qmCvbHJ+yInnIhL0xvTXWo2Fdmw40+IvL/L4Qu/trLDfKYi587szPuMlhseu7CAnV9eOZO09cyVnd/V9cnFE/WUYfk0WNXFTb6StOPExeCwAvsER7EbF4FC8Q6byVMFQyJN7ZuApoJ88o3FBU0vZUK/rJCq8s9+OAJBPrOaL9KI92Lb1P5tgXgX2af28smwTwRMvHEV7I1VTEAPixxWAT8psujie3Y1uCqyWsNVcKF415F3AWCuvAvAVPi4jh/RCsVxaD8IIN79sINXCxPvEyJnN5Kr6q0Pve/9t+mxJ87kXzH7h5Z675XtT780KQ6IdynLLDyoSfssLJgvuySAeHdJP7dsT0CvplMip7Zyj5T3LybifvFKvngvFMb0L7g74+Xtla3ibfnb/Pts602p5InG7DPNU+dhT4qspdM/RzdELr3rlZW+XVTH96+InNnI8jh0TORsAYudOWef2Fx1OK/u1/XiKZGjawnPtaMiZy6JhL+Zlo/OeW+dEzl+KDl+9ZDIyXPF/5Cm1xMWh3T6yYlo/qcu5h8/K+OEyLvvipw6lhx/6LjIG2qQYNpkN/vMCLyflH0srauWrxy1feE/Oitbi9o6K2Ln7Nq+dxM7lWmfFvqGx86tiZw4JfJuWJnMfLzLJ4B453Pp8FNfQO1m5KmdQqI13B5s/jle1RcJownBIvGeXhE5e1bkuArwYZHTZ0XOXsgGfaF4nxQ5c1REB+bJ0yJnT2UCvHHJq6DqUcENy6tn06mgVZGXTiX1eCkVoKNn8nnM55ztmejmiveGyKmjIipQp7R9p0RMhI6ezfLQd5bPMRXVNZENrddpkeOp6K/mTHFdf0PkaPoDdvxk0o6Tx1PRf0nk+nwRSRmHRY6uihx6KW23HReI9272+fBKWrbHUNtnP1IhR+tPp7R+Zrvd2ncxs5O1z+y0avW2Nl4XOan9Qn/Ajif96bT9wK+KXAxh2Hls8wgUire5CNoWV8E8fE18FgjxpaKpk/S4mRgG51i1ioRx9n2JK2/LJ0+k9bu8z2efOREduO/6l67XRV7SK89VEd+DJq+OKjqz+f6jIlvBFdnFl5LBv9uNXKu7bk10c8XbiaiIzRVzPf0nszq72N3OyvLRG8NzbftQ5PThpF4XfAEyu6yKXAj+dVi7i34gDp/O+YEKxNsqlmcH/e6s1ilPFL36+lNy1r4dousdf9GfT7ue/rCXtJPl/9KF+bZt/8gcFblqjWK7GwETb1wFdyPV2vc24NPpCfMmCadO7C/zJVWd4ByrqwlEKFqz7xsW7zkRSyt0/UIicL6rW14d7QfrdN4Uif0bOb7zqtXaHW5NNEIO9kMzJ0jpyXaO/519djZHYfSfgl5R+mXYZ8cvhDVK9k1c8wQ0rwz7t+Tz05xyxfuqyPFjImv+tJhXDWtLXvv8NtgpeXay9uX+kKqwHxI5Zv9erqY/yAV2s7xybW6VYOsTKBRv/yB9j6tgSKSp/VCITayCqZPZ4NtIrxjDc9K65Q247Wo3Kd4nCoT1usgxnULw2rKjjh+KnEqnGYr8qU14LvlXgdsN2/nGjg9FaSZ6q/lXe1avPHHLK9d+TP0f2QvpnHXRdMCV06ngez8GVlf/38l2iypeeW+f96HI9H2RK1siF8+JnDyRTWNVbZ/P0Oqax2O77PRN3g/33DFp21YLfmzmjmVHCZh44yrYm/6QI8R2Jbp9hZYesz1/nHOOtscEyB9w2+1sUrxPb5cy/yannjvqaMfYHLTOQwfJ5oxz2zVf4mzPRCY8PveKNT3f6pUnbnk/Kibe/lWxXdlvnNnZBm3T6XQKyD/H6ppXRqUrb23HVOTsS+mcdPqDaDcsj6XTPFXb5zO09uXWNbCD8Ty2kc9C7x3Mpsq8G+JBFuzOE0C853n0YM/Ey+vE4dSJXcXMpky0yjnn6Mc2YPwBt93CJsW76Oopp5476mjHeGKjgpOXctu13cDsjQlieHxb4p1Xd/+zRsR7KnIy9W5Rb45LWyLXp9lcszFpW7z9due+9/p9ZkHe5RBAvHOgdPuRiZffidOpk9X0JtYF9QbwPRvyzulSvP26+zRt3rPMtEnR1IufX8n3JlRti7dNm5S5MrWmWF1zz6kwbWI/8MfOWc7zWytnGfG2PKpMm5zObdh83dgrRQDxLoWpzYMKhHg2dbIqsvVucod/7iZRwTn2V37u2LQtNrgXuQpas4uuUPM+t7/S2/8KLBMRsTL9+uy48va8Q/Ly8LIr/dZEpm3xtrbl3nwsqL3VNVfjKoi3lR22eVas3UdxIsuIt91k9O253Sy9d7EqotMkMwecK8n0zWG7gbl9IG/2SKBQvM1F0La4Cu6RcOXTCoTYpk5eSudJ525oFZzz4VYyYHa4fpnbnk5H+FMcBfnMBPnwzht7i8T76Omd7nczV8HDIlc8F8I8kSmst8JM666BLtv3AHaBbIIYClle/S0rq1dVcfOnQLSuMx/5oyJX5nwRk/lo9YVX/3LfjdDqWlm8A/vYD2Wey6G5W+q0RdX2zTFc0D4Tdt/TZvaPMfDImeO9KnKiwDPHjmO7TcDEG1fBbSRdvykQUL35tP30QH/KROtbdI76+qZBERaEYkER6tt8sqR4m6Ac16CUMkE6aZBJWKb6HM8N/gVTOyqes+e1WDDMWZFTXrTl9s3aEvay+odlNy7e+ltzKfXsWBWxIBa1gQUCHQsCjqyuVcTbzpmzz/upX70XEGMBSKvHRM6Zp4tXkOXjfbRN1/7FhQyve0E6FkxlN5TzLho20oAmjRqdBX1pEJBFqh6b/2HfLpw3eQQKxTs8GFfBkEhT+wuE2LxOfHe0WTUWnKMx3pfOZFF1fuj3TLxKXHl/qKHaaVSgXq3Z4M4TP/vs+vvJs1lm4fGpcG3luPbZFW4oCtqu97fm3dpmodQnRd7wA2FK2MFEKSzD6ppTre2bvVWvTOeuvNO6TYPwcf0R0+kEfaxB+LK65ny1Izzezi2yj/6o6/Nx7BEFM9tfTB7tq/9u1JbHvCvdRWUXibfWwdrnl3PK+5G3es6206Q/Wui91mEWrp/Wa+5YdhYRMPHGVXARJb4rT2CRIJbPhSMhAIFdCCDeuwDi64oEEO+KwDgcAnsjgHjvjRtnFRFAvIvI8DkEaiWAeNeKk8zyn7MBFwhAoG4CiHfdRMkPAhCAQAsECsV7Op2Kn9bX18U5J1tbeU96a6GmFAEBCEAAAtsETLw3NzfntNptH5G+wVUwJMI+BCAAge4ImHjjKtidDSgZAhCAQGUCiHdlZJwAAQhAoHsCiHf3NqAGEIAABCoTQLwrI+MECEAAAt0TKBRve5qgbXmqYPfGogYQgAAEjICJN08VNCJsIQABCAyAQKF4h3XHVTAkwj4EIACB7giYeOMq2J0NKBkCEIBAZQKId2VknAABCECgewKId/c2oAYQgAAEKhNAvCsj4wQIQAAC3RMoFG9zEbQtroLdG4saQAACEDACJt64ChoRthCAAAQGQKBQvMO64yoYEmEfAhCAQHcETLxxFezOBpQMAQhAoDIBxLsyMk6AAAQg0D0BxLt7G1ADCEAAApUJIN6VkXECBCAAge4JFIq3uQjaFlfB7o1FDSAAAQgYARNvXAWNCFsIQAACAyBQKN5h3XEVDImwDwEIQKA7AibeuAp2ZwNKhgAEIFCZAOJdGRknQAACEOieAOLdvQ2oAQQgAIHKBBDvysg4AQIQgED3BBDv7m1ADSAAAQhUJlAo3tPpVPy0vr4uzjnZ2tqqXAgnQAACEIBAvQRMvDc3N+e02oXF4CoYEmEfAhCAQHcETLxxFezOBpQMAQhAoDIBxLsyMk6AAAQg0D0BxLt7G1ADCEAAApUJIN6VkXECBCAAge4JFIq3PU3QtjxVsHtjUQMIQAACRsDEm6cKGhG2EIAABAZAoFC8w7rjKhgSYR8CEIBAdwRMvHEV7M4GlAwBCECgMgHEuzIyToAABCDQPQHEu3sbUAMIQAAClQkg3pWRcQIEIACB7gkUire5CNrWXAW/+93vys9//nMSDOgD9AH6QId94KGHHpo9LLC0q6A+WZAEA/oAfYA+0I8+sEO8wz8FR44ckZWVFRIM6AP0AfpAj/rAW2+9NSfXOx4Ja9Mnc0elO4u+00P0ueB5r0Xn7fU7yvtNHmqBZz4X+ks+F/pLPpch9BfE25PARR15CMbUOi5qw6LvaF/+IF7EbNF38ISn9gH/VXd/Qbw9unXD1awX5bnoOz2XfzKecdK3i5gt+g6eiGnYm4beX3aId9hA9iEAAQhAoH8E/j8YhmfPyhQmLAAAAABJRU5ErkJggg==)"
      ]
    },
    {
      "cell_type": "markdown",
      "metadata": {
        "id": "ke-E1I6-w0QX"
      },
      "source": [
        "**Syntax:**"
      ]
    },
    {
      "cell_type": "code",
      "metadata": {
        "id": "Sw2kEEriwXFV"
      },
      "source": [
        "class Base1:  \n",
        "    <class-suite>  \n",
        "  \n",
        "class Base2:  \n",
        "    <class-suite>  \n",
        ".  \n",
        ".  \n",
        ".  \n",
        "class BaseN:  \n",
        "    <class-suite>  \n",
        "  \n",
        "class Derived(Base1, Base2, ...... BaseN):  \n",
        "    <class-suite>  "
      ],
      "execution_count": null,
      "outputs": []
    },
    {
      "cell_type": "markdown",
      "metadata": {
        "id": "CetUsspaxNCy"
      },
      "source": [
        "**Example:**"
      ]
    },
    {
      "cell_type": "code",
      "metadata": {
        "colab": {
          "base_uri": "https://localhost:8080/"
        },
        "id": "tiLQXa08xSkE",
        "outputId": "abc7ae88-43a7-452a-ed7a-5d7b514c6035"
      },
      "source": [
        "# Base class1\n",
        "class Calculation1:  \n",
        "    def Summation(self,a,b):  \n",
        "        return a+b;  \n",
        "class Calculation2:  \n",
        "    def Multiplication(self,a,b):  \n",
        "        return a*b;  \n",
        "class Derived(Calculation1,Calculation2):  \n",
        "    def Divide(self,a,b):  \n",
        "        return a/b;  \n",
        "d = Derived()  \n",
        "print(d.Summation(10,20))  \n",
        "print(d.Multiplication(10,20))  \n",
        "print(d.Divide(10,20))  "
      ],
      "execution_count": null,
      "outputs": [
        {
          "output_type": "stream",
          "text": [
            "30\n",
            "200\n",
            "0.5\n"
          ],
          "name": "stdout"
        }
      ]
    },
    {
      "cell_type": "markdown",
      "metadata": {
        "id": "wW69Cl3Ly_E_"
      },
      "source": [
        "**3. Multilevel Inheritance**"
      ]
    },
    {
      "cell_type": "markdown",
      "metadata": {
        "id": "3tficcoOz9by"
      },
      "source": [
        "In multilevel inheritance, **features of the base class and the derived class are further inherited into the new derived class**. This is similar to a relationship representing a child and grandfather. \n",
        "\n",
        "![image.png](data:image/png;base64,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)"
      ]
    },
    {
      "cell_type": "markdown",
      "metadata": {
        "id": "FWC9i1-w0mpR"
      },
      "source": [
        "**Syntax:**"
      ]
    },
    {
      "cell_type": "code",
      "metadata": {
        "id": "Kmvj4iZq0Os9"
      },
      "source": [
        "class class1:  \n",
        "    <class-suite>   \n",
        "class class2(class1):  \n",
        "    <class suite>  \n",
        "class class3(class2):  \n",
        "    <class suite>  \n",
        ".  \n",
        ".  "
      ],
      "execution_count": null,
      "outputs": []
    },
    {
      "cell_type": "markdown",
      "metadata": {
        "id": "xKUoCzD20rna"
      },
      "source": [
        "**Example:**"
      ]
    },
    {
      "cell_type": "code",
      "metadata": {
        "id": "tYUmHbNg0zeO",
        "colab": {
          "base_uri": "https://localhost:8080/"
        },
        "outputId": "23fb5448-5a41-4280-aef8-745c35fc595b"
      },
      "source": [
        "class Animal:  \n",
        "    def speak(self):  \n",
        "        print(\"Animal Speaking\")  \n",
        "#The child class Dog inherits the base class Animal  \n",
        "class Dog(Animal):  \n",
        "    def bark(self):  \n",
        "        print(\"dog barking\")  \n",
        "#The child class Dogchild inherits another child class Dog  \n",
        "class DogChild(Dog):  \n",
        "    def eat(self):  \n",
        "        print(\"Eating bread...\")  \n",
        "d = DogChild()  \n",
        "d.bark()  \n",
        "d.speak()  \n",
        "d.eat()  "
      ],
      "execution_count": null,
      "outputs": [
        {
          "output_type": "stream",
          "text": [
            "dog barking\n",
            "Animal Speaking\n",
            "Eating bread...\n"
          ],
          "name": "stdout"
        }
      ]
    },
    {
      "cell_type": "markdown",
      "metadata": {
        "id": "WQdMt1Yg17hZ"
      },
      "source": [
        "**4. Hierarchical Inheritance:**"
      ]
    },
    {
      "cell_type": "markdown",
      "metadata": {
        "id": "ul96ZYD83Qf8"
      },
      "source": [
        "When **more than one derived classes are created from a single base this type of inheritance is called hierarchical inheritance**. In this program, we have a parent (base) class and two child (derived) classes.\n",
        "\n",
        "![image.png](data:image/png;base64,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)"
      ]
    },
    {
      "cell_type": "code",
      "metadata": {
        "id": "q19RVn_R3ctK"
      },
      "source": [
        "# Base class\n",
        "class Parent:\n",
        "      def func1(self):\n",
        "          print(\"This function is in parent class.\")\n",
        " \n",
        "# Derived class1\n",
        "class Child1(Parent):\n",
        "      def func2(self):\n",
        "          print(\"This function is in child 1.\")\n",
        " \n",
        "# Derivied class2\n",
        "class Child2(Parent):\n",
        "      def func3(self):\n",
        "          print(\"This function is in child 2.\")\n",
        "  \n",
        "# Driver's code\n",
        "object1 = Child1()\n",
        "object2 = Child2()\n",
        "object1.func1()\n",
        "object1.func2()\n",
        "object2.func1()\n",
        "object2.func3()"
      ],
      "execution_count": null,
      "outputs": []
    },
    {
      "cell_type": "markdown",
      "metadata": {
        "id": "vHPoH2xZOOH6"
      },
      "source": [
        "**Example of  Single Inheritance in Python**"
      ]
    },
    {
      "cell_type": "code",
      "metadata": {
        "id": "bo3ZekN0DIMf"
      },
      "source": [
        "#A polygon is a closed figure with 3 or more sides. Say, we have a class called Polygon defined as follows.\n",
        "class Polygon:\n",
        "    def __init__(self, no_of_sides):\n",
        "        self.n = no_of_sides\n",
        "        self.sides = [0 for i in range(no_of_sides)]\n",
        "    def inputSides(self):\n",
        "        self.sides = [float(input(\"Enter side \"+str(i+1)+\" : \")) for i in range(self.n)]\n",
        "    def dispSides(self):\n",
        "        for i in range(self.n):\n",
        "            print(\"Side\",i+1,\"is\",self.sides[i])\n",
        "#This class has data attributes to store the number of sides n and magnitude of each side as a list called sides."
      ],
      "execution_count": null,
      "outputs": []
    },
    {
      "cell_type": "markdown",
      "metadata": {
        "id": "B-gXsqdwQl-2"
      },
      "source": [
        "The **inputSides()** method takes in the magnitude of each side and **dispSides()** displays these side lengths.\n",
        "\n",
        "\n",
        "A triangle is a polygon with 3 sides. So, we can create a class called **Triangle** which inherits from Polygon. This makes all the attributes of Polygon class available to the Triangle class."
      ]
    },
    {
      "cell_type": "code",
      "metadata": {
        "id": "2DjkDdo0RQwC"
      },
      "source": [
        "class Triangle(Polygon): \n",
        "    def __init__(self): \n",
        "        Polygon.__init__(self,3) \n",
        "    def findArea(self): \n",
        "        a, b, c = self.sides # calculate the semi-perimeter \n",
        "        s = (a + b + c) / 2 \n",
        "        area = (s*(s-a)*(s-b)*(s-c)) ** 0.5 \n",
        "        print('The area of the triangle is %0.2f' %area)"
      ],
      "execution_count": null,
      "outputs": []
    },
    {
      "cell_type": "markdown",
      "metadata": {
        "id": "FI24h5evX9EZ"
      },
      "source": [
        "However, **class Triangle** has a new method **findArea()** to find and print the area of the triangle. Here is a sample run."
      ]
    },
    {
      "cell_type": "code",
      "metadata": {
        "id": "HrGT9UMyYBJV",
        "colab": {
          "base_uri": "https://localhost:8080/"
        },
        "outputId": "9ea5f426-4b6b-4cea-de28-f98aadd0e407"
      },
      "source": [
        "class Polygon:\n",
        "    def __init__(self, no_of_sides):\n",
        "        self.n = no_of_sides\n",
        "        self.sides = [0 for i in range(no_of_sides)]\n",
        "    def inputSides(self):\n",
        "        self.sides = [float(input(\"Enter side \"+str(i+1)+\" : \")) for i in range(self.n)]\n",
        "    def dispSides(self):\n",
        "        for i in range(self.n):\n",
        "            print(\"Side\",i+1,\"is\",self.sides[i])\n",
        "class Triangle(Polygon): \n",
        "    def __init__(self): \n",
        "        Polygon.__init__(self,3) #this will call polygons init\n",
        "    def findArea(self): \n",
        "        a, b, c = self.sides # calculate the semi-perimeter \n",
        "        s = (a + b + c) / 2 \n",
        "        area = (s*(s-a)*(s-b)*(s-c)) ** 0.5 \n",
        "        print('The area of the triangle is %0.2f' %area)\n",
        "t = Triangle()\n",
        "t.inputSides() \n",
        "t.dispSides() \n",
        "t.findArea() "
      ],
      "execution_count": null,
      "outputs": [
        {
          "output_type": "stream",
          "text": [
            "Enter side 1 : 3\n",
            "Enter side 2 : 4\n",
            "Enter side 3 : 5\n",
            "Side 1 is 3.0\n",
            "Side 2 is 4.0\n",
            "Side 3 is 5.0\n",
            "The area of the triangle is 6.00\n"
          ],
          "name": "stdout"
        }
      ]
    },
    {
      "cell_type": "markdown",
      "metadata": {
        "id": "Ec4LcJxqZBUc"
      },
      "source": [
        "If an attribute is not found in the class itself, the search continues to the base class. This repeats recursively, if the base class is itself derived from other classes."
      ]
    },
    {
      "cell_type": "markdown",
      "metadata": {
        "id": "3KW4aLwUXTqS"
      },
      "source": [
        "**Python program to demonstrate multilevel inheritance**"
      ]
    },
    {
      "cell_type": "code",
      "metadata": {
        "id": "8UrtdHqrWDnd"
      },
      "source": [
        "# Base class\n",
        "class Grandfather:\n",
        " \n",
        "    def __init__(self, grandfathername):\n",
        "        self.grandfathername = grandfathername\n",
        " \n",
        "# Intermediate class\n",
        "class Father(Grandfather):\n",
        "    def __init__(self, fathername, grandfathername):\n",
        "        self.fathername = fathername\n",
        " \n",
        "        # invoking constructor of Grandfather class\n",
        "        Grandfather.__init__(self, grandfathername)\n",
        " \n",
        "# Derived class\n",
        "class Son(Father):\n",
        "    def __init__(self,sonname, fathername, grandfathername):\n",
        "        self.sonname = sonname\n",
        " \n",
        "        # invoking constructor of Father class\n",
        "        Father.__init__(self, fathername, grandfathername)\n",
        " \n",
        "    def print_name(self):\n",
        "        print('Grandfather name :', self.grandfathername)\n",
        "        print(\"Father name :\", self.fathername)\n",
        "        print(\"Son name :\", self.sonname)\n",
        " \n",
        "#  Driver code\n",
        "s1 = Son('Prince', 'Rampal', 'Lal mani')\n",
        "print(s1.grandfathername)\n",
        "s1.print_name()"
      ],
      "execution_count": null,
      "outputs": []
    },
    {
      "cell_type": "markdown",
      "metadata": {
        "id": "zgZfxjtEXi4r"
      },
      "source": [
        "# **The issubclass(sub,sup) method**"
      ]
    },
    {
      "cell_type": "markdown",
      "metadata": {
        "id": "WiiAj6obXvEs"
      },
      "source": [
        "The issubclass(sub, sup) method is used to **check the relationships between the specified classes**. It returns true if the first class is the subclass of the second class, and false otherwise."
      ]
    },
    {
      "cell_type": "code",
      "metadata": {
        "colab": {
          "base_uri": "https://localhost:8080/"
        },
        "id": "o0oAM9LjX4nu",
        "outputId": "88a24263-db6b-47b5-fd95-f6a902bfc338"
      },
      "source": [
        "class Calculation1:  \n",
        "    def Summation(self,a,b):  \n",
        "        return a+b;  \n",
        "class Calculation2:  \n",
        "    def Multiplication(self,a,b):  \n",
        "        return a*b;  \n",
        "class Derived(Calculation1,Calculation2):  \n",
        "    def Divide(self,a,b):  \n",
        "        return a/b;  \n",
        "d = Derived()  \n",
        "print(issubclass(Derived,Calculation2))  \n",
        "print(issubclass(Calculation1,Calculation2))  "
      ],
      "execution_count": null,
      "outputs": [
        {
          "output_type": "stream",
          "text": [
            "True\n",
            "False\n"
          ],
          "name": "stdout"
        }
      ]
    },
    {
      "cell_type": "markdown",
      "metadata": {
        "id": "ltCnlW8OYIQR"
      },
      "source": [
        "# **The isinstance (obj, class) method**"
      ]
    },
    {
      "cell_type": "markdown",
      "metadata": {
        "id": "U0Q2FtaJYPP8"
      },
      "source": [
        "The isinstance() method is used **to check the relationship between the objects and classes**. It returns true if the first parameter, i.e., obj is the instance of the second parameter, i.e., class."
      ]
    },
    {
      "cell_type": "code",
      "metadata": {
        "colab": {
          "base_uri": "https://localhost:8080/"
        },
        "id": "QHQcE7_-YXzD",
        "outputId": "db27e5c9-2814-45e8-800f-995c21babf1b"
      },
      "source": [
        "class Calculation1:  \n",
        "    def Summation(self,a,b):  \n",
        "        return a+b;  \n",
        "class Calculation2:  \n",
        "    def Multiplication(self,a,b):  \n",
        "        return a*b;  \n",
        "class Derived(Calculation1,Calculation2):  \n",
        "    def Divide(self,a,b):  \n",
        "        return a/b;  \n",
        "d = Derived()  \n",
        "print(isinstance(d,Derived))  "
      ],
      "execution_count": null,
      "outputs": [
        {
          "output_type": "stream",
          "text": [
            "True\n"
          ],
          "name": "stdout"
        }
      ]
    },
    {
      "cell_type": "markdown",
      "metadata": {
        "id": "DzjdstE902XM"
      },
      "source": [
        "#Method Resolution Order in Python"
      ]
    },
    {
      "cell_type": "markdown",
      "metadata": {
        "id": "Fwj-Szwn08rj"
      },
      "source": [
        "\n",
        "\n",
        "*   Every class in Python is derived from the **object class**.\n",
        "*   It is the most base type in Python.\n",
        "\n",
        "*   All other classes, either built-in or user-defined, are derived classes\n",
        "*   All objects are instances of the object class.\n",
        "\n",
        "\n",
        "\n"
      ]
    },
    {
      "cell_type": "code",
      "metadata": {
        "colab": {
          "base_uri": "https://localhost:8080/"
        },
        "id": "Cg3j6mKp32fS",
        "outputId": "b8ced21f-325f-4932-dc11-2657f8987388"
      },
      "source": [
        "print(issubclass(list,object)) "
      ],
      "execution_count": null,
      "outputs": [
        {
          "output_type": "stream",
          "text": [
            "True\n"
          ],
          "name": "stdout"
        }
      ]
    },
    {
      "cell_type": "code",
      "metadata": {
        "colab": {
          "base_uri": "https://localhost:8080/"
        },
        "id": "YexDm6Ty4CKk",
        "outputId": "75164426-281b-4217-e277-258e3539e8c8"
      },
      "source": [
        "print(isinstance(5.5,object)) "
      ],
      "execution_count": null,
      "outputs": [
        {
          "output_type": "stream",
          "text": [
            "True\n"
          ],
          "name": "stdout"
        }
      ]
    },
    {
      "cell_type": "code",
      "metadata": {
        "colab": {
          "base_uri": "https://localhost:8080/"
        },
        "id": "_X1D4Djd4G31",
        "outputId": "1fb3a693-9ff5-4fdd-85f3-34b13277bc3b"
      },
      "source": [
        "print(isinstance(\"Hello\",object))"
      ],
      "execution_count": null,
      "outputs": [
        {
          "output_type": "stream",
          "text": [
            "True\n"
          ],
          "name": "stdout"
        }
      ]
    },
    {
      "cell_type": "markdown",
      "metadata": {
        "id": "PaQjA9dN4VbD"
      },
      "source": [
        "In the multiple inheritance scenario, any specified attribute is searched first in the current class. If not found, the search continues into parent classes in **depth-first, left-right** fashion without searching the same class twice."
      ]
    },
    {
      "cell_type": "code",
      "metadata": {
        "id": "r0fpGeQQ5MNO"
      },
      "source": [
        "Example\n",
        "class Base1:\n",
        "     pass \n",
        "class Base2: \n",
        "     pass \n",
        "class MultiDerived(Base1, Base2): \n",
        "     pass\n",
        "#Here, the MultiDerived class is derived from Base1 and Base2 classes."
      ],
      "execution_count": null,
      "outputs": []
    },
    {
      "cell_type": "markdown",
      "metadata": {
        "id": "a38_JYpJ5PbP"
      },
      "source": [
        " So, in the above example of MultiDerived class the search order is [MultiDerived, Base1, Base2, object].\n",
        "\n",
        " This order is also called **linearization of MultiDerived class** and the set of rules used to find this order is called **Method Resolution Order (MRO)**.\n",
        "\n",
        " MRO must prevent local precedence ordering and also provide monotonicity. It ensures that a class always appears before its parents. In case of multiple parents, the order is the same as tuples of base classes.\n",
        "\n",
        " "
      ]
    },
    {
      "cell_type": "markdown",
      "metadata": {
        "id": "7S0I3Gth58Ai"
      },
      "source": [
        "MRO of a class can be viewed as the **__ mro__** attribute or the **mro()** method. The former returns a tuple while the latter returns a list."
      ]
    },
    {
      "cell_type": "code",
      "metadata": {
        "colab": {
          "base_uri": "https://localhost:8080/"
        },
        "id": "6fdMo6Sn6b50",
        "outputId": "a1896920-3ea7-456c-e716-0dee86e27b68"
      },
      "source": [
        "Derived.__mro__ "
      ],
      "execution_count": null,
      "outputs": [
        {
          "output_type": "execute_result",
          "data": {
            "text/plain": [
              "(__main__.Derived, __main__.Calculation1, __main__.Calculation2, object)"
            ]
          },
          "metadata": {
            "tags": []
          },
          "execution_count": 6
        }
      ]
    },
    {
      "cell_type": "code",
      "metadata": {
        "colab": {
          "base_uri": "https://localhost:8080/"
        },
        "id": "Y8INDyF460OH",
        "outputId": "8c2af965-40ff-4b33-85ee-b704afb6b5b8"
      },
      "source": [
        "Derived.mro() "
      ],
      "execution_count": null,
      "outputs": [
        {
          "output_type": "execute_result",
          "data": {
            "text/plain": [
              "[__main__.Derived, __main__.Calculation1, __main__.Calculation2, object]"
            ]
          },
          "metadata": {
            "tags": []
          },
          "execution_count": 7
        }
      ]
    }
  ]
}