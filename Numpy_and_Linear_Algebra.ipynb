{
  "nbformat": 4,
  "nbformat_minor": 0,
  "metadata": {
    "colab": {
      "name": "Numpy and Linear Algebra.ipynb",
      "provenance": [],
      "toc_visible": true,
      "include_colab_link": true
    },
    "kernelspec": {
      "name": "python3",
      "display_name": "Python 3"
    }
  },
  "cells": [
    {
      "cell_type": "markdown",
      "metadata": {
        "id": "view-in-github",
        "colab_type": "text"
      },
      "source": [
        "<a href=\"https://colab.research.google.com/github/jermania321/brocode2.0/blob/master/Numpy_and_Linear_Algebra.ipynb\" target=\"_parent\"><img src=\"https://colab.research.google.com/assets/colab-badge.svg\" alt=\"Open In Colab\"/></a>"
      ]
    },
    {
      "cell_type": "markdown",
      "metadata": {
        "id": "DmJXnjpGCade"
      },
      "source": [
        "# Numpy and Linear Algebra"
      ]
    },
    {
      "cell_type": "markdown",
      "metadata": {
        "id": "yqVRA4OJChzO"
      },
      "source": [
        "The Linear Algebra module of NumPy offers various methods to apply linear algebra on any numpy array.\r\n",
        "\r\n",
        "One can find:\r\n",
        "*   rank, determinant, trace, etc. of an array.\r\n",
        "\r\n",
        "*   eigen values of matrices\r\n",
        "\r\n",
        "*  matrix and vector products (dot, inner, outer,etc. product),matrix exponentiation\r\n",
        "*   solve linear or tensor equations and much more!"
      ]
    },
    {
      "cell_type": "markdown",
      "metadata": {
        "id": "FNYI8LqeKjwO"
      },
      "source": [
        "Mutiplacation of matrx using dot function ( @ operator can also be used)"
      ]
    },
    {
      "cell_type": "code",
      "metadata": {
        "colab": {
          "base_uri": "https://localhost:8080/"
        },
        "id": "yuU68w_-Kk1L",
        "outputId": "b3dec976-d091-432d-9da0-4d78510e3c74"
      },
      "source": [
        "import numpy as np\r\n",
        "x=np.array([[1,2,3],[4,5,6]])\r\n",
        "y=np.array([2,4,1])\r\n",
        "print(x.dot(y))\r\n",
        "print(x@y)\r\n",
        "print(np.dot(x,y))"
      ],
      "execution_count": null,
      "outputs": [
        {
          "output_type": "stream",
          "text": [
            "[13 34]\n",
            "[13 34]\n",
            "[13 34]\n"
          ],
          "name": "stdout"
        }
      ]
    },
    {
      "cell_type": "code",
      "metadata": {
        "id": "6_MdT48vKzv3"
      },
      "source": [
        "import numpy as np \r\n",
        "A = np.array([[6, 1, 1],\r\n",
        "              [4, -2, 5],\r\n",
        "              [2, 8, 7]])"
      ],
      "execution_count": null,
      "outputs": []
    },
    {
      "cell_type": "markdown",
      "metadata": {
        "id": "6iUM5AoQK3o8"
      },
      "source": [
        "**Rank of a matrix**"
      ]
    },
    {
      "cell_type": "code",
      "metadata": {
        "colab": {
          "base_uri": "https://localhost:8080/"
        },
        "id": "if-Lr3qlK63H",
        "outputId": "0fac4523-6a2b-493f-ea01-3477925bc46e"
      },
      "source": [
        "print(\"Rank of A:\", np.linalg.matrix_rank(A))"
      ],
      "execution_count": null,
      "outputs": [
        {
          "output_type": "stream",
          "text": [
            "Rank of A: 3\n"
          ],
          "name": "stdout"
        }
      ]
    },
    {
      "cell_type": "markdown",
      "metadata": {
        "id": "i9NBlhhnLGgZ"
      },
      "source": [
        "**Diagonals of a matrix**"
      ]
    },
    {
      "cell_type": "code",
      "metadata": {
        "id": "qndsTd-tLKSq",
        "colab": {
          "base_uri": "https://localhost:8080/"
        },
        "outputId": "ee414417-2da9-4013-dd98-81c43d3f9901"
      },
      "source": [
        "print(np.diag(x))"
      ],
      "execution_count": null,
      "outputs": [
        {
          "output_type": "stream",
          "text": [
            "[1 5]\n"
          ],
          "name": "stdout"
        }
      ]
    },
    {
      "cell_type": "code",
      "metadata": {
        "colab": {
          "base_uri": "https://localhost:8080/"
        },
        "id": "QE21dRPzMmeL",
        "outputId": "a78ed16c-e950-4b68-b086-455eccc604f2"
      },
      "source": [
        "print(np.diag(x,k=1)) # above the main diagonal"
      ],
      "execution_count": null,
      "outputs": [
        {
          "output_type": "stream",
          "text": [
            "[2 6]\n"
          ],
          "name": "stdout"
        }
      ]
    },
    {
      "cell_type": "code",
      "metadata": {
        "colab": {
          "base_uri": "https://localhost:8080/"
        },
        "id": "3OA1cnzGMp5-",
        "outputId": "79f741ec-d9eb-482f-ed2a-97cba893e567"
      },
      "source": [
        "print(np.diag(x,k=-1)) #below the main diagonal"
      ],
      "execution_count": null,
      "outputs": [
        {
          "output_type": "stream",
          "text": [
            "[4]\n"
          ],
          "name": "stdout"
        }
      ]
    },
    {
      "cell_type": "code",
      "metadata": {
        "colab": {
          "base_uri": "https://localhost:8080/"
        },
        "id": "amOUTgyYMsvN",
        "outputId": "77336b6d-7dea-48b3-9314-e3f3ec647fb5"
      },
      "source": [
        "import numpy as np\r\n",
        "y=np.fliplr(x)\r\n",
        "print(np.diag(y)) #secondary diagonal"
      ],
      "execution_count": null,
      "outputs": [
        {
          "output_type": "stream",
          "text": [
            "[3 5]\n"
          ],
          "name": "stdout"
        }
      ]
    },
    {
      "cell_type": "code",
      "metadata": {
        "colab": {
          "base_uri": "https://localhost:8080/"
        },
        "id": "J-H-nSMBM9aJ",
        "outputId": "dc8cce98-4301-40a8-cabf-2e0813748788"
      },
      "source": [
        "z=np.flipud(x)\r\n",
        "print(np.diag(z))"
      ],
      "execution_count": null,
      "outputs": [
        {
          "output_type": "stream",
          "text": [
            "[4 2]\n"
          ],
          "name": "stdout"
        }
      ]
    },
    {
      "cell_type": "markdown",
      "metadata": {
        "id": "hmgWcgqaNEG0"
      },
      "source": [
        "**Trace of matrix A**"
      ]
    },
    {
      "cell_type": "code",
      "metadata": {
        "colab": {
          "base_uri": "https://localhost:8080/"
        },
        "id": "y272WnFGNFcJ",
        "outputId": "5950435b-d018-437f-9be2-e07bd85a7029"
      },
      "source": [
        "print(\"\\nTrace of A:\", np.trace(A))"
      ],
      "execution_count": null,
      "outputs": [
        {
          "output_type": "stream",
          "text": [
            "\n",
            "Trace of A: 11\n"
          ],
          "name": "stdout"
        }
      ]
    },
    {
      "cell_type": "markdown",
      "metadata": {
        "id": "bFBO8wYYNLF-"
      },
      "source": [
        "**Determinant of a matrix**"
      ]
    },
    {
      "cell_type": "code",
      "metadata": {
        "colab": {
          "base_uri": "https://localhost:8080/"
        },
        "id": "TAI8LPMKNMl1",
        "outputId": "3375462e-6095-4c50-ce39-e97f4afdd9c7"
      },
      "source": [
        "print(\"\\nDeterminant of A:\", np.linalg.det(A))"
      ],
      "execution_count": null,
      "outputs": [
        {
          "output_type": "stream",
          "text": [
            "\n",
            "Determinant of A: -306.0\n"
          ],
          "name": "stdout"
        }
      ]
    },
    {
      "cell_type": "markdown",
      "metadata": {
        "id": "CwFGguHTNqXM"
      },
      "source": [
        "**Inverse of matrix A**"
      ]
    },
    {
      "cell_type": "code",
      "metadata": {
        "colab": {
          "base_uri": "https://localhost:8080/"
        },
        "id": "S1yIhWUHNsD5",
        "outputId": "675a4dbe-215a-4163-bc9f-86a93c0ef68e"
      },
      "source": [
        "print(\"\\nInverse of A:\\n\", np.linalg.inv(A))"
      ],
      "execution_count": null,
      "outputs": [
        {
          "output_type": "stream",
          "text": [
            "\n",
            "Inverse of A:\n",
            " [[ 0.17647059 -0.00326797 -0.02287582]\n",
            " [ 0.05882353 -0.13071895  0.08496732]\n",
            " [-0.11764706  0.1503268   0.05228758]]\n"
          ],
          "name": "stdout"
        }
      ]
    },
    {
      "cell_type": "markdown",
      "metadata": {
        "id": "AQXxQUdUNyng"
      },
      "source": [
        "**Transpose of matrix A**"
      ]
    },
    {
      "cell_type": "code",
      "metadata": {
        "colab": {
          "base_uri": "https://localhost:8080/"
        },
        "id": "n9FsHyI7NzzA",
        "outputId": "28615de4-d00d-4993-d9cb-d5f0c18a9b72"
      },
      "source": [
        "print(\"\\nTranspose of A:\\n\", A.T)"
      ],
      "execution_count": null,
      "outputs": [
        {
          "output_type": "stream",
          "text": [
            "\n",
            "Transpose of A:\n",
            " [[ 6  4  2]\n",
            " [ 1 -2  8]\n",
            " [ 1  5  7]]\n"
          ],
          "name": "stdout"
        }
      ]
    },
    {
      "cell_type": "markdown",
      "metadata": {
        "id": "UMO3mDWDN4-P"
      },
      "source": [
        "**Power**"
      ]
    },
    {
      "cell_type": "code",
      "metadata": {
        "colab": {
          "base_uri": "https://localhost:8080/"
        },
        "id": "ojo37T0BN6Ip",
        "outputId": "b6cc1c17-ffec-4c44-f581-3d3075569756"
      },
      "source": [
        "print(\"\\nMatrix A raised to power 3:\\n\",np.linalg.matrix_power(A, 3))"
      ],
      "execution_count": null,
      "outputs": [
        {
          "output_type": "stream",
          "text": [
            "\n",
            "Matrix A raised to power 3:\n",
            " [[336 162 228]\n",
            " [406 162 469]\n",
            " [698 702 905]]\n"
          ],
          "name": "stdout"
        }
      ]
    },
    {
      "cell_type": "markdown",
      "metadata": {
        "id": "IaJRjSOzOCQo"
      },
      "source": [
        "**Solving system of linear equations**"
      ]
    },
    {
      "cell_type": "markdown",
      "metadata": {
        "id": "-hj0k_LpOEuz"
      },
      "source": [
        "let 2x1+3x2 +5x3= 10\r\n",
        "\r\n",
        "3x1-2x2+x3=3\r\n",
        "\r\n",
        "x1+5x2+7x3=8\r\n",
        "\r\n",
        "the matrix representation is\r\n",
        "\r\n",
        "Ax=b\r\n",
        "where\r\n",
        "\r\n",
        "A=[[ 2 , 3, 5],\r\n",
        "[ 3, -2 ,1],\r\n",
        "[ 1, 5 , 7 ]])\r\n",
        "\r\n",
        "b=[10,3,8]\r\n",
        "\r\n",
        "The following is the python code to solve the problem"
      ]
    },
    {
      "cell_type": "code",
      "metadata": {
        "colab": {
          "base_uri": "https://localhost:8080/"
        },
        "id": "mZRC2Bo1OOx8",
        "outputId": "716bd5e3-51ef-4179-9b54-817567efbfba"
      },
      "source": [
        "import numpy as np\r\n",
        "A=np.array([[ 2 , 3, 5],\r\n",
        "[ 3, -2 ,1],\r\n",
        "[ 1, 5 , 7 ]])\r\n",
        "b=np.array([10,3,8])\r\n",
        "x=np.linalg.solve(A,b)\r\n",
        "print(x)"
      ],
      "execution_count": null,
      "outputs": [
        {
          "output_type": "stream",
          "text": [
            "[ 5.69230769  5.30769231 -3.46153846]\n"
          ],
          "name": "stdout"
        }
      ]
    },
    {
      "cell_type": "markdown",
      "metadata": {
        "id": "qZeA8PuXOU6e"
      },
      "source": [
        "**Eigen values and eigen vector**"
      ]
    },
    {
      "cell_type": "markdown",
      "metadata": {
        "id": "tw7pWj_MOayU"
      },
      "source": [
        "Let A be a square matrix. A non-zero vector X is an eigenvector for A with eigenvalue e if\r\n",
        "\r\n",
        "AX=eX\r\n",
        "\r\n",
        "The eigenvalues of a symmetric matrix are always real and the eigenvectors are always orthogonal"
      ]
    },
    {
      "cell_type": "code",
      "metadata": {
        "colab": {
          "base_uri": "https://localhost:8080/"
        },
        "id": "_RacF7zxOWNw",
        "outputId": "863e6120-dc71-473b-b184-385a61105f83"
      },
      "source": [
        "import numpy as np\r\n",
        "A=np.array([[ 2 , 3, 5],\r\n",
        "[ 3, -2 ,1],\r\n",
        "[ 1, 5 , 7 ]])\r\n",
        "e,v=np.linalg.eig(A)\r\n",
        "print(e)"
      ],
      "execution_count": null,
      "outputs": [
        {
          "output_type": "stream",
          "text": [
            "[-2.81422161  0.49572305  9.31849856]\n"
          ],
          "name": "stdout"
        }
      ]
    },
    {
      "cell_type": "code",
      "metadata": {
        "colab": {
          "base_uri": "https://localhost:8080/"
        },
        "id": "rYUb5Bt4OiRm",
        "outputId": "c3df25bd-a352-43d8-9b0d-44d5a4ce941a"
      },
      "source": [
        "print(v)"
      ],
      "execution_count": null,
      "outputs": [
        {
          "output_type": "stream",
          "text": [
            "[[ 0.09368857 -0.64029415  0.61137707]\n",
            " [-0.89093813 -0.55826909  0.2289721 ]\n",
            " [ 0.44435537  0.5275974   0.75748918]]\n"
          ],
          "name": "stdout"
        }
      ]
    },
    {
      "cell_type": "code",
      "metadata": {
        "colab": {
          "base_uri": "https://localhost:8080/"
        },
        "id": "uNzyJE-jOnOs",
        "outputId": "fe3613f7-452c-43b9-ca06-7cb5518d17b2"
      },
      "source": [
        "print(v[:,0]*e[0]) # eX"
      ],
      "execution_count": null,
      "outputs": [
        {
          "output_type": "stream",
          "text": [
            "[-0.2636604   2.50729735 -1.25051449]\n"
          ],
          "name": "stdout"
        }
      ]
    },
    {
      "cell_type": "code",
      "metadata": {
        "colab": {
          "base_uri": "https://localhost:8080/"
        },
        "id": "BKpPsxPrOoe_",
        "outputId": "6a452751-bdc7-4a84-9484-ba82ef933df5"
      },
      "source": [
        "print(A.dot(v[:,0])) # AX"
      ],
      "execution_count": null,
      "outputs": [
        {
          "output_type": "stream",
          "text": [
            "[-0.2636604   2.50729735 -1.25051449]\n"
          ],
          "name": "stdout"
        }
      ]
    },
    {
      "cell_type": "markdown",
      "metadata": {
        "id": "ZfQMrw4AOwlT"
      },
      "source": [
        " Note that AX=eX\r\n",
        "\r\n",
        "Lot of Matrix Decomposition functions are also available\r\n",
        "https://mlandpython.blogspot.com/2020/04/matrix-decomposition-lu-and-qr.html"
      ]
    }
  ]
}