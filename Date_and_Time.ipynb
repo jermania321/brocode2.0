{
  "nbformat": 4,
  "nbformat_minor": 0,
  "metadata": {
    "colab": {
      "name": "Date_and_Time.ipynb",
      "provenance": [],
      "collapsed_sections": [
        "EffYbFYOkw4w",
        "Kw1sopQLr-C3"
      ],
      "include_colab_link": true
    },
    "kernelspec": {
      "name": "python3",
      "display_name": "Python 3"
    }
  },
  "cells": [
    {
      "cell_type": "markdown",
      "metadata": {
        "id": "view-in-github",
        "colab_type": "text"
      },
      "source": [
        "<a href=\"https://colab.research.google.com/github/jermania321/brocode2.0/blob/master/Date_and_Time.ipynb\" target=\"_parent\"><img src=\"https://colab.research.google.com/assets/colab-badge.svg\" alt=\"Open In Colab\"/></a>"
      ]
    },
    {
      "cell_type": "markdown",
      "metadata": {
        "id": "SEARcmQj47Yr"
      },
      "source": [
        "# **Date and Time in Python**"
      ]
    },
    {
      "cell_type": "markdown",
      "metadata": {
        "id": "z0EYdvX-5OKk"
      },
      "source": [
        "Python has a module named **datetime** to work with dates and times.\n",
        "\n",
        "Datetime module supplies classes to work with date and time. These classes provide a number of functions to deal with dates, times and time intervals\n",
        "\n",
        "Commonly used classes in the datetime module are:\n",
        "* date Class\n",
        "* time Class\n",
        "* datetime Class\n",
        "* timedelta Class"
      ]
    },
    {
      "cell_type": "markdown",
      "metadata": {
        "id": "7suR89XdOqYm"
      },
      "source": [
        "We can use **dir()** function to get a list containing all attributes of a module."
      ]
    },
    {
      "cell_type": "code",
      "metadata": {
        "id": "uyf-ns0iOoKY",
        "outputId": "eb99a425-b591-44a7-c830-d26f8b5c5ea4",
        "colab": {
          "base_uri": "https://localhost:8080/"
        }
      },
      "source": [
        "import datetime\n",
        "print(dir(datetime))"
      ],
      "execution_count": null,
      "outputs": [
        {
          "output_type": "stream",
          "text": [
            "['MAXYEAR', 'MINYEAR', '__builtins__', '__cached__', '__doc__', '__file__', '__loader__', '__name__', '__package__', '__spec__', 'date', 'datetime', 'datetime_CAPI', 'sys', 'time', 'timedelta', 'timezone', 'tzinfo']\n"
          ],
          "name": "stdout"
        }
      ]
    },
    {
      "cell_type": "markdown",
      "metadata": {
        "id": "KUvn_oHRMmTs"
      },
      "source": [
        "# **1. datetime class**"
      ]
    },
    {
      "cell_type": "markdown",
      "metadata": {
        "id": "HLZusc06MzJo"
      },
      "source": [
        "The datetime module has a class named datetime class that can contain information from both **date and time objects**.\n",
        "\n",
        "Its a combination of date and time along with the attributes **year, month, day, hour, minute, second, microsecond, and tzinfo**."
      ]
    },
    {
      "cell_type": "markdown",
      "metadata": {
        "id": "L9WCFYDMSopg"
      },
      "source": [
        "Import the datetime module and display the **current date**:"
      ]
    },
    {
      "cell_type": "code",
      "metadata": {
        "id": "PpXv3lhDS0iP",
        "outputId": "29ac5a93-7d7f-448f-cf3c-f87fcf8023e6",
        "colab": {
          "base_uri": "https://localhost:8080/"
        }
      },
      "source": [
        "import datetime\n",
        "x = datetime.datetime.now()\n",
        "print(x)"
      ],
      "execution_count": null,
      "outputs": [
        {
          "output_type": "stream",
          "text": [
            "2020-11-03 07:17:23.385965\n"
          ],
          "name": "stdout"
        }
      ]
    },
    {
      "cell_type": "markdown",
      "metadata": {
        "id": "Kw3dI-xdTTrg"
      },
      "source": [
        "The date contains year, month, day, hour, minute, second, and microsecond."
      ]
    },
    {
      "cell_type": "code",
      "metadata": {
        "id": "2LzxFZUtvv05",
        "outputId": "c1b799af-245d-45c4-b79b-6596fe80fa99",
        "colab": {
          "base_uri": "https://localhost:8080/"
        }
      },
      "source": [
        "import datetime\n",
        "import pytz\n",
        "print(pytz.all_timezones)"
      ],
      "execution_count": null,
      "outputs": [
        {
          "output_type": "stream",
          "text": [
            "['Africa/Abidjan', 'Africa/Accra', 'Africa/Addis_Ababa', 'Africa/Algiers', 'Africa/Asmara', 'Africa/Asmera', 'Africa/Bamako', 'Africa/Bangui', 'Africa/Banjul', 'Africa/Bissau', 'Africa/Blantyre', 'Africa/Brazzaville', 'Africa/Bujumbura', 'Africa/Cairo', 'Africa/Casablanca', 'Africa/Ceuta', 'Africa/Conakry', 'Africa/Dakar', 'Africa/Dar_es_Salaam', 'Africa/Djibouti', 'Africa/Douala', 'Africa/El_Aaiun', 'Africa/Freetown', 'Africa/Gaborone', 'Africa/Harare', 'Africa/Johannesburg', 'Africa/Juba', 'Africa/Kampala', 'Africa/Khartoum', 'Africa/Kigali', 'Africa/Kinshasa', 'Africa/Lagos', 'Africa/Libreville', 'Africa/Lome', 'Africa/Luanda', 'Africa/Lubumbashi', 'Africa/Lusaka', 'Africa/Malabo', 'Africa/Maputo', 'Africa/Maseru', 'Africa/Mbabane', 'Africa/Mogadishu', 'Africa/Monrovia', 'Africa/Nairobi', 'Africa/Ndjamena', 'Africa/Niamey', 'Africa/Nouakchott', 'Africa/Ouagadougou', 'Africa/Porto-Novo', 'Africa/Sao_Tome', 'Africa/Timbuktu', 'Africa/Tripoli', 'Africa/Tunis', 'Africa/Windhoek', 'America/Adak', 'America/Anchorage', 'America/Anguilla', 'America/Antigua', 'America/Araguaina', 'America/Argentina/Buenos_Aires', 'America/Argentina/Catamarca', 'America/Argentina/ComodRivadavia', 'America/Argentina/Cordoba', 'America/Argentina/Jujuy', 'America/Argentina/La_Rioja', 'America/Argentina/Mendoza', 'America/Argentina/Rio_Gallegos', 'America/Argentina/Salta', 'America/Argentina/San_Juan', 'America/Argentina/San_Luis', 'America/Argentina/Tucuman', 'America/Argentina/Ushuaia', 'America/Aruba', 'America/Asuncion', 'America/Atikokan', 'America/Atka', 'America/Bahia', 'America/Bahia_Banderas', 'America/Barbados', 'America/Belem', 'America/Belize', 'America/Blanc-Sablon', 'America/Boa_Vista', 'America/Bogota', 'America/Boise', 'America/Buenos_Aires', 'America/Cambridge_Bay', 'America/Campo_Grande', 'America/Cancun', 'America/Caracas', 'America/Catamarca', 'America/Cayenne', 'America/Cayman', 'America/Chicago', 'America/Chihuahua', 'America/Coral_Harbour', 'America/Cordoba', 'America/Costa_Rica', 'America/Creston', 'America/Cuiaba', 'America/Curacao', 'America/Danmarkshavn', 'America/Dawson', 'America/Dawson_Creek', 'America/Denver', 'America/Detroit', 'America/Dominica', 'America/Edmonton', 'America/Eirunepe', 'America/El_Salvador', 'America/Ensenada', 'America/Fort_Nelson', 'America/Fort_Wayne', 'America/Fortaleza', 'America/Glace_Bay', 'America/Godthab', 'America/Goose_Bay', 'America/Grand_Turk', 'America/Grenada', 'America/Guadeloupe', 'America/Guatemala', 'America/Guayaquil', 'America/Guyana', 'America/Halifax', 'America/Havana', 'America/Hermosillo', 'America/Indiana/Indianapolis', 'America/Indiana/Knox', 'America/Indiana/Marengo', 'America/Indiana/Petersburg', 'America/Indiana/Tell_City', 'America/Indiana/Vevay', 'America/Indiana/Vincennes', 'America/Indiana/Winamac', 'America/Indianapolis', 'America/Inuvik', 'America/Iqaluit', 'America/Jamaica', 'America/Jujuy', 'America/Juneau', 'America/Kentucky/Louisville', 'America/Kentucky/Monticello', 'America/Knox_IN', 'America/Kralendijk', 'America/La_Paz', 'America/Lima', 'America/Los_Angeles', 'America/Louisville', 'America/Lower_Princes', 'America/Maceio', 'America/Managua', 'America/Manaus', 'America/Marigot', 'America/Martinique', 'America/Matamoros', 'America/Mazatlan', 'America/Mendoza', 'America/Menominee', 'America/Merida', 'America/Metlakatla', 'America/Mexico_City', 'America/Miquelon', 'America/Moncton', 'America/Monterrey', 'America/Montevideo', 'America/Montreal', 'America/Montserrat', 'America/Nassau', 'America/New_York', 'America/Nipigon', 'America/Nome', 'America/Noronha', 'America/North_Dakota/Beulah', 'America/North_Dakota/Center', 'America/North_Dakota/New_Salem', 'America/Ojinaga', 'America/Panama', 'America/Pangnirtung', 'America/Paramaribo', 'America/Phoenix', 'America/Port-au-Prince', 'America/Port_of_Spain', 'America/Porto_Acre', 'America/Porto_Velho', 'America/Puerto_Rico', 'America/Punta_Arenas', 'America/Rainy_River', 'America/Rankin_Inlet', 'America/Recife', 'America/Regina', 'America/Resolute', 'America/Rio_Branco', 'America/Rosario', 'America/Santa_Isabel', 'America/Santarem', 'America/Santiago', 'America/Santo_Domingo', 'America/Sao_Paulo', 'America/Scoresbysund', 'America/Shiprock', 'America/Sitka', 'America/St_Barthelemy', 'America/St_Johns', 'America/St_Kitts', 'America/St_Lucia', 'America/St_Thomas', 'America/St_Vincent', 'America/Swift_Current', 'America/Tegucigalpa', 'America/Thule', 'America/Thunder_Bay', 'America/Tijuana', 'America/Toronto', 'America/Tortola', 'America/Vancouver', 'America/Virgin', 'America/Whitehorse', 'America/Winnipeg', 'America/Yakutat', 'America/Yellowknife', 'Antarctica/Casey', 'Antarctica/Davis', 'Antarctica/DumontDUrville', 'Antarctica/Macquarie', 'Antarctica/Mawson', 'Antarctica/McMurdo', 'Antarctica/Palmer', 'Antarctica/Rothera', 'Antarctica/South_Pole', 'Antarctica/Syowa', 'Antarctica/Troll', 'Antarctica/Vostok', 'Arctic/Longyearbyen', 'Asia/Aden', 'Asia/Almaty', 'Asia/Amman', 'Asia/Anadyr', 'Asia/Aqtau', 'Asia/Aqtobe', 'Asia/Ashgabat', 'Asia/Ashkhabad', 'Asia/Atyrau', 'Asia/Baghdad', 'Asia/Bahrain', 'Asia/Baku', 'Asia/Bangkok', 'Asia/Barnaul', 'Asia/Beirut', 'Asia/Bishkek', 'Asia/Brunei', 'Asia/Calcutta', 'Asia/Chita', 'Asia/Choibalsan', 'Asia/Chongqing', 'Asia/Chungking', 'Asia/Colombo', 'Asia/Dacca', 'Asia/Damascus', 'Asia/Dhaka', 'Asia/Dili', 'Asia/Dubai', 'Asia/Dushanbe', 'Asia/Famagusta', 'Asia/Gaza', 'Asia/Harbin', 'Asia/Hebron', 'Asia/Ho_Chi_Minh', 'Asia/Hong_Kong', 'Asia/Hovd', 'Asia/Irkutsk', 'Asia/Istanbul', 'Asia/Jakarta', 'Asia/Jayapura', 'Asia/Jerusalem', 'Asia/Kabul', 'Asia/Kamchatka', 'Asia/Karachi', 'Asia/Kashgar', 'Asia/Kathmandu', 'Asia/Katmandu', 'Asia/Khandyga', 'Asia/Kolkata', 'Asia/Krasnoyarsk', 'Asia/Kuala_Lumpur', 'Asia/Kuching', 'Asia/Kuwait', 'Asia/Macao', 'Asia/Macau', 'Asia/Magadan', 'Asia/Makassar', 'Asia/Manila', 'Asia/Muscat', 'Asia/Nicosia', 'Asia/Novokuznetsk', 'Asia/Novosibirsk', 'Asia/Omsk', 'Asia/Oral', 'Asia/Phnom_Penh', 'Asia/Pontianak', 'Asia/Pyongyang', 'Asia/Qatar', 'Asia/Qostanay', 'Asia/Qyzylorda', 'Asia/Rangoon', 'Asia/Riyadh', 'Asia/Saigon', 'Asia/Sakhalin', 'Asia/Samarkand', 'Asia/Seoul', 'Asia/Shanghai', 'Asia/Singapore', 'Asia/Srednekolymsk', 'Asia/Taipei', 'Asia/Tashkent', 'Asia/Tbilisi', 'Asia/Tehran', 'Asia/Tel_Aviv', 'Asia/Thimbu', 'Asia/Thimphu', 'Asia/Tokyo', 'Asia/Tomsk', 'Asia/Ujung_Pandang', 'Asia/Ulaanbaatar', 'Asia/Ulan_Bator', 'Asia/Urumqi', 'Asia/Ust-Nera', 'Asia/Vientiane', 'Asia/Vladivostok', 'Asia/Yakutsk', 'Asia/Yangon', 'Asia/Yekaterinburg', 'Asia/Yerevan', 'Atlantic/Azores', 'Atlantic/Bermuda', 'Atlantic/Canary', 'Atlantic/Cape_Verde', 'Atlantic/Faeroe', 'Atlantic/Faroe', 'Atlantic/Jan_Mayen', 'Atlantic/Madeira', 'Atlantic/Reykjavik', 'Atlantic/South_Georgia', 'Atlantic/St_Helena', 'Atlantic/Stanley', 'Australia/ACT', 'Australia/Adelaide', 'Australia/Brisbane', 'Australia/Broken_Hill', 'Australia/Canberra', 'Australia/Currie', 'Australia/Darwin', 'Australia/Eucla', 'Australia/Hobart', 'Australia/LHI', 'Australia/Lindeman', 'Australia/Lord_Howe', 'Australia/Melbourne', 'Australia/NSW', 'Australia/North', 'Australia/Perth', 'Australia/Queensland', 'Australia/South', 'Australia/Sydney', 'Australia/Tasmania', 'Australia/Victoria', 'Australia/West', 'Australia/Yancowinna', 'Brazil/Acre', 'Brazil/DeNoronha', 'Brazil/East', 'Brazil/West', 'CET', 'CST6CDT', 'Canada/Atlantic', 'Canada/Central', 'Canada/Eastern', 'Canada/Mountain', 'Canada/Newfoundland', 'Canada/Pacific', 'Canada/Saskatchewan', 'Canada/Yukon', 'Chile/Continental', 'Chile/EasterIsland', 'Cuba', 'EET', 'EST', 'EST5EDT', 'Egypt', 'Eire', 'Etc/GMT', 'Etc/GMT+0', 'Etc/GMT+1', 'Etc/GMT+10', 'Etc/GMT+11', 'Etc/GMT+12', 'Etc/GMT+2', 'Etc/GMT+3', 'Etc/GMT+4', 'Etc/GMT+5', 'Etc/GMT+6', 'Etc/GMT+7', 'Etc/GMT+8', 'Etc/GMT+9', 'Etc/GMT-0', 'Etc/GMT-1', 'Etc/GMT-10', 'Etc/GMT-11', 'Etc/GMT-12', 'Etc/GMT-13', 'Etc/GMT-14', 'Etc/GMT-2', 'Etc/GMT-3', 'Etc/GMT-4', 'Etc/GMT-5', 'Etc/GMT-6', 'Etc/GMT-7', 'Etc/GMT-8', 'Etc/GMT-9', 'Etc/GMT0', 'Etc/Greenwich', 'Etc/UCT', 'Etc/UTC', 'Etc/Universal', 'Etc/Zulu', 'Europe/Amsterdam', 'Europe/Andorra', 'Europe/Astrakhan', 'Europe/Athens', 'Europe/Belfast', 'Europe/Belgrade', 'Europe/Berlin', 'Europe/Bratislava', 'Europe/Brussels', 'Europe/Bucharest', 'Europe/Budapest', 'Europe/Busingen', 'Europe/Chisinau', 'Europe/Copenhagen', 'Europe/Dublin', 'Europe/Gibraltar', 'Europe/Guernsey', 'Europe/Helsinki', 'Europe/Isle_of_Man', 'Europe/Istanbul', 'Europe/Jersey', 'Europe/Kaliningrad', 'Europe/Kiev', 'Europe/Kirov', 'Europe/Lisbon', 'Europe/Ljubljana', 'Europe/London', 'Europe/Luxembourg', 'Europe/Madrid', 'Europe/Malta', 'Europe/Mariehamn', 'Europe/Minsk', 'Europe/Monaco', 'Europe/Moscow', 'Europe/Nicosia', 'Europe/Oslo', 'Europe/Paris', 'Europe/Podgorica', 'Europe/Prague', 'Europe/Riga', 'Europe/Rome', 'Europe/Samara', 'Europe/San_Marino', 'Europe/Sarajevo', 'Europe/Saratov', 'Europe/Simferopol', 'Europe/Skopje', 'Europe/Sofia', 'Europe/Stockholm', 'Europe/Tallinn', 'Europe/Tirane', 'Europe/Tiraspol', 'Europe/Ulyanovsk', 'Europe/Uzhgorod', 'Europe/Vaduz', 'Europe/Vatican', 'Europe/Vienna', 'Europe/Vilnius', 'Europe/Volgograd', 'Europe/Warsaw', 'Europe/Zagreb', 'Europe/Zaporozhye', 'Europe/Zurich', 'GB', 'GB-Eire', 'GMT', 'GMT+0', 'GMT-0', 'GMT0', 'Greenwich', 'HST', 'Hongkong', 'Iceland', 'Indian/Antananarivo', 'Indian/Chagos', 'Indian/Christmas', 'Indian/Cocos', 'Indian/Comoro', 'Indian/Kerguelen', 'Indian/Mahe', 'Indian/Maldives', 'Indian/Mauritius', 'Indian/Mayotte', 'Indian/Reunion', 'Iran', 'Israel', 'Jamaica', 'Japan', 'Kwajalein', 'Libya', 'MET', 'MST', 'MST7MDT', 'Mexico/BajaNorte', 'Mexico/BajaSur', 'Mexico/General', 'NZ', 'NZ-CHAT', 'Navajo', 'PRC', 'PST8PDT', 'Pacific/Apia', 'Pacific/Auckland', 'Pacific/Bougainville', 'Pacific/Chatham', 'Pacific/Chuuk', 'Pacific/Easter', 'Pacific/Efate', 'Pacific/Enderbury', 'Pacific/Fakaofo', 'Pacific/Fiji', 'Pacific/Funafuti', 'Pacific/Galapagos', 'Pacific/Gambier', 'Pacific/Guadalcanal', 'Pacific/Guam', 'Pacific/Honolulu', 'Pacific/Johnston', 'Pacific/Kiritimati', 'Pacific/Kosrae', 'Pacific/Kwajalein', 'Pacific/Majuro', 'Pacific/Marquesas', 'Pacific/Midway', 'Pacific/Nauru', 'Pacific/Niue', 'Pacific/Norfolk', 'Pacific/Noumea', 'Pacific/Pago_Pago', 'Pacific/Palau', 'Pacific/Pitcairn', 'Pacific/Pohnpei', 'Pacific/Ponape', 'Pacific/Port_Moresby', 'Pacific/Rarotonga', 'Pacific/Saipan', 'Pacific/Samoa', 'Pacific/Tahiti', 'Pacific/Tarawa', 'Pacific/Tongatapu', 'Pacific/Truk', 'Pacific/Wake', 'Pacific/Wallis', 'Pacific/Yap', 'Poland', 'Portugal', 'ROC', 'ROK', 'Singapore', 'Turkey', 'UCT', 'US/Alaska', 'US/Aleutian', 'US/Arizona', 'US/Central', 'US/East-Indiana', 'US/Eastern', 'US/Hawaii', 'US/Indiana-Starke', 'US/Michigan', 'US/Mountain', 'US/Pacific', 'US/Samoa', 'UTC', 'Universal', 'W-SU', 'WET', 'Zulu']\n"
          ],
          "name": "stdout"
        }
      ]
    },
    {
      "cell_type": "code",
      "metadata": {
        "id": "1jWbeAiNn_A5",
        "outputId": "4179bb9d-84e8-4edc-9722-b6439734c5dd",
        "colab": {
          "base_uri": "https://localhost:8080/"
        }
      },
      "source": [
        "import datetime\n",
        "import pytz\n",
        "tzone = pytz.timezone(\"Asia/Calcutta\")\n",
        "x = datetime.datetime.now(tzone)\n",
        "print(x)"
      ],
      "execution_count": null,
      "outputs": [
        {
          "output_type": "stream",
          "text": [
            "2020-11-03 12:52:02.157576+05:30\n"
          ],
          "name": "stdout"
        }
      ]
    },
    {
      "cell_type": "markdown",
      "metadata": {
        "id": "5VkcDCGRTvVW"
      },
      "source": [
        "To create a date, we can use the **datetime()** class (constructor) of the datetime module.\n",
        "\n",
        "The datetime() class requires **three parameters** (mandatory) to create a date: **year, month, day**."
      ]
    },
    {
      "cell_type": "code",
      "metadata": {
        "id": "J0MxKsjpNsyq",
        "outputId": "d8ae0bcf-6efc-47b5-df91-05b02f497e92",
        "colab": {
          "base_uri": "https://localhost:8080/"
        }
      },
      "source": [
        "from datetime import datetime \n",
        "dt=datetime(2020,7,18)\n",
        "print(dt)"
      ],
      "execution_count": null,
      "outputs": [
        {
          "output_type": "stream",
          "text": [
            "2020-07-18 00:00:00\n"
          ],
          "name": "stdout"
        }
      ]
    },
    {
      "cell_type": "code",
      "metadata": {
        "id": "AQiXoLxiAZ5s",
        "outputId": "ac21a749-e572-4e7c-c365-f3d717ba5dfe",
        "colab": {
          "base_uri": "https://localhost:8080/",
          "height": 129
        }
      },
      "source": [
        "from datetime import datetime \n",
        "dt=datetime(2020,07,18)\n",
        "print(dt)"
      ],
      "execution_count": null,
      "outputs": [
        {
          "output_type": "error",
          "ename": "SyntaxError",
          "evalue": "ignored",
          "traceback": [
            "\u001b[0;36m  File \u001b[0;32m\"<ipython-input-21-398a45a6ca8b>\"\u001b[0;36m, line \u001b[0;32m2\u001b[0m\n\u001b[0;31m    dt=datetime(2020,07,18)\u001b[0m\n\u001b[0m                      ^\u001b[0m\n\u001b[0;31mSyntaxError\u001b[0m\u001b[0;31m:\u001b[0m invalid token\n"
          ]
        }
      ]
    },
    {
      "cell_type": "code",
      "metadata": {
        "id": "FtVAWD9aOSbH",
        "outputId": "08ec4004-ea25-4f0f-a166-7c41957fec20",
        "colab": {
          "base_uri": "https://localhost:8080/"
        }
      },
      "source": [
        "dt=datetime(2020, 9, 11, 23, 55, 59, 342380)\n",
        "print(dt)"
      ],
      "execution_count": null,
      "outputs": [
        {
          "output_type": "stream",
          "text": [
            "2020-09-11 23:55:59.342380\n"
          ],
          "name": "stdout"
        }
      ]
    },
    {
      "cell_type": "markdown",
      "metadata": {
        "id": "T3MQUlZ8UFF7"
      },
      "source": [
        "Print year, month, hour, minute and timestamp "
      ]
    },
    {
      "cell_type": "code",
      "metadata": {
        "id": "LguDUZtdUUJ8",
        "outputId": "3b700f38-9f28-4723-a707-361ef5fd5743",
        "colab": {
          "base_uri": "https://localhost:8080/"
        }
      },
      "source": [
        "from datetime import datetime \n",
        "a = datetime(2020, 9, 11, 23, 55, 59, 342380) \n",
        "print(\"year =\", a.year) "
      ],
      "execution_count": null,
      "outputs": [
        {
          "output_type": "stream",
          "text": [
            "year = 2020\n"
          ],
          "name": "stdout"
        }
      ]
    },
    {
      "cell_type": "code",
      "metadata": {
        "id": "0DNuUd0CUkGv",
        "outputId": "cc96e2b2-2f81-4010-cf73-bde00b2005d6",
        "colab": {
          "base_uri": "https://localhost:8080/"
        }
      },
      "source": [
        "print(\"month =\", a.month) "
      ],
      "execution_count": null,
      "outputs": [
        {
          "output_type": "stream",
          "text": [
            "month = 9\n"
          ],
          "name": "stdout"
        }
      ]
    },
    {
      "cell_type": "code",
      "metadata": {
        "id": "Xz2kMK5-UqHu",
        "outputId": "3b13c755-f2f3-4b29-cd86-36ec1da2500a",
        "colab": {
          "base_uri": "https://localhost:8080/"
        }
      },
      "source": [
        "print(\"day=\",a.day)"
      ],
      "execution_count": null,
      "outputs": [
        {
          "output_type": "stream",
          "text": [
            "day= 11\n"
          ],
          "name": "stdout"
        }
      ]
    },
    {
      "cell_type": "code",
      "metadata": {
        "id": "tTbxhvRhUvBa",
        "outputId": "5ee9321d-8985-4fcb-ab29-8445a4a4f10f",
        "colab": {
          "base_uri": "https://localhost:8080/"
        }
      },
      "source": [
        "print(\"hour =\", a.hour) "
      ],
      "execution_count": null,
      "outputs": [
        {
          "output_type": "stream",
          "text": [
            "hour = 23\n"
          ],
          "name": "stdout"
        }
      ]
    },
    {
      "cell_type": "code",
      "metadata": {
        "id": "E6fN6avhU1lx",
        "outputId": "f422beb5-739c-43f0-9201-452ca2e9837a",
        "colab": {
          "base_uri": "https://localhost:8080/"
        }
      },
      "source": [
        "print(\"minute =\", a.minute) "
      ],
      "execution_count": null,
      "outputs": [
        {
          "output_type": "stream",
          "text": [
            "minute = 55\n"
          ],
          "name": "stdout"
        }
      ]
    },
    {
      "cell_type": "code",
      "metadata": {
        "id": "_YAAXRtAVIBO",
        "outputId": "a29edf4e-3e59-46dc-d279-b9c22340e08e",
        "colab": {
          "base_uri": "https://localhost:8080/"
        }
      },
      "source": [
        "print(\"second =\", a.second)"
      ],
      "execution_count": null,
      "outputs": [
        {
          "output_type": "stream",
          "text": [
            "second = 59\n"
          ],
          "name": "stdout"
        }
      ]
    },
    {
      "cell_type": "code",
      "metadata": {
        "id": "1W5MlcFCVJXx",
        "outputId": "20acb54a-694a-4adf-b46e-a5edd6f12d2e",
        "colab": {
          "base_uri": "https://localhost:8080/"
        }
      },
      "source": [
        "print(\"timestamp =\", a.timestamp())"
      ],
      "execution_count": null,
      "outputs": [
        {
          "output_type": "stream",
          "text": [
            "timestamp = 1599868559.34238\n"
          ],
          "name": "stdout"
        }
      ]
    },
    {
      "cell_type": "markdown",
      "metadata": {
        "id": "OU7sj50XVXoz"
      },
      "source": [
        "Difference between two dates and time"
      ]
    },
    {
      "cell_type": "code",
      "metadata": {
        "id": "1RNR3IqgVZkg",
        "outputId": "677c3422-4172-40a6-efea-f2cf664faf59",
        "colab": {
          "base_uri": "https://localhost:8080/"
        }
      },
      "source": [
        "d1 = datetime(year = 2018, month = 7, day = 12, hour = 7, minute = 9, second = 33)\n",
        "d2 = datetime(year = 2020, month = 6, day = 10, hour = 5, minute = 55, second = 13)\n",
        "print(d2-d1)"
      ],
      "execution_count": null,
      "outputs": [
        {
          "output_type": "stream",
          "text": [
            "698 days, 22:45:40\n"
          ],
          "name": "stdout"
        }
      ]
    },
    {
      "cell_type": "markdown",
      "metadata": {
        "id": "BFJFZDlDdW0c"
      },
      "source": [
        "We can also create date objects from a timestamp. **A Unix timestamp is the number of seconds between a particular date and January 1, 1970 at UTC**. You can convert a timestamp to date using **fromtimestamp()** method"
      ]
    },
    {
      "cell_type": "code",
      "metadata": {
        "id": "tO4JhXFCdXnu",
        "outputId": "d1f99dd9-b8a8-4483-8295-b780c0cc83d7",
        "colab": {
          "base_uri": "https://localhost:8080/"
        }
      },
      "source": [
        "from datetime import datetime\n",
        "tstamp = datetime.now().timestamp()\n",
        "print(tstamp)"
      ],
      "execution_count": null,
      "outputs": [
        {
          "output_type": "stream",
          "text": [
            "1604379373.282902\n"
          ],
          "name": "stdout"
        }
      ]
    },
    {
      "cell_type": "markdown",
      "metadata": {
        "id": "iUOmHh0Refxk"
      },
      "source": [
        "Get date from a timestamp"
      ]
    },
    {
      "cell_type": "code",
      "metadata": {
        "id": "Fevo9Regdkx4",
        "outputId": "68b259e2-9267-4eeb-c600-2a95b1cd9e7a",
        "colab": {
          "base_uri": "https://localhost:8080/"
        }
      },
      "source": [
        "dt = datetime.fromtimestamp(tstamp)\n",
        "print(dt)"
      ],
      "execution_count": null,
      "outputs": [
        {
          "output_type": "stream",
          "text": [
            "2020-11-03 04:56:13.282902\n"
          ],
          "name": "stdout"
        }
      ]
    },
    {
      "cell_type": "markdown",
      "metadata": {
        "id": "MU6ROV6i6iSF"
      },
      "source": [
        "2. **date class**"
      ]
    },
    {
      "cell_type": "markdown",
      "metadata": {
        "id": "yDXbnioiKTnK"
      },
      "source": [
        "**Syntax**: datetime.date(year, month, day)"
      ]
    },
    {
      "cell_type": "code",
      "metadata": {
        "id": "JNs9cYd0451K",
        "outputId": "bfd53eac-f24a-46d7-a3b3-e0038228034b",
        "colab": {
          "base_uri": "https://localhost:8080/"
        }
      },
      "source": [
        "import datetime \n",
        "d = datetime.date(2020,10,31) \n",
        "print(d)"
      ],
      "execution_count": null,
      "outputs": [
        {
          "output_type": "stream",
          "text": [
            "2020-10-31\n"
          ],
          "name": "stdout"
        }
      ]
    },
    {
      "cell_type": "markdown",
      "metadata": {
        "id": "zrvqxhOUGA5Z"
      },
      "source": [
        "We can use **today()** method defined in the date class to get a date object containing the current local date."
      ]
    },
    {
      "cell_type": "code",
      "metadata": {
        "id": "VRnPuAd6GCPc",
        "outputId": "5e134b41-5949-4357-ec43-6260cfea014b",
        "colab": {
          "base_uri": "https://localhost:8080/"
        }
      },
      "source": [
        "import datetime \n",
        "datetime_object = datetime.date.today()\n",
        "print(\"current date=\",datetime_object)"
      ],
      "execution_count": null,
      "outputs": [
        {
          "output_type": "stream",
          "text": [
            "current date= 2020-11-03\n"
          ],
          "name": "stdout"
        }
      ]
    },
    {
      "cell_type": "markdown",
      "metadata": {
        "id": "xdxj6YwXhRdT"
      },
      "source": [
        "Print today's year, month and day\n",
        "We can get year, month, day, day of the week etc. from the date object easily. Here's how: "
      ]
    },
    {
      "cell_type": "code",
      "metadata": {
        "id": "cSWX2YLHXmeI",
        "outputId": "bf352056-196c-4143-e77c-e6ec2f4254e7",
        "colab": {
          "base_uri": "https://localhost:8080/"
        }
      },
      "source": [
        "from datetime import date \n",
        "today = date.today() \n",
        "print(\"Current year:\", today.year) "
      ],
      "execution_count": null,
      "outputs": [
        {
          "output_type": "stream",
          "text": [
            "Current year: 2020\n"
          ],
          "name": "stdout"
        }
      ]
    },
    {
      "cell_type": "code",
      "metadata": {
        "id": "PRkVwImGYNwT",
        "outputId": "18aed8aa-3376-441b-9213-5aff11f24fbd",
        "colab": {
          "base_uri": "https://localhost:8080/"
        }
      },
      "source": [
        "from datetime import date \n",
        "today = date.today() \n",
        "print(\"Current year:\", today.day) "
      ],
      "execution_count": null,
      "outputs": [
        {
          "output_type": "stream",
          "text": [
            "Current year: 2\n"
          ],
          "name": "stdout"
        }
      ]
    },
    {
      "cell_type": "code",
      "metadata": {
        "id": "Xz8f7pDMhU9V",
        "outputId": "f7d28b45-d8b6-42d3-b83c-dbdef09ef5dc",
        "colab": {
          "base_uri": "https://localhost:8080/"
        }
      },
      "source": [
        "from datetime import date \n",
        "today = date.today() \n",
        "print(\"Current year:\", today.month) "
      ],
      "execution_count": null,
      "outputs": [
        {
          "output_type": "stream",
          "text": [
            "Current year: 11\n"
          ],
          "name": "stdout"
        }
      ]
    },
    {
      "cell_type": "markdown",
      "metadata": {
        "id": "8RF6GyLjGAxE"
      },
      "source": [
        "Difference between two dates "
      ]
    },
    {
      "cell_type": "code",
      "metadata": {
        "id": "_BG3weHyl12T",
        "outputId": "84615f80-11f3-4f64-8b83-e052361e28d1",
        "colab": {
          "base_uri": "https://localhost:8080/"
        }
      },
      "source": [
        "from datetime import date\n",
        "d1 = date(year = 2018, month = 7, day = 12)\n",
        "d2 = date(year = 2020, month = 12, day = 23)\n",
        "print(d2-d1)"
      ],
      "execution_count": null,
      "outputs": [
        {
          "output_type": "stream",
          "text": [
            "895 days, 0:00:00\n"
          ],
          "name": "stdout"
        }
      ]
    },
    {
      "cell_type": "markdown",
      "metadata": {
        "id": "09e2Nx9-eZL8"
      },
      "source": [
        "Get date from a timestamp"
      ]
    },
    {
      "cell_type": "code",
      "metadata": {
        "id": "nrfBz8QvcYM2",
        "outputId": "514b1a48-6a52-4dc6-915e-c0468780af25",
        "colab": {
          "base_uri": "https://localhost:8080/"
        }
      },
      "source": [
        "from datetime import date \n",
        "timestamp=date.fromtimestamp(1583562786) \n",
        "print(\"Date =\", timestamp) "
      ],
      "execution_count": null,
      "outputs": [
        {
          "output_type": "stream",
          "text": [
            "Date = 2020-03-07\n"
          ],
          "name": "stdout"
        }
      ]
    },
    {
      "cell_type": "markdown",
      "metadata": {
        "id": "ytObC5_IGAjg"
      },
      "source": [
        "**3. time class**"
      ]
    },
    {
      "cell_type": "markdown",
      "metadata": {
        "id": "xzN8vtcrrpu5"
      },
      "source": [
        "Time object to represent time\n",
        "\n",
        "***class datetime.time(hour=0, minute=0, second=0, microsecond=0, tzinfo=None)***"
      ]
    },
    {
      "cell_type": "code",
      "metadata": {
        "id": "AHaGNweHrogJ",
        "outputId": "e61e2b9d-1e61-43b5-a2a5-d46f36f7b352",
        "colab": {
          "base_uri": "https://localhost:8080/"
        }
      },
      "source": [
        "from datetime  import time \n",
        "# time(hour = 0, minute = 0, second = 0) \n",
        "t= time() \n",
        "print(\"t=\", t )"
      ],
      "execution_count": null,
      "outputs": [
        {
          "output_type": "stream",
          "text": [
            "t= 00:00:00\n"
          ],
          "name": "stdout"
        }
      ]
    },
    {
      "cell_type": "code",
      "metadata": {
        "id": "t1fw4u1Vs91u",
        "outputId": "5989d5d0-cc43-4395-8dd6-eaa63fa3725c",
        "colab": {
          "base_uri": "https://localhost:8080/"
        }
      },
      "source": [
        "# time(hour, minute and second)\n",
        "t = time(11, 34, 56) \n",
        "print(\"t =\", t) "
      ],
      "execution_count": null,
      "outputs": [
        {
          "output_type": "stream",
          "text": [
            "t = 11:34:56\n"
          ],
          "name": "stdout"
        }
      ]
    },
    {
      "cell_type": "code",
      "metadata": {
        "id": "MZpePRlHtIe_",
        "outputId": "7d0e06b7-bc7e-4fda-942e-8d1fe189efb4",
        "colab": {
          "base_uri": "https://localhost:8080/"
        }
      },
      "source": [
        "# time(hour, minute and second) \n",
        "t = time(hour = 11, minute = 34, second = 56) \n",
        "print(\"t =\", t) "
      ],
      "execution_count": null,
      "outputs": [
        {
          "output_type": "stream",
          "text": [
            "t = 11:34:56\n"
          ],
          "name": "stdout"
        }
      ]
    },
    {
      "cell_type": "code",
      "metadata": {
        "id": "Y2mKFXl4tQ9T",
        "outputId": "7f4b9b05-85b5-4888-a88f-cdd382af8f8b",
        "colab": {
          "base_uri": "https://localhost:8080/"
        }
      },
      "source": [
        "# time(hour, minute, second, microsecond) \n",
        "t= time(11, 34, 56, 234566) \n",
        "print(\"t =\", t) "
      ],
      "execution_count": null,
      "outputs": [
        {
          "output_type": "stream",
          "text": [
            "t = 11:34:56.234566\n"
          ],
          "name": "stdout"
        }
      ]
    },
    {
      "cell_type": "markdown",
      "metadata": {
        "id": "OXGjKniNuZBI"
      },
      "source": [
        "Print hour, minute, second and microsecond\n",
        "\n",
        "Once you create a time object, you can easily print its attributes such as hour, minute etc. "
      ]
    },
    {
      "cell_type": "code",
      "metadata": {
        "id": "VzqCXGlPulqe",
        "outputId": "6039111d-e9ca-4f03-dfb2-9aea97a18969",
        "colab": {
          "base_uri": "https://localhost:8080/"
        }
      },
      "source": [
        "from datetime import time \n",
        "a = time(11, 34, 56) \n",
        "print(\"hour =\", a.hour) \n",
        "print(\"minute =\", a.minute) \n",
        "print(\"second =\", a.second) \n",
        "print(\"microsecond =\", a.microsecond)"
      ],
      "execution_count": null,
      "outputs": [
        {
          "output_type": "stream",
          "text": [
            "hour = 11\n",
            "minute = 34\n",
            "second = 56\n",
            "microsecond = 0\n"
          ],
          "name": "stdout"
        }
      ]
    },
    {
      "cell_type": "markdown",
      "metadata": {
        "id": "iwO9_yP1xXAi"
      },
      "source": [
        "**4. timedelta class**"
      ]
    },
    {
      "cell_type": "markdown",
      "metadata": {
        "id": "kR1Xx-O8kn6h"
      },
      "source": [
        "Python **timedelta()** function is present under **datetime** library which is generally used for **calculating differences in dates** and also can be used for **date manipulations** in Python.\n",
        "\n",
        "It is one of the easiest ways to perform date manipulations.\n",
        "\n",
        "**Syntax :** datetime.timedelta(days=0, seconds=0, microseconds=0, milliseconds=0, minutes=0, hours=0, weeks=0)\n",
        "\n",
        "**Returns :** Date"
      ]
    },
    {
      "cell_type": "code",
      "metadata": {
        "id": "npFbootFlWqE",
        "outputId": "88f93c42-8dfd-41dc-ac1b-e42f919ac696",
        "colab": {
          "base_uri": "https://localhost:8080/"
        }
      },
      "source": [
        "from datetime import datetime, timedelta \n",
        "current_date = datetime.now()\n",
        "print(\"Current date= \",current_date)\n",
        "d = current_date + timedelta(days = 2) \n",
        "print(d)                          "
      ],
      "execution_count": null,
      "outputs": [
        {
          "output_type": "stream",
          "text": [
            "Current date=  2020-11-04 16:59:25.700350\n",
            "2020-11-06 16:59:25.700350\n"
          ],
          "name": "stdout"
        }
      ]
    },
    {
      "cell_type": "code",
      "metadata": {
        "id": "WcxlCMXqMnpZ",
        "outputId": "e3ce5ae4-6173-4371-e9c6-29d288ce77ce",
        "colab": {
          "base_uri": "https://localhost:8080/"
        }
      },
      "source": [
        "from datetime import datetime, timedelta \n",
        "current_date = datetime.now()\n",
        "print(\"Current date= \",current_date)\n",
        "d = current_date + timedelta(days = -2) \n",
        "print(d) "
      ],
      "execution_count": null,
      "outputs": [
        {
          "output_type": "stream",
          "text": [
            "Current date=  2020-11-04 16:59:26.138139\n",
            "2020-11-02 16:59:26.138139\n"
          ],
          "name": "stdout"
        }
      ]
    },
    {
      "cell_type": "code",
      "metadata": {
        "id": "OD0BC2-mncih",
        "outputId": "d8eb5b1f-12c1-4268-eba7-582c4c11280a",
        "colab": {
          "base_uri": "https://localhost:8080/"
        }
      },
      "source": [
        "from datetime import timedelta  \n",
        "t1=timedelta(seconds=53)\n",
        "t2=timedelta(seconds=55)\n",
        "print(t2-t1)"
      ],
      "execution_count": null,
      "outputs": [
        {
          "output_type": "stream",
          "text": [
            "0:00:02\n"
          ],
          "name": "stdout"
        }
      ]
    },
    {
      "cell_type": "markdown",
      "metadata": {
        "id": "EffYbFYOkw4w"
      },
      "source": [
        "# **Formatting date and time**"
      ]
    },
    {
      "cell_type": "markdown",
      "metadata": {
        "id": "UXpFHgnCkwtv"
      },
      "source": [
        "The way date and time is represented may be different in different places, organizations etc. It's more common to use mm/dd/yyyy in the US, whereas dd/mm/yyyy is more common in the UK."
      ]
    },
    {
      "cell_type": "markdown",
      "metadata": {
        "id": "-cHAGv_1xq-D"
      },
      "source": [
        "Python has **strftime()** and **strptime()** methods to handle this."
      ]
    },
    {
      "cell_type": "markdown",
      "metadata": {
        "id": "faaVgP2Hpm7P"
      },
      "source": [
        "**datetime object to string**\n",
        "\n",
        "The strftime() method is defined under classes date, datetime and time. The method creates a formatted string from a given date, datetime or time object."
      ]
    },
    {
      "cell_type": "code",
      "metadata": {
        "id": "KV6x28A5pTpO",
        "outputId": "3e3db6b2-88c8-457e-f5b9-bc5fa939c84b",
        "colab": {
          "base_uri": "https://localhost:8080/"
        }
      },
      "source": [
        "from datetime import datetime\n",
        "dt=datetime.now()\n",
        "print(dt)"
      ],
      "execution_count": null,
      "outputs": [
        {
          "output_type": "stream",
          "text": [
            "2020-11-04 05:08:28.945785\n"
          ],
          "name": "stdout"
        }
      ]
    },
    {
      "cell_type": "code",
      "metadata": {
        "id": "8ioM_H4PqCHI",
        "outputId": "e6eaf917-5e0e-4abc-ee65-010466f289c2",
        "colab": {
          "base_uri": "https://localhost:8080/",
          "height": 35
        }
      },
      "source": [
        "dt.strftime(\"%H:%M:%S\")"
      ],
      "execution_count": null,
      "outputs": [
        {
          "output_type": "execute_result",
          "data": {
            "application/vnd.google.colaboratory.intrinsic+json": {
              "type": "string"
            },
            "text/plain": [
              "'05:08:28'"
            ]
          },
          "metadata": {
            "tags": []
          },
          "execution_count": 4
        }
      ]
    },
    {
      "cell_type": "code",
      "metadata": {
        "id": "ge3a2E5_qKWI",
        "outputId": "38ae6cbf-7f4e-470e-a0a7-4ab0a4fffa4d",
        "colab": {
          "base_uri": "https://localhost:8080/",
          "height": 35
        }
      },
      "source": [
        "dt.strftime(\"%m/%d/%Y, %H:%M:%S\")"
      ],
      "execution_count": null,
      "outputs": [
        {
          "output_type": "execute_result",
          "data": {
            "application/vnd.google.colaboratory.intrinsic+json": {
              "type": "string"
            },
            "text/plain": [
              "'11/04/2020, 05:08:28'"
            ]
          },
          "metadata": {
            "tags": []
          },
          "execution_count": 5
        }
      ]
    },
    {
      "cell_type": "code",
      "metadata": {
        "id": "m1rb50fjqPMO",
        "outputId": "10017023-60ed-4bf3-903b-14dbed73d051",
        "colab": {
          "base_uri": "https://localhost:8080/",
          "height": 35
        }
      },
      "source": [
        "dt.strftime(\"%d %B %Y, %H:%M:%S\")"
      ],
      "execution_count": null,
      "outputs": [
        {
          "output_type": "execute_result",
          "data": {
            "application/vnd.google.colaboratory.intrinsic+json": {
              "type": "string"
            },
            "text/plain": [
              "'04 November 2020, 05:08:28'"
            ]
          },
          "metadata": {
            "tags": []
          },
          "execution_count": 18
        }
      ]
    },
    {
      "cell_type": "markdown",
      "metadata": {
        "id": "akXVc4vHqp1w"
      },
      "source": [
        "Here, **%Y, %m, %d, %H**etc. are format codes. The **strftime()** method takes one or more format codes and returns a formatted string based on it.\n",
        "\n",
        "%Y - year [0001,..., 2018, 2019,..., 9999]\n",
        "\n",
        "%m - month [01, 02, ..., 11, 12]\n",
        "\n",
        "%d - day [01, 02, ..., 30, 31]\n",
        "\n",
        "%H - hour [00, 01, ..., 22, 23]\n",
        "\n",
        "%M - minute [00, 01, ..., 58, 59]\n",
        "\n",
        "%S - second [00, 01, ..., 58, 59]"
      ]
    },
    {
      "cell_type": "markdown",
      "metadata": {
        "id": "c_awmnXZq6xy"
      },
      "source": [
        "**string to date time object**"
      ]
    },
    {
      "cell_type": "markdown",
      "metadata": {
        "id": "4My2rnSKrhqe"
      },
      "source": [
        "The **strptime()** method creates a datetime object from a given string (representing date and time)."
      ]
    },
    {
      "cell_type": "code",
      "metadata": {
        "id": "ZazzCDJDrkc5",
        "outputId": "6820f0c5-fb5d-41d7-c656-95927b1b7ff2",
        "colab": {
          "base_uri": "https://localhost:8080/"
        }
      },
      "source": [
        "print(datetime.strptime(\"11 September, 2020\",\"%d %B, %Y\"))"
      ],
      "execution_count": null,
      "outputs": [
        {
          "output_type": "stream",
          "text": [
            "2020-09-11 00:00:00\n"
          ],
          "name": "stdout"
        }
      ]
    },
    {
      "cell_type": "markdown",
      "metadata": {
        "id": "bTV51XgCrp97"
      },
      "source": [
        "The **strptime()** method takes two arguments:\n",
        "* a string representing date and time\n",
        "* format code equivalent to the first argument\n",
        "\n",
        "By the way, **%d, %B and %Y** format codes are used for day, month(full name) and year respectively."
      ]
    },
    {
      "cell_type": "markdown",
      "metadata": {
        "id": "Kw1sopQLr-C3"
      },
      "source": [
        "# **Example Programs**"
      ]
    },
    {
      "cell_type": "markdown",
      "metadata": {
        "id": "0tvX01Ax4obh"
      },
      "source": [
        "**Example 1:Get today's date from datetime**"
      ]
    },
    {
      "cell_type": "code",
      "metadata": {
        "id": "jGSk1R8L4voY",
        "outputId": "81d09a29-6db4-4302-8718-5099957b0a53",
        "colab": {
          "base_uri": "https://localhost:8080/"
        }
      },
      "source": [
        "from datetime import date \n",
        "today = date.today() \n",
        "print(\"Today's date:\", today)"
      ],
      "execution_count": null,
      "outputs": [
        {
          "output_type": "stream",
          "text": [
            "Today's date: 2020-11-04\n"
          ],
          "name": "stdout"
        }
      ]
    },
    {
      "cell_type": "markdown",
      "metadata": {
        "id": "5u0gKh_Pspw-"
      },
      "source": [
        "**Example 2 : Current date in different formats**"
      ]
    },
    {
      "cell_type": "code",
      "metadata": {
        "id": "VX4YLutH3FqM",
        "outputId": "1b430073-ccbc-42b5-a677-d8962fea473a",
        "colab": {
          "base_uri": "https://localhost:8080/"
        }
      },
      "source": [
        "from datetime import date\n",
        "today = date.today()\n",
        "# dd/mm/YY\n",
        "d1 = today.strftime(\"%d/%m/%Y\")\n",
        "print(\"d1 =\", d1)\n",
        "\n",
        "# Textual month, day and year\t\n",
        "d2 = today.strftime(\"%B %d, %Y\")\n",
        "print(\"d2 =\", d2)\n",
        "\n",
        "# mm/dd/y\n",
        "d3 = today.strftime(\"%m/%d/%y\")\n",
        "print(\"d3 =\", d3)\n",
        "\n",
        "# Month abbreviation, day and year\t\n",
        "d4 = today.strftime(\"%b-%d-%Y\")\n",
        "print(\"d4 =\", d4)"
      ],
      "execution_count": null,
      "outputs": [
        {
          "output_type": "stream",
          "text": [
            "d1 = 04/11/2020\n",
            "d2 = November 04, 2020\n",
            "d3 = 11/04/20\n",
            "d4 = Nov-04-2020\n"
          ],
          "name": "stdout"
        }
      ]
    },
    {
      "cell_type": "markdown",
      "metadata": {
        "id": "8SKZRNNJ3NmH"
      },
      "source": [
        "**Example 3 : Get the current date and time**"
      ]
    },
    {
      "cell_type": "code",
      "metadata": {
        "id": "i42opLdA3be-",
        "outputId": "4b8f4a27-0503-4981-c44f-9d099a6e7fa4",
        "colab": {
          "base_uri": "https://localhost:8080/"
        }
      },
      "source": [
        "from datetime import datetime \n",
        " # datetime object containing current date and time \n",
        "now = datetime.now() \n",
        "print(\"now =\", now) \n",
        " # dd/mm/YY H:M:S \n",
        "dt_string = now.strftime(\"%d/%m/%Y %H:%M:%S\")\n",
        "print(\"date and time =\", dt_string)"
      ],
      "execution_count": null,
      "outputs": [
        {
          "output_type": "stream",
          "text": [
            "now = 2020-11-04 06:08:31.722098\n",
            "date and time = 04/11/2020 06:08:31\n"
          ],
          "name": "stdout"
        }
      ]
    },
    {
      "cell_type": "markdown",
      "metadata": {
        "id": "Nvv9wLYo3xjk"
      },
      "source": [
        "**Example 4: Current time using datetime object**"
      ]
    },
    {
      "cell_type": "code",
      "metadata": {
        "id": "fcSyUm094Ib2",
        "outputId": "6c896c2b-6bec-4702-96d1-199fecdb3daa",
        "colab": {
          "base_uri": "https://localhost:8080/"
        }
      },
      "source": [
        "from datetime import datetime\n",
        "now = datetime.now()\n",
        "current_time = now.strftime(\"%H:%M:%S\")\n",
        "print(\"Current Time =\", current_time)"
      ],
      "execution_count": null,
      "outputs": [
        {
          "output_type": "stream",
          "text": [
            "Current Time = 06:10:26\n"
          ],
          "name": "stdout"
        }
      ]
    },
    {
      "cell_type": "markdown",
      "metadata": {
        "id": "YMjc3u6k4Q8i"
      },
      "source": [
        "**Example 5: Current time using time module**"
      ]
    },
    {
      "cell_type": "code",
      "metadata": {
        "id": "ze3oV8oA4Uim",
        "outputId": "e0c34989-82f3-4552-9381-b580f194160d",
        "colab": {
          "base_uri": "https://localhost:8080/"
        }
      },
      "source": [
        "import time\n",
        "t = time.localtime()\n",
        "current_time = time.strftime(\"%H:%M:%S\", t)\n",
        "print(current_time)"
      ],
      "execution_count": null,
      "outputs": [
        {
          "output_type": "stream",
          "text": [
            "06:11:43\n"
          ],
          "name": "stdout"
        }
      ]
    }
  ]
}