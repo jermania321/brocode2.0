{
  "nbformat": 4,
  "nbformat_minor": 0,
  "metadata": {
    "colab": {
      "name": "Abstract classes.ipynb",
      "provenance": [],
      "include_colab_link": true
    },
    "kernelspec": {
      "name": "python3",
      "display_name": "Python 3"
    }
  },
  "cells": [
    {
      "cell_type": "markdown",
      "metadata": {
        "id": "view-in-github",
        "colab_type": "text"
      },
      "source": [
        "<a href=\"https://colab.research.google.com/github/jermania321/brocode2.0/blob/master/Abstract_classes.ipynb\" target=\"_parent\"><img src=\"https://colab.research.google.com/assets/colab-badge.svg\" alt=\"Open In Colab\"/></a>"
      ]
    },
    {
      "cell_type": "markdown",
      "metadata": {
        "id": "-lAHslWvPYW8"
      },
      "source": [
        "# Abstract classes in Python"
      ]
    },
    {
      "cell_type": "markdown",
      "metadata": {
        "id": "ve74X5U9P1am"
      },
      "source": [
        "\n",
        "\n",
        "*   An abstract class can be considered as a blueprint for other classes.\n",
        "*   It allows you to create a set of methods that must be created within any child classes built from the abstract class.\n",
        "\n",
        "*   A class which contains one or more abstract methods is called an **abstract class**.\n",
        "*   An **abstract method** is a method that has a declaration but does not have an implementation.\n",
        "\n",
        "While we are designing large functional units we use an abstract class. When we want to provide a common interface for different implementations of a component, we use an abstract class.\n",
        "\n",
        "\n",
        "\n"
      ]
    },
    {
      "cell_type": "markdown",
      "metadata": {
        "id": "-dq4BURjQXvh"
      },
      "source": [
        "# Why use Abstract Base Classes :"
      ]
    },
    {
      "cell_type": "markdown",
      "metadata": {
        "id": "YzI8WROPQbwC"
      },
      "source": [
        "By defining an abstract base class, you can define a common Application Program Interface(API) for a set of subclasses. \n",
        "\n",
        "This capability is especially useful in situations where a third-party is going to provide implementations, such as with plugins, but can also help you when working in a large team or with a large code-base where keeping all classes in your mind is difficult or not possible."
      ]
    },
    {
      "cell_type": "markdown",
      "metadata": {
        "id": "ij4jjC2uQoyB"
      },
      "source": [
        "# How Abstract Base classes work :"
      ]
    },
    {
      "cell_type": "markdown",
      "metadata": {
        "id": "a-DGCJPKQsSb"
      },
      "source": [
        "\n",
        "\n",
        "*   By default, Python does not provide abstract classes.\n",
        "*   Python comes with a module which provides the base for defining **Abstract Base classes(ABC)** ---module name is **ABC**\n",
        "\n",
        "*   ABC works by decorating methods of the base class as abstract and then registering concrete classes as implementations of the abstract base.\n",
        "*   A method becomes abstract when decorated with the keyword @abstractmethod.\n",
        "\n",
        "\n",
        "\n"
      ]
    },
    {
      "cell_type": "code",
      "metadata": {
        "colab": {
          "base_uri": "https://localhost:8080/"
        },
        "id": "EA2yiLQ0TbSj",
        "outputId": "7ce18518-5529-40b6-c403-70e16983c4a8"
      },
      "source": [
        " #Python program showing abstract base class work \n",
        "\n",
        "from abc import ABC \n",
        "class Polygon(ABC): \n",
        "\t# abstract method \n",
        "\tdef noofsides(self): \n",
        "\t\tpass\n",
        "class Triangle(Polygon): \n",
        "\t# overriding abstract method \n",
        "\tdef noofsides(self): \n",
        "\t\tprint(\"I have 3 sides\") \n",
        "class Pentagon(Polygon): \n",
        "\t# overriding abstract method \n",
        "\tdef noofsides(self): \n",
        "\t\tprint(\"I have 5 sides\") \n",
        "class Hexagon(Polygon): \n",
        "\t# overriding abstract method \n",
        "\tdef noofsides(self): \n",
        "\t\tprint(\"I have 6 sides\") \n",
        "class Quadrilateral(Polygon): \n",
        "\t# overriding abstract method \n",
        "\tdef noofsides(self): \n",
        "\t\tprint(\"I have 4 sides\") \n",
        "\n",
        "# Driver code \n",
        "R = Triangle() \n",
        "R.noofsides() \n",
        "K = Quadrilateral() \n",
        "K.noofsides() \n",
        "R = Pentagon() \n",
        "R.noofsides() \n",
        "K = Hexagon() \n",
        "K.noofsides() "
      ],
      "execution_count": null,
      "outputs": [
        {
          "output_type": "stream",
          "text": [
            "I have 3 sides\n",
            "I have 4 sides\n",
            "I have 5 sides\n",
            "I have 6 sides\n"
          ],
          "name": "stdout"
        }
      ]
    },
    {
      "cell_type": "markdown",
      "metadata": {
        "id": "tnPVA46UUCbJ"
      },
      "source": [
        "# Abstract Class Instantiation :"
      ]
    },
    {
      "cell_type": "markdown",
      "metadata": {
        "id": "MjsHzt4rUFrj"
      },
      "source": [
        "**Abstract classes are incomplete** because they have methods which have no body. If python allows creating an object for abstract classes then using that object if anyone calls the abstract method, but there is no actual implementation to invoke. So we use an abstract class as a template and according to the need we extend it and build on it before we can use it. Due to the fact, **an abstract class is not a concrete class, it cannot be instantiated. When we create an object for the abstract class it raises an error**.\n"
      ]
    }
  ]
}