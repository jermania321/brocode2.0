{
  "nbformat": 4,
  "nbformat_minor": 0,
  "metadata": {
    "colab": {
      "name": "The os and sys module.ipynb",
      "provenance": [],
      "collapsed_sections": [],
      "include_colab_link": true
    },
    "kernelspec": {
      "name": "python3",
      "display_name": "Python 3"
    }
  },
  "cells": [
    {
      "cell_type": "markdown",
      "metadata": {
        "id": "view-in-github",
        "colab_type": "text"
      },
      "source": [
        "<a href=\"https://colab.research.google.com/github/jermania321/brocode2.0/blob/master/The_os_and_sys_module.ipynb\" target=\"_parent\"><img src=\"https://colab.research.google.com/assets/colab-badge.svg\" alt=\"Open In Colab\"/></a>"
      ]
    },
    {
      "cell_type": "markdown",
      "metadata": {
        "id": "I1cawJyFJqgD"
      },
      "source": [
        "# **The os and sys module**\n",
        "\n",
        "The **OS module** in python provides functions for interacting with the operating system. \n",
        "\n",
        "OS, comes under Python’s standard utility modules. This module provides a portable way of using operating system dependent functionality. \n",
        "\n",
        "This **os and os.path modules** include many functions to interact with the file system."
      ]
    },
    {
      "cell_type": "markdown",
      "metadata": {
        "id": "ExLsJYVqKGXO"
      },
      "source": [
        "Following are some functions in OS module:\n",
        "1. **os.name**\n",
        "\n",
        "This function gives the **name of the operating system** dependent module imported. The following names have currently been registered: ‘posix’, ‘nt’, ‘os2’, ‘ce’, ‘java’ and ‘riscos’"
      ]
    },
    {
      "cell_type": "code",
      "metadata": {
        "colab": {
          "base_uri": "https://localhost:8080/",
          "height": 35
        },
        "id": "vkC8G6L9Ibz2",
        "outputId": "a09dbd18-b1de-46bf-c298-5d5c9516e887"
      },
      "source": [
        "import os\n",
        "os.name"
      ],
      "execution_count": null,
      "outputs": [
        {
          "output_type": "execute_result",
          "data": {
            "application/vnd.google.colaboratory.intrinsic+json": {
              "type": "string"
            },
            "text/plain": [
              "'posix'"
            ]
          },
          "metadata": {
            "tags": []
          },
          "execution_count": 2
        }
      ]
    },
    {
      "cell_type": "markdown",
      "metadata": {
        "id": "d1UulMgzKnWf"
      },
      "source": [
        "2. **os.getcwd()**\n",
        "\n",
        "Function os.getcwd(), returns the **Current Working Directory(CWD) of the file used to execute the code**, can vary from system to system."
      ]
    },
    {
      "cell_type": "code",
      "metadata": {
        "colab": {
          "base_uri": "https://localhost:8080/",
          "height": 35
        },
        "id": "VwQ5J7YnKW0W",
        "outputId": "701fe553-17a6-430f-ae80-533e72d007b7"
      },
      "source": [
        "os.getcwd()"
      ],
      "execution_count": null,
      "outputs": [
        {
          "output_type": "execute_result",
          "data": {
            "application/vnd.google.colaboratory.intrinsic+json": {
              "type": "string"
            },
            "text/plain": [
              "'/content'"
            ]
          },
          "metadata": {
            "tags": []
          },
          "execution_count": 3
        }
      ]
    },
    {
      "cell_type": "code",
      "metadata": {
        "id": "1T4sT8xw-lLv",
        "colab": {
          "base_uri": "https://localhost:8080/",
          "height": 35
        },
        "outputId": "352a38c6-eef7-4b1e-a1c4-b5a8178adf9c"
      },
      "source": [
        "os.getcwd()\n",
        "#'C:\\\\Users\\\\Computer\\\\AppData\\\\Local\\\\Programs\\\\Python\\\\Python38-32'"
      ],
      "execution_count": null,
      "outputs": [
        {
          "output_type": "execute_result",
          "data": {
            "application/vnd.google.colaboratory.intrinsic+json": {
              "type": "string"
            },
            "text/plain": [
              "'/content'"
            ]
          },
          "metadata": {
            "tags": []
          },
          "execution_count": 4
        }
      ]
    },
    {
      "cell_type": "markdown",
      "metadata": {
        "id": "X-Ht8HrNLVsY"
      },
      "source": [
        "3. **os.listdir('.')**\n",
        "\n",
        "To **print files and directories** in the current directory  on your system "
      ]
    },
    {
      "cell_type": "code",
      "metadata": {
        "colab": {
          "base_uri": "https://localhost:8080/"
        },
        "id": "fSqOD0U7Mr1y",
        "outputId": "34552d3e-6c29-421a-ecf7-dbd7ad01a0a5"
      },
      "source": [
        " os.listdir('.')"
      ],
      "execution_count": null,
      "outputs": [
        {
          "output_type": "execute_result",
          "data": {
            "text/plain": [
              "['.config', 'sample_data']"
            ]
          },
          "metadata": {
            "tags": []
          },
          "execution_count": 5
        }
      ]
    },
    {
      "cell_type": "code",
      "metadata": {
        "id": "OCkRWpuO-w76",
        "colab": {
          "base_uri": "https://localhost:8080/"
        },
        "outputId": "d5375533-4ec5-4293-af3a-1de20b1ef94e"
      },
      "source": [
        "os.listdir('.')\n",
        "#['add.py', 'DLLs', 'Doc', 'include', 'Lib', 'libs', 'LICENSE.txt', 'Module.py', 'NEWS.txt', 'python.exe', 'python3.dll', 'python38.dll', 'pythonw.exe', 'Sample.txt', 'Scripts', 'tcl', 'Tools', 'vcruntime140.dll', '__pycache__']"
      ],
      "execution_count": null,
      "outputs": [
        {
          "output_type": "execute_result",
          "data": {
            "text/plain": [
              "['.config', 'sample_data']"
            ]
          },
          "metadata": {
            "tags": []
          },
          "execution_count": 6
        }
      ]
    },
    {
      "cell_type": "markdown",
      "metadata": {
        "id": "sHTiJoz9N0j2"
      },
      "source": [
        "4. **os.chdir('..')**\n",
        "\n",
        "This function is used **to change the CWD**"
      ]
    },
    {
      "cell_type": "code",
      "metadata": {
        "colab": {
          "base_uri": "https://localhost:8080/",
          "height": 35
        },
        "id": "OoTlkKMuN7BS",
        "outputId": "9841b97d-27ae-46d9-992e-a278e1216899"
      },
      "source": [
        "os.getcwd()\n",
        "#'C:\\\\Users\\\\Computer\\\\AppData\\\\Local\\\\Programs\\\\Python\\\\Python38-32'\n",
        "os.chdir('..')\n",
        "os.getcwd()\n",
        "#'C:\\\\Users\\\\Computer\\\\AppData\\\\Local\\\\Programs\\\\Python'"
      ],
      "execution_count": null,
      "outputs": [
        {
          "output_type": "execute_result",
          "data": {
            "application/vnd.google.colaboratory.intrinsic+json": {
              "type": "string"
            },
            "text/plain": [
              "'/'"
            ]
          },
          "metadata": {
            "tags": []
          },
          "execution_count": 7
        }
      ]
    },
    {
      "cell_type": "markdown",
      "metadata": {
        "id": "wvpDEgbzOSyc"
      },
      "source": [
        "5. **os.mkdir(path)**\n",
        "\n",
        "This will **create a test directory** in C drive"
      ]
    },
    {
      "cell_type": "code",
      "metadata": {
        "id": "lqLdDisB_XzN"
      },
      "source": [
        "os.mkdir('C:\\\\Users\\\\Computer\\\\Desktop\\\\ml')"
      ],
      "execution_count": null,
      "outputs": []
    },
    {
      "cell_type": "markdown",
      "metadata": {
        "id": "BhjwPL89OcHC"
      },
      "source": [
        " 6. **os.rmdir(path)**\n",
        " \n",
        "Remove the directory temp"
      ]
    },
    {
      "cell_type": "code",
      "metadata": {
        "id": "w7AKLhUdBIIq"
      },
      "source": [
        "os.rmdir('C:\\\\Users\\\\Computer\\\\Desktop\\\\ml')"
      ],
      "execution_count": null,
      "outputs": []
    },
    {
      "cell_type": "markdown",
      "metadata": {
        "id": "o5C-QAB1EhdS"
      },
      "source": [
        "**7. os.remove(path)**\n",
        "\n",
        "Remove a file"
      ]
    },
    {
      "cell_type": "code",
      "metadata": {
        "id": "4m0Q7RqmH-kL"
      },
      "source": [
        "os.listdir()\n",
        "#['are.py', 'DLLs', 'Doc', 'include', 'Lib', 'libs', 'LICENSE.txt', 'mymodule.py', 'NEWS.txt', 'polygon.py', 'python.exe', 'python3.dll', 'python38.dll', 'pythonw.exe', 's.py', 'Scripts', 'student.py', 't.py', 'tcl', 'test.py', 'Tools', 'vcruntime140.dll', '__pycache__']\n",
        "os.remove('s.py')\n",
        "os.listdir()\n",
        "#['are.py', 'DLLs', 'Doc', 'include', 'Lib', 'libs', 'LICENSE.txt', 'mymodule.py', 'NEWS.txt', 'polygon.py', 'python.exe', 'python3.dll', 'python38.dll', 'pythonw.exe', 'Scripts', 'student.py', 't.py', 'tcl', 'test.py', 'Tools', 'vcruntime140.dll', '__pycache__']"
      ],
      "execution_count": null,
      "outputs": []
    },
    {
      "cell_type": "markdown",
      "metadata": {
        "id": "4nFfgXpKbpFY"
      },
      "source": [
        "8. **os.rename(old,new)**\n",
        "\n",
        "Renames the file or directory named old to new"
      ]
    },
    {
      "cell_type": "code",
      "metadata": {
        "id": "mInorVY6IcN5"
      },
      "source": [
        ""
      ],
      "execution_count": null,
      "outputs": []
    },
    {
      "cell_type": "code",
      "metadata": {
        "id": "77dhEIs9D04C"
      },
      "source": [
        "os.rename(old,new)"
      ],
      "execution_count": null,
      "outputs": []
    },
    {
      "cell_type": "code",
      "metadata": {
        "id": "JTuVKzmglbl0"
      },
      "source": [
        "import os\n",
        "os.listdir('.')\n",
        "#['add.py', 'DLLs', 'Doc', 'include', 'Lib', 'libs', 'LICENSE.txt', 'Module.py', 'NEWS.txt', 'python.exe', 'python3.dll', 'python38.dll', 'pythonw.exe', 'Sample.txt', 'Scripts', 'tcl', 'Tools', 'vcruntime140.dll', '__pycache__']\n",
        "os.rename('Sample.txt','sample.txt')\n",
        "os.listdir('.')\n",
        "#['add.py', 'DLLs', 'Doc', 'include', 'Lib', 'libs', 'LICENSE.txt', 'Module.py', 'NEWS.txt', 'python.exe', 'python3.dll', 'python38.dll', 'pythonw.exe', 'sample.txt', 'Scripts', 'tcl', 'Tools', 'vcruntime140.dll', '__pycache__']"
      ],
      "execution_count": null,
      "outputs": []
    },
    {
      "cell_type": "markdown",
      "metadata": {
        "id": "892oRNb1dNSI"
      },
      "source": [
        "9. **os.walk**\n",
        "\n",
        "The method **walk() generates the file names** in a directory tree by walking the tree either top-down or bottom-up.\n",
        "For each directory in the tree rooted at directory top (including top itself), it yields a 3-tuple (dirpath, dirnames, filenames).\n",
        "\n",
        "**root** : Prints out directories only from what you specified.\n",
        "\n",
        "**dirs** : Prints out sub-directories from root.\n",
        "\n",
        "**files** : Prints out all files from root and directories."
      ]
    },
    {
      "cell_type": "code",
      "metadata": {
        "id": "Zc5p2eVE2EKM",
        "colab": {
          "base_uri": "https://localhost:8080/",
          "height": 232
        },
        "outputId": "a650e1f1-02c3-44e8-a2c5-a3ee45a20296"
      },
      "source": [
        "import os\n",
        "os.chdir('E:\\\\MEC\\\\2020-21 Odd Sem') #specify path\n",
        "for (root,dirs,files) in os.walk('.', topdown=True): \n",
        "        print(root )\n",
        "        print(dirs )\n",
        "        print(files)\n",
        "        print('--------------------------------')"
      ],
      "execution_count": null,
      "outputs": [
        {
          "output_type": "error",
          "ename": "FileNotFoundError",
          "evalue": "ignored",
          "traceback": [
            "\u001b[0;31m---------------------------------------------------------------------------\u001b[0m",
            "\u001b[0;31mFileNotFoundError\u001b[0m                         Traceback (most recent call last)",
            "\u001b[0;32m<ipython-input-1-7ec66bf8b8d3>\u001b[0m in \u001b[0;36m<module>\u001b[0;34m()\u001b[0m\n\u001b[1;32m      1\u001b[0m \u001b[0;32mimport\u001b[0m \u001b[0mos\u001b[0m\u001b[0;34m\u001b[0m\u001b[0;34m\u001b[0m\u001b[0m\n\u001b[0;32m----> 2\u001b[0;31m \u001b[0mos\u001b[0m\u001b[0;34m.\u001b[0m\u001b[0mchdir\u001b[0m\u001b[0;34m(\u001b[0m\u001b[0;34m'E:\\\\MEC\\\\2020-21 Odd Sem'\u001b[0m\u001b[0;34m)\u001b[0m \u001b[0;31m#specify path\u001b[0m\u001b[0;34m\u001b[0m\u001b[0;34m\u001b[0m\u001b[0m\n\u001b[0m\u001b[1;32m      3\u001b[0m \u001b[0;32mfor\u001b[0m \u001b[0;34m(\u001b[0m\u001b[0mroot\u001b[0m\u001b[0;34m,\u001b[0m\u001b[0mdirs\u001b[0m\u001b[0;34m,\u001b[0m\u001b[0mfiles\u001b[0m\u001b[0;34m)\u001b[0m \u001b[0;32min\u001b[0m \u001b[0mos\u001b[0m\u001b[0;34m.\u001b[0m\u001b[0mwalk\u001b[0m\u001b[0;34m(\u001b[0m\u001b[0;34m'.'\u001b[0m\u001b[0;34m,\u001b[0m \u001b[0mtopdown\u001b[0m\u001b[0;34m=\u001b[0m\u001b[0;32mTrue\u001b[0m\u001b[0;34m)\u001b[0m\u001b[0;34m:\u001b[0m\u001b[0;34m\u001b[0m\u001b[0;34m\u001b[0m\u001b[0m\n\u001b[1;32m      4\u001b[0m         \u001b[0mprint\u001b[0m\u001b[0;34m(\u001b[0m\u001b[0mroot\u001b[0m \u001b[0;34m)\u001b[0m\u001b[0;34m\u001b[0m\u001b[0;34m\u001b[0m\u001b[0m\n\u001b[1;32m      5\u001b[0m         \u001b[0mprint\u001b[0m\u001b[0;34m(\u001b[0m\u001b[0mdirs\u001b[0m \u001b[0;34m)\u001b[0m\u001b[0;34m\u001b[0m\u001b[0;34m\u001b[0m\u001b[0m\n",
            "\u001b[0;31mFileNotFoundError\u001b[0m: [Errno 2] No such file or directory: 'E:\\\\MEC\\\\2020-21 Odd Sem'"
          ]
        }
      ]
    },
    {
      "cell_type": "markdown",
      "metadata": {
        "id": "tIsWMiSt1VKl"
      },
      "source": [
        "**os.path module functions**"
      ]
    },
    {
      "cell_type": "markdown",
      "metadata": {
        "id": "RWEGuwP01X9r"
      },
      "source": [
        "**1. os.path.isfile(path)**\n",
        "\n",
        "This function is used to test whether the argument specified is a file"
      ]
    },
    {
      "cell_type": "code",
      "metadata": {
        "id": "UfytA3Aq11w5"
      },
      "source": [
        "import os\n",
        "os.path.isfile('t.py')"
      ],
      "execution_count": null,
      "outputs": []
    },
    {
      "cell_type": "markdown",
      "metadata": {
        "id": "lS2g-46l45lr"
      },
      "source": [
        "**2. os.path.isdir(path)**\n",
        "\n",
        "return True if path names a directory"
      ]
    },
    {
      "cell_type": "markdown",
      "metadata": {
        "id": "RSg4IdLr6F36"
      },
      "source": [
        "**3. os.path.getsize(path)**\n",
        "\n",
        "Return the size of the file in bytes"
      ]
    },
    {
      "cell_type": "markdown",
      "metadata": {
        "id": "O53gj3Dl6mGq"
      },
      "source": [
        "**4. os.path.exists(path)**\n",
        "\n",
        "Returns true if the file exists"
      ]
    },
    {
      "cell_type": "code",
      "metadata": {
        "id": "L9gh8MMn6yai"
      },
      "source": [
        "os.path.exists('t.py')"
      ],
      "execution_count": null,
      "outputs": []
    },
    {
      "cell_type": "markdown",
      "metadata": {
        "id": "OP34MBA26s01"
      },
      "source": [
        "# **Sample Programs**"
      ]
    },
    {
      "cell_type": "markdown",
      "metadata": {
        "id": "QvSpfqjM6tGs"
      },
      "source": [
        "**1. The following program will count the number of files in the current directory.**"
      ]
    },
    {
      "cell_type": "code",
      "metadata": {
        "id": "nApq4ihQ7O5O"
      },
      "source": [
        "import os\n",
        "def countfiles(path):\n",
        "    count=0\n",
        "    lst=os.listdir(path)\n",
        "    for f in lst:\n",
        "        if os.path.isfile(f):\n",
        "            count=count+1\n",
        "        else:\n",
        "            os.chdir(f)\n",
        "            count=count+countfiles(os.getcwd())\n",
        "            os.chdir('..')\n",
        "    return count\n",
        "\n",
        "c=countfiles('.')\n",
        "print(\"number of files...=\",c)"
      ],
      "execution_count": null,
      "outputs": []
    },
    {
      "cell_type": "markdown",
      "metadata": {
        "id": "pG18d0Cy6tSb"
      },
      "source": [
        "**2. Print the names of the files in the current directory having \".py\" extension.**"
      ]
    },
    {
      "cell_type": "code",
      "metadata": {
        "id": "sA8Voztd7k8o"
      },
      "source": [
        "import os\n",
        "path=os.getcwd()\n",
        "lst=os.listdir(path)\n",
        "for f in lst:\n",
        "     if '.py' in f:\n",
        "           print(f)"
      ],
      "execution_count": null,
      "outputs": []
    },
    {
      "cell_type": "markdown",
      "metadata": {
        "id": "jCgtMeFl2dNV"
      },
      "source": [
        "# **sys Module**"
      ]
    },
    {
      "cell_type": "markdown",
      "metadata": {
        "id": "qoaFXxOR22C4"
      },
      "source": [
        "The sys module provides functions and variables used to manipulate different parts of the Python runtime environment. \n",
        "\n",
        "The sys module provides **information about constants, functions and methods** of the Python interpreter."
      ]
    },
    {
      "cell_type": "markdown",
      "metadata": {
        "id": "5Mka96ak3AXv"
      },
      "source": [
        "The current **version** number of Python"
      ]
    },
    {
      "cell_type": "code",
      "metadata": {
        "colab": {
          "base_uri": "https://localhost:8080/",
          "height": 37
        },
        "id": "zv92FFM83Bx9",
        "outputId": "ab1f7f86-4883-4034-e520-938487ff07f7"
      },
      "source": [
        "import sys\n",
        "sys.version"
      ],
      "execution_count": null,
      "outputs": [
        {
          "output_type": "execute_result",
          "data": {
            "application/vnd.google.colaboratory.intrinsic+json": {
              "type": "string"
            },
            "text/plain": [
              "'3.6.9 (default, Oct  8 2020, 12:12:24) \\n[GCC 8.4.0]'"
            ]
          },
          "metadata": {
            "tags": []
          },
          "execution_count": 3
        }
      ]
    },
    {
      "cell_type": "code",
      "metadata": {
        "id": "xAGBsfzdOB1w"
      },
      "source": [
        ""
      ],
      "execution_count": null,
      "outputs": []
    },
    {
      "cell_type": "markdown",
      "metadata": {
        "id": "XOwFW0Z4z7Zz"
      },
      "source": [
        "**sys.version_infor()** -  Returns a tuple containing the five  components of the version number.\n",
        "\n",
        "All values except releaselevel are integers, the release level is 'alpha', 'beta,'candidate' or 'final'"
      ]
    },
    {
      "cell_type": "code",
      "metadata": {
        "colab": {
          "base_uri": "https://localhost:8080/"
        },
        "id": "zMLI7lPZ3VZy",
        "outputId": "d2311009-73f9-45f7-cc4a-3eb7c9cd03f2"
      },
      "source": [
        "sys.version_info"
      ],
      "execution_count": null,
      "outputs": [
        {
          "output_type": "execute_result",
          "data": {
            "text/plain": [
              "sys.version_info(major=3, minor=6, micro=9, releaselevel='final', serial=0)"
            ]
          },
          "metadata": {
            "tags": []
          },
          "execution_count": 2
        }
      ]
    },
    {
      "cell_type": "markdown",
      "metadata": {
        "id": "vOIVVNcM3aHs"
      },
      "source": [
        "**recursion limit**\n",
        "\n",
        "When you execute a recursive function in python on a large output, you might encounter a \"maximum recursion depth exceeded errors.\n",
        "\n",
        "python won't let a function call on itself more than 1000 times. Default value is 1000."
      ]
    },
    {
      "cell_type": "code",
      "metadata": {
        "colab": {
          "base_uri": "https://localhost:8080/"
        },
        "id": "P_wRgn5-3c0S",
        "outputId": "56e55e49-1276-4952-e6a7-c379db1b6616"
      },
      "source": [
        "import sys\n",
        "sys.getrecursionlimit()"
      ],
      "execution_count": null,
      "outputs": [
        {
          "output_type": "execute_result",
          "data": {
            "text/plain": [
              "1000"
            ]
          },
          "metadata": {
            "tags": []
          },
          "execution_count": 2
        }
      ]
    },
    {
      "cell_type": "markdown",
      "metadata": {
        "id": "JvArSUQn3jaJ"
      },
      "source": [
        "search path for all Python modules"
      ]
    },
    {
      "cell_type": "markdown",
      "metadata": {
        "id": "3Ge3TiEH1_Oy"
      },
      "source": [
        "It contains **a list of directories** that the interpreter will search in for the required module."
      ]
    },
    {
      "cell_type": "code",
      "metadata": {
        "colab": {
          "base_uri": "https://localhost:8080/"
        },
        "id": "WfYqRGLuGN4J",
        "outputId": "17e2257c-cabb-418b-83cd-c80853573650"
      },
      "source": [
        "import sys\n",
        "sys.path"
      ],
      "execution_count": null,
      "outputs": [
        {
          "output_type": "execute_result",
          "data": {
            "text/plain": [
              "['',\n",
              " '/env/python',\n",
              " '/usr/lib/python36.zip',\n",
              " '/usr/lib/python3.6',\n",
              " '/usr/lib/python3.6/lib-dynload',\n",
              " '/usr/local/lib/python3.6/dist-packages',\n",
              " '/usr/lib/python3/dist-packages',\n",
              " '/usr/local/lib/python3.6/dist-packages/IPython/extensions',\n",
              " '/root/.ipython']"
            ]
          },
          "metadata": {
            "tags": []
          },
          "execution_count": 2
        }
      ]
    },
    {
      "cell_type": "markdown",
      "metadata": {
        "id": "0V1-6013G4A9"
      },
      "source": [
        "**sys.exit()**\n",
        "\n",
        "This causes the script to exit back to either the Python console or the command prompt. This is generally used to safely exit from the program in case of generation of an exception."
      ]
    },
    {
      "cell_type": "markdown",
      "metadata": {
        "id": "5i_5ZeOZHGiS"
      },
      "source": [
        "**sys.platform**"
      ]
    },
    {
      "cell_type": "markdown",
      "metadata": {
        "id": "Cv5j7NUvG9Hv"
      },
      "source": [
        "Name of the platform on which Python is running, e.g. \"linux2\" for Linux and \"win32\" for Windows"
      ]
    },
    {
      "cell_type": "code",
      "metadata": {
        "colab": {
          "base_uri": "https://localhost:8080/",
          "height": 35
        },
        "id": "wJjE0soVHBpU",
        "outputId": "a0b7efd4-a804-4db2-a332-9b915dc85b9e"
      },
      "source": [
        "sys.platform"
      ],
      "execution_count": null,
      "outputs": [
        {
          "output_type": "execute_result",
          "data": {
            "application/vnd.google.colaboratory.intrinsic+json": {
              "type": "string"
            },
            "text/plain": [
              "'linux'"
            ]
          },
          "metadata": {
            "tags": []
          },
          "execution_count": 3
        }
      ]
    },
    {
      "cell_type": "markdown",
      "metadata": {
        "id": "cu86j0aQHKj-"
      },
      "source": [
        "**sys.executable**\n",
        "\n",
        "A string containing the name of the executable binary (path and executable file name) for the Python interpreter."
      ]
    },
    {
      "cell_type": "code",
      "metadata": {
        "colab": {
          "base_uri": "https://localhost:8080/",
          "height": 35
        },
        "id": "PyLqW5NeHRk6",
        "outputId": "77bad04c-7074-4e29-9517-7c87166ead0e"
      },
      "source": [
        "sys.executable"
      ],
      "execution_count": null,
      "outputs": [
        {
          "output_type": "execute_result",
          "data": {
            "application/vnd.google.colaboratory.intrinsic+json": {
              "type": "string"
            },
            "text/plain": [
              "'/usr/bin/python3'"
            ]
          },
          "metadata": {
            "tags": []
          },
          "execution_count": 4
        }
      ]
    }
  ]
}