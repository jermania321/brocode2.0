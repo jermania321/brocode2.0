{
  "nbformat": 4,
  "nbformat_minor": 0,
  "metadata": {
    "colab": {
      "name": "Module 3_ List.ipynb",
      "provenance": [],
      "collapsed_sections": [],
      "toc_visible": true,
      "include_colab_link": true
    },
    "kernelspec": {
      "name": "python3",
      "display_name": "Python 3"
    }
  },
  "cells": [
    {
      "cell_type": "markdown",
      "metadata": {
        "id": "view-in-github",
        "colab_type": "text"
      },
      "source": [
        "<a href=\"https://colab.research.google.com/github/jermania321/brocode2.0/blob/master/Module_3__List.ipynb\" target=\"_parent\"><img src=\"https://colab.research.google.com/assets/colab-badge.svg\" alt=\"Open In Colab\"/></a>"
      ]
    },
    {
      "cell_type": "markdown",
      "metadata": {
        "id": "rOxKfFv-bKxd"
      },
      "source": [
        "**Lists in Python-List operations,creating,accessing, modifying, adding and deleting elements**"
      ]
    },
    {
      "cell_type": "markdown",
      "metadata": {
        "id": "koCd02lnb0os"
      },
      "source": [
        "List\n",
        "  \n",
        "\n",
        "*  one of the simplest and most important data structures\n",
        "*   an ordered set of values\n",
        "\n",
        "\n",
        "*   each value is identified by an index.\n",
        "*    values that make up a list are called its elements.\n",
        "\n",
        "*   Lists are similar to strings, which are ordered sets of characters, except that the elements of a list can have any type.\n",
        "*   elements of a list can be any object, and lists are mutable\n",
        "\n",
        "*   Lists are enclosed in square brackets [ ] and each item is separated by a comma.\n",
        "*   Lists are very flexible and have many built-in control functions.\n",
        "\n",
        "\n",
        "*   Here are some real-world examples of lists\n",
        "\n",
        "      \n",
        "      A to-do list\n",
        "      A recipe, which is a list of instructions....etc\n",
        "      A shopping list for the grocery store\n",
        "\n",
        "\n",
        "\n",
        "\n",
        "\n",
        "\n",
        "\n"
      ]
    },
    {
      "cell_type": "markdown",
      "metadata": {
        "id": "FLveWYURt2OF"
      },
      "source": [
        "# **1.Creating Lists**"
      ]
    },
    {
      "cell_type": "markdown",
      "metadata": {
        "id": "PRDZg6pyh1gk"
      },
      "source": [
        "\n",
        "\n",
        "To create a list, place a (possibly empty) comma-separated list of objects or expressions in square brackets."
      ]
    },
    {
      "cell_type": "code",
      "metadata": {
        "id": "92Ci86aMbG9K",
        "outputId": "0f413358-d7f0-4b5d-8b3a-caffae48c824",
        "colab": {
          "base_uri": "https://localhost:8080/",
          "height": 50
        }
      },
      "source": [
        "L1= [10, 20, 30]\n",
        "L2=[\"spam\", \"bungee\", \"swallow\"]\n",
        "print(L1)\n",
        "print(L2)"
      ],
      "execution_count": null,
      "outputs": [
        {
          "output_type": "stream",
          "text": [
            "[10, 20, 30]\n",
            "['spam', 'bungee', 'swallow']\n"
          ],
          "name": "stdout"
        }
      ]
    },
    {
      "cell_type": "markdown",
      "metadata": {
        "id": "7bIbYNrjixXs"
      },
      "source": [
        "The elements of lists can be **any objects** (even expressions, functions or other lists!), and they need not all be the same type"
      ]
    },
    {
      "cell_type": "code",
      "metadata": {
        "id": "8jP3Wzucizy3",
        "outputId": "5cd0c32f-e499-4200-ee29-9254b4183000",
        "colab": {
          "base_uri": "https://localhost:8080/",
          "height": 35
        }
      },
      "source": [
        "L=[10, 2.3, 3+4j, 'djd', 3*4]\n",
        "print(L)"
      ],
      "execution_count": null,
      "outputs": [
        {
          "output_type": "stream",
          "text": [
            "[10, 2.3, (3+4j), 'djd', 12]\n"
          ],
          "name": "stdout"
        }
      ]
    },
    {
      "cell_type": "markdown",
      "metadata": {
        "id": "tc0qcGCBi8rE"
      },
      "source": [
        "The following list contains a string, a float, an integer, and another list. A list within another list is said to be a **nested list**."
      ]
    },
    {
      "cell_type": "code",
      "metadata": {
        "id": "-j4P3uFrjEfy",
        "outputId": "39eb1c4f-6046-407d-d177-eba0a82becdc",
        "colab": {
          "base_uri": "https://localhost:8080/",
          "height": 34
        }
      },
      "source": [
        "L3=[\"hello\", 2.0, 5, [10, 20]]\n",
        "print(L3)"
      ],
      "execution_count": null,
      "outputs": [
        {
          "output_type": "stream",
          "text": [
            "['hello', 2.0, 5, [10, 20]]\n"
          ],
          "name": "stdout"
        }
      ]
    },
    {
      "cell_type": "markdown",
      "metadata": {
        "id": "_gvD1LF-jjXf"
      },
      "source": [
        "The nested list can be used to represent a **matrix**."
      ]
    },
    {
      "cell_type": "code",
      "metadata": {
        "id": "KkWXKl1Vjp50",
        "outputId": "9677bb0a-819e-4b68-ae80-92eb76e8d44e",
        "colab": {
          "base_uri": "https://localhost:8080/",
          "height": 54
        }
      },
      "source": [
        "A=[[1,2,3],[4,5,6],[7,8,9]]\n",
        "print(A[0])\n",
        "print(A[1][2])"
      ],
      "execution_count": null,
      "outputs": [
        {
          "output_type": "stream",
          "text": [
            "[1, 2, 3]\n",
            "6\n"
          ],
          "name": "stdout"
        }
      ]
    },
    {
      "cell_type": "markdown",
      "metadata": {
        "id": "lMFM0YGBkXwL"
      },
      "source": [
        "The following command will create **empty lists**"
      ]
    },
    {
      "cell_type": "code",
      "metadata": {
        "id": "DmahTmOTkZ6N"
      },
      "source": [
        "L1=list() # using built in list function\n",
        "L2=[]"
      ],
      "execution_count": null,
      "outputs": []
    },
    {
      "cell_type": "markdown",
      "metadata": {
        "id": "BeLbX2jhn8ci"
      },
      "source": [
        "The range command generate a list of integers and list() function can be used to generate a list"
      ]
    },
    {
      "cell_type": "code",
      "metadata": {
        "id": "TjS2-fGln9ja",
        "outputId": "75aa4405-8d3d-48ed-cc5f-84f2acd511a1",
        "colab": {
          "base_uri": "https://localhost:8080/",
          "height": 35
        }
      },
      "source": [
        "list(range(1,5))"
      ],
      "execution_count": null,
      "outputs": [
        {
          "output_type": "execute_result",
          "data": {
            "text/plain": [
              "[1, 2, 3, 4]"
            ]
          },
          "metadata": {
            "tags": []
          },
          "execution_count": 7
        }
      ]
    },
    {
      "cell_type": "markdown",
      "metadata": {
        "id": "ekLbd6OHoGYk"
      },
      "source": [
        "Using other lists also we can create a new list.We create a new list L2 from L1"
      ]
    },
    {
      "cell_type": "code",
      "metadata": {
        "id": "X4-7XZ-GoKE5",
        "outputId": "b30d7cfc-6551-4c00-959c-dfb5f2c729e1",
        "colab": {
          "base_uri": "https://localhost:8080/",
          "height": 72
        }
      },
      "source": [
        "L2=L1 # creates an alias only\n",
        "print(L2)\n",
        "L2=L1[:] # here L2 is created as copy of L1\n",
        "print(L2)\n",
        "L2=L1[2:6] # here L2 is created with 2,3,4 and 5th elements of L1.\n",
        "print(L2)"
      ],
      "execution_count": null,
      "outputs": [
        {
          "output_type": "stream",
          "text": [
            "[10, 20, 30]\n",
            "[10, 20, 30]\n",
            "[30]\n"
          ],
          "name": "stdout"
        }
      ]
    },
    {
      "cell_type": "markdown",
      "metadata": {
        "id": "iay7elRRonGi"
      },
      "source": [
        "**List comprehensions**\n",
        "\n",
        "\n",
        "*   It can be used to construct lists in a very natural, easy way, like a mathematician is used to do.\n",
        "*   is an elegant and concise way to create a new list from an existing list in Python.\n",
        "\n",
        "*   consists of an expression followed by for statement inside square brackets.\n",
        "\n",
        "\n",
        "\n"
      ]
    },
    {
      "cell_type": "code",
      "metadata": {
        "id": "9Dad2AodpdH1",
        "outputId": "41c1b478-3c82-4356-c664-38a728a4281c",
        "colab": {
          "base_uri": "https://localhost:8080/",
          "height": 34
        }
      },
      "source": [
        "#example to make a list with each item being increasing power of 2.\n",
        "pow2 = [2 ** x for x in range(10)] \n",
        "print(pow2)"
      ],
      "execution_count": null,
      "outputs": [
        {
          "output_type": "stream",
          "text": [
            "[1, 2, 4, 8, 16, 32, 64, 128, 256, 512]\n"
          ],
          "name": "stdout"
        }
      ]
    },
    {
      "cell_type": "code",
      "metadata": {
        "id": "0GZeLrLsqxd-",
        "outputId": "32eec32b-f8d8-455b-d16e-f6b4f1cd1859",
        "colab": {
          "base_uri": "https://localhost:8080/",
          "height": 926
        }
      },
      "source": [
        "#This will create a list of even numbers less than 100.\n",
        "[i for i in range(100) if i%2==0]"
      ],
      "execution_count": null,
      "outputs": [
        {
          "output_type": "execute_result",
          "data": {
            "text/plain": [
              "[0,\n",
              " 2,\n",
              " 4,\n",
              " 6,\n",
              " 8,\n",
              " 10,\n",
              " 12,\n",
              " 14,\n",
              " 16,\n",
              " 18,\n",
              " 20,\n",
              " 22,\n",
              " 24,\n",
              " 26,\n",
              " 28,\n",
              " 30,\n",
              " 32,\n",
              " 34,\n",
              " 36,\n",
              " 38,\n",
              " 40,\n",
              " 42,\n",
              " 44,\n",
              " 46,\n",
              " 48,\n",
              " 50,\n",
              " 52,\n",
              " 54,\n",
              " 56,\n",
              " 58,\n",
              " 60,\n",
              " 62,\n",
              " 64,\n",
              " 66,\n",
              " 68,\n",
              " 70,\n",
              " 72,\n",
              " 74,\n",
              " 76,\n",
              " 78,\n",
              " 80,\n",
              " 82,\n",
              " 84,\n",
              " 86,\n",
              " 88,\n",
              " 90,\n",
              " 92,\n",
              " 94,\n",
              " 96,\n",
              " 98]"
            ]
          },
          "metadata": {
            "tags": []
          },
          "execution_count": 13
        }
      ]
    },
    {
      "cell_type": "code",
      "metadata": {
        "id": "psFobqgAssnH",
        "outputId": "ba9302b3-c729-4fb2-c017-ee6fdf916a7e",
        "colab": {
          "base_uri": "https://localhost:8080/",
          "height": 72
        }
      },
      "source": [
        "import math\n",
        "S = [x**2 for x in range(10)]\n",
        "V = [math.sqrt(i) for i in range(5)]\n",
        "M = [x for x in S if x % 2 == 0]\n",
        "print(S)\n",
        "print(V)\n",
        "print(M)"
      ],
      "execution_count": null,
      "outputs": [
        {
          "output_type": "stream",
          "text": [
            "[0, 1, 4, 9, 16, 25, 36, 49, 64, 81]\n",
            "[0.0, 1.0, 1.4142135623730951, 1.7320508075688772, 2.0]\n",
            "[0, 4, 16, 36, 64]\n"
          ],
          "name": "stdout"
        }
      ]
    },
    {
      "cell_type": "markdown",
      "metadata": {
        "id": "GHxd___3tmed"
      },
      "source": [
        "# 2.List Operations"
      ]
    },
    {
      "cell_type": "markdown",
      "metadata": {
        "id": "fmbcQNPGuSpG"
      },
      "source": [
        "The **+ operation** concatenate lists"
      ]
    },
    {
      "cell_type": "code",
      "metadata": {
        "id": "0MoUkUAOuZuv",
        "outputId": "71796958-5107-42de-fa26-fede82c34bfb",
        "colab": {
          "base_uri": "https://localhost:8080/",
          "height": 35
        }
      },
      "source": [
        "A=[10,20,30]\n",
        "B=[40,50,60,70,80]\n",
        "print(A+B)"
      ],
      "execution_count": null,
      "outputs": [
        {
          "output_type": "stream",
          "text": [
            "[10, 20, 30, 40, 50, 60, 70, 80]\n"
          ],
          "name": "stdout"
        }
      ]
    },
    {
      "cell_type": "markdown",
      "metadata": {
        "id": "l6i6mRPRuhql"
      },
      "source": [
        "The * operator repeats a list given number of times."
      ]
    },
    {
      "cell_type": "code",
      "metadata": {
        "id": "TyN5JrsnulFV",
        "outputId": "e7002b2e-27aa-406d-f477-5b1c49391b40",
        "colab": {
          "base_uri": "https://localhost:8080/",
          "height": 34
        }
      },
      "source": [
        " [1, 2, 3] * 3"
      ],
      "execution_count": null,
      "outputs": [
        {
          "output_type": "execute_result",
          "data": {
            "text/plain": [
              "[1, 2, 3, 1, 2, 3, 1, 2, 3]"
            ]
          },
          "metadata": {
            "tags": []
          },
          "execution_count": 5
        }
      ]
    },
    {
      "cell_type": "markdown",
      "metadata": {
        "id": "lEWtwRqavcEi"
      },
      "source": [
        "Membership of an element in a list can be tested with **in and not in**"
      ]
    },
    {
      "cell_type": "code",
      "metadata": {
        "id": "NLn09pzMveSM",
        "outputId": "533aeadd-1807-4a8c-be6a-71113f66019c",
        "colab": {
          "base_uri": "https://localhost:8080/",
          "height": 35
        }
      },
      "source": [
        "B=[40,50,60,70,80]\n",
        "40 in B"
      ],
      "execution_count": null,
      "outputs": [
        {
          "output_type": "execute_result",
          "data": {
            "text/plain": [
              "True"
            ]
          },
          "metadata": {
            "tags": []
          },
          "execution_count": 20
        }
      ]
    },
    {
      "cell_type": "code",
      "metadata": {
        "id": "bOeyC_Xhvopa",
        "outputId": "18f5467e-84e3-421b-a3ea-aa051063b6b4",
        "colab": {
          "base_uri": "https://localhost:8080/",
          "height": 35
        }
      },
      "source": [
        "100 in B"
      ],
      "execution_count": null,
      "outputs": [
        {
          "output_type": "execute_result",
          "data": {
            "text/plain": [
              "False"
            ]
          },
          "metadata": {
            "tags": []
          },
          "execution_count": 21
        }
      ]
    },
    {
      "cell_type": "code",
      "metadata": {
        "id": "HasHUUNwvvwx",
        "outputId": "e4dd618b-1af0-4628-dd10-719d5eed8294",
        "colab": {
          "base_uri": "https://localhost:8080/",
          "height": 35
        }
      },
      "source": [
        "100 not in B"
      ],
      "execution_count": null,
      "outputs": [
        {
          "output_type": "execute_result",
          "data": {
            "text/plain": [
              "True"
            ]
          },
          "metadata": {
            "tags": []
          },
          "execution_count": 22
        }
      ]
    },
    {
      "cell_type": "markdown",
      "metadata": {
        "id": "YzW38g0Yv4Q4"
      },
      "source": [
        "**Slicing operator[::]** can be used to extract elements from a list"
      ]
    },
    {
      "cell_type": "code",
      "metadata": {
        "id": "OgFRMqsJv9KC",
        "outputId": "cfd28f38-785c-42ad-8c11-48df133dc143",
        "colab": {
          "base_uri": "https://localhost:8080/",
          "height": 34
        }
      },
      "source": [
        "B=[40,50,60,70,80]\n",
        "B[2:5]"
      ],
      "execution_count": null,
      "outputs": [
        {
          "output_type": "execute_result",
          "data": {
            "text/plain": [
              "[60, 70, 80]"
            ]
          },
          "metadata": {
            "tags": []
          },
          "execution_count": 6
        }
      ]
    },
    {
      "cell_type": "markdown",
      "metadata": {
        "id": "GeObhZrGyP2w"
      },
      "source": [
        "# 3.Access elements from a list"
      ]
    },
    {
      "cell_type": "markdown",
      "metadata": {
        "id": "UybyIWwGyU5r"
      },
      "source": [
        "**List Index**\n",
        "\n",
        "Use the index operator [] to access an item in a list. In Python, indices start at 0. So, a list having 5 elements will have an index from 0 to 4.\n",
        "\n",
        "Trying to access indexes other than these will raise an IndexError. The index must be an integer. We can't use float or other types, this will result in TypeError.\n",
        "\n",
        "Nested lists are accessed using nested indexing.Python allows negative indexing for its sequences. The index of -1 refers to the last item, -2 to the second last item and so on."
      ]
    },
    {
      "cell_type": "code",
      "metadata": {
        "id": "juWQWfaPy7RL",
        "outputId": "d49fe5d7-ae2f-4857-df97-cecce3c80491",
        "colab": {
          "base_uri": "https://localhost:8080/",
          "height": 34
        }
      },
      "source": [
        "L = [10, 20, [60, 70, 80], 30]\n",
        "L[2]\n",
        "#L[1] \n",
        "#L[-1] \n",
        "#L[-3] \n",
        "#We can use an expression for index. But only integer values are permitted for index.\n",
        "#L[5//2] \n",
        "#L[2][2]"
      ],
      "execution_count": null,
      "outputs": [
        {
          "output_type": "execute_result",
          "data": {
            "text/plain": [
              "[60, 70, 80]"
            ]
          },
          "metadata": {
            "tags": []
          },
          "execution_count": 7
        }
      ]
    },
    {
      "cell_type": "markdown",
      "metadata": {
        "id": "CHtgNya9zuqt"
      },
      "source": [
        "**List Traversal**\n",
        "\n",
        "\n",
        "\n",
        "*   We can also access elements of a list by using looping constructs while and for. \n",
        "*   \"for\" is more efficient.\n",
        "\n",
        "\n",
        "*  If we are using \"while\" we should also know the length of the list, which can be found by the sequence function len().\n",
        "*   List item\n",
        "\n",
        "\n",
        "\n"
      ]
    },
    {
      "cell_type": "code",
      "metadata": {
        "id": "ETBrVzS70M1k",
        "outputId": "8c1c2b31-140b-4f17-9da8-1ac68ecc33f7",
        "colab": {
          "base_uri": "https://localhost:8080/",
          "height": 90
        }
      },
      "source": [
        "for i in L:\n",
        "    print (i)  "
      ],
      "execution_count": null,
      "outputs": [
        {
          "output_type": "stream",
          "text": [
            "10\n",
            "20\n",
            "[60, 70, 80]\n",
            "30\n"
          ],
          "name": "stdout"
        }
      ]
    },
    {
      "cell_type": "code",
      "metadata": {
        "id": "XQ_pbf8h0P1-",
        "outputId": "c7349a11-18de-44a5-919f-8dcd065c00fb",
        "colab": {
          "base_uri": "https://localhost:8080/",
          "height": 90
        }
      },
      "source": [
        "i=0 \n",
        "while i <len(L): \n",
        "    print(L[i])\n",
        "    i+=1"
      ],
      "execution_count": null,
      "outputs": [
        {
          "output_type": "stream",
          "text": [
            "10\n",
            "20\n",
            "[60, 70, 80]\n",
            "30\n"
          ],
          "name": "stdout"
        }
      ]
    },
    {
      "cell_type": "markdown",
      "metadata": {
        "id": "I0qEZLE70fdK"
      },
      "source": [
        "# 4.Modifying List Elements"
      ]
    },
    {
      "cell_type": "markdown",
      "metadata": {
        "id": "I1ux4vih0lCD"
      },
      "source": [
        "The list is a mutable sequence. It means that we can change the list elements.\n",
        "\n",
        "To change the i’th element simply assign a new value to the i’th index"
      ]
    },
    {
      "cell_type": "code",
      "metadata": {
        "id": "VInHh4op3CmE",
        "outputId": "26968017-6c7d-46d8-9dce-09c30eb95def",
        "colab": {
          "base_uri": "https://localhost:8080/",
          "height": 67
        }
      },
      "source": [
        "L=[10,20,30,40]\n",
        "L[2]=100 # will set the 3rd element to 100 in the list L.\n",
        "print(L)\n",
        "L[-1]=200 # will change the last element to 200.\n",
        "print(L)\n",
        "\n",
        "#We can also use slicing to change more than one value using another list\n",
        "L[2:4]=[111,222]\n",
        "print(L)\n"
      ],
      "execution_count": null,
      "outputs": [
        {
          "output_type": "stream",
          "text": [
            "[10, 20, 100, 40]\n",
            "[10, 20, 100, 200]\n",
            "[10, 20, 111, 222]\n"
          ],
          "name": "stdout"
        }
      ]
    },
    {
      "cell_type": "markdown",
      "metadata": {
        "id": "Z6659mYU3c0l"
      },
      "source": [
        "# 5.Adding Elements to the List"
      ]
    },
    {
      "cell_type": "markdown",
      "metadata": {
        "id": "J7CDrccM3guT"
      },
      "source": [
        "One way to add elements to the list is by using concatenation (+ operator).We can concatenate an element to a list in the beginning or at the end."
      ]
    },
    {
      "cell_type": "code",
      "metadata": {
        "id": "8i3UVNK73nRS",
        "outputId": "f80abf8d-3d81-4590-d88c-74373d9dac38",
        "colab": {
          "base_uri": "https://localhost:8080/",
          "height": 54
        }
      },
      "source": [
        "L=[20,30,40]\n",
        "print(L+[50])\n",
        "print([10]+L)"
      ],
      "execution_count": null,
      "outputs": [
        {
          "output_type": "stream",
          "text": [
            "[20, 30, 40, 50]\n",
            "[10, 20, 30, 40]\n"
          ],
          "name": "stdout"
        }
      ]
    },
    {
      "cell_type": "markdown",
      "metadata": {
        "id": "ryCT_ICk4E8m"
      },
      "source": [
        "We can also use the **append()** method to add elements at the end of the list."
      ]
    },
    {
      "cell_type": "code",
      "metadata": {
        "id": "k79c-dCs4F7i",
        "outputId": "17ffe707-c22e-4faf-c692-868bfc228ef1",
        "colab": {
          "base_uri": "https://localhost:8080/",
          "height": 35
        }
      },
      "source": [
        "L=[10,20,30]\n",
        "L.append(40)\n",
        "L.append(50)\n",
        "L"
      ],
      "execution_count": null,
      "outputs": [
        {
          "output_type": "execute_result",
          "data": {
            "text/plain": [
              "[10, 20, 30, 40, 50]"
            ]
          },
          "metadata": {
            "tags": []
          },
          "execution_count": 1
        }
      ]
    },
    {
      "cell_type": "markdown",
      "metadata": {
        "id": "vIxWMXxSCXB6"
      },
      "source": [
        "We can also use **insert()** method to insert element at a particular position."
      ]
    },
    {
      "cell_type": "code",
      "metadata": {
        "id": "W41KmQV0Cd-c",
        "outputId": "3622d4a5-edfd-4eb3-ccf0-244430a03783",
        "colab": {
          "base_uri": "https://localhost:8080/",
          "height": 35
        }
      },
      "source": [
        "L.insert(0,5) # will insert 5 before index 0\n",
        "L"
      ],
      "execution_count": null,
      "outputs": [
        {
          "output_type": "execute_result",
          "data": {
            "text/plain": [
              "[5, 10, 20, 30, 40, 50]"
            ]
          },
          "metadata": {
            "tags": []
          },
          "execution_count": 10
        }
      ]
    },
    {
      "cell_type": "code",
      "metadata": {
        "id": "vXsEQ2EdCjHI",
        "outputId": "fcb30954-a8a3-4f0b-d7a3-de77fdbda34e",
        "colab": {
          "base_uri": "https://localhost:8080/",
          "height": 35
        }
      },
      "source": [
        "L.insert(-1,100)\n",
        "L"
      ],
      "execution_count": null,
      "outputs": [
        {
          "output_type": "execute_result",
          "data": {
            "text/plain": [
              "[5, 10, 20, 30, 40, 100, 50]"
            ]
          },
          "metadata": {
            "tags": []
          },
          "execution_count": 11
        }
      ]
    },
    {
      "cell_type": "markdown",
      "metadata": {
        "id": "zj5D2UCMC1nX"
      },
      "source": [
        "The list can be extended with more elements by **extend()** method"
      ]
    },
    {
      "cell_type": "code",
      "metadata": {
        "id": "lDH_UHpTC5uE",
        "outputId": "074a24a8-1df1-4e0e-8ea4-1b7eaf474774",
        "colab": {
          "base_uri": "https://localhost:8080/",
          "height": 35
        }
      },
      "source": [
        "L=[10,20,30]\n",
        "L.extend([40,50,60])\n",
        "L"
      ],
      "execution_count": null,
      "outputs": [
        {
          "output_type": "execute_result",
          "data": {
            "text/plain": [
              "[10, 20, 30, 40, 50, 60]"
            ]
          },
          "metadata": {
            "tags": []
          },
          "execution_count": 12
        }
      ]
    },
    {
      "cell_type": "markdown",
      "metadata": {
        "id": "7kbN1iKCDESO"
      },
      "source": [
        "# 6.Deleting Elements from a List"
      ]
    },
    {
      "cell_type": "markdown",
      "metadata": {
        "id": "HSgv4ZlaDJoa"
      },
      "source": [
        "**pop()** method can be used to take the last element from a list. When the list is empty it will return index error."
      ]
    },
    {
      "cell_type": "code",
      "metadata": {
        "id": "LHs1sjHKDRyG",
        "outputId": "3f1358b7-0cbd-4262-bfd6-3e0f32f44f10",
        "colab": {
          "base_uri": "https://localhost:8080/",
          "height": 67
        }
      },
      "source": [
        "L=[10,20,30]\n",
        "print(L.pop())\n",
        "print(L)\n",
        "print(L.pop(0))"
      ],
      "execution_count": null,
      "outputs": [
        {
          "output_type": "stream",
          "text": [
            "30\n",
            "[10, 20]\n",
            "10\n"
          ],
          "name": "stdout"
        }
      ]
    },
    {
      "cell_type": "markdown",
      "metadata": {
        "id": "S8LB0Ru9Dq-8"
      },
      "source": [
        "The method **remove()** will remove the specified element from the list. If the element is not present in the list, it will return value error."
      ]
    },
    {
      "cell_type": "code",
      "metadata": {
        "id": "RIQWDe8mDwgt",
        "outputId": "2afc7194-7398-4c50-9b6b-18fcd70958be",
        "colab": {
          "base_uri": "https://localhost:8080/",
          "height": 35
        }
      },
      "source": [
        "L=[10,20,30]\n",
        "L.remove(20)\n",
        "L"
      ],
      "execution_count": null,
      "outputs": [
        {
          "output_type": "execute_result",
          "data": {
            "text/plain": [
              "[10, 30]"
            ]
          },
          "metadata": {
            "tags": []
          },
          "execution_count": 15
        }
      ]
    },
    {
      "cell_type": "markdown",
      "metadata": {
        "id": "1TnDgFS5EsX9"
      },
      "source": [
        "The **del()** function can also be used to delete an element from a list, if you don’t know the element to delete. It uses the index to delete the element."
      ]
    },
    {
      "cell_type": "code",
      "metadata": {
        "id": "rQhx_AdGEwhe",
        "outputId": "cbe3bc80-c72c-47c6-d92f-1e37d406eb88",
        "colab": {
          "base_uri": "https://localhost:8080/",
          "height": 35
        }
      },
      "source": [
        "L=[10,20,30,40]\n",
        "del(L[1])\n",
        "del(L[-1])\n",
        "L"
      ],
      "execution_count": null,
      "outputs": [
        {
          "output_type": "execute_result",
          "data": {
            "text/plain": [
              "[10, 30]"
            ]
          },
          "metadata": {
            "tags": []
          },
          "execution_count": 16
        }
      ]
    },
    {
      "cell_type": "markdown",
      "metadata": {
        "id": "wqShYJ1_E8LG"
      },
      "source": [
        "We can use slicing with del() to delete more elements"
      ]
    },
    {
      "cell_type": "code",
      "metadata": {
        "id": "sJznArGbE9X9",
        "outputId": "3ebe916f-4527-4c75-962c-8feb5def4908",
        "colab": {
          "base_uri": "https://localhost:8080/",
          "height": 35
        }
      },
      "source": [
        "L=[10,20,30,40]\n",
        "del(L[1:3])\n",
        "L"
      ],
      "execution_count": null,
      "outputs": [
        {
          "output_type": "execute_result",
          "data": {
            "text/plain": [
              "[10, 40]"
            ]
          },
          "metadata": {
            "tags": []
          },
          "execution_count": 17
        }
      ]
    },
    {
      "cell_type": "code",
      "metadata": {
        "id": "0itNkk_DFHEo",
        "outputId": "1d88d0c0-eea9-49b2-f7e1-bc8292a82b43",
        "colab": {
          "base_uri": "https://localhost:8080/",
          "height": 34
        }
      },
      "source": [
        "L=[10,20,30,40]\n",
        "del(L[-1:-3:-1])\n",
        "L\n"
      ],
      "execution_count": null,
      "outputs": [
        {
          "output_type": "execute_result",
          "data": {
            "text/plain": [
              "[10, 20]"
            ]
          },
          "metadata": {
            "tags": []
          },
          "execution_count": 4
        }
      ]
    },
    {
      "cell_type": "markdown",
      "metadata": {
        "id": "krI8z4veJyuv"
      },
      "source": [
        "# Useful functions with List\n",
        "\n"
      ]
    },
    {
      "cell_type": "markdown",
      "metadata": {
        "id": "W-6XXgl-J5xP"
      },
      "source": [
        "len() function will return the number of elements in the list."
      ]
    },
    {
      "cell_type": "code",
      "metadata": {
        "id": "aWFPNBQoKAMg",
        "outputId": "75f22e17-8477-445b-aa9c-ecbfe1b2596f",
        "colab": {
          "base_uri": "https://localhost:8080/",
          "height": 35
        }
      },
      "source": [
        "L=[10,20,30,40]\n",
        "len(L)"
      ],
      "execution_count": null,
      "outputs": [
        {
          "output_type": "execute_result",
          "data": {
            "text/plain": [
              "4"
            ]
          },
          "metadata": {
            "tags": []
          },
          "execution_count": 1
        }
      ]
    },
    {
      "cell_type": "markdown",
      "metadata": {
        "id": "ntYHbnhuKPCc"
      },
      "source": [
        "min() and max() will return the minimum and maximum element"
      ]
    },
    {
      "cell_type": "code",
      "metadata": {
        "id": "xb2HFA8MKX_H",
        "outputId": "069b169a-9f1c-46bf-b5c4-a092d7df5afe",
        "colab": {
          "base_uri": "https://localhost:8080/",
          "height": 54
        }
      },
      "source": [
        "L=[10,20,30,40]\n",
        "print(min(L))\n",
        "print(max(L))"
      ],
      "execution_count": null,
      "outputs": [
        {
          "output_type": "stream",
          "text": [
            "10\n",
            "40\n"
          ],
          "name": "stdout"
        }
      ]
    },
    {
      "cell_type": "markdown",
      "metadata": {
        "id": "-ODWbtMQPUfk"
      },
      "source": [
        "sum() function will return the sum of the elements."
      ]
    },
    {
      "cell_type": "code",
      "metadata": {
        "id": "6esOR5CoPZF-",
        "outputId": "6675b46d-709f-40db-f871-bcfafc0ecfee",
        "colab": {
          "base_uri": "https://localhost:8080/",
          "height": 35
        }
      },
      "source": [
        "L=[10,20,30,40]\n",
        "sum(L)"
      ],
      "execution_count": null,
      "outputs": [
        {
          "output_type": "execute_result",
          "data": {
            "text/plain": [
              "100"
            ]
          },
          "metadata": {
            "tags": []
          },
          "execution_count": 5
        }
      ]
    },
    {
      "cell_type": "markdown",
      "metadata": {
        "id": "XSOcAUkXPePy"
      },
      "source": [
        "We can find average of the list elements L by sum(L)/len(L)"
      ]
    },
    {
      "cell_type": "code",
      "metadata": {
        "id": "9UnGIpBZPkZO",
        "outputId": "b15f7ee8-f8dd-4076-8df1-159b4821947e",
        "colab": {
          "base_uri": "https://localhost:8080/",
          "height": 35
        }
      },
      "source": [
        "sum(L)/len(L)"
      ],
      "execution_count": null,
      "outputs": [
        {
          "output_type": "execute_result",
          "data": {
            "text/plain": [
              "25.0"
            ]
          },
          "metadata": {
            "tags": []
          },
          "execution_count": 6
        }
      ]
    },
    {
      "cell_type": "markdown",
      "metadata": {
        "id": "aB1XwRZuQbAN"
      },
      "source": [
        "del() function can be also used for deleting element(s)"
      ]
    },
    {
      "cell_type": "code",
      "metadata": {
        "id": "wc5n-nVhQcDe",
        "outputId": "4e1a4011-7257-44d8-ce62-78083662066a",
        "colab": {
          "base_uri": "https://localhost:8080/",
          "height": 35
        }
      },
      "source": [
        "del(L[1])\n",
        "L"
      ],
      "execution_count": null,
      "outputs": [
        {
          "output_type": "execute_result",
          "data": {
            "text/plain": [
              "[10, 30, 40]"
            ]
          },
          "metadata": {
            "tags": []
          },
          "execution_count": 3
        }
      ]
    },
    {
      "cell_type": "markdown",
      "metadata": {
        "id": "vB6LCcYFQtb9"
      },
      "source": [
        "del() function can be used to delete multiple element(s)"
      ]
    },
    {
      "cell_type": "code",
      "metadata": {
        "id": "c4T1-pdBQuqj",
        "outputId": "cd01cad5-acd7-4484-c877-1f7666f83c5c",
        "colab": {
          "base_uri": "https://localhost:8080/",
          "height": 35
        }
      },
      "source": [
        "l=[4,5,6,7,8,9]\n",
        "del(l[0:3])\n",
        "l"
      ],
      "execution_count": null,
      "outputs": [
        {
          "output_type": "execute_result",
          "data": {
            "text/plain": [
              "[7, 8, 9]"
            ]
          },
          "metadata": {
            "tags": []
          },
          "execution_count": 7
        }
      ]
    },
    {
      "cell_type": "markdown",
      "metadata": {
        "id": "d2Do96ftQ3am"
      },
      "source": [
        "# Python List Methods"
      ]
    },
    {
      "cell_type": "markdown",
      "metadata": {
        "id": "kE7hVcRvQ7Vd"
      },
      "source": [
        "Methods that are available with list objects in Python programming are tabulated below.\n",
        "\n",
        "They are accessed as list.method(). \n",
        "\n",
        "append() - Add an element to the end of the list\n",
        "\n",
        "extend() - Add all elements of a list to the another list\n",
        "\n",
        "insert() - Insert an item at the defined index\n",
        "\n",
        "remove() - Removes an item from the list\n",
        "\n",
        "pop() - Removes and returns an element at the given index or last element\n",
        "\n",
        "clear() - Removes all items from the list\n",
        "\n",
        "index() - Returns the index of the first matched item\n",
        "\n",
        "count() - Returns the count of the number of items passed as an argument\n",
        "\n",
        "sort() - Sort items in a list in ascending order\n",
        "\n",
        "reverse() -Reverse the order of items in the list\n",
        "\n",
        "copy() - Returns a shallow copy of the list"
      ]
    },
    {
      "cell_type": "markdown",
      "metadata": {
        "id": "-5tx3mxsRcFR"
      },
      "source": [
        "# Searching and Sorting"
      ]
    },
    {
      "cell_type": "markdown",
      "metadata": {
        "id": "pn6CIMOIRkKX"
      },
      "source": [
        "The **index()** method can be used to find the position of an element in a list. If the element is not present it will return a value error.\n",
        "\n",
        "Note: we can use ‘in’ to check whether an element is present in the list or not."
      ]
    },
    {
      "cell_type": "code",
      "metadata": {
        "id": "E9pBBrizRsac",
        "outputId": "9db67be2-3652-4f7e-b562-c20f02fd1a39",
        "colab": {
          "base_uri": "https://localhost:8080/",
          "height": 35
        }
      },
      "source": [
        "L=[10,20,30,40]\n",
        "L.index(30)"
      ],
      "execution_count": null,
      "outputs": [
        {
          "output_type": "execute_result",
          "data": {
            "text/plain": [
              "2"
            ]
          },
          "metadata": {
            "tags": []
          },
          "execution_count": 8
        }
      ]
    },
    {
      "cell_type": "markdown",
      "metadata": {
        "id": "BAYfbmdJRz43"
      },
      "source": [
        "The count() method returns number of occurrences of an element in a list."
      ]
    },
    {
      "cell_type": "code",
      "metadata": {
        "id": "sfUT4TC2R0-0",
        "outputId": "282cbdf8-6cea-405f-fce6-0c53588dab7a",
        "colab": {
          "base_uri": "https://localhost:8080/",
          "height": 35
        }
      },
      "source": [
        "L=[10,20,30,30,40]\n",
        "L.count(30)"
      ],
      "execution_count": null,
      "outputs": [
        {
          "output_type": "execute_result",
          "data": {
            "text/plain": [
              "2"
            ]
          },
          "metadata": {
            "tags": []
          },
          "execution_count": 9
        }
      ]
    },
    {
      "cell_type": "code",
      "metadata": {
        "id": "dL6poDX8R675",
        "outputId": "d68126fe-fd26-45a9-9b76-11c331d782f4",
        "colab": {
          "base_uri": "https://localhost:8080/",
          "height": 35
        }
      },
      "source": [
        "L.count(100)"
      ],
      "execution_count": null,
      "outputs": [
        {
          "output_type": "execute_result",
          "data": {
            "text/plain": [
              "0"
            ]
          },
          "metadata": {
            "tags": []
          },
          "execution_count": 10
        }
      ]
    },
    {
      "cell_type": "markdown",
      "metadata": {
        "id": "5ox9wYVtR-8V"
      },
      "source": [
        "The **sort()** function can be used to sort the list in ascending or descending order"
      ]
    },
    {
      "cell_type": "code",
      "metadata": {
        "id": "bED-DuanSEJ3",
        "outputId": "5d83d24e-6c48-4513-c61e-1e42d6f01dd2",
        "colab": {
          "base_uri": "https://localhost:8080/",
          "height": 35
        }
      },
      "source": [
        "L=[10, -30, 40]\n",
        "L.sort()\n",
        "L"
      ],
      "execution_count": null,
      "outputs": [
        {
          "output_type": "execute_result",
          "data": {
            "text/plain": [
              "[-30, 10, 40]"
            ]
          },
          "metadata": {
            "tags": []
          },
          "execution_count": 11
        }
      ]
    },
    {
      "cell_type": "code",
      "metadata": {
        "id": "ZS5PhAPcSLp_",
        "outputId": "21ab87b6-d0b4-4b0f-d518-e4c6982ecca0",
        "colab": {
          "base_uri": "https://localhost:8080/",
          "height": 35
        }
      },
      "source": [
        "L.sort(reverse=True)\n",
        "L"
      ],
      "execution_count": null,
      "outputs": [
        {
          "output_type": "execute_result",
          "data": {
            "text/plain": [
              "[40, 10, -30]"
            ]
          },
          "metadata": {
            "tags": []
          },
          "execution_count": 12
        }
      ]
    },
    {
      "cell_type": "markdown",
      "metadata": {
        "id": "O-440nRLS5dd"
      },
      "source": [
        "When you sort a list containing strings, ASCII ordering is used"
      ]
    },
    {
      "cell_type": "code",
      "metadata": {
        "id": "AgUvVqJxS6LC",
        "outputId": "2add541c-7c8f-43a4-8910-f75b4a369635",
        "colab": {
          "base_uri": "https://localhost:8080/",
          "height": 35
        }
      },
      "source": [
        "L=[\"model\",\"engineering\",\"college\"]\n",
        "L.sort()\n",
        "L"
      ],
      "execution_count": null,
      "outputs": [
        {
          "output_type": "execute_result",
          "data": {
            "text/plain": [
              "['college', 'engineering', 'model']"
            ]
          },
          "metadata": {
            "tags": []
          },
          "execution_count": 19
        }
      ]
    },
    {
      "cell_type": "code",
      "metadata": {
        "id": "YfBWR4m8TSOd",
        "outputId": "46ab4f2f-82bb-4297-d1c7-ff3f3f156b04",
        "colab": {
          "base_uri": "https://localhost:8080/",
          "height": 35
        }
      },
      "source": [
        "L.sort(reverse=True)\n",
        "L"
      ],
      "execution_count": null,
      "outputs": [
        {
          "output_type": "execute_result",
          "data": {
            "text/plain": [
              "['model', 'engineering', 'college']"
            ]
          },
          "metadata": {
            "tags": []
          },
          "execution_count": 20
        }
      ]
    },
    {
      "cell_type": "markdown",
      "metadata": {
        "id": "DDKa9sWATeyP"
      },
      "source": [
        "We can also specify a function as key so that the list will be sorted based on that function. The following example sort the list elements based on the length of the string."
      ]
    },
    {
      "cell_type": "code",
      "metadata": {
        "id": "2v9d-_IHThvU",
        "outputId": "1d0a4ed7-75f6-48f8-e0b7-dbe31de00b7c",
        "colab": {
          "base_uri": "https://localhost:8080/",
          "height": 35
        }
      },
      "source": [
        "L=[\"model\",\"engineering\",\"college\"]\n",
        "L.sort(key=len)\n",
        "L"
      ],
      "execution_count": null,
      "outputs": [
        {
          "output_type": "execute_result",
          "data": {
            "text/plain": [
              "['model', 'college', 'engineering']"
            ]
          },
          "metadata": {
            "tags": []
          },
          "execution_count": 21
        }
      ]
    },
    {
      "cell_type": "code",
      "metadata": {
        "id": "9vYBr6IsTvV0",
        "outputId": "35b61d52-e2be-417c-be8b-ffbad098c380",
        "colab": {
          "base_uri": "https://localhost:8080/",
          "height": 35
        }
      },
      "source": [
        "L=[\"model\",\"engineering\",\"college\"]\n",
        "L.sort(key=len,reverse=True)\n",
        "L"
      ],
      "execution_count": null,
      "outputs": [
        {
          "output_type": "execute_result",
          "data": {
            "text/plain": [
              "['engineering', 'college', 'model']"
            ]
          },
          "metadata": {
            "tags": []
          },
          "execution_count": 22
        }
      ]
    },
    {
      "cell_type": "markdown",
      "metadata": {
        "id": "TrMO152vT7zP"
      },
      "source": [
        "It is noted that when you use **sort()** method the original list is modified. We can use **sorted()** method to create a new sorted list without changing the original."
      ]
    },
    {
      "cell_type": "code",
      "metadata": {
        "id": "ArUKjsFHUJEY",
        "outputId": "2e150ec1-8ee1-4c3e-9a81-6de405026bfe",
        "colab": {
          "base_uri": "https://localhost:8080/",
          "height": 35
        }
      },
      "source": [
        "L=[\"model\",\"engineering\",\"college\"]\n",
        "sorted(L)\n"
      ],
      "execution_count": null,
      "outputs": [
        {
          "output_type": "execute_result",
          "data": {
            "text/plain": [
              "['college', 'engineering', 'model']"
            ]
          },
          "metadata": {
            "tags": []
          },
          "execution_count": 23
        }
      ]
    },
    {
      "cell_type": "code",
      "metadata": {
        "id": "ReiwOR1LUSW0",
        "outputId": "3c6e3e48-78e7-4727-b604-ecb7726e42af",
        "colab": {
          "base_uri": "https://localhost:8080/",
          "height": 35
        }
      },
      "source": [
        "sorted(L,reverse=True)"
      ],
      "execution_count": null,
      "outputs": [
        {
          "output_type": "execute_result",
          "data": {
            "text/plain": [
              "['model', 'engineering', 'college']"
            ]
          },
          "metadata": {
            "tags": []
          },
          "execution_count": 24
        }
      ]
    },
    {
      "cell_type": "markdown",
      "metadata": {
        "id": "IkzlGibZUk4J"
      },
      "source": [
        "# Strings and Lists"
      ]
    },
    {
      "cell_type": "markdown",
      "metadata": {
        "id": "QlZgfhfoUnMj"
      },
      "source": [
        "We can use split method in the string module to split a string and create a list of words."
      ]
    },
    {
      "cell_type": "code",
      "metadata": {
        "id": "ebX5uSGZUsab",
        "outputId": "d649bafa-8a95-470f-ac1f-94f604deaaea",
        "colab": {
          "base_uri": "https://localhost:8080/",
          "height": 35
        }
      },
      "source": [
        "s=\"this is a test\"\n",
        "w=s.split(' ')\n",
        "w"
      ],
      "execution_count": null,
      "outputs": [
        {
          "output_type": "execute_result",
          "data": {
            "text/plain": [
              "['this', 'is', 'a', 'test']"
            ]
          },
          "metadata": {
            "tags": []
          },
          "execution_count": 25
        }
      ]
    },
    {
      "cell_type": "code",
      "metadata": {
        "id": "NvpJKAPJU500",
        "outputId": "bfd8fed6-cb31-44b3-aa73-113a9745150f",
        "colab": {
          "base_uri": "https://localhost:8080/",
          "height": 35
        }
      },
      "source": [
        " \"_\".join(w) # words are joined with ‘_’ character."
      ],
      "execution_count": null,
      "outputs": [
        {
          "output_type": "execute_result",
          "data": {
            "application/vnd.google.colaboratory.intrinsic+json": {
              "type": "string"
            },
            "text/plain": [
              "'this_is_a_test'"
            ]
          },
          "metadata": {
            "tags": []
          },
          "execution_count": 26
        }
      ]
    },
    {
      "cell_type": "markdown",
      "metadata": {
        "id": "LnIvGz8VU-X4"
      },
      "source": [
        "# Aliasing and Cloning List"
      ]
    },
    {
      "cell_type": "markdown",
      "metadata": {
        "id": "d8eDzRu9VBJX"
      },
      "source": [
        "When we assign one list to another variable it creates an alias of the list object.It means that it will not create a separate list object."
      ]
    },
    {
      "cell_type": "code",
      "metadata": {
        "id": "MFE-l3sNVOIa",
        "outputId": "ec3133fb-1d9c-475a-d0a8-535bc8753c05",
        "colab": {
          "base_uri": "https://localhost:8080/",
          "height": 54
        }
      },
      "source": [
        "a=[10,20,30]\n",
        "b=a # this will create an alias\n",
        "#We can test the object id using the function id() to test that they refer to the same object.\n",
        "print('id of a:',id(a))\n",
        "print('id of b:',id(b)) # note that the ids are same\n"
      ],
      "execution_count": null,
      "outputs": [
        {
          "output_type": "stream",
          "text": [
            "id of a: 140039359042760\n",
            "id of b: 140039359042760\n"
          ],
          "name": "stdout"
        }
      ]
    },
    {
      "cell_type": "code",
      "metadata": {
        "id": "jZHqBs8UVrxR",
        "outputId": "1eab445c-2e24-4d08-8851-4c87fa2eaf8d",
        "colab": {
          "base_uri": "https://localhost:8080/",
          "height": 35
        }
      },
      "source": [
        "a[2]=100\n",
        "b"
      ],
      "execution_count": null,
      "outputs": [
        {
          "output_type": "execute_result",
          "data": {
            "text/plain": [
              "[10, 20, 100]"
            ]
          },
          "metadata": {
            "tags": []
          },
          "execution_count": 29
        }
      ]
    },
    {
      "cell_type": "markdown",
      "metadata": {
        "id": "YmWx2qMxeD3d"
      },
      "source": [
        "If you want to clone a list , ie; if we need a copy of the list, slicing can be used or use the copy() function. This will create a new object. Note that the ids of the objects are different."
      ]
    },
    {
      "cell_type": "code",
      "metadata": {
        "id": "42qV1ceveF-o",
        "outputId": "b52787d8-785d-403d-9936-7867daee4a0b",
        "colab": {
          "base_uri": "https://localhost:8080/",
          "height": 35
        }
      },
      "source": [
        "b=a[::]\n",
        "b"
      ],
      "execution_count": null,
      "outputs": [
        {
          "output_type": "execute_result",
          "data": {
            "text/plain": [
              "[10, 20, 100]"
            ]
          },
          "metadata": {
            "tags": []
          },
          "execution_count": 30
        }
      ]
    },
    {
      "cell_type": "code",
      "metadata": {
        "id": "FBYm-dlzeQeb",
        "outputId": "bb8407bc-c74a-4ef9-dda0-8a541f792a27",
        "colab": {
          "base_uri": "https://localhost:8080/",
          "height": 35
        }
      },
      "source": [
        "a"
      ],
      "execution_count": null,
      "outputs": [
        {
          "output_type": "execute_result",
          "data": {
            "text/plain": [
              "[10, 20, 100]"
            ]
          },
          "metadata": {
            "tags": []
          },
          "execution_count": 31
        }
      ]
    },
    {
      "cell_type": "code",
      "metadata": {
        "id": "Qbnn0W0eeTdJ",
        "outputId": "bfb7bebe-2ba6-43b7-c91c-ef8ce36251ac",
        "colab": {
          "base_uri": "https://localhost:8080/",
          "height": 35
        }
      },
      "source": [
        "id(a)"
      ],
      "execution_count": null,
      "outputs": [
        {
          "output_type": "execute_result",
          "data": {
            "text/plain": [
              "140039359042760"
            ]
          },
          "metadata": {
            "tags": []
          },
          "execution_count": 32
        }
      ]
    },
    {
      "cell_type": "code",
      "metadata": {
        "id": "yVgpV2tueX0n",
        "outputId": "85e2c906-08fe-4b41-c0f4-a9b25ecca855",
        "colab": {
          "base_uri": "https://localhost:8080/",
          "height": 35
        }
      },
      "source": [
        "id(b)"
      ],
      "execution_count": null,
      "outputs": [
        {
          "output_type": "execute_result",
          "data": {
            "text/plain": [
              "140039358961480"
            ]
          },
          "metadata": {
            "tags": []
          },
          "execution_count": 33
        }
      ]
    },
    {
      "cell_type": "markdown",
      "metadata": {
        "id": "N9MhK8C0srMW"
      },
      "source": [
        "# Example Programs"
      ]
    },
    {
      "cell_type": "markdown",
      "metadata": {
        "id": "y_moxH0EtN73"
      },
      "source": [
        "1. Program to read list of names and sort the list in alphabetical order.( university question)"
      ]
    },
    {
      "cell_type": "code",
      "metadata": {
        "id": "w4BsS_xMtQrh",
        "outputId": "66f66ff2-7728-428b-dd13-e993afa08ab9",
        "colab": {
          "base_uri": "https://localhost:8080/",
          "height": 208
        }
      },
      "source": [
        "n=int(input(\"Enter the number of names....\"))\n",
        "names=[]\n",
        "print(\"Enter {} names\".format(n))\n",
        "for i in range(n):\n",
        "    nam=input()\n",
        "    names.append(nam)\n",
        "names.sort()\n",
        "print(\"names in alphabetical order\")\n",
        "for nam in names:\n",
        "    print(nam)"
      ],
      "execution_count": null,
      "outputs": [
        {
          "output_type": "stream",
          "text": [
            "Enter the number of names....4\n",
            "Enter 4 names\n",
            "sajio\n",
            "alwin\n",
            "ganesh\n",
            "jijo\n",
            "names in alphabetical order\n",
            "alwin\n",
            "ganesh\n",
            "jijo\n",
            "sajio\n"
          ],
          "name": "stdout"
        }
      ]
    },
    {
      "cell_type": "markdown",
      "metadata": {
        "id": "fJf3iDiYt07N"
      },
      "source": [
        "2. Program to find the sum of all even numbers in a group of n numbers entered by the user. (university question)"
      ]
    },
    {
      "cell_type": "code",
      "metadata": {
        "id": "0e_td7qEt62Q",
        "outputId": "5b8bf63e-0985-4a23-9b87-41179693617f",
        "colab": {
          "base_uri": "https://localhost:8080/",
          "height": 156
        }
      },
      "source": [
        "n=int(input(\"Enter the number of elements...\"))\n",
        "print(\"Enter the {} elements\".format(n))\n",
        "l=[] # creating an empty list\n",
        "for i in range(n):\n",
        "    x=int(input())\n",
        "    l.append(x)\n",
        "sum=0\n",
        "for i in range(n):\n",
        "    if l[i]%2==0:\n",
        "        sum=sum+l[i]\n",
        "print(\"Sum of all even numbers\",sum)"
      ],
      "execution_count": null,
      "outputs": [
        {
          "output_type": "stream",
          "text": [
            "Enter the number of elements...5\n",
            "Enter the 5 elements\n",
            "2\n",
            "3\n",
            "4\n",
            "5\n",
            "6\n",
            "Sum of all even numbers 12\n"
          ],
          "name": "stdout"
        }
      ]
    },
    {
      "cell_type": "markdown",
      "metadata": {
        "id": "YZbeL7n0uRo1"
      },
      "source": [
        "3. Program to read a string and remove the given words from the string."
      ]
    },
    {
      "cell_type": "code",
      "metadata": {
        "id": "Gr3xvQryuWm4",
        "outputId": "b3214989-8383-4590-f9cf-49a4f84b4790",
        "colab": {
          "base_uri": "https://localhost:8080/",
          "height": 69
        }
      },
      "source": [
        "s=input(\"Enter the string....\")\n",
        "wr=input(\"Enter the word to remove....\")\n",
        "wrds=s.split(\" \")\n",
        "ns=\"\"\n",
        "for w in wrds:\n",
        "    if w!=wr:\n",
        "        ns=ns+\" \"+w\n",
        "print(\"new string...\",ns)"
      ],
      "execution_count": null,
      "outputs": [
        {
          "output_type": "stream",
          "text": [
            "Enter the string....this is cool\n",
            "Enter the word to remove....is\n",
            "new string...  this cool\n"
          ],
          "name": "stdout"
        }
      ]
    },
    {
      "cell_type": "markdown",
      "metadata": {
        "id": "qGid-V3Nu6J2"
      },
      "source": [
        "4. Program to read list of numbers and find the median"
      ]
    },
    {
      "cell_type": "code",
      "metadata": {
        "id": "hsg7lhsvviXN",
        "outputId": "588fdfd7-9b83-4b5b-e926-7e4cfe38b16e",
        "colab": {
          "base_uri": "https://localhost:8080/",
          "height": 156
        }
      },
      "source": [
        "#We can find median by sorting the list and then take the middle element. If the list contains even number of elements take the average of the two middle elements.\n",
        "n=int(input(\"Enter how many numbers....\"))\n",
        "print(\"Enter {} numbers....\".format(n))\n",
        "lst=[]\n",
        "for i in range(n):\n",
        "   x=int(input())\n",
        "   lst.append(x)\n",
        "lst.sort()\n",
        "print(lst)\n",
        "mid=n//2\n",
        "if n%2==1:\n",
        "   print(\"Median\",lst[mid])\n",
        "else:\n",
        "   print(\"Median\",(lst[mid]+lst[mid-1])/2)"
      ],
      "execution_count": null,
      "outputs": [
        {
          "output_type": "stream",
          "text": [
            "Enter how many numbers....4\n",
            "Enter 4 numbers....\n",
            "1\n",
            "2\n",
            "3\n",
            "4\n",
            "[1, 2, 3, 4]\n",
            "Median 2.5\n"
          ],
          "name": "stdout"
        }
      ]
    },
    {
      "cell_type": "markdown",
      "metadata": {
        "id": "y0HYSb3OwBli"
      },
      "source": [
        "5. Finding the mode of list of numbers"
      ]
    },
    {
      "cell_type": "code",
      "metadata": {
        "id": "q9DrnOqiwIhY",
        "outputId": "b9224239-b8ac-49d5-f62b-f29b215a66bd",
        "colab": {
          "base_uri": "https://localhost:8080/",
          "height": 181
        }
      },
      "source": [
        "#A number that appears most often is the mode.\n",
        "l=[]\n",
        "n=int(input(\"Enter n..\"))\n",
        "print(\"Enter the numbers..\")\n",
        "for i in range(n):\n",
        "    x=int(input())\n",
        "    l.append(x)\n",
        "c=[]\n",
        "e=[]\n",
        "for x in l:\n",
        "    if x not in e:\n",
        "        c.append(l.count(x))\n",
        "        e.append(x)\n",
        "mc=max(c)\n",
        "ne=len(c)\n",
        "i=0\n",
        "print(\"mode..\")\n",
        "while i<ne:\n",
        "    if c[i]==mc:\n",
        "        print(e[i])\n",
        "    i+=1"
      ],
      "execution_count": null,
      "outputs": [
        {
          "output_type": "stream",
          "text": [
            "Enter n..5\n",
            "Enter the numbers..\n",
            "1\n",
            "2\n",
            "3\n",
            "2\n",
            "6\n",
            "mode..\n",
            "2\n"
          ],
          "name": "stdout"
        }
      ]
    },
    {
      "cell_type": "markdown",
      "metadata": {
        "id": "e4Ucjuivwe01"
      },
      "source": [
        ""
      ]
    }
  ]
}