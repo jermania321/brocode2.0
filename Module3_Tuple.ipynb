{
  "nbformat": 4,
  "nbformat_minor": 0,
  "metadata": {
    "colab": {
      "name": "Module3_Tuple.ipynb",
      "provenance": [],
      "include_colab_link": true
    },
    "kernelspec": {
      "name": "python3",
      "display_name": "Python 3"
    }
  },
  "cells": [
    {
      "cell_type": "markdown",
      "metadata": {
        "id": "view-in-github",
        "colab_type": "text"
      },
      "source": [
        "<a href=\"https://colab.research.google.com/github/jermania321/brocode2.0/blob/master/Module3_Tuple.ipynb\" target=\"_parent\"><img src=\"https://colab.research.google.com/assets/colab-badge.svg\" alt=\"Open In Colab\"/></a>"
      ]
    },
    {
      "cell_type": "markdown",
      "metadata": {
        "id": "gnT2EgtOppQ9"
      },
      "source": [
        "**Tuple**\n",
        "\n",
        "\n",
        "*   used for grouping data\n",
        "*   is an immutable list--cannot be changed in any way once it has been created.\n",
        "\n",
        "\n",
        "*   is defined analogously to lists\n",
        "*  set of elements is enclosed in\n",
        "\n",
        "\n",
        "*   rules for indices are the same as for lists\n",
        "\n",
        "**What are the benefit of tuple?**\n",
        "\n",
        "*   Tuples are faster than lists.\n",
        "*   If you know that some data doesn't have to be changed, you should use tuples instead of lists, because this protects your data against accidental changes.\n",
        "\n",
        "*   Tuples can be used as keys in dictionaries, while lists can't.\n",
        "\n",
        "\n",
        "\n",
        "\n",
        "\n",
        "\n",
        "\n",
        "\n",
        "\n",
        "\n",
        "\n"
      ]
    },
    {
      "cell_type": "markdown",
      "metadata": {
        "id": "61fDbGj-uahM"
      },
      "source": [
        "# Tuple creation"
      ]
    },
    {
      "cell_type": "markdown",
      "metadata": {
        "id": "iHo-ZOjgugri"
      },
      "source": [
        "It is defined within parentheses () where items are separated by commas."
      ]
    },
    {
      "cell_type": "code",
      "metadata": {
        "id": "qCCz-03XulPO",
        "outputId": "f62c5047-4ac5-43ba-91f2-10ea175c5659",
        "colab": {
          "base_uri": "https://localhost:8080/",
          "height": 35
        }
      },
      "source": [
        "t = (\"tuples\", \"are\", \"immutable\")\n",
        "t"
      ],
      "execution_count": null,
      "outputs": [
        {
          "output_type": "execute_result",
          "data": {
            "text/plain": [
              "('tuples', 'are', 'immutable')"
            ]
          },
          "metadata": {
            "tags": []
          },
          "execution_count": 1
        }
      ]
    },
    {
      "cell_type": "markdown",
      "metadata": {
        "id": "hvUGdPwPvVgn"
      },
      "source": [
        "To create a tuple with a single element, we have to include the final comma:"
      ]
    },
    {
      "cell_type": "code",
      "metadata": {
        "id": "DPFIShXAvY-Z",
        "outputId": "3f92a917-ae45-446d-ec3f-a731ea00a4a0",
        "colab": {
          "base_uri": "https://localhost:8080/",
          "height": 35
        }
      },
      "source": [
        "t1 = ('a',)\n",
        "type(t1)"
      ],
      "execution_count": null,
      "outputs": [
        {
          "output_type": "execute_result",
          "data": {
            "text/plain": [
              "tuple"
            ]
          },
          "metadata": {
            "tags": []
          },
          "execution_count": 2
        }
      ]
    },
    {
      "cell_type": "markdown",
      "metadata": {
        "id": "ycqrp6k4xOft"
      },
      "source": [
        "Without the comma, Python treats ('a') as a string in parentheses:"
      ]
    },
    {
      "cell_type": "code",
      "metadata": {
        "id": "R94bY6-8xUhB",
        "outputId": "f902522e-67e0-4a8b-e82e-e1b3a108e89b",
        "colab": {
          "base_uri": "https://localhost:8080/",
          "height": 35
        }
      },
      "source": [
        "t2 = ('a')\n",
        "type(t2)"
      ],
      "execution_count": null,
      "outputs": [
        {
          "output_type": "execute_result",
          "data": {
            "text/plain": [
              "str"
            ]
          },
          "metadata": {
            "tags": []
          },
          "execution_count": 3
        }
      ]
    },
    {
      "cell_type": "markdown",
      "metadata": {
        "id": "Nyw6QUcfyEGd"
      },
      "source": [
        "create an empty tuple"
      ]
    },
    {
      "cell_type": "code",
      "metadata": {
        "id": "6yKgg1LHyGdR",
        "outputId": "f36030ab-e3a3-404c-cf91-bd4b878d1e62",
        "colab": {
          "base_uri": "https://localhost:8080/",
          "height": 54
        }
      },
      "source": [
        "t=()\n",
        "print(type(t))\n",
        "\n",
        "t=tuple()\n",
        "print(type(t))\n"
      ],
      "execution_count": null,
      "outputs": [
        {
          "output_type": "stream",
          "text": [
            "<class 'tuple'>\n",
            "<class 'tuple'>\n"
          ],
          "name": "stdout"
        }
      ]
    },
    {
      "cell_type": "markdown",
      "metadata": {
        "id": "uxNRdM-FyrWH"
      },
      "source": [
        "A tuple can also be created without using parentheses. This is known as **tuple packing**."
      ]
    },
    {
      "cell_type": "code",
      "metadata": {
        "id": "xZM530oJyvI5",
        "outputId": "879f9f86-9105-4539-e3e0-6bc75d9e7c51",
        "colab": {
          "base_uri": "https://localhost:8080/",
          "height": 35
        }
      },
      "source": [
        "t = 3, 4.6, \"dog\" \n",
        "print(t)"
      ],
      "execution_count": null,
      "outputs": [
        {
          "output_type": "stream",
          "text": [
            "(3, 4.6, 'dog')\n"
          ],
          "name": "stdout"
        }
      ]
    },
    {
      "cell_type": "markdown",
      "metadata": {
        "id": "UyE9P-xey2wW"
      },
      "source": [
        "# Accessing Elements"
      ]
    },
    {
      "cell_type": "code",
      "metadata": {
        "id": "NzFiXWA5zCPp",
        "outputId": "38195195-32df-41d3-9a54-749acaf2d27e",
        "colab": {
          "base_uri": "https://localhost:8080/",
          "height": 35
        }
      },
      "source": [
        "t = (\"tuples\", \"are\", \"immutable\")\n",
        "t[0]"
      ],
      "execution_count": null,
      "outputs": [
        {
          "output_type": "execute_result",
          "data": {
            "application/vnd.google.colaboratory.intrinsic+json": {
              "type": "string"
            },
            "text/plain": [
              "'tuples'"
            ]
          },
          "metadata": {
            "tags": []
          },
          "execution_count": 6
        }
      ]
    },
    {
      "cell_type": "markdown",
      "metadata": {
        "id": "fgE9Yj-JzZEd"
      },
      "source": [
        "We can use the slicing operator [] to extract items but we cannot change its value."
      ]
    },
    {
      "cell_type": "code",
      "metadata": {
        "id": "CRsjK__9zcVZ",
        "outputId": "d388cc22-4688-459a-b768-f163a4a5d8d7",
        "colab": {
          "base_uri": "https://localhost:8080/",
          "height": 189
        }
      },
      "source": [
        "t[0]=\"assignments to elements are not possible\""
      ],
      "execution_count": null,
      "outputs": [
        {
          "output_type": "error",
          "ename": "TypeError",
          "evalue": "ignored",
          "traceback": [
            "\u001b[0;31m---------------------------------------------------------------------------\u001b[0m",
            "\u001b[0;31mTypeError\u001b[0m                                 Traceback (most recent call last)",
            "\u001b[0;32m<ipython-input-7-32f479325862>\u001b[0m in \u001b[0;36m<module>\u001b[0;34m()\u001b[0m\n\u001b[0;32m----> 1\u001b[0;31m \u001b[0mt\u001b[0m\u001b[0;34m[\u001b[0m\u001b[0;36m0\u001b[0m\u001b[0;34m]\u001b[0m\u001b[0;34m=\u001b[0m\u001b[0;34m\"assignments to elements are not possible\"\u001b[0m\u001b[0;34m\u001b[0m\u001b[0;34m\u001b[0m\u001b[0m\n\u001b[0m\u001b[1;32m      2\u001b[0m \u001b[0;34m\u001b[0m\u001b[0m\n",
            "\u001b[0;31mTypeError\u001b[0m: 'tuple' object does not support item assignment"
          ]
        }
      ]
    },
    {
      "cell_type": "code",
      "metadata": {
        "id": "ss5nMWqb1XJr",
        "outputId": "a910602d-3f96-4c6b-8d85-b519b8a0f338",
        "colab": {
          "base_uri": "https://localhost:8080/",
          "height": 54
        }
      },
      "source": [
        "print(t[-1])\n",
        "print(t[0:2])\n"
      ],
      "execution_count": null,
      "outputs": [
        {
          "output_type": "stream",
          "text": [
            "immutable\n",
            "('tuples', 'are')\n"
          ],
          "name": "stdout"
        }
      ]
    },
    {
      "cell_type": "markdown",
      "metadata": {
        "id": "L3wPRv0r1qUk"
      },
      "source": [
        "This will add a new element to the Tuple"
      ]
    },
    {
      "cell_type": "code",
      "metadata": {
        "id": "brCLizB11rwU",
        "outputId": "6de800b9-3e47-40bf-eafe-e2982c91862e",
        "colab": {
          "base_uri": "https://localhost:8080/",
          "height": 35
        }
      },
      "source": [
        "t=(10,20,30)\n",
        "t=t+(40,)\n",
        "t"
      ],
      "execution_count": null,
      "outputs": [
        {
          "output_type": "execute_result",
          "data": {
            "text/plain": [
              "(10, 20, 30, 40)"
            ]
          },
          "metadata": {
            "tags": []
          },
          "execution_count": 9
        }
      ]
    },
    {
      "cell_type": "markdown",
      "metadata": {
        "id": "tZRyhg-m148s"
      },
      "source": [
        "# Tuple operations"
      ]
    },
    {
      "cell_type": "markdown",
      "metadata": {
        "id": "P5xSNDpe1__b"
      },
      "source": [
        "**+ Operation**\n"
      ]
    },
    {
      "cell_type": "code",
      "metadata": {
        "id": "Q73H6eVm2Ic4",
        "outputId": "f56fad9a-acf8-4769-c204-cc7f23465b61",
        "colab": {
          "base_uri": "https://localhost:8080/",
          "height": 35
        }
      },
      "source": [
        "a=(10,20,30)\n",
        "b=(40,50)\n",
        "a+b"
      ],
      "execution_count": null,
      "outputs": [
        {
          "output_type": "execute_result",
          "data": {
            "text/plain": [
              "(10, 20, 30, 40, 50)"
            ]
          },
          "metadata": {
            "tags": []
          },
          "execution_count": 10
        }
      ]
    },
    {
      "cell_type": "markdown",
      "metadata": {
        "id": "EbO1j4nL2Nyw"
      },
      "source": [
        " *** Operation** "
      ]
    },
    {
      "cell_type": "code",
      "metadata": {
        "id": "0DfYom_-2ayY",
        "outputId": "5e98a5e4-ac89-47eb-a180-305c1897c0d5",
        "colab": {
          "base_uri": "https://localhost:8080/",
          "height": 35
        }
      },
      "source": [
        "b*2"
      ],
      "execution_count": null,
      "outputs": [
        {
          "output_type": "execute_result",
          "data": {
            "text/plain": [
              "(40, 50, 40, 50)"
            ]
          },
          "metadata": {
            "tags": []
          },
          "execution_count": 11
        }
      ]
    },
    {
      "cell_type": "markdown",
      "metadata": {
        "id": "sNOCjUB42hAV"
      },
      "source": [
        "**in** and **not in**"
      ]
    },
    {
      "cell_type": "code",
      "metadata": {
        "id": "wdab2GH32lcD",
        "outputId": "750cdbb5-1188-4c9e-9bff-4a92da035d74",
        "colab": {
          "base_uri": "https://localhost:8080/",
          "height": 35
        }
      },
      "source": [
        "10 in a\n"
      ],
      "execution_count": null,
      "outputs": [
        {
          "output_type": "execute_result",
          "data": {
            "text/plain": [
              "True"
            ]
          },
          "metadata": {
            "tags": []
          },
          "execution_count": 12
        }
      ]
    },
    {
      "cell_type": "code",
      "metadata": {
        "id": "jVxFeV6e2tjk",
        "outputId": "390295d5-9393-4e3f-e07f-1dc9132c33a7",
        "colab": {
          "base_uri": "https://localhost:8080/",
          "height": 35
        }
      },
      "source": [
        "100 not in a"
      ],
      "execution_count": null,
      "outputs": [
        {
          "output_type": "execute_result",
          "data": {
            "text/plain": [
              "True"
            ]
          },
          "metadata": {
            "tags": []
          },
          "execution_count": 13
        }
      ]
    },
    {
      "cell_type": "code",
      "metadata": {
        "id": "kWYCPH4Y2x6w",
        "outputId": "f568936f-6e7f-45a5-bdab-1b1727ed8b42",
        "colab": {
          "base_uri": "https://localhost:8080/",
          "height": 35
        }
      },
      "source": [
        "c=a+(30,)\n",
        "c"
      ],
      "execution_count": null,
      "outputs": [
        {
          "output_type": "execute_result",
          "data": {
            "text/plain": [
              "(10, 20, 30, 30)"
            ]
          },
          "metadata": {
            "tags": []
          },
          "execution_count": 14
        }
      ]
    },
    {
      "cell_type": "markdown",
      "metadata": {
        "id": "mrdlJgeM23r2"
      },
      "source": [
        "# Tuple Functions"
      ]
    },
    {
      "cell_type": "code",
      "metadata": {
        "id": "q0VappLq28R-",
        "outputId": "89f7bccc-023e-4dc7-8e71-7a4da1e94895",
        "colab": {
          "base_uri": "https://localhost:8080/",
          "height": 35
        }
      },
      "source": [
        "a=(10,20,30,30)\n",
        "min(a)"
      ],
      "execution_count": null,
      "outputs": [
        {
          "output_type": "execute_result",
          "data": {
            "text/plain": [
              "10"
            ]
          },
          "metadata": {
            "tags": []
          },
          "execution_count": 15
        }
      ]
    },
    {
      "cell_type": "code",
      "metadata": {
        "id": "jvWSpwgf3CFP",
        "outputId": "6b7ff784-9a96-4a17-b32e-10b10e3c7964",
        "colab": {
          "base_uri": "https://localhost:8080/",
          "height": 35
        }
      },
      "source": [
        "max(a)"
      ],
      "execution_count": null,
      "outputs": [
        {
          "output_type": "execute_result",
          "data": {
            "text/plain": [
              "30"
            ]
          },
          "metadata": {
            "tags": []
          },
          "execution_count": 16
        }
      ]
    },
    {
      "cell_type": "code",
      "metadata": {
        "id": "_ysEWD_33Fu7",
        "outputId": "80d15e44-c8d2-40f5-8d14-85e59bfceacd",
        "colab": {
          "base_uri": "https://localhost:8080/",
          "height": 35
        }
      },
      "source": [
        "sum(a)"
      ],
      "execution_count": null,
      "outputs": [
        {
          "output_type": "execute_result",
          "data": {
            "text/plain": [
              "90"
            ]
          },
          "metadata": {
            "tags": []
          },
          "execution_count": 17
        }
      ]
    },
    {
      "cell_type": "code",
      "metadata": {
        "id": "VUtSMxiB3I1Z",
        "outputId": "f6f03052-42fc-4095-db74-fe89a3df33ff",
        "colab": {
          "base_uri": "https://localhost:8080/",
          "height": 35
        }
      },
      "source": [
        "len(a)"
      ],
      "execution_count": null,
      "outputs": [
        {
          "output_type": "execute_result",
          "data": {
            "text/plain": [
              "4"
            ]
          },
          "metadata": {
            "tags": []
          },
          "execution_count": 18
        }
      ]
    },
    {
      "cell_type": "code",
      "metadata": {
        "id": "-zw_pqFr3LUN",
        "outputId": "05c4b074-f3d4-498b-9223-cd218730293a",
        "colab": {
          "base_uri": "https://localhost:8080/",
          "height": 35
        }
      },
      "source": [
        "a.index(20)"
      ],
      "execution_count": null,
      "outputs": [
        {
          "output_type": "execute_result",
          "data": {
            "text/plain": [
              "1"
            ]
          },
          "metadata": {
            "tags": []
          },
          "execution_count": 19
        }
      ]
    },
    {
      "cell_type": "code",
      "metadata": {
        "id": "-SUlRFCm3O1H",
        "outputId": "fb114ee9-f319-4cdb-97be-288d155f8338",
        "colab": {
          "base_uri": "https://localhost:8080/",
          "height": 35
        }
      },
      "source": [
        "c.count(30)"
      ],
      "execution_count": null,
      "outputs": [
        {
          "output_type": "execute_result",
          "data": {
            "text/plain": [
              "2"
            ]
          },
          "metadata": {
            "tags": []
          },
          "execution_count": 20
        }
      ]
    },
    {
      "cell_type": "markdown",
      "metadata": {
        "id": "3WQ5Dy3P3X-t"
      },
      "source": [
        "cmp( ) # Not available in Python 3\n",
        "This is used to check whether the given tuples are same or not. If both are same, it will return ‘zero’, otherwise return 1 or -1. If the first tuple is big, then it will return 1,otherwise return -1."
      ]
    },
    {
      "cell_type": "code",
      "metadata": {
        "id": "8CiUGPLd3ZiK",
        "outputId": "4ea98acb-1d0c-4589-c226-5270f5ba59ed",
        "colab": {
          "base_uri": "https://localhost:8080/",
          "height": 207
        }
      },
      "source": [
        "a=(10,20)\n",
        "b=(10,20)\n",
        "cmp(a,b)"
      ],
      "execution_count": null,
      "outputs": [
        {
          "output_type": "error",
          "ename": "NameError",
          "evalue": "ignored",
          "traceback": [
            "\u001b[0;31m---------------------------------------------------------------------------\u001b[0m",
            "\u001b[0;31mNameError\u001b[0m                                 Traceback (most recent call last)",
            "\u001b[0;32m<ipython-input-21-1e203281a385>\u001b[0m in \u001b[0;36m<module>\u001b[0;34m()\u001b[0m\n\u001b[1;32m      1\u001b[0m \u001b[0ma\u001b[0m\u001b[0;34m=\u001b[0m\u001b[0;34m(\u001b[0m\u001b[0;36m10\u001b[0m\u001b[0;34m,\u001b[0m\u001b[0;36m20\u001b[0m\u001b[0;34m)\u001b[0m\u001b[0;34m\u001b[0m\u001b[0;34m\u001b[0m\u001b[0m\n\u001b[1;32m      2\u001b[0m \u001b[0mb\u001b[0m\u001b[0;34m=\u001b[0m\u001b[0;34m(\u001b[0m\u001b[0;36m10\u001b[0m\u001b[0;34m,\u001b[0m\u001b[0;36m20\u001b[0m\u001b[0;34m)\u001b[0m\u001b[0;34m\u001b[0m\u001b[0;34m\u001b[0m\u001b[0m\n\u001b[0;32m----> 3\u001b[0;31m \u001b[0mcmp\u001b[0m\u001b[0;34m(\u001b[0m\u001b[0ma\u001b[0m\u001b[0;34m,\u001b[0m\u001b[0mb\u001b[0m\u001b[0;34m)\u001b[0m\u001b[0;34m\u001b[0m\u001b[0;34m\u001b[0m\u001b[0m\n\u001b[0m",
            "\u001b[0;31mNameError\u001b[0m: name 'cmp' is not defined"
          ]
        }
      ]
    },
    {
      "cell_type": "markdown",
      "metadata": {
        "id": "_7bSlGfj3p88"
      },
      "source": [
        "since the tuples are immutable you cannot sort the tuple.However you can use the sequence function **sorted()** to create a new sorted list from the tuple."
      ]
    },
    {
      "cell_type": "code",
      "metadata": {
        "id": "fThah0O13tmH",
        "outputId": "b234cf34-d4f7-4baa-e2e8-507826a50420",
        "colab": {
          "base_uri": "https://localhost:8080/",
          "height": 35
        }
      },
      "source": [
        "a=(3,2,4)\n",
        "sorted(a)"
      ],
      "execution_count": null,
      "outputs": [
        {
          "output_type": "execute_result",
          "data": {
            "text/plain": [
              "[2, 3, 4]"
            ]
          },
          "metadata": {
            "tags": []
          },
          "execution_count": 1
        }
      ]
    },
    {
      "cell_type": "markdown",
      "metadata": {
        "id": "OGTTVNRg42og"
      },
      "source": [
        "del() function will delete a tuple"
      ]
    },
    {
      "cell_type": "code",
      "metadata": {
        "id": "Au2m3WSf43pO",
        "outputId": "e25651da-dbb3-4f5e-a7d1-62269098c086",
        "colab": {
          "base_uri": "https://localhost:8080/",
          "height": 171
        }
      },
      "source": [
        "del(a)\n"
      ],
      "execution_count": null,
      "outputs": [
        {
          "output_type": "error",
          "ename": "NameError",
          "evalue": "ignored",
          "traceback": [
            "\u001b[0;31m---------------------------------------------------------------------------\u001b[0m",
            "\u001b[0;31mNameError\u001b[0m                                 Traceback (most recent call last)",
            "\u001b[0;32m<ipython-input-25-5b65ba3b6532>\u001b[0m in \u001b[0;36m<module>\u001b[0;34m()\u001b[0m\n\u001b[0;32m----> 1\u001b[0;31m \u001b[0;32mdel\u001b[0m\u001b[0;34m(\u001b[0m\u001b[0ma\u001b[0m\u001b[0;34m)\u001b[0m\u001b[0;34m\u001b[0m\u001b[0;34m\u001b[0m\u001b[0m\n\u001b[0m",
            "\u001b[0;31mNameError\u001b[0m: name 'a' is not defined"
          ]
        }
      ]
    },
    {
      "cell_type": "markdown",
      "metadata": {
        "id": "JGXxP9YC5Zkk"
      },
      "source": [
        "# Tuple packing and unpacking"
      ]
    },
    {
      "cell_type": "markdown",
      "metadata": {
        "id": "HI0e3yJU5osY"
      },
      "source": [
        "In tuple packing, the values on the right are ‘packed’ together in a tuple:"
      ]
    },
    {
      "cell_type": "code",
      "metadata": {
        "id": "cjOVLOR_5qiD"
      },
      "source": [
        "stud=(101,'shilpa','kayamkulam',690535)"
      ],
      "execution_count": null,
      "outputs": []
    },
    {
      "cell_type": "markdown",
      "metadata": {
        "id": "ErbXl_NA5tRj"
      },
      "source": [
        "In tuple unpacking, the values in a tuple on the right are 'unpacked' into the variables/names on the left:"
      ]
    },
    {
      "cell_type": "code",
      "metadata": {
        "id": "exUv1uO751No",
        "outputId": "5220e27a-2f60-43aa-828e-9b50dff3b7f5",
        "colab": {
          "base_uri": "https://localhost:8080/",
          "height": 85
        }
      },
      "source": [
        "(rno,name,place,pin)=stud\n",
        "print(rno)\n",
        "print(name)\n",
        "print(place)\n",
        "print(pin)"
      ],
      "execution_count": null,
      "outputs": [
        {
          "output_type": "stream",
          "text": [
            "101\n",
            "shilpa\n",
            "kayamkulam\n",
            "690535\n"
          ],
          "name": "stdout"
        }
      ]
    },
    {
      "cell_type": "markdown",
      "metadata": {
        "id": "ViUvsnCV6joE"
      },
      "source": [
        "# Tuple assignments"
      ]
    },
    {
      "cell_type": "markdown",
      "metadata": {
        "id": "MQOMrgpA6l5t"
      },
      "source": [
        "Once in a while, it is useful to swap the values of two variables. With conventional assignment statements, we have to use a temporary variable. For example, \n",
        "\n",
        "to swap a and b:\n",
        "\n",
        "temp = a\n",
        "\n",
        "a = b\n",
        "\n",
        "b = temp\n",
        "\n",
        "Tuple assignment solves this problem neatly:\n",
        "\n",
        "(a, b) = (b, a) \n",
        "\n",
        "The left side is a tuple of variables; the right side is a tuple of values. Each value is assigned to its respective variable. All the expressions on the right side are evaluated before any of the assignments. This feature makes tuple assignment quite versatile.\n",
        "\n",
        "Naturally, the number of variables on the left and the number of values on the right have to be the same"
      ]
    },
    {
      "cell_type": "code",
      "metadata": {
        "id": "hb9HsQvC5RTD",
        "outputId": "9a65e410-1b59-4539-93ef-f85e2a9d57a3",
        "colab": {
          "base_uri": "https://localhost:8080/",
          "height": 34
        }
      },
      "source": [
        "t1=(10,20,30)\n",
        "t2=(100,200)\n",
        "t2,t1=t1,t2\n",
        "t1"
      ],
      "execution_count": null,
      "outputs": [
        {
          "output_type": "execute_result",
          "data": {
            "text/plain": [
              "(100, 200)"
            ]
          },
          "metadata": {
            "tags": []
          },
          "execution_count": 1
        }
      ]
    },
    {
      "cell_type": "code",
      "metadata": {
        "id": "zYHeMorQ5hGm",
        "outputId": "89d70d7a-3ae8-4278-c9e3-d843a3d249bd",
        "colab": {
          "base_uri": "https://localhost:8080/",
          "height": 34
        }
      },
      "source": [
        "t2"
      ],
      "execution_count": null,
      "outputs": [
        {
          "output_type": "execute_result",
          "data": {
            "text/plain": [
              "(10, 20, 30)"
            ]
          },
          "metadata": {
            "tags": []
          },
          "execution_count": 2
        }
      ]
    },
    {
      "cell_type": "markdown",
      "metadata": {
        "id": "xLBFqkYq5lN6"
      },
      "source": [
        "Converting  lists into tuples and tuples into lists"
      ]
    },
    {
      "cell_type": "code",
      "metadata": {
        "id": "LE5BW1475t5D",
        "outputId": "c52cb5de-f1bc-4c02-a43a-70d83aeb00e3",
        "colab": {
          "base_uri": "https://localhost:8080/",
          "height": 34
        }
      },
      "source": [
        "L=[10,20,30,40]\n",
        "T=tuple(L)\n",
        "T"
      ],
      "execution_count": null,
      "outputs": [
        {
          "output_type": "execute_result",
          "data": {
            "text/plain": [
              "(10, 20, 30, 40)"
            ]
          },
          "metadata": {
            "tags": []
          },
          "execution_count": 3
        }
      ]
    },
    {
      "cell_type": "markdown",
      "metadata": {
        "id": "RN81wMdZ52vb"
      },
      "source": [
        "# Example Programs"
      ]
    },
    {
      "cell_type": "markdown",
      "metadata": {
        "id": "OerZwZoL55Kd"
      },
      "source": [
        "Program to read numbers and find minimum, maximum and sum using Tuple"
      ]
    },
    {
      "cell_type": "code",
      "metadata": {
        "id": "GP_47_gl5848"
      },
      "source": [
        "n=int(input(\"Enter how many numbers....\"))\n",
        "print(\"Enter {} numbers\".format(n))\n",
        "t=tuple()\n",
        "for i in range(n):\n",
        "    x=int(input())\n",
        "    t=t+(x,)\n",
        "print(\"minimum=\",min(t))\n",
        "print(\"maximum=\",max(t))\n",
        "print(\"sum=\",sum(t))"
      ],
      "execution_count": null,
      "outputs": []
    },
    {
      "cell_type": "markdown",
      "metadata": {
        "id": "0zLB61NE6K1G"
      },
      "source": [
        "Write a menu driven program to store the students details(rno,name,mark) as a list of tuples.The menu has the following options ( university question)\n",
        "\n",
        "add-adding students details\n",
        "\n",
        "remove-remove the details by giving roll number\n",
        "\n",
        "search-search and display the details by giving roll number\n",
        "\n",
        "max-display the details of the students with highest mark"
      ]
    },
    {
      "cell_type": "code",
      "metadata": {
        "id": "Q7ErfdDX6V31"
      },
      "source": [
        "stud=[]\n",
        "while True:\n",
        "    print(\"1.add\\n2.remove\\n3.search\\n4.max\\n5.Display\\n6.Exit\")\n",
        "    op=int(input(\"Enter option....\"))\n",
        "    if op==1:\n",
        "        print(\"Enter the student details..\")\n",
        "        rno=int(input(\"Enter the rollnumber...\"))\n",
        "        name=input(\"Enter name...\")\n",
        "        mark=int(input(\"Enter marks...\"))\n",
        "        stud.append((rno,name,mark))\n",
        "        print(stud)\n",
        "    if op==2:\n",
        "        rno=int(input(\"Enter the rollnumber to remove\"))\n",
        "        stud=filter(lambda x:x[0]!=rno,stud)\n",
        "    if op==3:\n",
        "        rno=int(input(\"Enter the rollnumber to search\"))\n",
        "        s=filter(lambda x:x[0]==rno,stud)\n",
        "        for i in s:\n",
        "            print(i)\n",
        "    if op==4:\n",
        "        stud=sorted(stud,key=lambda x:x[2],reverse=True)\n",
        "        print(stud[0])\n",
        "    if op==5:\n",
        "        print(\"Students Details\")\n",
        "        for i in stud:\n",
        "            print(i)\n",
        "    if op==6:\n",
        "        print(\"Bye\")\n",
        "        break"
      ],
      "execution_count": null,
      "outputs": []
    },
    {
      "cell_type": "markdown",
      "metadata": {
        "id": "1c9y7T-G8pjE"
      },
      "source": [
        "Python program to Sort Tuples by their Maximum element\n",
        "\n",
        "input : test_list = [(4, 5, 5, 7), (1, 3, 7, 4), (19, 4, 5, 3), (1, 2)] \n",
        "\n",
        "Output : [(19, 4, 5, 3), (4, 5, 5, 7), (1, 3, 7, 4), (1, 2)] "
      ]
    },
    {
      "cell_type": "code",
      "metadata": {
        "id": "2h-0rtct85ZY"
      },
      "source": [
        "test_list = [(4, 5, 5, 7), (1, 3, 7, 4), (19, 4, 5, 3), (1, 2)] \n",
        "  \n",
        "# printing original list \n",
        "print(\"The original list is : \" + str(test_list)) \n",
        "  \n",
        "# lambda function getting maximum elements  \n",
        "# reverse for sorting by max - first element's tuples \n",
        "test_list.sort(key = lambda sub : max(sub), reverse = True) \n",
        "  \n",
        "# printing result  \n",
        "print(\"Sorted Tuples : \" + str(test_list))"
      ],
      "execution_count": null,
      "outputs": []
    },
    {
      "cell_type": "markdown",
      "metadata": {
        "id": "A1yqtpVjA5KR"
      },
      "source": [
        "Python program to find tuples which have all elements divisible by K from a list of tuples\n",
        "\n",
        "Input : test_list = [(6, 24, 12), (60, 12, 6), (12, 18, 21)], K = 6 \n",
        "\n",
        "Output : [(6, 24, 12), (60, 12, 6)] "
      ]
    },
    {
      "cell_type": "code",
      "metadata": {
        "id": "0EL_OKWw_RMh"
      },
      "source": [
        "test_list = [(6, 24, 12), (7, 9, 6), (12, 18, 21)] \n",
        "  \n",
        "# printing original list \n",
        "print(\"The original list is : \" + str(test_list)) \n",
        "  \n",
        "# initializing K \n",
        "K = 6\n",
        "  \n",
        "# filter() + lambda for filter operation \n",
        "res = list(filter(lambda sub: all(ele % K == 0 for ele in sub), test_list)) \n",
        "  \n",
        "# printing result \n",
        "print(\"K Multiple elements tuples : \" + str(res)) "
      ],
      "execution_count": null,
      "outputs": []
    },
    {
      "cell_type": "markdown",
      "metadata": {
        "id": "Yoj6zFd7ACr6"
      },
      "source": [
        "Python – Convert Binary tuple to Integer\n",
        "Input : test_tup = (1, 1, 0)\n",
        "\n",
        "Output : 6\n",
        "\n",
        "Explanation : 4 + 2 = 6."
      ]
    },
    {
      "cell_type": "code",
      "metadata": {
        "id": "skD-ZImWAKR9"
      },
      "source": [
        "# Python3 code to demonstrate working of  \n",
        "# Convert Binary tuple to Integer \n",
        "# Using join() + list comprehension + int() \n",
        "  \n",
        "# initializing tuple \n",
        "test_tup = (1, 1, 0, 1, 0, 0, 1) \n",
        "  \n",
        "# printing original tuple \n",
        "print(\"The original tuple is : \" + str(test_tup)) \n",
        "  \n",
        "# using int() with base to get actual number \n",
        "res = int(\"\".join(str(ele) for ele in test_tup), 2)  \n",
        "  \n",
        "# printing result  \n",
        "print(\"Decimal number is : \" + str(res))  "
      ],
      "execution_count": null,
      "outputs": []
    },
    {
      "cell_type": "markdown",
      "metadata": {
        "id": "EDXpiay-AV0H"
      },
      "source": [
        ""
      ]
    }
  ]
}