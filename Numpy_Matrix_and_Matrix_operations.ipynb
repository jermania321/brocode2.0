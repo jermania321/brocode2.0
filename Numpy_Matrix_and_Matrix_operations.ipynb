{
  "nbformat": 4,
  "nbformat_minor": 0,
  "metadata": {
    "colab": {
      "name": "Numpy-Matrix and Matrix operations.ipynb",
      "provenance": [],
      "toc_visible": true,
      "include_colab_link": true
    },
    "kernelspec": {
      "name": "python3",
      "display_name": "Python 3"
    }
  },
  "cells": [
    {
      "cell_type": "markdown",
      "metadata": {
        "id": "view-in-github",
        "colab_type": "text"
      },
      "source": [
        "<a href=\"https://colab.research.google.com/github/jermania321/brocode2.0/blob/master/Numpy_Matrix_and_Matrix_operations.ipynb\" target=\"_parent\"><img src=\"https://colab.research.google.com/assets/colab-badge.svg\" alt=\"Open In Colab\"/></a>"
      ]
    },
    {
      "cell_type": "markdown",
      "metadata": {
        "id": "pj8hnvFjP6-d"
      },
      "source": [
        "# Matrices and Matrix Arithmetic"
      ]
    },
    {
      "cell_type": "markdown",
      "metadata": {
        "id": "RRk5acElP-Gg"
      },
      "source": [
        "\r\n",
        "\r\n",
        "*   Matrices are a foundational element of linear algebra\r\n",
        "*   Matrices are used throughout in the field of machine learning for the description of algorithms and processes\r\n",
        "\r\n",
        "\r\n",
        "*   A matrix is a two-dimensional array of scalars with one or more columns and one or more rows.\r\n",
        "\r\n",
        "\r\n",
        "\r\n",
        "\r\n"
      ]
    },
    {
      "cell_type": "markdown",
      "metadata": {
        "id": "tI_qrzA2RGDC"
      },
      "source": [
        "# Defining a Matrix"
      ]
    },
    {
      "cell_type": "markdown",
      "metadata": {
        "id": "10LxdZUXRICL"
      },
      "source": [
        "We can represent a matrix in Python using a two-dimensional NumPy array. A 2D NumPy array can be constructed using a list of lists."
      ]
    },
    {
      "cell_type": "markdown",
      "metadata": {
        "id": "4A6fHHTGRXtZ"
      },
      "source": [
        "For example, below is a 2 row, 3 column matrix."
      ]
    },
    {
      "cell_type": "code",
      "metadata": {
        "colab": {
          "base_uri": "https://localhost:8080/"
        },
        "id": "1o5rCArORghj",
        "outputId": "9c068cb9-9a43-45ef-d6cf-c5d39997f295"
      },
      "source": [
        "# create matrix\r\n",
        "from numpy import array\r\n",
        "A = array([[1, 2, 3], [4, 5, 6]])\r\n",
        "print(A)"
      ],
      "execution_count": null,
      "outputs": [
        {
          "output_type": "stream",
          "text": [
            "[[1 2 3]\n",
            " [4 5 6]]\n"
          ],
          "name": "stdout"
        }
      ]
    },
    {
      "cell_type": "markdown",
      "metadata": {
        "id": "6dgU5S_rRnJl"
      },
      "source": [
        "# Matrix Arithmetic"
      ]
    },
    {
      "cell_type": "markdown",
      "metadata": {
        "id": "AGsp9pLMRqUR"
      },
      "source": [
        "**Matrix Addition**"
      ]
    },
    {
      "cell_type": "code",
      "metadata": {
        "colab": {
          "base_uri": "https://localhost:8080/"
        },
        "id": "MwiinfLaRyuT",
        "outputId": "88343a54-f3e4-4143-fb1e-0787c6b05295"
      },
      "source": [
        "# matrix addition\r\n",
        "from numpy import array\r\n",
        "# define first matrix\r\n",
        "A = array([[1, 2, 3],[4, 5, 6]])\r\n",
        "print('matrix A')\r\n",
        "print(A)\r\n",
        "# define second matrix\r\n",
        "B = array([[1, 2, 3],[4, 5, 6]])\r\n",
        "print('matrix B')\r\n",
        "print(B)\r\n",
        "# add matrices\r\n",
        "C = A + B\r\n",
        "print('sum of A and B')\r\n",
        "print(C)"
      ],
      "execution_count": null,
      "outputs": [
        {
          "output_type": "stream",
          "text": [
            "matrix A\n",
            "[[1 2 3]\n",
            " [4 5 6]]\n",
            "matrix B\n",
            "[[1 2 3]\n",
            " [4 5 6]]\n",
            "sum of A and B\n",
            "[[ 2  4  6]\n",
            " [ 8 10 12]]\n"
          ],
          "name": "stdout"
        }
      ]
    },
    {
      "cell_type": "markdown",
      "metadata": {
        "id": "cbnEV9qJSQlE"
      },
      "source": [
        "**Matrix Subtraction**"
      ]
    },
    {
      "cell_type": "code",
      "metadata": {
        "colab": {
          "base_uri": "https://localhost:8080/"
        },
        "id": "GEPKcM-hSSbP",
        "outputId": "4138ab5d-c01d-4737-f261-6e47fca2531d"
      },
      "source": [
        "# matrix subtraction\r\n",
        "from numpy import array\r\n",
        "# define first matrix\r\n",
        "A = array([[1, 2, 3],[4, 5, 6]])\r\n",
        "print('Matrix A')\r\n",
        "print(A)\r\n",
        "# define second matrix\r\n",
        "B = array([[0.5, 0.5, 0.5],[0.5, 0.5, 0.5]])\r\n",
        "print('Matrix B')\r\n",
        "print(B)\r\n",
        "# subtract matrices\r\n",
        "C = A - B\r\n",
        "print('Matrix C')\r\n",
        "print(C)"
      ],
      "execution_count": null,
      "outputs": [
        {
          "output_type": "stream",
          "text": [
            "Matrix A\n",
            "[[1 2 3]\n",
            " [4 5 6]]\n",
            "Matrix B\n",
            "[[0.5 0.5 0.5]\n",
            " [0.5 0.5 0.5]]\n",
            "Matrix C\n",
            "[[0.5 1.5 2.5]\n",
            " [3.5 4.5 5.5]]\n"
          ],
          "name": "stdout"
        }
      ]
    },
    {
      "cell_type": "markdown",
      "metadata": {
        "id": "DNtjQD0jS3Rr"
      },
      "source": [
        "**Matrix Multiplication (Hadamard Product)**\r\n",
        "\r\n",
        "Two matrices with the same size can be multiplied together, and this is often called element-wise matrix multiplication or the Hadamard product. It is not the typical operation meant when referring to matrix multiplication."
      ]
    },
    {
      "cell_type": "code",
      "metadata": {
        "colab": {
          "base_uri": "https://localhost:8080/"
        },
        "id": "F14I1pDBS7Jf",
        "outputId": "a71a34ae-e68b-44e0-c669-9909bab916d7"
      },
      "source": [
        "# matrix Hadamard product\r\n",
        "from numpy import array\r\n",
        "# define first matrix\r\n",
        "A = array([[1, 2, 3],[4, 5, 6]])\r\n",
        "print('matrix A')\r\n",
        "print(A)\r\n",
        "# define second matrix\r\n",
        "B = array([[1, 2, 3],[4, 5, 6]])\r\n",
        "print('matrix B')\r\n",
        "print(B)\r\n",
        "# multiply matrices\r\n",
        "C = A * B\r\n",
        "print('matrix C')\r\n",
        "print(C)"
      ],
      "execution_count": null,
      "outputs": [
        {
          "output_type": "stream",
          "text": [
            "matrix A\n",
            "[[1 2 3]\n",
            " [4 5 6]]\n",
            "matrix B\n",
            "[[1 2 3]\n",
            " [4 5 6]]\n",
            "matrix C\n",
            "[[ 1  4  9]\n",
            " [16 25 36]]\n"
          ],
          "name": "stdout"
        }
      ]
    },
    {
      "cell_type": "markdown",
      "metadata": {
        "id": "i7x2nwcGTSf3"
      },
      "source": [
        "**Matrix Division**"
      ]
    },
    {
      "cell_type": "code",
      "metadata": {
        "colab": {
          "base_uri": "https://localhost:8080/"
        },
        "id": "tuENet71TWeS",
        "outputId": "e2d21f6b-aafc-4925-f4a2-7ca7d392fc0d"
      },
      "source": [
        "# matrix division\r\n",
        "from numpy import array\r\n",
        "# define first matrix\r\n",
        "A = array([[1, 2, 3],[4, 5, 6]])\r\n",
        "print(A)\r\n",
        "# define second matrix\r\n",
        "B = array([[1, 2, 3],[4, 5, 6]])\r\n",
        "print(B)\r\n",
        "# divide matrices\r\n",
        "C = A / B\r\n",
        "print(C)"
      ],
      "execution_count": null,
      "outputs": [
        {
          "output_type": "stream",
          "text": [
            "[[1 2 3]\n",
            " [4 5 6]]\n",
            "[[1 2 3]\n",
            " [4 5 6]]\n",
            "[[1. 1. 1.]\n",
            " [1. 1. 1.]]\n"
          ],
          "name": "stdout"
        }
      ]
    },
    {
      "cell_type": "markdown",
      "metadata": {
        "id": "HGl830hUTo0A"
      },
      "source": [
        "**Matrix-Matrix Multiplication**\r\n",
        "Matrix multiplication, also called the matrix dot product is more complicated than the previous\r\n",
        "operations and involves a rule as not all matrices can be multiplied together.\r\n",
        "\r\n",
        "C = A.B\r\n",
        "\r\n",
        "or\r\n",
        "\r\n",
        "C = AB\r\n",
        "\r\n",
        "The rule for matrix multiplication is as follows:\r\n",
        "\r\n",
        "The number of columns (n) in the first matrix (A) must equal the number of rows (m) in\r\n",
        "the second matrix (B).\r\n",
        "\r\n",
        "For example, matrix A has the dimensions m rows and n columns and matrix B has the dimensions n and k. The n columns in A and n rows in B are equal. The result is a new matrix with m rows and k columns.\r\n",
        "\r\n",
        "C(m; k) = A(m; n) . B(n; k)"
      ]
    },
    {
      "cell_type": "code",
      "metadata": {
        "colab": {
          "base_uri": "https://localhost:8080/"
        },
        "id": "EzADzFp6UCwa",
        "outputId": "b112a2de-7e70-4e25-bc59-b6b2e62e57a8"
      },
      "source": [
        "# matrix dot product\r\n",
        "from numpy import array\r\n",
        "print('first matrix')\r\n",
        "A = array([\r\n",
        "[1, 2],\r\n",
        "[3, 4],\r\n",
        "[5, 6]])\r\n",
        "print(A)\r\n",
        "print('second matrix')\r\n",
        "B = array([\r\n",
        "[1, 2],\r\n",
        "[3, 4]])\r\n",
        "print(B)\r\n",
        "print('product')\r\n",
        "C = A.dot(B)\r\n",
        "print(C)\r\n",
        "print('multiply matrices with @ operator')\r\n",
        "D = A @ B\r\n",
        "print(D)"
      ],
      "execution_count": null,
      "outputs": [
        {
          "output_type": "stream",
          "text": [
            "first matrix\n",
            "[[1 2]\n",
            " [3 4]\n",
            " [5 6]]\n",
            "second matrix\n",
            "[[1 2]\n",
            " [3 4]]\n",
            "product\n",
            "[[ 7 10]\n",
            " [15 22]\n",
            " [23 34]]\n",
            "multiply matrices with @ operator\n",
            "[[ 7 10]\n",
            " [15 22]\n",
            " [23 34]]\n"
          ],
          "name": "stdout"
        }
      ]
    },
    {
      "cell_type": "markdown",
      "metadata": {
        "id": "oaL-4hKI09lO"
      },
      "source": [
        "**Matrix-Vector Multiplication**\r\n",
        "\r\n",
        "A matrix and a vector can be multiplied together as long as the rule of matrix multiplication is observed. Speci cally, that the number of columns in the matrix must equal the number of items in the vector. As with matrix multiplication, the operation can be written using the dot notation. Because the vector only has one column, the result is always a vector.\r\n",
        "\r\n",
        "c = A . v"
      ]
    },
    {
      "cell_type": "code",
      "metadata": {
        "colab": {
          "base_uri": "https://localhost:8080/"
        },
        "id": "qDKAU_Sc1Cy4",
        "outputId": "d553dbbf-fce7-4a8b-c656-dbedbd20241d"
      },
      "source": [
        "# matrix-vector multiplication\r\n",
        "from numpy import array\r\n",
        "print('matrix') \r\n",
        "A = array([[1, 2],[3, 4],[5, 6]])\r\n",
        "print(A)\r\n",
        "# define vector\r\n",
        "print('vector') \r\n",
        "B = array([0.5, 0.5])\r\n",
        "print(B)\r\n",
        "# multiply\r\n",
        "C = A.dot(B)\r\n",
        "print('Result')\r\n",
        "print(C)"
      ],
      "execution_count": null,
      "outputs": [
        {
          "output_type": "stream",
          "text": [
            "matrix\n",
            "[[1 2]\n",
            " [3 4]\n",
            " [5 6]]\n",
            "vector\n",
            "[0.5 0.5]\n",
            "Result\n",
            "[1.5 3.5 5.5]\n"
          ],
          "name": "stdout"
        }
      ]
    },
    {
      "cell_type": "markdown",
      "metadata": {
        "id": "oxX7Thx_1qWY"
      },
      "source": [
        "**Matrix-Scalar Multiplication**\r\n",
        "\r\n",
        "A matrix can be multiplied by a scalar. This can be represented using the dot notation between\r\n",
        "the matrix and the scalar.\r\n",
        "\r\n",
        "C = A. b"
      ]
    },
    {
      "cell_type": "code",
      "metadata": {
        "colab": {
          "base_uri": "https://localhost:8080/"
        },
        "id": "1laeQ0pX1wIG",
        "outputId": "04cc12d8-5895-46fd-c1c9-3612def03ca9"
      },
      "source": [
        "# matrix-scalar multiplication\r\n",
        "from numpy import array\r\n",
        "# define matrix\r\n",
        "print('matrix')\r\n",
        "A = array([[1, 2], [3, 4], [5, 6]])\r\n",
        "print(A)\r\n",
        "# define scalar\r\n",
        "print(\"scalar\")\r\n",
        "b = 0.5\r\n",
        "print(b)\r\n",
        "# multiply\r\n",
        "C = A * b\r\n",
        "print('result')\r\n",
        "print(C)"
      ],
      "execution_count": null,
      "outputs": [
        {
          "output_type": "stream",
          "text": [
            "matrix\n",
            "[[1 2]\n",
            " [3 4]\n",
            " [5 6]]\n",
            "scalar\n",
            "0.5\n",
            "result\n",
            "[[0.5 1. ]\n",
            " [1.5 2. ]\n",
            " [2.5 3. ]]\n"
          ],
          "name": "stdout"
        }
      ]
    },
    {
      "cell_type": "markdown",
      "metadata": {
        "id": "4Ydqo_Fr2D0s"
      },
      "source": [
        "# Types of Matrices"
      ]
    },
    {
      "cell_type": "markdown",
      "metadata": {
        "id": "uKeO5E2A1qTh"
      },
      "source": [
        "A lot of linear algebra is concerned with operations on vectors and matrices, and there are many different types of matrices\r\n",
        "\r\n",
        "The following are few types of matrices that used particullarly in the parts of linear algebra relevant to machine learning."
      ]
    },
    {
      "cell_type": "markdown",
      "metadata": {
        "id": "-dbsDM1R3Su6"
      },
      "source": [
        "**Square Matrix**\r\n",
        "\r\n",
        "A square matrix is a matrix where the number of rows (n) is equivalent to the number of columns (m).\r\n",
        "\r\n",
        "**Symmetric Matrix**\r\n",
        "\r\n",
        "A symmetric matrix is a type of square matrix where the top-right triangle is the same as the bottom-left triangle.It is no exaggeration to say that symmetric matrices S are the most important matrices the world will ever see  in the theory of linear algebra and also in the applications.\r\n",
        "\r\n",
        "**Triangular Matrix**\r\n",
        "\r\n",
        "A triangular matrix is a type of square matrix that has all values in the upper-right or lower-left of the matrix with the remaining elements lled with zero values. A triangular matrix with values only above the main diagonal is called an upper triangular matrix. Whereas, a triangular matrix with values only below the main diagonal is called a lower triangular matrix."
      ]
    },
    {
      "cell_type": "code",
      "metadata": {
        "colab": {
          "base_uri": "https://localhost:8080/"
        },
        "id": "h3lmRhq74Kyl",
        "outputId": "13b63174-3bf8-4d0d-b2f6-c7c9b0b90e07"
      },
      "source": [
        "# triangular matrices\r\n",
        "from numpy import array\r\n",
        "from numpy import tril\r\n",
        "from numpy import triu\r\n",
        "# define square matrix\r\n",
        "M = array([[1, 2, 3],[1, 2, 3],[1, 2, 3]])\r\n",
        "print(M)\r\n",
        "print('lower triangular matrix')\r\n",
        "lower = tril(M)\r\n",
        "print(lower)\r\n",
        "print('upper triangular matrix')\r\n",
        "upper = triu(M)\r\n",
        "print(upper)"
      ],
      "execution_count": null,
      "outputs": [
        {
          "output_type": "stream",
          "text": [
            "[[1 2 3]\n",
            " [1 2 3]\n",
            " [1 2 3]]\n",
            "lower triangular matrix\n",
            "[[1 0 0]\n",
            " [1 2 0]\n",
            " [1 2 3]]\n",
            "upper triangular matrix\n",
            "[[1 2 3]\n",
            " [0 2 3]\n",
            " [0 0 3]]\n"
          ],
          "name": "stdout"
        }
      ]
    },
    {
      "cell_type": "markdown",
      "metadata": {
        "id": "_LGbBfPn4rJ3"
      },
      "source": [
        "**Diagonal Matrix**\r\n",
        "A diagonal matrix is one where values outside of the main diagonal have a zero value, where the\r\n",
        "main diagonal is taken from the top left of the matrix to the bottom right. A diagonal matrix\r\n",
        "is often denoted with the variable D and may be represented as a full matrix or as a vector of\r\n",
        "values on the main diagonal.\r\n",
        "\r\n",
        "Diagonal matrices consist mostly of zeros and have non-zero entries only along the main diagonal."
      ]
    },
    {
      "cell_type": "code",
      "metadata": {
        "colab": {
          "base_uri": "https://localhost:8080/"
        },
        "id": "RNKQax1l4zvt",
        "outputId": "a37b9b0e-ca28-4b8d-aa07-3d47e64d236e"
      },
      "source": [
        "# diagonal matrix\r\n",
        "from numpy import array\r\n",
        "from numpy import diag\r\n",
        "# define square matrix\r\n",
        "print('matrix')\r\n",
        "M = array([[1, 2, 3],[1, 2, 3],[1, 2, 3]])\r\n",
        "print(M)\r\n",
        "#extract diagonal vector\r\n",
        "d = diag(M)\r\n",
        "print('diagonal vector')\r\n",
        "print(d)\r\n",
        "# create diagonal matrix from vector\r\n",
        "D = diag(d)\r\n",
        "print('diagonal matrix')\r\n",
        "print(D)"
      ],
      "execution_count": null,
      "outputs": [
        {
          "output_type": "stream",
          "text": [
            "matrix\n",
            "[[1 2 3]\n",
            " [1 2 3]\n",
            " [1 2 3]]\n",
            "diagonal vector\n",
            "[1 2 3]\n",
            "diagonal matrix\n",
            "[[1 0 0]\n",
            " [0 2 0]\n",
            " [0 0 3]]\n"
          ],
          "name": "stdout"
        }
      ]
    },
    {
      "cell_type": "markdown",
      "metadata": {
        "id": "5X6ndZoB5LiU"
      },
      "source": [
        "**Identity Matrix**\r\n",
        "\r\n",
        "An identity matrix is a square matrix that does not change a vector when multiplied. The values of an identity matrix are known. All of the scalar values along the main diagonal (top-left to bottom-right) have the value one, while all other values are zero."
      ]
    },
    {
      "cell_type": "code",
      "metadata": {
        "colab": {
          "base_uri": "https://localhost:8080/"
        },
        "id": "khMc4ztw5UrJ",
        "outputId": "7070ecda-56dd-4911-c9de-8c0a71dfc6fd"
      },
      "source": [
        "# identity matrix\r\n",
        "from numpy import eye\r\n",
        "#I = identity(3)\r\n",
        "I=eye(3)\r\n",
        "print(I)"
      ],
      "execution_count": null,
      "outputs": [
        {
          "output_type": "stream",
          "text": [
            "[[1. 0. 0.]\n",
            " [0. 1. 0.]\n",
            " [0. 0. 1.]]\n"
          ],
          "name": "stdout"
        }
      ]
    },
    {
      "cell_type": "markdown",
      "metadata": {
        "id": "nrEEjj9y5ink"
      },
      "source": [
        "**Orthogonal Matrix**\r\n",
        "\r\n",
        "Two vectors are orthogonal when their dot product equals zero. The length of each vector is 1 then the vectors are called orthonormal because they are both orthogonal and normalized."
      ]
    },
    {
      "cell_type": "code",
      "metadata": {
        "colab": {
          "base_uri": "https://localhost:8080/"
        },
        "id": "MGIgmB095u8a",
        "outputId": "9c4c8130-c15f-4a7e-fe59-949168f0e42d"
      },
      "source": [
        "# orthogonal matrix\r\n",
        "from numpy import array\r\n",
        "from numpy.linalg import inv\r\n",
        "# define orthogonal matrix\r\n",
        "Q = array([[1, 0],[0, -1]])\r\n",
        "print(Q)\r\n",
        "# inverse equivalence\r\n",
        "V = inv(Q)\r\n",
        "print(Q.T)\r\n",
        "print(V)\r\n",
        "# identity equivalence\r\n",
        "I = Q.dot(Q.T)\r\n",
        "print(I)"
      ],
      "execution_count": null,
      "outputs": [
        {
          "output_type": "stream",
          "text": [
            "[[ 1  0]\n",
            " [ 0 -1]]\n",
            "[[ 1  0]\n",
            " [ 0 -1]]\n",
            "[[ 1.  0.]\n",
            " [-0. -1.]]\n",
            "[[1 0]\n",
            " [0 1]]\n"
          ],
          "name": "stdout"
        }
      ]
    },
    {
      "cell_type": "markdown",
      "metadata": {
        "id": "i4eaE1WyDLk-"
      },
      "source": [
        "# Matrix Operations"
      ]
    },
    {
      "cell_type": "markdown",
      "metadata": {
        "id": "p3hu1aV4DObo"
      },
      "source": [
        "Matrix operations are used in the description of many machine learning algorithms. Some operations can be used directly to solve key equations, whereas others provide useful shorthand or foundation in the description and the use of more complex matrix operations."
      ]
    },
    {
      "cell_type": "markdown",
      "metadata": {
        "id": "3wDl1VjF3nN9"
      },
      "source": [
        "**Transpose**\r\n",
        "\r\n",
        "A defined matrix can be transposed, which creates a new matrix with the number of columns and rows flipped.The rows of A become the columns of A transpose"
      ]
    },
    {
      "cell_type": "code",
      "metadata": {
        "colab": {
          "base_uri": "https://localhost:8080/"
        },
        "id": "EKF0Nd7R3vFN",
        "outputId": "efdb5253-f7be-434b-a87a-886e703a4195"
      },
      "source": [
        "# transpose matrix\r\n",
        "from numpy import array\r\n",
        "print('matrix')\r\n",
        "A = array([[1, 2],[3, 4],[5, 6]])\r\n",
        "print(A)\r\n",
        "print('transpose')\r\n",
        "C = A.T\r\n",
        "print(C)"
      ],
      "execution_count": null,
      "outputs": [
        {
          "output_type": "stream",
          "text": [
            "matrix\n",
            "[[1 2]\n",
            " [3 4]\n",
            " [5 6]]\n",
            "transpose\n",
            "[[1 3 5]\n",
            " [2 4 6]]\n"
          ],
          "name": "stdout"
        }
      ]
    },
    {
      "cell_type": "markdown",
      "metadata": {
        "id": "sb29fwXR33-3"
      },
      "source": [
        "**Inverse**\r\n",
        "\r\n",
        "Matrix inversion is a process that finds another matrix that when multiplied with the matrix,results in an identity matrix.\r\n",
        "\r\n",
        "Not all matrices are invertible. A square matrix that is not invertible is referred to as singular.\r\n",
        "\r\n",
        "Matrix inversion is used as an operation in solving systems of equations framed as matrix equations where we are interested in finding vectors of unknowns.\r\n",
        "\r\n",
        "A good example is in finding the vector of coefficient values in linear regression."
      ]
    },
    {
      "cell_type": "code",
      "metadata": {
        "colab": {
          "base_uri": "https://localhost:8080/"
        },
        "id": "zaluwGgh4jbN",
        "outputId": "6efdf453-25a9-4844-8ce4-9f0afaabd6ad"
      },
      "source": [
        "# invert matrix\r\n",
        "from numpy import array\r\n",
        "from numpy.linalg import inv\r\n",
        "# define matrix\r\n",
        "A = array([[1.0, 2.0],[3.0, 4.0]])\r\n",
        "print(A)\r\n",
        "print('invert matrix')\r\n",
        "B = inv(A)\r\n",
        "print(B)\r\n",
        "print('multiply A and B')\r\n",
        "I = A.dot(B)\r\n",
        "print(I)"
      ],
      "execution_count": null,
      "outputs": [
        {
          "output_type": "stream",
          "text": [
            "[[1. 2.]\n",
            " [3. 4.]]\n",
            "invert matrix\n",
            "[[-2.   1. ]\n",
            " [ 1.5 -0.5]]\n",
            "multiply A and B\n",
            "[[1.0000000e+00 0.0000000e+00]\n",
            " [8.8817842e-16 1.0000000e+00]]\n"
          ],
          "name": "stdout"
        }
      ]
    },
    {
      "cell_type": "markdown",
      "metadata": {
        "id": "fDa9ajps5Ceg"
      },
      "source": [
        "**Trace**\r\n",
        "\r\n",
        "A trace of a square matrix is the sum of the values on the main diagonal of the matrix (top-left to bottom-right)."
      ]
    },
    {
      "cell_type": "code",
      "metadata": {
        "colab": {
          "base_uri": "https://localhost:8080/"
        },
        "id": "sjmz3PU65GSk",
        "outputId": "b1a98848-cf54-4fcc-f9c1-7abb27fd713d"
      },
      "source": [
        "# matrix trace\r\n",
        "from numpy import array\r\n",
        "from numpy import trace\r\n",
        "# define matrix\r\n",
        "A = array([[1, 2, 3],[4, 5, 6],[7, 8, 9]])\r\n",
        "print(A)\r\n",
        "# calculate trace\r\n",
        "B = trace(A)\r\n",
        "print(B)"
      ],
      "execution_count": null,
      "outputs": [
        {
          "output_type": "stream",
          "text": [
            "[[1 2 3]\n",
            " [4 5 6]\n",
            " [7 8 9]]\n",
            "15\n"
          ],
          "name": "stdout"
        }
      ]
    },
    {
      "cell_type": "markdown",
      "metadata": {
        "id": "39v8yKie5gVP"
      },
      "source": [
        "**+Determinant**\r\n",
        "\r\n",
        "The determinant of a square matrix is a scalar representation of the volume of the matrix.The determinant describes the relative geometry of the vectors that make up the rows of the matrix. More specifically, the determinant of a matrix A tells you the volume of a box with sides given by rows of A.\r\n",
        "The determinant of a square matrix is calculated from the elements of the matrix. More technically, the determinant is the product of all the eigenvalues of the matrix.\r\n",
        "The determinant of a square matrix is a single number.It tells immediately whether the matrix is invertible. The determinant is a zero when the matrix has no inverse.\r\n",
        "The intuition for the determinant is that it describes the way a matrix will scale another matrix when they are multiplied together.\r\n",
        "For example, a determinant of 1 preserves the space of the other matrix"
      ]
    },
    {
      "cell_type": "code",
      "metadata": {
        "colab": {
          "base_uri": "https://localhost:8080/"
        },
        "id": "dEL-WqwA57Vs",
        "outputId": "fcad8136-c8cf-4c02-d0f0-46df079115ed"
      },
      "source": [
        "# matrix determinant\r\n",
        "from numpy import array\r\n",
        "from numpy.linalg import det\r\n",
        "# define matrix\r\n",
        "A = array([[1, 2, 3],[4, 5, 6],[7, 8, 9]])\r\n",
        "print(A)\r\n",
        "# calculate determinant\r\n",
        "B = det(A)\r\n",
        "print(B)"
      ],
      "execution_count": null,
      "outputs": [
        {
          "output_type": "stream",
          "text": [
            "[[1 2 3]\n",
            " [4 5 6]\n",
            " [7 8 9]]\n",
            "0.0\n"
          ],
          "name": "stdout"
        }
      ]
    },
    {
      "cell_type": "markdown",
      "metadata": {
        "id": "ffu1lo-a6HEU"
      },
      "source": [
        "**Rank**\r\n",
        "\r\n",
        "The rank of a matrix is the estimate of the number of linearly independent rows or columns in \r\n",
        "a matrix.\r\n",
        "\r\n",
        "An intuition for rank is to consider it the number of dimensions spanned by all of the vectors within a matrix. For example, a rank of 0 suggest all vectors span a point, a rank of 1 suggests all vectors span a line, a rank of 2 suggests all vectors span a two-dimensional plane. The rank is estimated numerically, often using a matrix decomposition method. A common approach is to use the Singular-Value Decomposition or SVD for short. NumPy provides the matrix rank() function for calculating the rank of an array. It uses the SVD method to estimate the rank. The example below demonstrates calculating the rank of a matrix with scalar values and another vector with all zero values."
      ]
    },
    {
      "cell_type": "code",
      "metadata": {
        "colab": {
          "base_uri": "https://localhost:8080/"
        },
        "id": "LCzti1mf6eZA",
        "outputId": "dc638740-a7d8-4447-99ff-abe0077cdbd3"
      },
      "source": [
        "# vector rank\r\n",
        "from numpy import array\r\n",
        "from numpy.linalg import matrix_rank\r\n",
        "# rank\r\n",
        "v1 = array([1,2,3])\r\n",
        "print(v1)\r\n",
        "vr1 = matrix_rank(v1)\r\n",
        "print(vr1)\r\n",
        "# zero rank\r\n",
        "v2 = array([0,0,0,0,0])\r\n",
        "print(v2)\r\n",
        "vr2 = matrix_rank(v2)\r\n",
        "print(vr2)"
      ],
      "execution_count": null,
      "outputs": [
        {
          "output_type": "stream",
          "text": [
            "[1 2 3]\n",
            "1\n",
            "[0 0 0 0 0]\n",
            "0\n"
          ],
          "name": "stdout"
        }
      ]
    },
    {
      "cell_type": "code",
      "metadata": {
        "colab": {
          "base_uri": "https://localhost:8080/"
        },
        "id": "k2oKJj6S6noh",
        "outputId": "40ebe99d-d065-4532-a40e-c448ac1702b7"
      },
      "source": [
        "# matrix rank\r\n",
        "from numpy import array\r\n",
        "from numpy.linalg import matrix_rank\r\n",
        "# rank 0\r\n",
        "M0 = array([[0,0],[0,0]])\r\n",
        "print(M0)\r\n",
        "mr0 = matrix_rank(M0)\r\n",
        "print(mr0)\r\n",
        "# rank 1\r\n",
        "M1 = array([[1,2],[1,2]])\r\n",
        "print(M1)\r\n",
        "mr1 = matrix_rank(M1)\r\n",
        "print(mr1)\r\n",
        "# rank 2\r\n",
        "M2 = array([[1,2],[3,4]])\r\n",
        "print(M2)\r\n",
        "mr2 = matrix_rank(M2)\r\n",
        "print(mr2)"
      ],
      "execution_count": null,
      "outputs": [
        {
          "output_type": "stream",
          "text": [
            "[[0 0]\n",
            " [0 0]]\n",
            "0\n",
            "[[1 2]\n",
            " [1 2]]\n",
            "1\n",
            "[[1 2]\n",
            " [3 4]]\n",
            "2\n"
          ],
          "name": "stdout"
        }
      ]
    },
    {
      "cell_type": "markdown",
      "metadata": {
        "id": "tSrKo8fx72Ws"
      },
      "source": [
        "# Sparse Matrices\r\n",
        "\r\n",
        "Matrices that contain mostly zero values are called sparse, distinct from matrices where most of the values are non-zero, called dense. Large sparse matrices are common in general and especially in applied machine learning, such as in data that contains counts, data encodings that map categories to counts, and even in whole sub fields of machine learning such as natural language processing. It is computationally expensive to represent and work with sparse matrices as though they are dense, and much improvement in performance can be achieved by using representations and operations that specifically handle the matrix sparsity.\r\n",
        "\r\n",
        "\r\n",
        "A matrix is sparse if many of its coefficients are zero. The interest in sparsity arises because its exploitation can lead to enormous computational savings and because many large matrix problems that occur in practice are spars"
      ]
    },
    {
      "cell_type": "markdown",
      "metadata": {
        "id": "tysEg4lV8Br8"
      },
      "source": [
        "**Sparse Matrices in Machine Learning**\r\n",
        "\r\n",
        "Sparse matrices turn up a lot in applied machine learning. In this section, we will look at some common examples to motivate you to be aware of the issues of sparsity.\r\n"
      ]
    },
    {
      "cell_type": "markdown",
      "metadata": {
        "id": "YHZ3j6ez8J5a"
      },
      "source": [
        "**Data**\r\n",
        "\r\n",
        "Sparse matrices come up in some specific types of data, most notably observations that record the occurrence or count of an activity. \r\n",
        "\r\n",
        "Three examples include:\r\n",
        "\r\n",
        "Whether or not a user has watched a movie in a movie catalog.\r\n",
        "\r\n",
        "Whether or not a user has purchased a product in a product catalog.\r\n",
        "\r\n",
        "Count of the number of listens of a song in a song catalog."
      ]
    },
    {
      "cell_type": "markdown",
      "metadata": {
        "id": "4dU_-d6l-VzY"
      },
      "source": [
        "**Data Preparation**\r\n",
        "Sparse matrices come up in encoding schemes used in the preparation of data. Three common examples include:\r\n",
        "One hot encoding, used to represent categorical data as sparse binary vectors.\r\n",
        "Count encoding, used to represent the frequency of words in a vocabulary for a document\r\n",
        "TF-IDF encoding, used to represent normalized word frequency scores in a vocabulary."
      ]
    },
    {
      "cell_type": "markdown",
      "metadata": {
        "id": "7XH-BTYh-Yey"
      },
      "source": [
        "**Areas of Study**\r\n",
        "\r\n",
        "Some areas of study within machine learning must develop specialized methods to address sparsity directly as the input data is almost always sparse. \r\n",
        "Three examples include:\r\n",
        "\r\n",
        "Natural language processing for working with documents of text.\r\n",
        "\r\n",
        "Recommender systems for working with product usage within a catalog.\r\n",
        "\r\n",
        "Computer vision when working with images that contain lots of black pixels.\r\n",
        "\r\n",
        "If there are 100,000 words in the language model, then the feature vector has length 100,000, but for a short email message almost all the features will have count zero."
      ]
    },
    {
      "cell_type": "markdown",
      "metadata": {
        "id": "Mc9_lMAE-m6I"
      },
      "source": [
        "**Working with Sparse Matrices**\r\n",
        "\r\n",
        "The solution to representing and working with sparse matrices is to use an alternate data structure to represent the sparse data. The zero values can be ignored and only the data or non-zero values in the sparse matrix need to be stored or acted upon. There are multiple data structures that can be used to efficiently construct a sparse matrix; three common examples are listed below.\r\n",
        "\r\n",
        "Dictionary of Keys: A dictionary is used where a row and column index is mapped to a value.\r\n",
        "\r\n",
        "List of Lists: Each row of the matrix is stored as a list, with each sublist containing the column index and the value.\r\n",
        "\r\n",
        "Coordinate List:A list of tuples is stored with each tuple containing the row index,column index, and the value.\r\n",
        "There are also data structures that are more suitable for performing efficient operations; two commonly used examples are listed below.\r\n",
        "\r\n",
        "Compressed Sparse Row: The sparse matrix is represented using three one-dimensional arrays for the non-zero values, the extents of the rows, and the column indexes.\r\n",
        "\r\n",
        "Compressed Sparse Column:The same as the Compressed Sparse Row method except the column indices are compressed and read first before the row indices.\r\n",
        "\r\n",
        "The Compressed Sparse Row, also called\r\n",
        " CSR for short, is often used to represent sparse matrices in machine learning given the efficient access and matrix multiplication that it supports."
      ]
    },
    {
      "cell_type": "markdown",
      "metadata": {
        "id": "a-SwqAJd-8dD"
      },
      "source": [
        "**Sparse Matrices in Python**\r\n",
        "SciPy provides tools for creating sparse matrices using multiple data structures, as well as tools for converting a dense matrix to a sparse matrix. Many linear algebra NumPy and SciPy functions that operate on NumPy arrays can transparently operate on SciPy sparse arrays. Further, machine learning libraries that use NumPy data structures can also operate transparently on SciPy sparse arrays, such as scikit-learn for general machine learning and Keras for deep learning.\r\n",
        "\r\n",
        "\r\n",
        "A dense matrix stored in a NumPy array can be converted into a sparse matrix using the CSR representation by calling the csr matrix() function. In the example below, we defi ne a 3x6 sparse matrix as a dense array (e.g. an ndarray), convert it to a CSR sparse representation,and then convert it back to a dense array by calling the todense() function."
      ]
    },
    {
      "cell_type": "code",
      "metadata": {
        "colab": {
          "base_uri": "https://localhost:8080/"
        },
        "id": "V_RAC-rd_FWo",
        "outputId": "6ab32e37-a3bb-4ca4-e8c7-d3ae78b68a05"
      },
      "source": [
        "# sparse matrix\r\n",
        "from numpy import array\r\n",
        "from scipy.sparse import csr_matrix\r\n",
        "# create dense matrix\r\n",
        "A = array([[1, 0, 0, 1, 0, 0],[0, 0, 2, 0, 0, 1],[0, 0, 0, 2, 0, 0]])\r\n",
        "print(A)\r\n",
        "# convert to sparse matrix (CSR method)\r\n",
        "S = csr_matrix(A)\r\n",
        "print(S)\r\n",
        "# reconstruct dense matrix\r\n",
        "B = S.todense()\r\n",
        "print(B)"
      ],
      "execution_count": null,
      "outputs": [
        {
          "output_type": "stream",
          "text": [
            "[[1 0 0 1 0 0]\n",
            " [0 0 2 0 0 1]\n",
            " [0 0 0 2 0 0]]\n",
            "  (0, 0)\t1\n",
            "  (0, 3)\t1\n",
            "  (1, 2)\t2\n",
            "  (1, 5)\t1\n",
            "  (2, 3)\t2\n",
            "[[1 0 0 1 0 0]\n",
            " [0 0 2 0 0 1]\n",
            " [0 0 0 2 0 0]]\n"
          ],
          "name": "stdout"
        }
      ]
    },
    {
      "cell_type": "markdown",
      "metadata": {
        "id": "ppAYoB_1BRes"
      },
      "source": [
        "The example below demonstrates how to calculate the sparsity of an array."
      ]
    },
    {
      "cell_type": "code",
      "metadata": {
        "colab": {
          "base_uri": "https://localhost:8080/"
        },
        "id": "9BAWGxgCBTYq",
        "outputId": "337095e6-bb7b-425e-9260-bb744256c18e"
      },
      "source": [
        "# sparsity calculation\r\n",
        "from numpy import array\r\n",
        "from numpy import count_nonzero\r\n",
        "# create dense matrix\r\n",
        "A = array([[1, 0, 0, 1, 0, 0],[0, 0, 2, 0, 0, 1],[0, 0, 0, 2, 0, 0]])\r\n",
        "print(A)\r\n",
        "# calculate sparsity\r\n",
        "sparsity = 1.0 - count_nonzero(A) / A.size\r\n",
        "print(sparsity)"
      ],
      "execution_count": null,
      "outputs": [
        {
          "output_type": "stream",
          "text": [
            "[[1 0 0 1 0 0]\n",
            " [0 0 2 0 0 1]\n",
            " [0 0 0 2 0 0]]\n",
            "0.7222222222222222\n"
          ],
          "name": "stdout"
        }
      ]
    },
    {
      "cell_type": "markdown",
      "metadata": {
        "id": "Bidq_vloBm4k"
      },
      "source": [
        "**Solving system of linear equations**\r\n",
        "\r\n",
        "let \r\n",
        "\r\n",
        "    2x1+3x2 +5x3= 10\r\n",
        "    3x1-2x2+x3=3\r\n",
        "    x1+5x2+7x3=8\r\n",
        "the matrix representation is\r\n",
        "\r\n",
        "Ax=b\r\n",
        "\r\n",
        "where\r\n",
        "\r\n",
        "A=\r\n",
        "    [[ 2 , 3, 5],\r\n",
        "     [ 3,  -2 ,1],\r\n",
        "     [ 1,  5 ,  7  ]])\r\n",
        "\r\n",
        "b=[10,3,8]\r\n",
        "\r\n",
        "The following is the python code to solve the problem"
      ]
    },
    {
      "cell_type": "code",
      "metadata": {
        "colab": {
          "base_uri": "https://localhost:8080/"
        },
        "id": "9kYtcYLyCBRT",
        "outputId": "f0c76b68-712a-4bef-fd7f-7bf8db9b04b8"
      },
      "source": [
        "import numpy as np\r\n",
        "A=np.array([[ 2 , 3, 5],\r\n",
        "     [ 3,  -2 ,1],\r\n",
        "     [ 1,  5 ,  7  ]])\r\n",
        " \r\n",
        "b=np.array([10,3,8])\r\n",
        "x=np.linalg.solve(A,b)\r\n",
        "print(x)"
      ],
      "execution_count": null,
      "outputs": [
        {
          "output_type": "stream",
          "text": [
            "[ 5.69230769  5.30769231 -3.46153846]\n"
          ],
          "name": "stdout"
        }
      ]
    }
  ]
}