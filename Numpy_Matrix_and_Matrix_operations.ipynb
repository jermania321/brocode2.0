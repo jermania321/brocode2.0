{
  "nbformat": 4,
  "nbformat_minor": 0,
  "metadata": {
    "colab": {
      "name": "Numpy-Matrix and Matrix operations.ipynb",
      "provenance": [],
      "toc_visible": true,
      "include_colab_link": true
    },
    "kernelspec": {
      "name": "python3",
      "display_name": "Python 3"
    }
  },
  "cells": [
    {
      "cell_type": "markdown",
      "metadata": {
        "id": "view-in-github",
        "colab_type": "text"
      },
      "source": [
        "<a href=\"https://colab.research.google.com/github/jermania321/brocode2.0/blob/master/Numpy_Matrix_and_Matrix_operations.ipynb\" target=\"_parent\"><img src=\"https://colab.research.google.com/assets/colab-badge.svg\" alt=\"Open In Colab\"/></a>"
      ]
    },
    {
      "cell_type": "markdown",
      "metadata": {
        "id": "pj8hnvFjP6-d"
      },
      "source": [
        "# Matrices and Matrix Arithmetic"
      ]
    },
    {
      "cell_type": "markdown",
      "metadata": {
        "id": "RRk5acElP-Gg"
      },
      "source": [
        "\r\n",
        "\r\n",
        "*   Matrices are a foundational element of linear algebra\r\n",
        "*   Matrices are used throughout in the field of machine learning for the description of algorithms and processes\r\n",
        "\r\n",
        "\r\n",
        "*   A matrix is a two-dimensional array of scalars with one or more columns and one or more rows.\r\n",
        "\r\n",
        "\r\n",
        "\r\n",
        "\r\n"
      ]
    },
    {
      "cell_type": "markdown",
      "metadata": {
        "id": "tI_qrzA2RGDC"
      },
      "source": [
        "# Defining a Matrix"
      ]
    },
    {
      "cell_type": "markdown",
      "metadata": {
        "id": "10LxdZUXRICL"
      },
      "source": [
        "We can represent a matrix in Python using a two-dimensional NumPy array. A 2D NumPy array can be constructed using a list of lists."
      ]
    },
    {
      "cell_type": "markdown",
      "metadata": {
        "id": "4A6fHHTGRXtZ"
      },
      "source": [
        "For example, below is a 2 row, 3 column matrix."
      ]
    },
    {
      "cell_type": "code",
      "metadata": {
        "colab": {
          "base_uri": "https://localhost:8080/"
        },
        "id": "1o5rCArORghj",
        "outputId": "9c068cb9-9a43-45ef-d6cf-c5d39997f295"
      },
      "source": [
        "# create matrix\r\n",
        "from numpy import array\r\n",
        "A = array([[1, 2, 3], [4, 5, 6]])\r\n",
        "print(A)"
      ],
      "execution_count": null,
      "outputs": [
        {
          "output_type": "stream",
          "text": [
            "[[1 2 3]\n",
            " [4 5 6]]\n"
          ],
          "name": "stdout"
        }
      ]
    },
    {
      "cell_type": "markdown",
      "metadata": {
        "id": "6dgU5S_rRnJl"
      },
      "source": [
        "# Matrix Arithmetic"
      ]
    },
    {
      "cell_type": "markdown",
      "metadata": {
        "id": "AGsp9pLMRqUR"
      },
      "source": [
        "**Matrix Addition**"
      ]
    },
    {
      "cell_type": "code",
      "metadata": {
        "colab": {
          "base_uri": "https://localhost:8080/"
        },
        "id": "MwiinfLaRyuT",
        "outputId": "88343a54-f3e4-4143-fb1e-0787c6b05295"
      },
      "source": [
        "# matrix addition\r\n",
        "from numpy import array\r\n",
        "# define first matrix\r\n",
        "A = array([[1, 2, 3],[4, 5, 6]])\r\n",
        "print('matrix A')\r\n",
        "print(A)\r\n",
        "# define second matrix\r\n",
        "B = array([[1, 2, 3],[4, 5, 6]])\r\n",
        "print('matrix B')\r\n",
        "print(B)\r\n",
        "# add matrices\r\n",
        "C = A + B\r\n",
        "print('sum of A and B')\r\n",
        "print(C)"
      ],
      "execution_count": null,
      "outputs": [
        {
          "output_type": "stream",
          "text": [
            "matrix A\n",
            "[[1 2 3]\n",
            " [4 5 6]]\n",
            "matrix B\n",
            "[[1 2 3]\n",
            " [4 5 6]]\n",
            "sum of A and B\n",
            "[[ 2  4  6]\n",
            " [ 8 10 12]]\n"
          ],
          "name": "stdout"
        }
      ]
    },
    {
      "cell_type": "markdown",
      "metadata": {
        "id": "cbnEV9qJSQlE"
      },
      "source": [
        "**Matrix Subtraction**"
      ]
    },
    {
      "cell_type": "code",
      "metadata": {
        "colab": {
          "base_uri": "https://localhost:8080/"
        },
        "id": "GEPKcM-hSSbP",
        "outputId": "4138ab5d-c01d-4737-f261-6e47fca2531d"
      },
      "source": [
        "# matrix subtraction\r\n",
        "from numpy import array\r\n",
        "# define first matrix\r\n",
        "A = array([[1, 2, 3],[4, 5, 6]])\r\n",
        "print('Matrix A')\r\n",
        "print(A)\r\n",
        "# define second matrix\r\n",
        "B = array([[0.5, 0.5, 0.5],[0.5, 0.5, 0.5]])\r\n",
        "print('Matrix B')\r\n",
        "print(B)\r\n",
        "# subtract matrices\r\n",
        "C = A - B\r\n",
        "print('Matrix C')\r\n",
        "print(C)"
      ],
      "execution_count": null,
      "outputs": [
        {
          "output_type": "stream",
          "text": [
            "Matrix A\n",
            "[[1 2 3]\n",
            " [4 5 6]]\n",
            "Matrix B\n",
            "[[0.5 0.5 0.5]\n",
            " [0.5 0.5 0.5]]\n",
            "Matrix C\n",
            "[[0.5 1.5 2.5]\n",
            " [3.5 4.5 5.5]]\n"
          ],
          "name": "stdout"
        }
      ]
    },
    {
      "cell_type": "markdown",
      "metadata": {
        "id": "DNtjQD0jS3Rr"
      },
      "source": [
        "**Matrix Multiplication (Hadamard Product)**\r\n",
        "\r\n",
        "Two matrices with the same size can be multiplied together, and this is often called element-wise matrix multiplication or the Hadamard product. It is not the typical operation meant when referring to matrix multiplication."
      ]
    },
    {
      "cell_type": "code",
      "metadata": {
        "colab": {
          "base_uri": "https://localhost:8080/"
        },
        "id": "F14I1pDBS7Jf",
        "outputId": "a71a34ae-e68b-44e0-c669-9909bab916d7"
      },
      "source": [
        "# matrix Hadamard product\r\n",
        "from numpy import array\r\n",
        "# define first matrix\r\n",
        "A = array([[1, 2, 3],[4, 5, 6]])\r\n",
        "print('matrix A')\r\n",
        "print(A)\r\n",
        "# define second matrix\r\n",
        "B = array([[1, 2, 3],[4, 5, 6]])\r\n",
        "print('matrix B')\r\n",
        "print(B)\r\n",
        "# multiply matrices\r\n",
        "C = A * B\r\n",
        "print('matrix C')\r\n",
        "print(C)"
      ],
      "execution_count": null,
      "outputs": [
        {
          "output_type": "stream",
          "text": [
            "matrix A\n",
            "[[1 2 3]\n",
            " [4 5 6]]\n",
            "matrix B\n",
            "[[1 2 3]\n",
            " [4 5 6]]\n",
            "matrix C\n",
            "[[ 1  4  9]\n",
            " [16 25 36]]\n"
          ],
          "name": "stdout"
        }
      ]
    },
    {
      "cell_type": "markdown",
      "metadata": {
        "id": "i7x2nwcGTSf3"
      },
      "source": [
        "**Matrix Division**"
      ]
    },
    {
      "cell_type": "code",
      "metadata": {
        "colab": {
          "base_uri": "https://localhost:8080/"
        },
        "id": "tuENet71TWeS",
        "outputId": "e2d21f6b-aafc-4925-f4a2-7ca7d392fc0d"
      },
      "source": [
        "# matrix division\r\n",
        "from numpy import array\r\n",
        "# define first matrix\r\n",
        "A = array([[1, 2, 3],[4, 5, 6]])\r\n",
        "print(A)\r\n",
        "# define second matrix\r\n",
        "B = array([[1, 2, 3],[4, 5, 6]])\r\n",
        "print(B)\r\n",
        "# divide matrices\r\n",
        "C = A / B\r\n",
        "print(C)"
      ],
      "execution_count": null,
      "outputs": [
        {
          "output_type": "stream",
          "text": [
            "[[1 2 3]\n",
            " [4 5 6]]\n",
            "[[1 2 3]\n",
            " [4 5 6]]\n",
            "[[1. 1. 1.]\n",
            " [1. 1. 1.]]\n"
          ],
          "name": "stdout"
        }
      ]
    },
    {
      "cell_type": "markdown",
      "metadata": {
        "id": "HGl830hUTo0A"
      },
      "source": [
        "**Matrix-Matrix Multiplication**\r\n",
        "Matrix multiplication, also called the matrix dot product is more complicated than the previous\r\n",
        "operations and involves a rule as not all matrices can be multiplied together.\r\n",
        "\r\n",
        "C = A.B\r\n",
        "\r\n",
        "or\r\n",
        "\r\n",
        "C = AB\r\n",
        "\r\n",
        "The rule for matrix multiplication is as follows:\r\n",
        "\r\n",
        "The number of columns (n) in the first matrix (A) must equal the number of rows (m) in\r\n",
        "the second matrix (B).\r\n",
        "\r\n",
        "For example, matrix A has the dimensions m rows and n columns and matrix B has the dimensions n and k. The n columns in A and n rows in B are equal. The result is a new matrix with m rows and k columns.\r\n",
        "\r\n",
        "C(m; k) = A(m; n) . B(n; k)"
      ]
    },
    {
      "cell_type": "code",
      "metadata": {
        "colab": {
          "base_uri": "https://localhost:8080/"
        },
        "id": "EzADzFp6UCwa",
        "outputId": "b112a2de-7e70-4e25-bc59-b6b2e62e57a8"
      },
      "source": [
        "# matrix dot product\r\n",
        "from numpy import array\r\n",
        "print('first matrix')\r\n",
        "A = array([\r\n",
        "[1, 2],\r\n",
        "[3, 4],\r\n",
        "[5, 6]])\r\n",
        "print(A)\r\n",
        "print('second matrix')\r\n",
        "B = array([\r\n",
        "[1, 2],\r\n",
        "[3, 4]])\r\n",
        "print(B)\r\n",
        "print('product')\r\n",
        "C = A.dot(B)\r\n",
        "print(C)\r\n",
        "print('multiply matrices with @ operator')\r\n",
        "D = A @ B\r\n",
        "print(D)"
      ],
      "execution_count": null,
      "outputs": [
        {
          "output_type": "stream",
          "text": [
            "first matrix\n",
            "[[1 2]\n",
            " [3 4]\n",
            " [5 6]]\n",
            "second matrix\n",
            "[[1 2]\n",
            " [3 4]]\n",
            "product\n",
            "[[ 7 10]\n",
            " [15 22]\n",
            " [23 34]]\n",
            "multiply matrices with @ operator\n",
            "[[ 7 10]\n",
            " [15 22]\n",
            " [23 34]]\n"
          ],
          "name": "stdout"
        }
      ]
    },
    {
      "cell_type": "markdown",
      "metadata": {
        "id": "oaL-4hKI09lO"
      },
      "source": [
        "**Matrix-Vector Multiplication**\r\n",
        "\r\n",
        "A matrix and a vector can be multiplied together as long as the rule of matrix multiplication is observed. Speci cally, that the number of columns in the matrix must equal the number of items in the vector. As with matrix multiplication, the operation can be written using the dot notation. Because the vector only has one column, the result is always a vector.\r\n",
        "\r\n",
        "c = A . v"
      ]
    },
    {
      "cell_type": "code",
      "metadata": {
        "colab": {
          "base_uri": "https://localhost:8080/"
        },
        "id": "qDKAU_Sc1Cy4",
        "outputId": "d553dbbf-fce7-4a8b-c656-dbedbd20241d"
      },
      "source": [
        "# matrix-vector multiplication\r\n",
        "from numpy import array\r\n",
        "print('matrix') \r\n",
        "A = array([[1, 2],[3, 4],[5, 6]])\r\n",
        "print(A)\r\n",
        "# define vector\r\n",
        "print('vector') \r\n",
        "B = array([0.5, 0.5])\r\n",
        "print(B)\r\n",
        "# multiply\r\n",
        "C = A.dot(B)\r\n",
        "print('Result')\r\n",
        "print(C)"
      ],
      "execution_count": null,
      "outputs": [
        {
          "output_type": "stream",
          "text": [
            "matrix\n",
            "[[1 2]\n",
            " [3 4]\n",
            " [5 6]]\n",
            "vector\n",
            "[0.5 0.5]\n",
            "Result\n",
            "[1.5 3.5 5.5]\n"
          ],
          "name": "stdout"
        }
      ]
    },
    {
      "cell_type": "markdown",
      "metadata": {
        "id": "oxX7Thx_1qWY"
      },
      "source": [
        "**Matrix-Scalar Multiplication**\r\n",
        "\r\n",
        "A matrix can be multiplied by a scalar. This can be represented using the dot notation between\r\n",
        "the matrix and the scalar.\r\n",
        "\r\n",
        "C = A. b"
      ]
    },
    {
      "cell_type": "code",
      "metadata": {
        "colab": {
          "base_uri": "https://localhost:8080/"
        },
        "id": "1laeQ0pX1wIG",
        "outputId": "04cc12d8-5895-46fd-c1c9-3612def03ca9"
      },
      "source": [
        "# matrix-scalar multiplication\r\n",
        "from numpy import array\r\n",
        "# define matrix\r\n",
        "print('matrix')\r\n",
        "A = array([[1, 2], [3, 4], [5, 6]])\r\n",
        "print(A)\r\n",
        "# define scalar\r\n",
        "print(\"scalar\")\r\n",
        "b = 0.5\r\n",
        "print(b)\r\n",
        "# multiply\r\n",
        "C = A * b\r\n",
        "print('result')\r\n",
        "print(C)"
      ],
      "execution_count": null,
      "outputs": [
        {
          "output_type": "stream",
          "text": [
            "matrix\n",
            "[[1 2]\n",
            " [3 4]\n",
            " [5 6]]\n",
            "scalar\n",
            "0.5\n",
            "result\n",
            "[[0.5 1. ]\n",
            " [1.5 2. ]\n",
            " [2.5 3. ]]\n"
          ],
          "name": "stdout"
        }
      ]
    },
    {
      "cell_type": "markdown",
      "metadata": {
        "id": "4Ydqo_Fr2D0s"
      },
      "source": [
        "# Types of Matrices"
      ]
    },
    {
      "cell_type": "markdown",
      "metadata": {
        "id": "uKeO5E2A1qTh"
      },
      "source": [
        "A lot of linear algebra is concerned with operations on vectors and matrices, and there are many different types of matrices\r\n",
        "\r\n",
        "The following are few types of matrices that used particullarly in the parts of linear algebra relevant to machine learning."
      ]
    },
    {
      "cell_type": "markdown",
      "metadata": {
        "id": "-dbsDM1R3Su6"
      },
      "source": [
        "**Square Matrix**\r\n",
        "\r\n",
        "A square matrix is a matrix where the number of rows (n) is equivalent to the number of columns (m).\r\n",
        "\r\n",
        "**Symmetric Matrix**\r\n",
        "\r\n",
        "A symmetric matrix is a type of square matrix where the top-right triangle is the same as the bottom-left triangle.It is no exaggeration to say that symmetric matrices S are the most important matrices the world will ever see  in the theory of linear algebra and also in the applications.\r\n",
        "\r\n",
        "**Triangular Matrix**\r\n",
        "\r\n",
        "A triangular matrix is a type of square matrix that has all values in the upper-right or lower-left of the matrix with the remaining elements lled with zero values. A triangular matrix with values only above the main diagonal is called an upper triangular matrix. Whereas, a triangular matrix with values only below the main diagonal is called a lower triangular matrix."
      ]
    },
    {
      "cell_type": "code",
      "metadata": {
        "colab": {
          "base_uri": "https://localhost:8080/"
        },
        "id": "h3lmRhq74Kyl",
        "outputId": "13b63174-3bf8-4d0d-b2f6-c7c9b0b90e07"
      },
      "source": [
        "# triangular matrices\r\n",
        "from numpy import array\r\n",
        "from numpy import tril\r\n",
        "from numpy import triu\r\n",
        "# define square matrix\r\n",
        "M = array([[1, 2, 3],[1, 2, 3],[1, 2, 3]])\r\n",
        "print(M)\r\n",
        "print('lower triangular matrix')\r\n",
        "lower = tril(M)\r\n",
        "print(lower)\r\n",
        "print('upper triangular matrix')\r\n",
        "upper = triu(M)\r\n",
        "print(upper)"
      ],
      "execution_count": null,
      "outputs": [
        {
          "output_type": "stream",
          "text": [
            "[[1 2 3]\n",
            " [1 2 3]\n",
            " [1 2 3]]\n",
            "lower triangular matrix\n",
            "[[1 0 0]\n",
            " [1 2 0]\n",
            " [1 2 3]]\n",
            "upper triangular matrix\n",
            "[[1 2 3]\n",
            " [0 2 3]\n",
            " [0 0 3]]\n"
          ],
          "name": "stdout"
        }
      ]
    },
    {
      "cell_type": "markdown",
      "metadata": {
        "id": "_LGbBfPn4rJ3"
      },
      "source": [
        "**Diagonal Matrix**\r\n",
        "A diagonal matrix is one where values outside of the main diagonal have a zero value, where the\r\n",
        "main diagonal is taken from the top left of the matrix to the bottom right. A diagonal matrix\r\n",
        "is often denoted with the variable D and may be represented as a full matrix or as a vector of\r\n",
        "values on the main diagonal.\r\n",
        "\r\n",
        "Diagonal matrices consist mostly of zeros and have non-zero entries only along the main diagonal."
      ]
    },
    {
      "cell_type": "code",
      "metadata": {
        "colab": {
          "base_uri": "https://localhost:8080/"
        },
        "id": "RNKQax1l4zvt",
        "outputId": "a37b9b0e-ca28-4b8d-aa07-3d47e64d236e"
      },
      "source": [
        "# diagonal matrix\r\n",
        "from numpy import array\r\n",
        "from numpy import diag\r\n",
        "# define square matrix\r\n",
        "print('matrix')\r\n",
        "M = array([[1, 2, 3],[1, 2, 3],[1, 2, 3]])\r\n",
        "print(M)\r\n",
        "#extract diagonal vector\r\n",
        "d = diag(M)\r\n",
        "print('diagonal vector')\r\n",
        "print(d)\r\n",
        "# create diagonal matrix from vector\r\n",
        "D = diag(d)\r\n",
        "print('diagonal matrix')\r\n",
        "print(D)"
      ],
      "execution_count": null,
      "outputs": [
        {
          "output_type": "stream",
          "text": [
            "matrix\n",
            "[[1 2 3]\n",
            " [1 2 3]\n",
            " [1 2 3]]\n",
            "diagonal vector\n",
            "[1 2 3]\n",
            "diagonal matrix\n",
            "[[1 0 0]\n",
            " [0 2 0]\n",
            " [0 0 3]]\n"
          ],
          "name": "stdout"
        }
      ]
    },
    {
      "cell_type": "markdown",
      "metadata": {
        "id": "5X6ndZoB5LiU"
      },
      "source": [
        "**Identity Matrix**\r\n",
        "\r\n",
        "An identity matrix is a square matrix that does not change a vector when multiplied. The values of an identity matrix are known. All of the scalar values along the main diagonal (top-left to bottom-right) have the value one, while all other values are zero."
      ]
    },
    {
      "cell_type": "code",
      "metadata": {
        "colab": {
          "base_uri": "https://localhost:8080/"
        },
        "id": "khMc4ztw5UrJ",
        "outputId": "4d4633ce-47d5-4035-c394-357ffac31b70"
      },
      "source": [
        "# identity matrix\r\n",
        "from numpy import identity\r\n",
        "I = identity(3)\r\n",
        "#I=eye(3)\r\n",
        "print(I)"
      ],
      "execution_count": null,
      "outputs": [
        {
          "output_type": "stream",
          "text": [
            "[[1. 0. 0.]\n",
            " [0. 1. 0.]\n",
            " [0. 0. 1.]]\n"
          ],
          "name": "stdout"
        }
      ]
    },
    {
      "cell_type": "markdown",
      "metadata": {
        "id": "nrEEjj9y5ink"
      },
      "source": [
        "**Orthogonal Matrix**\r\n",
        "\r\n",
        "Two vectors are orthogonal when their dot product equals zero. The length of each vector is 1 then the vectors are called orthonormal because they are both orthogonal and normalized."
      ]
    },
    {
      "cell_type": "code",
      "metadata": {
        "colab": {
          "base_uri": "https://localhost:8080/"
        },
        "id": "MGIgmB095u8a",
        "outputId": "9c4c8130-c15f-4a7e-fe59-949168f0e42d"
      },
      "source": [
        "# orthogonal matrix\r\n",
        "from numpy import array\r\n",
        "from numpy.linalg import inv\r\n",
        "# define orthogonal matrix\r\n",
        "Q = array([[1, 0],[0, -1]])\r\n",
        "print(Q)\r\n",
        "# inverse equivalence\r\n",
        "V = inv(Q)\r\n",
        "print(Q.T)\r\n",
        "print(V)\r\n",
        "# identity equivalence\r\n",
        "I = Q.dot(Q.T)\r\n",
        "print(I)"
      ],
      "execution_count": null,
      "outputs": [
        {
          "output_type": "stream",
          "text": [
            "[[ 1  0]\n",
            " [ 0 -1]]\n",
            "[[ 1  0]\n",
            " [ 0 -1]]\n",
            "[[ 1.  0.]\n",
            " [-0. -1.]]\n",
            "[[1 0]\n",
            " [0 1]]\n"
          ],
          "name": "stdout"
        }
      ]
    },
    {
      "cell_type": "markdown",
      "metadata": {
        "id": "i4eaE1WyDLk-"
      },
      "source": [
        "# Matrix Operations"
      ]
    },
    {
      "cell_type": "markdown",
      "metadata": {
        "id": "p3hu1aV4DObo"
      },
      "source": [
        ""
      ]
    }
  ]
}