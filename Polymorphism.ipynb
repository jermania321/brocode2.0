{
  "nbformat": 4,
  "nbformat_minor": 0,
  "metadata": {
    "colab": {
      "name": "Polymorphism.ipynb",
      "provenance": [],
      "include_colab_link": true
    },
    "kernelspec": {
      "name": "python3",
      "display_name": "Python 3"
    }
  },
  "cells": [
    {
      "cell_type": "markdown",
      "metadata": {
        "id": "view-in-github",
        "colab_type": "text"
      },
      "source": [
        "<a href=\"https://colab.research.google.com/github/jermania321/brocode2.0/blob/master/Polymorphism.ipynb\" target=\"_parent\"><img src=\"https://colab.research.google.com/assets/colab-badge.svg\" alt=\"Open In Colab\"/></a>"
      ]
    },
    {
      "cell_type": "markdown",
      "metadata": {
        "id": "kMYq-88B4fmX"
      },
      "source": [
        "# What is Polymorphism?"
      ]
    },
    {
      "cell_type": "markdown",
      "metadata": {
        "id": "U2JLdMfz4jGW"
      },
      "source": [
        "\n",
        "*   Polymorphism is taken from the Greek words Poly (many) and morphism (forms).\n",
        "*   the same function name can be used for different types.\n",
        "\n",
        "\n",
        "*   makes programming more intuitive and easier.\n",
        "\n",
        "\n",
        "\n",
        "\n",
        "\n"
      ]
    },
    {
      "cell_type": "markdown",
      "metadata": {
        "id": "gvVJUgBy4_pj"
      },
      "source": [
        "# Polymorphism in Python"
      ]
    },
    {
      "cell_type": "markdown",
      "metadata": {
        "id": "QD4ye2525DvD"
      },
      "source": [
        "\n",
        "\n",
        "\n",
        "*   Polymorphism defines the ability to take different forms. \n",
        "\n",
        "*    polymorphism means same function name (but different signatures) being uses for different types.\n",
        "\n",
        "\n",
        "There are different methods to use polymorphism in Python. You can use different **function, class methods or objects to define polymorphism.**"
      ]
    },
    {
      "cell_type": "markdown",
      "metadata": {
        "id": "MFXIHTbQ7BKt"
      },
      "source": [
        "**Example of inbuilt polymorphic functions :**"
      ]
    },
    {
      "cell_type": "code",
      "metadata": {
        "colab": {
          "base_uri": "https://localhost:8080/"
        },
        "id": "ZOEWLYJw7DfT",
        "outputId": "07d00e20-dfc7-4361-a5c6-d1d083f0121e"
      },
      "source": [
        "# Python program to demonstrate in-built polymorphic functions \n",
        "  \n",
        "# len() being used for a string \n",
        "print(len(\"geeks\")) \n",
        "  \n",
        "# len() being used for a list \n",
        "print(len([10, 20, 30])) "
      ],
      "execution_count": null,
      "outputs": [
        {
          "output_type": "stream",
          "text": [
            "5\n",
            "3\n"
          ],
          "name": "stdout"
        }
      ]
    },
    {
      "cell_type": "markdown",
      "metadata": {
        "id": "CSt9EhQF7SIC"
      },
      "source": [
        "**Examples of used defined polymorphic functions :**"
      ]
    },
    {
      "cell_type": "code",
      "metadata": {
        "colab": {
          "base_uri": "https://localhost:8080/"
        },
        "id": "860gb-f_7VyR",
        "outputId": "d56db841-574d-4832-8b1e-8c5a224d0ba0"
      },
      "source": [
        "# A simple Python function to demonstrate Polymorphism \n",
        "  \n",
        "def add(x, y, z = 0):  \n",
        "    return x + y+z \n",
        "   \n",
        "print(add(2, 3)) \n",
        "print(add(2, 3, 4)) "
      ],
      "execution_count": null,
      "outputs": [
        {
          "output_type": "stream",
          "text": [
            "5\n",
            "9\n"
          ],
          "name": "stdout"
        }
      ]
    },
    {
      "cell_type": "markdown",
      "metadata": {
        "id": "-DA7kHdS7pIJ"
      },
      "source": [
        "\n",
        "\n",
        "# Polymorphism with class methods:"
      ]
    },
    {
      "cell_type": "markdown",
      "metadata": {
        "id": "Oas3DoG67wNY"
      },
      "source": [
        "Polymorphism is a very important concept in Object-Oriented Programming.\n",
        "\n",
        "We can use the concept of polymorphism while creating class methods as Python allows different classes to have methods with the same name.\n",
        "\n",
        "We can then later generalize calling these methods by disregarding the object we are working with"
      ]
    },
    {
      "cell_type": "markdown",
      "metadata": {
        "id": "KU0movu-9iZu"
      },
      "source": [
        "Below code shows how python can use two different class types, in the same way. We create a for loop that iterates through a tuple of objects. Then call the methods without being concerned about which class type each object is. We assume that these methods actually exist in each class."
      ]
    },
    {
      "cell_type": "code",
      "metadata": {
        "colab": {
          "base_uri": "https://localhost:8080/"
        },
        "id": "mAOvKf949k_a",
        "outputId": "5da45820-43a6-477e-d8bc-ab86ee00f74f"
      },
      "source": [
        "class India(): \n",
        "    def capital(self): \n",
        "        print(\"New Delhi is the capital of India.\") \n",
        "  \n",
        "    def language(self): \n",
        "        print(\"Hindi is the most widely spoken language of India.\") \n",
        "  \n",
        "    def type(self): \n",
        "        print(\"India is a developing country.\") \n",
        "  \n",
        "class USA(): \n",
        "    def capital(self): \n",
        "        print(\"Washington, D.C. is the capital of USA.\") \n",
        "  \n",
        "    def language(self): \n",
        "        print(\"English is the primary language of USA.\") \n",
        "  \n",
        "    def type(self): \n",
        "        print(\"USA is a developed country.\") \n",
        "  \n",
        "obj_ind = India() \n",
        "obj_usa = USA() \n",
        "for country in (obj_ind, obj_usa): \n",
        "    country.capital() \n",
        "    country.language() \n",
        "    country.type() "
      ],
      "execution_count": null,
      "outputs": [
        {
          "output_type": "stream",
          "text": [
            "New Delhi is the capital of India.\n",
            "Hindi is the most widely spoken language of India.\n",
            "India is a developing country.\n",
            "Washington, D.C. is the capital of USA.\n",
            "English is the primary language of USA.\n",
            "USA is a developed country.\n"
          ],
          "name": "stdout"
        }
      ]
    },
    {
      "cell_type": "markdown",
      "metadata": {
        "id": "9mi6H_ymBxaT"
      },
      "source": [
        "# Polymorphism with Inheritance:"
      ]
    },
    {
      "cell_type": "markdown",
      "metadata": {
        "id": "vJdfE1ZPB3cO"
      },
      "source": [
        "In Python, Polymorphism lets us define methods in the child class that have the same name as the methods in the parent class. \n",
        "\n",
        "In inheritance, the child class inherits the methods from the parent class.\n",
        "\n",
        " However, it is possible to modify a method in a child class that it has inherited from the parent class. This is particularly useful in cases where the method inherited from the parent class doesn’t quite fit the child class. In such cases, we re-implement the method in the child class. \n",
        " \n",
        " This process of re-implementing a method in the child class is known as **Method Overriding**."
      ]
    },
    {
      "cell_type": "code",
      "metadata": {
        "colab": {
          "base_uri": "https://localhost:8080/"
        },
        "id": "CrqhqTUHEPjL",
        "outputId": "4c606f5b-0d16-4428-de35-dcc9836d238c"
      },
      "source": [
        "class Bird: \n",
        "  def intro(self): \n",
        "\t  print(\"There are many types of birds.\") \n",
        "\t\n",
        "  def flight(self): \n",
        "\t  print(\"Most of the birds can fly but some cannot.\") \n",
        "\t\n",
        "class sparrow(Bird): \n",
        "  def flight(self): \n",
        "\t  print(\"Sparrows can fly.\") \n",
        "\t\n",
        "class ostrich(Bird): \n",
        "  def flight(self): \n",
        "\t  print(\"Ostriches cannot fly.\") \n",
        "\t\n",
        "obj_bird = Bird() \n",
        "obj_spr = sparrow() \n",
        "obj_ost = ostrich() \n",
        "print(\"----------brid class----------\")\n",
        "obj_bird.intro() \n",
        "obj_bird.flight() \n",
        "print(\"-----------sparrow class--------\")\n",
        "obj_spr.intro() \n",
        "obj_spr.flight() \n",
        "print(\"-------------ostrich class----------\")\n",
        "obj_ost.intro() \n",
        "obj_ost.flight() \n"
      ],
      "execution_count": null,
      "outputs": [
        {
          "output_type": "stream",
          "text": [
            "----------brid class----------\n",
            "There are many types of birds.\n",
            "Most of the birds can fly but some cannot.\n",
            "-----------sparrow class--------\n",
            "There are many types of birds.\n",
            "Sparrows can fly.\n",
            "-------------ostrich class----------\n",
            "There are many types of birds.\n",
            "Ostriches cannot fly.\n"
          ],
          "name": "stdout"
        }
      ]
    },
    {
      "cell_type": "markdown",
      "metadata": {
        "id": "48p2RcyTJq1_"
      },
      "source": [
        "Generally when overriding a base method, we tend to extend the definition rather than simply replace it.\n",
        "\n",
        " The same is being done by calling the method in base class from the one in derived class \n",
        "\n",
        "\n",
        "A better option would be to use the built-in function super(). So, super().flight() is equivalent to Bird.flight() and is preferred. "
      ]
    },
    {
      "cell_type": "markdown",
      "metadata": {
        "id": "tEsR3FFWFQ2-"
      },
      "source": [
        "# Polymorphism with a Function and objects:"
      ]
    },
    {
      "cell_type": "markdown",
      "metadata": {
        "id": "tnv9o6t4FTVA"
      },
      "source": [
        "It is also possible to create a function that can take any object, allowing for polymorphism."
      ]
    },
    {
      "cell_type": "markdown",
      "metadata": {
        "id": "AYZFn3qjHacK"
      },
      "source": [
        "let’s create a function called “func()” which will take an object which we will name “obj”. Though we are using the name ‘obj’, any instantiated object will be able to be called into this function. \n",
        "\n",
        "\n",
        "Next, lets give the function something to do that uses the ‘obj’ object we passed to it. In this case lets call the three methods, viz., capital(), language() and type(), each of which is defined in the two classes ‘India’ and ‘USA’. Next, let’s create instantiations of both the ‘India’ and ‘USA’ classes if we don’t have them already. With those, we can call their action using the same func() function:"
      ]
    },
    {
      "cell_type": "code",
      "metadata": {
        "colab": {
          "base_uri": "https://localhost:8080/"
        },
        "id": "_jqQGdPMHtcd",
        "outputId": "dfb370c5-56d0-4360-9028-91f30b038dd5"
      },
      "source": [
        "class India(): \n",
        "    def capital(self): \n",
        "        print(\"New Delhi is the capital of India.\") \n",
        "   \n",
        "    def language(self): \n",
        "        print(\"Hindi is the most widely spoken language of India.\") \n",
        "   \n",
        "    def type(self): \n",
        "        print(\"India is a developing country.\") \n",
        "   \n",
        "class USA(): \n",
        "    def capital(self): \n",
        "        print(\"Washington, D.C. is the capital of USA.\") \n",
        "   \n",
        "    def language(self): \n",
        "        print(\"English is the primary language of USA.\") \n",
        "   \n",
        "    def type(self): \n",
        "        print(\"USA is a developed country.\") \n",
        "  \n",
        "def func(obj): \n",
        "    obj.capital() \n",
        "    obj.language() \n",
        "    obj.type() \n",
        "   \n",
        "obj_ind = India() \n",
        "obj_usa = USA() \n",
        "   \n",
        "func(obj_ind) \n",
        "func(obj_usa) "
      ],
      "execution_count": null,
      "outputs": [
        {
          "output_type": "stream",
          "text": [
            "New Delhi is the capital of India.\n",
            "Hindi is the most widely spoken language of India.\n",
            "India is a developing country.\n",
            "Washington, D.C. is the capital of USA.\n",
            "English is the primary language of USA.\n",
            "USA is a developed country.\n"
          ],
          "name": "stdout"
        }
      ]
    },
    {
      "cell_type": "markdown",
      "metadata": {
        "id": "sfrUwLWrK0Nb"
      },
      "source": [
        "# Operator Overloading"
      ]
    },
    {
      "cell_type": "markdown",
      "metadata": {
        "id": "PwOTcpUxK4rV"
      },
      "source": [
        "\n",
        "\n",
        "*   Operator overloading is another kind of polymorphism.\n",
        "*   Python operators work for built-in classes\n",
        "\n",
        "*   But the same operator behaves differently with different types.\n",
        "*   For example, the + operator will perform arithmetic addition on two numbers, merge two lists, or concatenate two strings.\n",
        "\n",
        "***This feature in Python that allows the same operator to have different meaning according to the context is called operator overloading.***\n",
        "\n",
        "\n",
        "\n"
      ]
    },
    {
      "cell_type": "code",
      "metadata": {
        "colab": {
          "base_uri": "https://localhost:8080/"
        },
        "id": "16gfUyXsLYUP",
        "outputId": "4ae3e6a6-f89d-4af3-cdd0-6653830cca94"
      },
      "source": [
        "class Point: \n",
        "     def __init__(self, x=0, y=0): \n",
        "         self.x = x \n",
        "         self.y = y \n",
        "     def __str__(self): \n",
        "         return \"({0},{1})\".format(self.x, self.y) \n",
        "     def __add__(self, other): \n",
        "         x = self.x + other.x \n",
        "         y = self.y + other.y \n",
        "         return Point(x, y) \n",
        "\n",
        "p1 = Point(1, 2) \n",
        "p2 = Point(2, 3) \n",
        "print(p1+p2)"
      ],
      "execution_count": null,
      "outputs": [
        {
          "output_type": "stream",
          "text": [
            "(3,5)\n"
          ],
          "name": "stdout"
        }
      ]
    },
    {
      "cell_type": "markdown",
      "metadata": {
        "id": "AoNyzPiwMGHz"
      },
      "source": [
        "What actually happens is that, when you use p1 + p2, Python calls p1.__add__(p2) which in turn is Point.__add__(p1,p2). After this, the addition operation is carried out the way we specified."
      ]
    },
    {
      "cell_type": "markdown",
      "metadata": {
        "id": "UZB0_TL2MIF_"
      },
      "source": [
        "Similarly, we can overload other operators as well. The special function that we need to implement is tabulated below.\n",
        "\n"
      ]
    },
    {
      "cell_type": "markdown",
      "metadata": {
        "id": "mrfDWsaDMYdT"
      },
      "source": [
        "![image.png](data:image/png;base64,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)"
      ]
    },
    {
      "cell_type": "markdown",
      "metadata": {
        "id": "s-guJwIpMirL"
      },
      "source": [
        "# Overloading Comparison Operators"
      ]
    },
    {
      "cell_type": "markdown",
      "metadata": {
        "id": "YlzZE7FWMlXl"
      },
      "source": [
        "Python does not limit operator overloading to arithmetic operators only. We can overload comparison operators as well.\n",
        "\n",
        "Suppose we wanted to implement the less than symbol < symbol in our Point class.\n"
      ]
    },
    {
      "cell_type": "markdown",
      "metadata": {
        "id": "7Ynw2CuMMsEi"
      },
      "source": [
        "Let us compare the magnitude of these points from the origin and return the result for this purpose. It can be implemented as follows."
      ]
    },
    {
      "cell_type": "code",
      "metadata": {
        "colab": {
          "base_uri": "https://localhost:8080/"
        },
        "id": "XND5VYvmMu0T",
        "outputId": "ba2b9db5-2786-4752-ffa6-82c6ec90760d"
      },
      "source": [
        "class Point: \n",
        "     def __init__(self, x=0, y=0): \n",
        "         self.x = x \n",
        "         self.y = y \n",
        "     def __str__(self): \n",
        "         return \"({0},{1})\".format(self.x, self.y) \n",
        "     def __lt__(self, other): \n",
        "         self_mag = (self.x ** 2) + (self.y ** 2) \n",
        "         other_mag = (other.x ** 2) + (other.y ** 2)\n",
        "         return self_mag < other_mag \n",
        "p1 = Point(1,1) \n",
        "p2 = Point(-2,-3)\n",
        "p3 = Point(1,-1) \n",
        " # use less than \n",
        "print(p1<p2) \n",
        "print(p2<p3) \n",
        "print(p1<p3)"
      ],
      "execution_count": null,
      "outputs": [
        {
          "output_type": "stream",
          "text": [
            "True\n",
            "False\n",
            "False\n"
          ],
          "name": "stdout"
        }
      ]
    },
    {
      "cell_type": "markdown",
      "metadata": {
        "id": "pFTQWMXQM65S"
      },
      "source": [
        "Similarly, the special functions that we need to implement, to overload other comparison operators are tabulated below."
      ]
    },
    {
      "cell_type": "markdown",
      "metadata": {
        "id": "urLDQYpFNCrB"
      },
      "source": [
        "![image.png](data:image/png;base64,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)"
      ]
    },
    {
      "cell_type": "markdown",
      "metadata": {
        "id": "JBlgj2ZRNJkz"
      },
      "source": [
        ""
      ]
    }
  ]
}