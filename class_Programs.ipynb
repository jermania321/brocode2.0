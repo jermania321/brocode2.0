{
  "nbformat": 4,
  "nbformat_minor": 0,
  "metadata": {
    "colab": {
      "name": "class_Programs.ipynb",
      "provenance": [],
      "toc_visible": true,
      "include_colab_link": true
    },
    "kernelspec": {
      "name": "python3",
      "display_name": "Python 3"
    }
  },
  "cells": [
    {
      "cell_type": "markdown",
      "metadata": {
        "id": "view-in-github",
        "colab_type": "text"
      },
      "source": [
        "<a href=\"https://colab.research.google.com/github/jermania321/brocode2.0/blob/master/class_Programs.ipynb\" target=\"_parent\"><img src=\"https://colab.research.google.com/assets/colab-badge.svg\" alt=\"Open In Colab\"/></a>"
      ]
    },
    {
      "cell_type": "markdown",
      "metadata": {
        "id": "k1RWg2F4KT1g"
      },
      "source": [
        "# Program 1"
      ]
    },
    {
      "cell_type": "markdown",
      "metadata": {
        "id": "WNSG2K1tHacg"
      },
      "source": [
        "create class Arith to do arithmetic operation.It contains a member function read() to read the two numbers and add() method to find the sum."
      ]
    },
    {
      "cell_type": "code",
      "metadata": {
        "colab": {
          "base_uri": "https://localhost:8080/"
        },
        "id": "T6drCklPHgC3",
        "outputId": "5874310e-64a8-4f33-d34e-091007c30170"
      },
      "source": [
        "class Arith:\n",
        "    def read(self):\n",
        "        self.x=int(input(\"enter first number..\"))\n",
        "        self.y=int(input(\"enter second number...\"))\n",
        "    def add(self):\n",
        "        print(\"sum=\",self.x+self.y)\n",
        "\n",
        "#creating an object\n",
        "A=Arith()\n",
        "#calling the methods\n",
        "A.read()\n",
        "A.add()"
      ],
      "execution_count": null,
      "outputs": [
        {
          "output_type": "stream",
          "text": [
            "enter first number..5\n",
            "enter second number...6\n",
            "sum= 11\n"
          ],
          "name": "stdout"
        }
      ]
    },
    {
      "cell_type": "markdown",
      "metadata": {
        "id": "T3wTjpThKdak"
      },
      "source": [
        "# Program 2"
      ]
    },
    {
      "cell_type": "markdown",
      "metadata": {
        "id": "s8LiJ5G2HqXP"
      },
      "source": [
        "create a class Rectangle .A constructor is used to initialize the object values. Member function area() to compute the area of the rectangle"
      ]
    },
    {
      "cell_type": "code",
      "metadata": {
        "colab": {
          "base_uri": "https://localhost:8080/"
        },
        "id": "sfD0X8RyHyw9",
        "outputId": "e74e7d54-925d-45ce-e634-ac6f44f251d3"
      },
      "source": [
        "class Rectangle:\n",
        "    def __init__(self,length=0,breadth=0):\n",
        "        self.length=length\n",
        "        self.breadth=breadth\n",
        "    def area(self):\n",
        "        print(\"area=\",self.length*self.breadth)\n",
        "R1=Rectangle(10,20)\n",
        "R1.area()\n",
        "R2=Rectangle(12,13)\n",
        "R2.area()"
      ],
      "execution_count": null,
      "outputs": [
        {
          "output_type": "stream",
          "text": [
            "area= 200\n",
            "area= 156\n"
          ],
          "name": "stdout"
        }
      ]
    },
    {
      "cell_type": "markdown",
      "metadata": {
        "id": "bSssfn-UKgsS"
      },
      "source": [
        "# Program 3"
      ]
    },
    {
      "cell_type": "markdown",
      "metadata": {
        "id": "5fy-Tu6wH38f"
      },
      "source": [
        "Create a class car with attributes model, year and price and a method cost() for displaying the prize. Create two instance of the class and call the method for each instance."
      ]
    },
    {
      "cell_type": "code",
      "metadata": {
        "colab": {
          "base_uri": "https://localhost:8080/"
        },
        "id": "nGOcNnyXIAfS",
        "outputId": "8f59f051-c189-4a3c-85dd-ba478c5e2dc6"
      },
      "source": [
        "class Car:\n",
        "     def __init__(self,model,year,price):\n",
        "        self.model=model\n",
        "        self.year=year\n",
        "        self.price=price\n",
        "     def cost(self):\n",
        "        print(\"Price of the car=\",self.price)\n",
        "C1=Car(\"Maruti\",2004,200000)\n",
        "C2=Car(\"Ford\",2014,5000000)\n",
        "C1.cost()\n",
        "C2.cost()"
      ],
      "execution_count": null,
      "outputs": [
        {
          "output_type": "stream",
          "text": [
            "Price of the car= 200000\n",
            "Price of the car= 5000000\n"
          ],
          "name": "stdout"
        }
      ]
    },
    {
      "cell_type": "markdown",
      "metadata": {
        "id": "uSvpsjGBKk4t"
      },
      "source": [
        "# Program 4"
      ]
    },
    {
      "cell_type": "markdown",
      "metadata": {
        "id": "h1bG0TB7IIQF"
      },
      "source": [
        "Create a class student with attribute name and roll number and a method dataprint() for displaying the same. Create two instance of the class and call the method for each instance."
      ]
    },
    {
      "cell_type": "code",
      "metadata": {
        "colab": {
          "base_uri": "https://localhost:8080/"
        },
        "id": "8GaiPWLmIJx6",
        "outputId": "64a63094-3adf-4f64-d8e9-62d7f70c7722"
      },
      "source": [
        "class Student:\n",
        "    def __init__(self,name,rno):\n",
        "        self.name=name\n",
        "        self.rno=rno\n",
        "    def dataprint(self):\n",
        "        print(\"Name=\",self.name)\n",
        "        print(\"Rno=\",self.rno)\n",
        "s1=Student(\"devi\",101)\n",
        "s2=Student(\"anjana\",102)\n",
        "s1.dataprint()\n",
        "s2.dataprint()"
      ],
      "execution_count": null,
      "outputs": [
        {
          "output_type": "stream",
          "text": [
            "Name= devi\n",
            "Rno= 101\n",
            "Name= anjana\n",
            "Rno= 102\n"
          ],
          "name": "stdout"
        }
      ]
    },
    {
      "cell_type": "markdown",
      "metadata": {
        "id": "BYvH_YKpKp9D"
      },
      "source": [
        "# Program 5"
      ]
    },
    {
      "cell_type": "markdown",
      "metadata": {
        "id": "Mt0LScaNIOC2"
      },
      "source": [
        "Create a class Person with attributes name, age salary and a method display() for showing the details. Create two instances of the class and call the method for each instance."
      ]
    },
    {
      "cell_type": "code",
      "metadata": {
        "colab": {
          "base_uri": "https://localhost:8080/"
        },
        "id": "NI6fiUhmIVZW",
        "outputId": "b54e240d-50f2-44db-b839-b8b9af9156b9"
      },
      "source": [
        "class Person:\n",
        "    def __init__(self,name,age,salary):\n",
        "        self.name=name\n",
        "        self.age=age\n",
        "        self.salary=salary\n",
        "    def display(self):\n",
        "        print(\"Name=\",self.name)\n",
        "        print(\"Age=\",self.age)\n",
        "        print(\"Salary=\",self.salary)\n",
        "s1=Person(\"devi\",30,10100)\n",
        "s2=Person(\"anjana\",35,10200)\n",
        "s1.display()\n",
        "s2.display()"
      ],
      "execution_count": null,
      "outputs": [
        {
          "output_type": "stream",
          "text": [
            "Name= devi\n",
            "Age= 30\n",
            "Salary= 10100\n",
            "Name= anjana\n",
            "Age= 35\n",
            "Salary= 10200\n"
          ],
          "name": "stdout"
        }
      ]
    },
    {
      "cell_type": "markdown",
      "metadata": {
        "id": "g-bPlUFEKtLM"
      },
      "source": [
        "# Program 6"
      ]
    },
    {
      "cell_type": "markdown",
      "metadata": {
        "id": "fABO57LzIfal"
      },
      "source": [
        "Define a class Mobile to store the details of a Mobile (company, model,price) with the following methods.\n",
        "\n",
        "a) set_details()- to set the values to the data attributes\n",
        "b)display_details()-to display the data attribute values\n",
        "\n",
        "Create an object of the class and invoke methods. "
      ]
    },
    {
      "cell_type": "code",
      "metadata": {
        "colab": {
          "base_uri": "https://localhost:8080/"
        },
        "id": "gDMiW4DIIjrC",
        "outputId": "3c1ae45c-f84e-408a-f46c-f1ca118cd0ff"
      },
      "source": [
        "class Mobile:\n",
        "    def set_details(self):\n",
        "        self.company=input(\"enter compnay name...\")\n",
        "        self.model=input(\"enter model name..\")\n",
        "        self.price=float(input(\"enter price..\"))\n",
        "    def display_details(self):\n",
        "        print(\"Company Name=\",self.company)\n",
        "        print(\"Model=\",self.model)\n",
        "        print(\"Price=\",self.price)\n",
        "M=Mobile()\n",
        "M.set_details()\n",
        "M.display_details()"
      ],
      "execution_count": null,
      "outputs": [
        {
          "output_type": "stream",
          "text": [
            "enter compnay name...apple\n",
            "enter model name..12\n",
            "enter price..75000\n",
            "Company Name= apple\n",
            "Model= 12\n",
            "Price= 75000.0\n"
          ],
          "name": "stdout"
        }
      ]
    },
    {
      "cell_type": "markdown",
      "metadata": {
        "id": "1vAI0GtzKxeI"
      },
      "source": [
        "# Program 7"
      ]
    },
    {
      "cell_type": "markdown",
      "metadata": {
        "id": "C8KAsPh1I2IQ"
      },
      "source": [
        "Define a class in Python to store the details of students( rollno, mark1,mark2) with the following methods\n",
        "\n",
        "readData()- to assign values to class attributes\n",
        "\n",
        "computeTotal()-to find the total marks\n",
        "\n",
        "printDetails()- to print the attribute values and total marks.\n",
        "\n",
        "Create an object of this class and invoke the methods."
      ]
    },
    {
      "cell_type": "code",
      "metadata": {
        "colab": {
          "base_uri": "https://localhost:8080/"
        },
        "id": "Xp2ZmRzWI-wx",
        "outputId": "71b3a6d3-5ce0-49ec-f16d-9656e76aa71a"
      },
      "source": [
        "class Student:\n",
        "    def readData(self):\n",
        "        self.rollno=int(input(\"enter roll number...\"))\n",
        "        self.mark1=int(input(\"enter mark1..\"))\n",
        "        self.mark2=int(input(\"enter mark2..\"))\n",
        "    def computeTotal(self):\n",
        "        self.total=self.mark1+self.mark2\n",
        "    def printDetails(self):\n",
        "        print(\"roll number-->\",self.rollno)\n",
        "        print(\"Mark1-------->\",self.mark1)\n",
        "        print(\"Mark2-------->\",self.mark2)\n",
        "        print(\"Total Marks---\",self.total)\n",
        "S=Student()\n",
        "S.readData()\n",
        "S.computeTotal()\n",
        "S.printDetails()"
      ],
      "execution_count": null,
      "outputs": [
        {
          "output_type": "stream",
          "text": [
            "enter roll number...5\n",
            "enter mark1..35\n",
            "enter mark2..26\n",
            "roll number--> 5\n",
            "Mark1--------> 35\n",
            "Mark2--------> 26\n",
            "Total Marks--- 61\n"
          ],
          "name": "stdout"
        }
      ]
    },
    {
      "cell_type": "markdown",
      "metadata": {
        "id": "jtVGjoqlK0yq"
      },
      "source": [
        "# Program 8"
      ]
    },
    {
      "cell_type": "markdown",
      "metadata": {
        "id": "FdL_CdU3JJOh"
      },
      "source": [
        "Define a class in Python to store the details of book( title,author,cost) with the following methods\n",
        "\n",
        "get_details()- to assign values to class attributes\n",
        "\n",
        "print_details()- to display the attribute values\n",
        "\n",
        "Create an object of this class and invoke the methods."
      ]
    },
    {
      "cell_type": "code",
      "metadata": {
        "colab": {
          "base_uri": "https://localhost:8080/"
        },
        "id": "27h3rTpcJQ2o",
        "outputId": "4b969caa-bf5f-4e8b-b393-8b7c45e5a3d9"
      },
      "source": [
        "class Book:\n",
        "    def get_details(self):\n",
        "        self.title=input(\"enter book title...\")\n",
        "        self.auth=input(\"enter author..\")\n",
        "        self.cost=int(input(\"enter cost..\"))\n",
        "    def print_details(self):\n",
        "        print(\"Book Tile-->\",self.title)\n",
        "        print(\"Author-------->\",self.auth)\n",
        "        print(\"Cost-------->\",self.cost)\n",
        "B=Book()\n",
        "B.get_details()\n",
        "B.print_details()"
      ],
      "execution_count": null,
      "outputs": [
        {
          "output_type": "stream",
          "text": [
            "enter book title...abc\n",
            "enter author..ccc\n",
            "enter cost..15\n",
            "Book Tile--> abc\n",
            "Author--------> ccc\n",
            "Cost--------> 15\n"
          ],
          "name": "stdout"
        }
      ]
    },
    {
      "cell_type": "markdown",
      "metadata": {
        "id": "9Drg36nUK4jU"
      },
      "source": [
        "# Program 9"
      ]
    },
    {
      "cell_type": "markdown",
      "metadata": {
        "id": "MjA_dc7gJgmA"
      },
      "source": [
        "How can a class be instantiated in Python? Write a Python program to express the instances as return values to define a class RECTANGLE with parameters height, width, corner_x, and corner_y and member functions to find center, area, and perimeter of an instance."
      ]
    },
    {
      "cell_type": "code",
      "metadata": {
        "colab": {
          "base_uri": "https://localhost:8080/"
        },
        "id": "6DhsviYjJoKq",
        "outputId": "c512d61c-9d80-49eb-f981-2e6d45be0d9e"
      },
      "source": [
        "class RECTANGLE:\n",
        "    def read(self):\n",
        "        self.height=int(input(\"enter height of rectangle..\"))\n",
        "        self.width=int(input(\"enter width of rectangle..\"))\n",
        "        self.corner_x=int(input(\"enter right corner x...\"))\n",
        "        self.corner_y=int(input(\"enter right corner y...\"))\n",
        "    def center(self):\n",
        "        self.corner_x1=self.corner_x-self.width\n",
        "        self.corner_y1=self.corner_y+self.height\n",
        "        print(\"Center={},{}\".format((self.corner_x+self.corner_x1)/2,(self.corner_y+self.corner_y1)/2))\n",
        "    def area(self):\n",
        "        print(\"Area=\",self.height*self.width)\n",
        "    def perimeter(self):\n",
        "        print(\"Perimeter=\",2*(self.height+self.width))\n",
        "        \n",
        "#creating an object\n",
        "R=RECTANGLE()\n",
        "#calling the methods\n",
        "R.read()\n",
        "R.center()\n",
        "R.area()"
      ],
      "execution_count": null,
      "outputs": [
        {
          "output_type": "stream",
          "text": [
            "enter height of rectangle..10\n",
            "enter width of rectangle..6\n",
            "enter right corner x...2\n",
            "enter right corner y...3\n",
            "Center=-1.0,8.0\n",
            "Area= 60\n"
          ],
          "name": "stdout"
        }
      ]
    },
    {
      "cell_type": "markdown",
      "metadata": {
        "id": "oE1Ja4xaK8x5"
      },
      "source": [
        "# Program 10"
      ]
    },
    {
      "cell_type": "markdown",
      "metadata": {
        "id": "IqgrAh8nJyPu"
      },
      "source": [
        "Write Python program to create a class called as Complex and implement __add__( ) method to add two complex numbers. Display the result by overloading the + Operator."
      ]
    },
    {
      "cell_type": "code",
      "metadata": {
        "colab": {
          "base_uri": "https://localhost:8080/"
        },
        "id": "I3l7oJMlJ3sX",
        "outputId": "8e9a9164-d768-457f-96ca-cba40ae3d70d"
      },
      "source": [
        "class Complex:\n",
        "    def __init__(self,a=0,b=0):\n",
        "        self.a=a\n",
        "        self.b=b\n",
        "    def display(self):\n",
        "        if self.b>0:\n",
        "            print(\"complex number is \",self.a, \"+\",self.b, \"j\")\n",
        "        else:\n",
        "            print(\"complex number is \",self.a,self.b, \"j\")\n",
        "    def __add__(self,other):\n",
        "        r=self.a+other.a\n",
        "        i=self.b+other.b\n",
        "        return Complex(r,i)\n",
        "        \n",
        "c1=Complex(2,-3)\n",
        "c2=Complex(3,4)\n",
        "c3=c1+c2\n",
        "c1.display()\n",
        "c2.display()\n",
        "c3.display()"
      ],
      "execution_count": null,
      "outputs": [
        {
          "output_type": "stream",
          "text": [
            "complex number is  2 -3 j\n",
            "complex number is  3 + 4 j\n",
            "complex number is  5 + 1 j\n"
          ],
          "name": "stdout"
        }
      ]
    }
  ]
}