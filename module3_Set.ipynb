{
  "nbformat": 4,
  "nbformat_minor": 0,
  "metadata": {
    "colab": {
      "name": "module3_Set.ipynb",
      "provenance": [],
      "collapsed_sections": [],
      "include_colab_link": true
    },
    "kernelspec": {
      "name": "python3",
      "display_name": "Python 3"
    }
  },
  "cells": [
    {
      "cell_type": "markdown",
      "metadata": {
        "id": "view-in-github",
        "colab_type": "text"
      },
      "source": [
        "<a href=\"https://colab.research.google.com/github/jermania321/brocode2.0/blob/master/module3_Set.ipynb\" target=\"_parent\"><img src=\"https://colab.research.google.com/assets/colab-badge.svg\" alt=\"Open In Colab\"/></a>"
      ]
    },
    {
      "cell_type": "markdown",
      "metadata": {
        "id": "8tTaTIriT1Hf"
      },
      "source": [
        ""
      ]
    },
    {
      "cell_type": "markdown",
      "metadata": {
        "id": "wR8dnA4AT1_d"
      },
      "source": [
        "# Set in Python"
      ]
    },
    {
      "cell_type": "markdown",
      "metadata": {
        "id": "_GxeT_lBT44r"
      },
      "source": [
        "**set**\n",
        "\n",
        "\n",
        "*    unordered collection of items.\n",
        "*   Every set element is unique (no duplicates) \n",
        "\n",
        "\n",
        "*    set elements are immutable (cannot be changed).\n",
        "*  a set itself is mutable. We can add or remove items from it\n",
        "\n",
        "*   Sets can also be used to perform mathematical set operations like union, intersection, symmetric difference, etc.\n",
        "\n",
        "\n",
        "\n",
        "\n",
        "\n",
        "\n"
      ]
    },
    {
      "cell_type": "markdown",
      "metadata": {
        "id": "yLBzOmbAUh7P"
      },
      "source": [
        "# Creating Python Sets"
      ]
    },
    {
      "cell_type": "markdown",
      "metadata": {
        "id": "ACBbwtIWUlTR"
      },
      "source": [
        "A set is created by \n",
        "\n",
        "*   placing all the items (elements) inside **curly braces {}**, separated by comma\n",
        "*   using the built-in set() function.\n",
        "\n",
        " can have any number of items and they may be of different types (integer, float, tuple, string etc.).\n",
        " \n",
        " a set cannot have mutable elements like lists, sets or dictionaries as its elements.\n",
        "\n"
      ]
    },
    {
      "cell_type": "code",
      "metadata": {
        "id": "BaVrL7LrVyL2",
        "outputId": "5e30a390-de84-4791-8999-3c22e75ec74c",
        "colab": {
          "base_uri": "https://localhost:8080/",
          "height": 34
        }
      },
      "source": [
        " S={1,2,3}\n",
        " print(S)"
      ],
      "execution_count": null,
      "outputs": [
        {
          "output_type": "stream",
          "text": [
            "{1, 2, 3}\n"
          ],
          "name": "stdout"
        }
      ]
    },
    {
      "cell_type": "code",
      "metadata": {
        "id": "eJsq79yCV9M8",
        "outputId": "c2dc3caa-da62-40a4-de86-3eeb09fa25d9",
        "colab": {
          "base_uri": "https://localhost:8080/",
          "height": 34
        }
      },
      "source": [
        "S = {1.0, \"Hello\", (1, 2, 3)}\n",
        "print(S)"
      ],
      "execution_count": null,
      "outputs": [
        {
          "output_type": "stream",
          "text": [
            "{1.0, 'Hello', (1, 2, 3)}\n"
          ],
          "name": "stdout"
        }
      ]
    },
    {
      "cell_type": "code",
      "metadata": {
        "id": "nVKTacxMWDfK",
        "outputId": "6f73d668-f87a-4ade-8e77-63a5b0a2e23a",
        "colab": {
          "base_uri": "https://localhost:8080/",
          "height": 34
        }
      },
      "source": [
        "#set cannot have duplicate\n",
        "S = {1, 2, 3, 4, 3, 2}\n",
        "print(S)"
      ],
      "execution_count": null,
      "outputs": [
        {
          "output_type": "stream",
          "text": [
            "{1, 2, 3, 4}\n"
          ],
          "name": "stdout"
        }
      ]
    },
    {
      "cell_type": "code",
      "metadata": {
        "id": "w_fNYZNiWRUt",
        "outputId": "c423c0e1-c46e-4583-c56e-3ee45020ca56",
        "colab": {
          "base_uri": "https://localhost:8080/",
          "height": 34
        }
      },
      "source": [
        "#we can make set from a list\n",
        "l=[1,2,3,4,4]\n",
        "S=set(l)\n",
        "print(S)"
      ],
      "execution_count": null,
      "outputs": [
        {
          "output_type": "stream",
          "text": [
            "{1, 2, 3, 4}\n"
          ],
          "name": "stdout"
        }
      ]
    },
    {
      "cell_type": "code",
      "metadata": {
        "id": "3Sxq5eFOY7jo",
        "outputId": "26003d6e-659d-4c01-883c-0bb0e829fd37",
        "colab": {
          "base_uri": "https://localhost:8080/",
          "height": 180
        }
      },
      "source": [
        "#set cannot have mutable item\n",
        "S={1,2,[3,4]}"
      ],
      "execution_count": null,
      "outputs": [
        {
          "output_type": "error",
          "ename": "TypeError",
          "evalue": "ignored",
          "traceback": [
            "\u001b[0;31m---------------------------------------------------------------------------\u001b[0m",
            "\u001b[0;31mTypeError\u001b[0m                                 Traceback (most recent call last)",
            "\u001b[0;32m<ipython-input-6-9977531ccb41>\u001b[0m in \u001b[0;36m<module>\u001b[0;34m()\u001b[0m\n\u001b[1;32m      1\u001b[0m \u001b[0;31m#set cannot have mutable item\u001b[0m\u001b[0;34m\u001b[0m\u001b[0;34m\u001b[0m\u001b[0;34m\u001b[0m\u001b[0m\n\u001b[0;32m----> 2\u001b[0;31m \u001b[0mS\u001b[0m\u001b[0;34m=\u001b[0m\u001b[0;34m{\u001b[0m\u001b[0;36m1\u001b[0m\u001b[0;34m,\u001b[0m\u001b[0;36m2\u001b[0m\u001b[0;34m,\u001b[0m\u001b[0;34m[\u001b[0m\u001b[0;36m3\u001b[0m\u001b[0;34m,\u001b[0m\u001b[0;36m4\u001b[0m\u001b[0;34m]\u001b[0m\u001b[0;34m}\u001b[0m\u001b[0;34m\u001b[0m\u001b[0;34m\u001b[0m\u001b[0m\n\u001b[0m",
            "\u001b[0;31mTypeError\u001b[0m: unhashable type: 'list'"
          ]
        }
      ]
    },
    {
      "cell_type": "code",
      "metadata": {
        "id": "9DA2qPEnZDC8"
      },
      "source": [
        "#Creating an empty set\n",
        "S=set()"
      ],
      "execution_count": null,
      "outputs": []
    },
    {
      "cell_type": "markdown",
      "metadata": {
        "id": "zGOtrNUaZKS2"
      },
      "source": [
        "# Modifying a set in Python\n"
      ]
    },
    {
      "cell_type": "markdown",
      "metadata": {
        "id": "ZF65dJ8_ZM-V"
      },
      "source": [
        "Sets are mutable. However, since they are unordered, indexing has no meaning.\n",
        "\n",
        "We cannot access or change an element of a set using indexing or slicing. Set data type does not support it.\n",
        "We can add a single element using the **add()** method, and multiple elements using the **update()** method. The update() method can take tuples, lists, strings or other sets as its argument. In all cases, duplicates are avoided."
      ]
    },
    {
      "cell_type": "code",
      "metadata": {
        "id": "MV98mk7mZkC2",
        "outputId": "8bf670a4-c6ab-4ad1-85f5-1c7e9608a060",
        "colab": {
          "base_uri": "https://localhost:8080/",
          "height": 34
        }
      },
      "source": [
        "S={1,3}\n",
        "S"
      ],
      "execution_count": null,
      "outputs": [
        {
          "output_type": "execute_result",
          "data": {
            "text/plain": [
              "{1, 3}"
            ]
          },
          "metadata": {
            "tags": []
          },
          "execution_count": 8
        }
      ]
    },
    {
      "cell_type": "code",
      "metadata": {
        "id": "ippDa2nqZrk6",
        "outputId": "7db310e4-8144-4160-e3e1-703e05492cca",
        "colab": {
          "base_uri": "https://localhost:8080/",
          "height": 34
        }
      },
      "source": [
        "S.add(4)\n",
        "S"
      ],
      "execution_count": null,
      "outputs": [
        {
          "output_type": "execute_result",
          "data": {
            "text/plain": [
              "{1, 3, 4}"
            ]
          },
          "metadata": {
            "tags": []
          },
          "execution_count": 9
        }
      ]
    },
    {
      "cell_type": "code",
      "metadata": {
        "id": "D5RzFDRlZwK0",
        "outputId": "0318c8ff-3684-4443-efcd-5dacd02941de",
        "colab": {
          "base_uri": "https://localhost:8080/",
          "height": 34
        }
      },
      "source": [
        "S.update([2,3,5])\n",
        "S"
      ],
      "execution_count": null,
      "outputs": [
        {
          "output_type": "execute_result",
          "data": {
            "text/plain": [
              "{1, 2, 3, 4, 5}"
            ]
          },
          "metadata": {
            "tags": []
          },
          "execution_count": 10
        }
      ]
    },
    {
      "cell_type": "code",
      "metadata": {
        "id": "eWk55eQxZ0lD",
        "outputId": "ccd66024-41a7-497a-e2cc-2f7246422922",
        "colab": {
          "base_uri": "https://localhost:8080/",
          "height": 34
        }
      },
      "source": [
        "S.update([7,8],{9,10})\n",
        "S"
      ],
      "execution_count": null,
      "outputs": [
        {
          "output_type": "execute_result",
          "data": {
            "text/plain": [
              "{1, 2, 3, 4, 5, 7, 8, 9, 10}"
            ]
          },
          "metadata": {
            "tags": []
          },
          "execution_count": 11
        }
      ]
    },
    {
      "cell_type": "markdown",
      "metadata": {
        "id": "sLqHik6-Z5qr"
      },
      "source": [
        "# Removing elements from a set"
      ]
    },
    {
      "cell_type": "markdown",
      "metadata": {
        "id": "fr8msc3yZ92p"
      },
      "source": [
        "A particular item can be removed from a set using the methods **discard()** and **remove()**.\n",
        "\n",
        "The only difference between the two is that the discard() function leaves a set unchanged if the element is not present in the set. On the other hand, the remove() function will raise an error in such a condition (if element is not present in the set)."
      ]
    },
    {
      "cell_type": "code",
      "metadata": {
        "id": "A-t4cfo_aIDB",
        "outputId": "1a54d374-011b-4d1d-bc6c-cbf409355fcb",
        "colab": {
          "base_uri": "https://localhost:8080/",
          "height": 34
        }
      },
      "source": [
        "S={1,2,3,4}\n",
        "S.discard(4)\n",
        "S"
      ],
      "execution_count": null,
      "outputs": [
        {
          "output_type": "execute_result",
          "data": {
            "text/plain": [
              "{1, 2, 3}"
            ]
          },
          "metadata": {
            "tags": []
          },
          "execution_count": 12
        }
      ]
    },
    {
      "cell_type": "code",
      "metadata": {
        "id": "ocgxJOP0aQb0",
        "outputId": "67abebe7-dd7e-44de-e61d-a6cff3d10f97",
        "colab": {
          "base_uri": "https://localhost:8080/",
          "height": 34
        }
      },
      "source": [
        "S.remove(3)\n",
        "S"
      ],
      "execution_count": null,
      "outputs": [
        {
          "output_type": "execute_result",
          "data": {
            "text/plain": [
              "{1, 2}"
            ]
          },
          "metadata": {
            "tags": []
          },
          "execution_count": 13
        }
      ]
    },
    {
      "cell_type": "code",
      "metadata": {
        "id": "vqkqa8VHaTLs",
        "outputId": "e1643391-d412-4a41-bcab-90935a2ebb4e",
        "colab": {
          "base_uri": "https://localhost:8080/",
          "height": 163
        }
      },
      "source": [
        "S.remove(5)"
      ],
      "execution_count": null,
      "outputs": [
        {
          "output_type": "error",
          "ename": "KeyError",
          "evalue": "ignored",
          "traceback": [
            "\u001b[0;31m---------------------------------------------------------------------------\u001b[0m",
            "\u001b[0;31mKeyError\u001b[0m                                  Traceback (most recent call last)",
            "\u001b[0;32m<ipython-input-14-729b20393927>\u001b[0m in \u001b[0;36m<module>\u001b[0;34m()\u001b[0m\n\u001b[0;32m----> 1\u001b[0;31m \u001b[0mS\u001b[0m\u001b[0;34m.\u001b[0m\u001b[0mremove\u001b[0m\u001b[0;34m(\u001b[0m\u001b[0;36m5\u001b[0m\u001b[0;34m)\u001b[0m\u001b[0;34m\u001b[0m\u001b[0;34m\u001b[0m\u001b[0m\n\u001b[0m",
            "\u001b[0;31mKeyError\u001b[0m: 5"
          ]
        }
      ]
    },
    {
      "cell_type": "code",
      "metadata": {
        "id": "umHgJ_9waW4I"
      },
      "source": [
        " S.discard(5)"
      ],
      "execution_count": null,
      "outputs": []
    },
    {
      "cell_type": "markdown",
      "metadata": {
        "id": "m53ixb7cagyR"
      },
      "source": [
        " we can remove and return an item using the **pop()** method.\n",
        "Since set is an unordered data type, there is no way of determining which item will be popped. It is completely arbitrary.\n",
        "\n",
        "We can also remove all the items from a set using the **clear()** method.\n"
      ]
    },
    {
      "cell_type": "code",
      "metadata": {
        "id": "1HR_GwiUjrGC",
        "outputId": "13646ae8-11fd-4168-f8d7-72dd34df087d",
        "colab": {
          "base_uri": "https://localhost:8080/",
          "height": 34
        }
      },
      "source": [
        "S={1,5,2,3,4}\n",
        "S.pop()"
      ],
      "execution_count": null,
      "outputs": [
        {
          "output_type": "execute_result",
          "data": {
            "text/plain": [
              "1"
            ]
          },
          "metadata": {
            "tags": []
          },
          "execution_count": 21
        }
      ]
    },
    {
      "cell_type": "code",
      "metadata": {
        "id": "wKk1ppd1jty4",
        "outputId": "717e7f13-6d47-45ac-a7e7-b463f29bf04b",
        "colab": {
          "base_uri": "https://localhost:8080/",
          "height": 34
        }
      },
      "source": [
        "S.pop()"
      ],
      "execution_count": null,
      "outputs": [
        {
          "output_type": "execute_result",
          "data": {
            "text/plain": [
              "2"
            ]
          },
          "metadata": {
            "tags": []
          },
          "execution_count": 22
        }
      ]
    },
    {
      "cell_type": "code",
      "metadata": {
        "id": "iiSMBAHXkB3l",
        "outputId": "c45d3fbf-7754-4ae9-98ae-eb952a603783",
        "colab": {
          "base_uri": "https://localhost:8080/",
          "height": 34
        }
      },
      "source": [
        "S\n"
      ],
      "execution_count": null,
      "outputs": [
        {
          "output_type": "execute_result",
          "data": {
            "text/plain": [
              "{3, 4, 5}"
            ]
          },
          "metadata": {
            "tags": []
          },
          "execution_count": 23
        }
      ]
    },
    {
      "cell_type": "code",
      "metadata": {
        "id": "62kME_BqkI80",
        "outputId": "3bd70138-f05a-4d53-a2d3-0dc04295a0dc",
        "colab": {
          "base_uri": "https://localhost:8080/",
          "height": 34
        }
      },
      "source": [
        "S.clear()\n",
        "S"
      ],
      "execution_count": null,
      "outputs": [
        {
          "output_type": "execute_result",
          "data": {
            "text/plain": [
              "set()"
            ]
          },
          "metadata": {
            "tags": []
          },
          "execution_count": 24
        }
      ]
    },
    {
      "cell_type": "markdown",
      "metadata": {
        "id": "b4v56oXZkQ4b"
      },
      "source": [
        "# Python Set Operations"
      ]
    },
    {
      "cell_type": "markdown",
      "metadata": {
        "id": "XFr345xEkTmJ"
      },
      "source": [
        "Sets can be used to carry out mathematical set operations like union, intersection, difference and symmetric difference.\n",
        "\n",
        "We can do this with operators or methods.\n"
      ]
    },
    {
      "cell_type": "code",
      "metadata": {
        "id": "fPKkRro8kbbS"
      },
      "source": [
        "A = {1, 2, 3, 4, 5} \n",
        "B = {4, 5, 6, 7, 8}"
      ],
      "execution_count": null,
      "outputs": []
    },
    {
      "cell_type": "markdown",
      "metadata": {
        "id": "_qgpNs5GkhD6"
      },
      "source": [
        "**Union**\n",
        "\n",
        "Union of A and B is a set of all elements from both sets.\n",
        "Union is performed using | operator. \n",
        "\n",
        "Same can be accomplished using the union() method."
      ]
    },
    {
      "cell_type": "code",
      "metadata": {
        "id": "YtsDfFtgksaq",
        "outputId": "7b85fa69-7a2a-4ed8-9231-7ef6d60ac1e3",
        "colab": {
          "base_uri": "https://localhost:8080/",
          "height": 34
        }
      },
      "source": [
        "A|B"
      ],
      "execution_count": null,
      "outputs": [
        {
          "output_type": "execute_result",
          "data": {
            "text/plain": [
              "{1, 2, 3, 4, 5, 6, 7, 8}"
            ]
          },
          "metadata": {
            "tags": []
          },
          "execution_count": 26
        }
      ]
    },
    {
      "cell_type": "code",
      "metadata": {
        "id": "bbpz0FZvkvI-",
        "outputId": "00316e9b-01fd-4e7d-942f-3f5a8430de86",
        "colab": {
          "base_uri": "https://localhost:8080/",
          "height": 34
        }
      },
      "source": [
        "A.union(B)"
      ],
      "execution_count": null,
      "outputs": [
        {
          "output_type": "execute_result",
          "data": {
            "text/plain": [
              "{1, 2, 3, 4, 5, 6, 7, 8}"
            ]
          },
          "metadata": {
            "tags": []
          },
          "execution_count": 27
        }
      ]
    },
    {
      "cell_type": "code",
      "metadata": {
        "id": "jKFrKQ8Hkz_2",
        "outputId": "60256679-d1f9-4d27-fdfe-5537bba594c4",
        "colab": {
          "base_uri": "https://localhost:8080/",
          "height": 34
        }
      },
      "source": [
        "B.union(A)"
      ],
      "execution_count": null,
      "outputs": [
        {
          "output_type": "execute_result",
          "data": {
            "text/plain": [
              "{1, 2, 3, 4, 5, 6, 7, 8}"
            ]
          },
          "metadata": {
            "tags": []
          },
          "execution_count": 28
        }
      ]
    },
    {
      "cell_type": "markdown",
      "metadata": {
        "id": "CabTG7y3k4yo"
      },
      "source": [
        "**Intersection**\n",
        "\n",
        "Intersection of A and B is a set of elements that are common in both the sets.\n",
        "\n",
        "Intersection is performed using & operator. \n",
        "\n",
        "Same can be accomplished using the intersection() method."
      ]
    },
    {
      "cell_type": "code",
      "metadata": {
        "id": "zmPOluDDlBTt",
        "outputId": "41ea842e-90a3-49aa-e4cf-430258908207",
        "colab": {
          "base_uri": "https://localhost:8080/",
          "height": 34
        }
      },
      "source": [
        "A&B"
      ],
      "execution_count": null,
      "outputs": [
        {
          "output_type": "execute_result",
          "data": {
            "text/plain": [
              "{4, 5}"
            ]
          },
          "metadata": {
            "tags": []
          },
          "execution_count": 29
        }
      ]
    },
    {
      "cell_type": "code",
      "metadata": {
        "id": "kulG9zoflEfA",
        "outputId": "a88ecfc3-9e87-46c5-f4f5-32758df27a4b",
        "colab": {
          "base_uri": "https://localhost:8080/",
          "height": 34
        }
      },
      "source": [
        "A.intersection(B)"
      ],
      "execution_count": null,
      "outputs": [
        {
          "output_type": "execute_result",
          "data": {
            "text/plain": [
              "{4, 5}"
            ]
          },
          "metadata": {
            "tags": []
          },
          "execution_count": 30
        }
      ]
    },
    {
      "cell_type": "code",
      "metadata": {
        "id": "OsacZWColHps",
        "outputId": "a4e4bb04-04ee-4e9e-c616-3215367988ab",
        "colab": {
          "base_uri": "https://localhost:8080/",
          "height": 34
        }
      },
      "source": [
        "B.intersection(A)"
      ],
      "execution_count": null,
      "outputs": [
        {
          "output_type": "execute_result",
          "data": {
            "text/plain": [
              "{4, 5}"
            ]
          },
          "metadata": {
            "tags": []
          },
          "execution_count": 31
        }
      ]
    },
    {
      "cell_type": "markdown",
      "metadata": {
        "id": "5ix4MGBTleOr"
      },
      "source": [
        "**Difference**\n",
        "\n",
        "Difference of the set B from set A(A - B) is a set of elements that are only in A but not in B. \n",
        "\n",
        "Similarly, B - A is a set of elements in B but not in A.\n",
        "\n",
        "Difference is performed using - operator. Same can be accomplished using the difference() method.\n"
      ]
    },
    {
      "cell_type": "code",
      "metadata": {
        "id": "_ZfmugmKo_He",
        "outputId": "cd0d0c0c-aea9-44f9-f0d6-c0cb9c646519",
        "colab": {
          "base_uri": "https://localhost:8080/",
          "height": 34
        }
      },
      "source": [
        "A-B"
      ],
      "execution_count": null,
      "outputs": [
        {
          "output_type": "execute_result",
          "data": {
            "text/plain": [
              "{1, 2, 3}"
            ]
          },
          "metadata": {
            "tags": []
          },
          "execution_count": 32
        }
      ]
    },
    {
      "cell_type": "code",
      "metadata": {
        "id": "pbBkeAzkpBs8",
        "outputId": "365b29dd-efd4-4c0b-9969-96443e4f2e00",
        "colab": {
          "base_uri": "https://localhost:8080/",
          "height": 34
        }
      },
      "source": [
        "B-A"
      ],
      "execution_count": null,
      "outputs": [
        {
          "output_type": "execute_result",
          "data": {
            "text/plain": [
              "{6, 7, 8}"
            ]
          },
          "metadata": {
            "tags": []
          },
          "execution_count": 33
        }
      ]
    },
    {
      "cell_type": "code",
      "metadata": {
        "id": "iH7k80UWpFhf",
        "outputId": "a287a676-714a-4017-a250-ffcd0ae69d25",
        "colab": {
          "base_uri": "https://localhost:8080/",
          "height": 34
        }
      },
      "source": [
        "A.difference(B)"
      ],
      "execution_count": null,
      "outputs": [
        {
          "output_type": "execute_result",
          "data": {
            "text/plain": [
              "{1, 2, 3}"
            ]
          },
          "metadata": {
            "tags": []
          },
          "execution_count": 34
        }
      ]
    },
    {
      "cell_type": "code",
      "metadata": {
        "id": "523zC0OEpH_8",
        "outputId": "1ce20383-e2cc-4a27-972b-b36bffd44b62",
        "colab": {
          "base_uri": "https://localhost:8080/",
          "height": 34
        }
      },
      "source": [
        "B.difference(A)"
      ],
      "execution_count": null,
      "outputs": [
        {
          "output_type": "execute_result",
          "data": {
            "text/plain": [
              "{6, 7, 8}"
            ]
          },
          "metadata": {
            "tags": []
          },
          "execution_count": 35
        }
      ]
    },
    {
      "cell_type": "markdown",
      "metadata": {
        "id": "1TNUnECOpLnG"
      },
      "source": [
        "**Symmetric Difference**\n",
        "\n",
        "Symmetric Difference of A and B is a set of elements in A and B but not in both (excluding the intersection).\n",
        "\n",
        "Symmetric difference is performed using ^ operator. \n",
        "\n",
        "Same can be accomplished using the method symmetric_difference()."
      ]
    },
    {
      "cell_type": "code",
      "metadata": {
        "id": "D9-8wSc5pVA4",
        "outputId": "11ea3ded-e377-4765-dddb-82698d2d5aee",
        "colab": {
          "base_uri": "https://localhost:8080/",
          "height": 34
        }
      },
      "source": [
        "A^B"
      ],
      "execution_count": null,
      "outputs": [
        {
          "output_type": "execute_result",
          "data": {
            "text/plain": [
              "{1, 2, 3, 6, 7, 8}"
            ]
          },
          "metadata": {
            "tags": []
          },
          "execution_count": 36
        }
      ]
    },
    {
      "cell_type": "code",
      "metadata": {
        "id": "Po_79HQ2pYby",
        "outputId": "8692bbb0-b372-4d7b-9a7d-f0d0518cb1e6",
        "colab": {
          "base_uri": "https://localhost:8080/",
          "height": 34
        }
      },
      "source": [
        "B^A"
      ],
      "execution_count": null,
      "outputs": [
        {
          "output_type": "execute_result",
          "data": {
            "text/plain": [
              "{1, 2, 3, 6, 7, 8}"
            ]
          },
          "metadata": {
            "tags": []
          },
          "execution_count": 37
        }
      ]
    },
    {
      "cell_type": "code",
      "metadata": {
        "id": "HDtASEqBpaHV",
        "outputId": "43e40dea-041e-459e-ad26-10b02103d952",
        "colab": {
          "base_uri": "https://localhost:8080/",
          "height": 34
        }
      },
      "source": [
        "A.symmetric_difference(B)"
      ],
      "execution_count": null,
      "outputs": [
        {
          "output_type": "execute_result",
          "data": {
            "text/plain": [
              "{1, 2, 3, 6, 7, 8}"
            ]
          },
          "metadata": {
            "tags": []
          },
          "execution_count": 38
        }
      ]
    },
    {
      "cell_type": "markdown",
      "metadata": {
        "id": "fwLURxzouBdN"
      },
      "source": [
        "# Built-in Functions with Set"
      ]
    },
    {
      "cell_type": "markdown",
      "metadata": {
        "id": "D8V-yUd-vWRR"
      },
      "source": [
        "**all()**\n",
        "\n",
        "> Returns True if all elements of the set are true (or if the set is empty).\n",
        "\n",
        "**any()**  \n",
        "\n",
        ">Returns True if any element of the set is true. If the set is empty, returns False.\n",
        "\n",
        "**enumerate()**\n",
        "\n",
        ">Returns an enumerate object. It contains the index and value for all the items of the set as a pair.\n",
        "\n",
        "**len()**\n",
        ">Returns the length (the number of items) in the set.\n",
        "\n",
        "**max()**\n",
        ">Returns the largest item in the set.\n",
        "\n",
        "**min()**\n",
        ">Returns the smallest item in the set.\n",
        "\n",
        "**sorted()**\n",
        ">Returns a new sorted list from elements in the set(does not sort the set itself).\n",
        "\n",
        "**sum()**\n",
        "\n",
        "> Returns the sum of all elements in the set.\n",
        "\n",
        "\n",
        "\n"
      ]
    },
    {
      "cell_type": "code",
      "metadata": {
        "id": "gweMke1VwaXJ",
        "outputId": "d24d27cb-cfab-48a2-c7f6-e52a0cd15a6d",
        "colab": {
          "base_uri": "https://localhost:8080/",
          "height": 34
        }
      },
      "source": [
        "S={1,0,2,3}\n",
        "all(S)"
      ],
      "execution_count": null,
      "outputs": [
        {
          "output_type": "execute_result",
          "data": {
            "text/plain": [
              "False"
            ]
          },
          "metadata": {
            "tags": []
          },
          "execution_count": 1
        }
      ]
    },
    {
      "cell_type": "code",
      "metadata": {
        "id": "y1v5RAF8wftA",
        "outputId": "dfc0573d-5917-435f-df32-9f1f2e75afab",
        "colab": {
          "base_uri": "https://localhost:8080/",
          "height": 34
        }
      },
      "source": [
        "any(S)"
      ],
      "execution_count": null,
      "outputs": [
        {
          "output_type": "execute_result",
          "data": {
            "text/plain": [
              "True"
            ]
          },
          "metadata": {
            "tags": []
          },
          "execution_count": 2
        }
      ]
    },
    {
      "cell_type": "code",
      "metadata": {
        "id": "HSr9vG-XwkXI",
        "outputId": "125cfa58-984f-4afc-aa78-9dca67604cb2",
        "colab": {
          "base_uri": "https://localhost:8080/",
          "height": 85
        }
      },
      "source": [
        "for i in enumerate(S):\n",
        "\tprint(i)"
      ],
      "execution_count": null,
      "outputs": [
        {
          "output_type": "stream",
          "text": [
            "(0, 0)\n",
            "(1, 1)\n",
            "(2, 2)\n",
            "(3, 3)\n"
          ],
          "name": "stdout"
        }
      ]
    },
    {
      "cell_type": "code",
      "metadata": {
        "id": "maEsadXWwnB_",
        "outputId": "c745310f-040c-4a38-f2d4-088efabd3557",
        "colab": {
          "base_uri": "https://localhost:8080/",
          "height": 34
        }
      },
      "source": [
        "len(S)"
      ],
      "execution_count": null,
      "outputs": [
        {
          "output_type": "execute_result",
          "data": {
            "text/plain": [
              "4"
            ]
          },
          "metadata": {
            "tags": []
          },
          "execution_count": 4
        }
      ]
    },
    {
      "cell_type": "code",
      "metadata": {
        "id": "UztNd-10wqGg",
        "outputId": "60463222-bd33-40ca-d2b0-5a0195c986dd",
        "colab": {
          "base_uri": "https://localhost:8080/",
          "height": 34
        }
      },
      "source": [
        "max(S)"
      ],
      "execution_count": null,
      "outputs": [
        {
          "output_type": "execute_result",
          "data": {
            "text/plain": [
              "3"
            ]
          },
          "metadata": {
            "tags": []
          },
          "execution_count": 5
        }
      ]
    },
    {
      "cell_type": "code",
      "metadata": {
        "id": "0ESuEJ7Jws43",
        "outputId": "90173c76-3e78-44d5-b166-ebd8c0ec0603",
        "colab": {
          "base_uri": "https://localhost:8080/",
          "height": 34
        }
      },
      "source": [
        "min(S)"
      ],
      "execution_count": null,
      "outputs": [
        {
          "output_type": "execute_result",
          "data": {
            "text/plain": [
              "0"
            ]
          },
          "metadata": {
            "tags": []
          },
          "execution_count": 6
        }
      ]
    },
    {
      "cell_type": "code",
      "metadata": {
        "id": "0Bwi0rsOwv3V",
        "outputId": "01d9e0cc-754c-4cb4-c338-6dbe12919b39",
        "colab": {
          "base_uri": "https://localhost:8080/",
          "height": 34
        }
      },
      "source": [
        "SS=sorted(S)\n",
        "SS"
      ],
      "execution_count": null,
      "outputs": [
        {
          "output_type": "execute_result",
          "data": {
            "text/plain": [
              "[0, 1, 2, 3]"
            ]
          },
          "metadata": {
            "tags": []
          },
          "execution_count": 7
        }
      ]
    },
    {
      "cell_type": "code",
      "metadata": {
        "id": "VhURoaL8w1TL",
        "outputId": "7a0fc1cc-40bf-422f-bb09-a13cbb809327",
        "colab": {
          "base_uri": "https://localhost:8080/",
          "height": 34
        }
      },
      "source": [
        "sum(S)"
      ],
      "execution_count": null,
      "outputs": [
        {
          "output_type": "execute_result",
          "data": {
            "text/plain": [
              "6"
            ]
          },
          "metadata": {
            "tags": []
          },
          "execution_count": 8
        }
      ]
    },
    {
      "cell_type": "markdown",
      "metadata": {
        "id": "KXHi2sCPxU31"
      },
      "source": [
        "#Python Set Methods"
      ]
    },
    {
      "cell_type": "markdown",
      "metadata": {
        "id": "YgKM_WWmxYOm"
      },
      "source": [
        "**add()**\n",
        ">Adds an element to the set\n",
        "\n",
        "**clear()**\n",
        ">Removes all elements from the set\n",
        "\n",
        "**copy()**\n",
        "> Returns a copy of the set\n",
        "\n",
        "**difference()**\n",
        ">Returns the difference of two or more sets as a new set\n",
        "\n",
        "**difference_update()**\n",
        ">Removes all elements of another set from this set\n",
        "\n",
        "**discard()**\n",
        ">Removes an element from the set if it is a member.(Do nothing if the element is not in set)\n",
        "\n",
        "**intersection()**\n",
        ">Returns the intersection of two sets as a new set\n",
        "\n",
        "**intersection_update()**\n",
        ">Updates the set with the intersection of itself and another\n",
        "\n",
        "**isdisjoint() **\n",
        "> Returns True if two sets have a null intersection Returns True if two sets have a null intersection\n",
        "\n",
        "**issubset()**\n",
        ">Returns True if another set contains this set\n",
        "\n",
        "\n",
        "**issuperset()**\n",
        ">Returns True if this set contains another set\n",
        "\n",
        "**pop()**\n",
        ">Removes and returns an arbitrary set element. Raises KeyError if the set is empty\n",
        "\n",
        "**remove()**\n",
        ">Removes an element from the set. If the element is not a member, raises a KeyError\n",
        "\n",
        "**symmetric_difference()**\n",
        ">Returns the symmetric difference of two sets as a new set\n",
        "\n",
        "**symmetric_difference_update()**\n",
        ">Updates a set with the symmetric difference of itself and another\n",
        "\n",
        "**union()**\n",
        ">Returns the union of sets in a new set\n",
        "\n",
        "**update()**\n",
        ">Updates the set with the union of itself and others\n",
        "\n"
      ]
    },
    {
      "cell_type": "code",
      "metadata": {
        "id": "akbjR4SF5eYn",
        "outputId": "3ffa2fb6-572f-409b-9288-07a565114f1d",
        "colab": {
          "base_uri": "https://localhost:8080/",
          "height": 34
        }
      },
      "source": [
        "A={3,2,1,4}\n",
        "A.add(5)\n",
        "A"
      ],
      "execution_count": null,
      "outputs": [
        {
          "output_type": "execute_result",
          "data": {
            "text/plain": [
              "{1, 2, 3, 4, 5}"
            ]
          },
          "metadata": {
            "tags": []
          },
          "execution_count": 10
        }
      ]
    },
    {
      "cell_type": "code",
      "metadata": {
        "id": "-U5AkDpV52P-",
        "outputId": "9aa52fbd-0aaa-435c-c309-d6b5c76b7574",
        "colab": {
          "base_uri": "https://localhost:8080/",
          "height": 34
        }
      },
      "source": [
        "B=A.copy()\n",
        "B"
      ],
      "execution_count": null,
      "outputs": [
        {
          "output_type": "execute_result",
          "data": {
            "text/plain": [
              "{1, 2, 3, 4, 5}"
            ]
          },
          "metadata": {
            "tags": []
          },
          "execution_count": 11
        }
      ]
    },
    {
      "cell_type": "code",
      "metadata": {
        "id": "RR-3SKRr59_B",
        "outputId": "7aa70624-58b6-4d7d-9e2d-045261cb5c58",
        "colab": {
          "base_uri": "https://localhost:8080/",
          "height": 34
        }
      },
      "source": [
        "B.clear()\n",
        "B"
      ],
      "execution_count": null,
      "outputs": [
        {
          "output_type": "execute_result",
          "data": {
            "text/plain": [
              "set()"
            ]
          },
          "metadata": {
            "tags": []
          },
          "execution_count": 12
        }
      ]
    },
    {
      "cell_type": "code",
      "metadata": {
        "id": "Wh2CPOT16C5a",
        "outputId": "3a40da7f-158d-42f8-aa59-fd66802b0b17",
        "colab": {
          "base_uri": "https://localhost:8080/",
          "height": 34
        }
      },
      "source": [
        "A"
      ],
      "execution_count": null,
      "outputs": [
        {
          "output_type": "execute_result",
          "data": {
            "text/plain": [
              "{1, 2, 3, 4, 5}"
            ]
          },
          "metadata": {
            "tags": []
          },
          "execution_count": 13
        }
      ]
    },
    {
      "cell_type": "code",
      "metadata": {
        "id": "oreN8K4f6GIS",
        "outputId": "5a80c294-48e3-4aa3-b9cf-588c7723104a",
        "colab": {
          "base_uri": "https://localhost:8080/",
          "height": 34
        }
      },
      "source": [
        "A.discard(5)\n",
        "A"
      ],
      "execution_count": null,
      "outputs": [
        {
          "output_type": "execute_result",
          "data": {
            "text/plain": [
              "{1, 2, 3, 4}"
            ]
          },
          "metadata": {
            "tags": []
          },
          "execution_count": 14
        }
      ]
    },
    {
      "cell_type": "code",
      "metadata": {
        "id": "3s_qeCGi6J6M",
        "outputId": "1610d0df-97be-4382-f949-4d7148c9c3b4",
        "colab": {
          "base_uri": "https://localhost:8080/",
          "height": 34
        }
      },
      "source": [
        "A.update({5,6})\n",
        "A"
      ],
      "execution_count": null,
      "outputs": [
        {
          "output_type": "execute_result",
          "data": {
            "text/plain": [
              "{1, 2, 3, 4, 5, 6}"
            ]
          },
          "metadata": {
            "tags": []
          },
          "execution_count": 15
        }
      ]
    },
    {
      "cell_type": "code",
      "metadata": {
        "id": "UtBHXwl48rOu",
        "outputId": "9cec017e-c0a8-43d9-c102-cdc75b1579a6",
        "colab": {
          "base_uri": "https://localhost:8080/",
          "height": 34
        }
      },
      "source": [
        "B={1,2}\n",
        "B.issubset(A)"
      ],
      "execution_count": null,
      "outputs": [
        {
          "output_type": "execute_result",
          "data": {
            "text/plain": [
              "True"
            ]
          },
          "metadata": {
            "tags": []
          },
          "execution_count": 16
        }
      ]
    },
    {
      "cell_type": "code",
      "metadata": {
        "id": "SgDF2KoP811B",
        "outputId": "eea67eec-6579-4904-ce1b-f867e9025ecf",
        "colab": {
          "base_uri": "https://localhost:8080/",
          "height": 34
        }
      },
      "source": [
        "A.union(B)"
      ],
      "execution_count": null,
      "outputs": [
        {
          "output_type": "execute_result",
          "data": {
            "text/plain": [
              "{1, 2, 3, 4, 5, 6}"
            ]
          },
          "metadata": {
            "tags": []
          },
          "execution_count": 17
        }
      ]
    },
    {
      "cell_type": "code",
      "metadata": {
        "id": "fNgFRR6q842u",
        "outputId": "0fe9b024-e247-4efb-aedb-2defe2a00fb0",
        "colab": {
          "base_uri": "https://localhost:8080/",
          "height": 34
        }
      },
      "source": [
        "A.intersection(B)"
      ],
      "execution_count": null,
      "outputs": [
        {
          "output_type": "execute_result",
          "data": {
            "text/plain": [
              "{1, 2}"
            ]
          },
          "metadata": {
            "tags": []
          },
          "execution_count": 18
        }
      ]
    },
    {
      "cell_type": "code",
      "metadata": {
        "id": "TUt-MUWj8994",
        "outputId": "28432924-fc9f-422c-f649-939435d0bfb6",
        "colab": {
          "base_uri": "https://localhost:8080/",
          "height": 34
        }
      },
      "source": [
        "A.difference(B)"
      ],
      "execution_count": null,
      "outputs": [
        {
          "output_type": "execute_result",
          "data": {
            "text/plain": [
              "{3, 4, 5, 6}"
            ]
          },
          "metadata": {
            "tags": []
          },
          "execution_count": 19
        }
      ]
    },
    {
      "cell_type": "markdown",
      "metadata": {
        "id": "p54DA0wv9Fkb"
      },
      "source": [
        "**Set Membership Test**\n",
        "\n",
        "We can test if an item exists in a set or not, using the **in** keyword.\n",
        "\n"
      ]
    },
    {
      "cell_type": "code",
      "metadata": {
        "id": "HWV7-1Gg9P6n",
        "outputId": "f882204b-fbcf-4513-d505-10896eb0029f",
        "colab": {
          "base_uri": "https://localhost:8080/",
          "height": 34
        }
      },
      "source": [
        "my_set = set(\"apple\")\n",
        "print('a' in my_set)"
      ],
      "execution_count": null,
      "outputs": [
        {
          "output_type": "stream",
          "text": [
            "True\n"
          ],
          "name": "stdout"
        }
      ]
    },
    {
      "cell_type": "code",
      "metadata": {
        "id": "SXhO4MPU9S_u",
        "outputId": "1c86e90f-13e2-4c92-9a8e-d5f312772d58",
        "colab": {
          "base_uri": "https://localhost:8080/",
          "height": 34
        }
      },
      "source": [
        "print('p' not in my_set)"
      ],
      "execution_count": null,
      "outputs": [
        {
          "output_type": "stream",
          "text": [
            "False\n"
          ],
          "name": "stdout"
        }
      ]
    },
    {
      "cell_type": "markdown",
      "metadata": {
        "id": "J2d2NNdq9Y6i"
      },
      "source": [
        "**Iterating Through a Set**\n",
        "\n",
        "We can iterate through each item in a set using a **for** loop."
      ]
    },
    {
      "cell_type": "code",
      "metadata": {
        "id": "BBl1D4cf9i3t",
        "outputId": "484a7999-8f49-4e5c-fa14-f0d1884335cd",
        "colab": {
          "base_uri": "https://localhost:8080/",
          "height": 85
        }
      },
      "source": [
        "s={3,2,1,5}\n",
        "for i in s:\n",
        "\tprint(i)"
      ],
      "execution_count": null,
      "outputs": [
        {
          "output_type": "stream",
          "text": [
            "1\n",
            "2\n",
            "3\n",
            "5\n"
          ],
          "name": "stdout"
        }
      ]
    },
    {
      "cell_type": "markdown",
      "metadata": {
        "id": "_VfcYWjZ9uQc"
      },
      "source": [
        "# Python Frozenset"
      ]
    },
    {
      "cell_type": "markdown",
      "metadata": {
        "id": "lZpYZwUQ9zDZ"
      },
      "source": [
        "Frozenset is a new class that has the characteristics of a set, but its **elements cannot be changed once assigned**. While tuples are immutable lists, frozensets are immutable sets.\n",
        "\n",
        "\n",
        "Sets being mutable are unhashable, so they can't be used as dictionary keys. On the other hand, **frozensets are hashable** and can be used as keys to a dictionary.\n",
        "\n",
        "\n",
        "Frozensets can be created using the **frozenset()**function.\n",
        "\n",
        "\n",
        "This data type supports methods like copy(), difference(), intersection(), isdisjoint(), issubset(), issuperset(), symmetric_difference() and union(). Being immutable, it does not have methods that add or remove elements.\n"
      ]
    },
    {
      "cell_type": "code",
      "metadata": {
        "id": "urV1jrmZ-RGp",
        "outputId": "fa17d51f-0976-4c6b-a9a6-8ed34426b7ab",
        "colab": {
          "base_uri": "https://localhost:8080/",
          "height": 34
        }
      },
      "source": [
        "a=frozenset([1,2,3,4])\n",
        "b=frozenset([3,4,5,6])\n",
        "a|b"
      ],
      "execution_count": null,
      "outputs": [
        {
          "output_type": "execute_result",
          "data": {
            "text/plain": [
              "frozenset({1, 2, 3, 4, 5, 6})"
            ]
          },
          "metadata": {
            "tags": []
          },
          "execution_count": 24
        }
      ]
    },
    {
      "cell_type": "code",
      "metadata": {
        "id": "QnFC9Zzw-YAN",
        "outputId": "d2b6aa33-e506-4ee6-d9f0-7b54c83b49c9",
        "colab": {
          "base_uri": "https://localhost:8080/",
          "height": 34
        }
      },
      "source": [
        "a-b"
      ],
      "execution_count": null,
      "outputs": [
        {
          "output_type": "execute_result",
          "data": {
            "text/plain": [
              "frozenset({1, 2})"
            ]
          },
          "metadata": {
            "tags": []
          },
          "execution_count": 25
        }
      ]
    },
    {
      "cell_type": "code",
      "metadata": {
        "id": "BLZlxADV-cdd",
        "outputId": "a8f66f48-c1c7-49a9-c06b-97d13bd9413b",
        "colab": {
          "base_uri": "https://localhost:8080/",
          "height": 34
        }
      },
      "source": [
        "a&b"
      ],
      "execution_count": null,
      "outputs": [
        {
          "output_type": "execute_result",
          "data": {
            "text/plain": [
              "frozenset({3, 4})"
            ]
          },
          "metadata": {
            "tags": []
          },
          "execution_count": 26
        }
      ]
    },
    {
      "cell_type": "code",
      "metadata": {
        "id": "z9dREGrj-fit",
        "outputId": "1b0c45d3-c106-4355-eb79-0713aa083d2d",
        "colab": {
          "base_uri": "https://localhost:8080/",
          "height": 34
        }
      },
      "source": [
        " a.issubset(b)"
      ],
      "execution_count": null,
      "outputs": [
        {
          "output_type": "execute_result",
          "data": {
            "text/plain": [
              "False"
            ]
          },
          "metadata": {
            "tags": []
          },
          "execution_count": 27
        }
      ]
    },
    {
      "cell_type": "code",
      "metadata": {
        "id": "UFlD0sC9-iGz",
        "outputId": "b20d344b-2cea-48dc-88d1-f93e83a75798",
        "colab": {
          "base_uri": "https://localhost:8080/",
          "height": 34
        }
      },
      "source": [
        "c={2,3}\n",
        "c.issubset(a)"
      ],
      "execution_count": null,
      "outputs": [
        {
          "output_type": "execute_result",
          "data": {
            "text/plain": [
              "True"
            ]
          },
          "metadata": {
            "tags": []
          },
          "execution_count": 28
        }
      ]
    },
    {
      "cell_type": "code",
      "metadata": {
        "id": "LgBppQgk-nLF",
        "outputId": "0460610c-3228-4ecd-8057-0fbc8ae26768",
        "colab": {
          "base_uri": "https://localhost:8080/",
          "height": 163
        }
      },
      "source": [
        "a.add(9)"
      ],
      "execution_count": null,
      "outputs": [
        {
          "output_type": "error",
          "ename": "AttributeError",
          "evalue": "ignored",
          "traceback": [
            "\u001b[0;31m---------------------------------------------------------------------------\u001b[0m",
            "\u001b[0;31mAttributeError\u001b[0m                            Traceback (most recent call last)",
            "\u001b[0;32m<ipython-input-29-d9eeecdf404d>\u001b[0m in \u001b[0;36m<module>\u001b[0;34m()\u001b[0m\n\u001b[0;32m----> 1\u001b[0;31m \u001b[0ma\u001b[0m\u001b[0;34m.\u001b[0m\u001b[0madd\u001b[0m\u001b[0;34m(\u001b[0m\u001b[0;36m9\u001b[0m\u001b[0;34m)\u001b[0m\u001b[0;34m\u001b[0m\u001b[0;34m\u001b[0m\u001b[0m\n\u001b[0m",
            "\u001b[0;31mAttributeError\u001b[0m: 'frozenset' object has no attribute 'add'"
          ]
        }
      ]
    },
    {
      "cell_type": "code",
      "metadata": {
        "id": "jNPYZkyH-sNI",
        "outputId": "6e52c5c6-5c8a-46d1-f258-a4a92428aa03",
        "colab": {
          "base_uri": "https://localhost:8080/",
          "height": 163
        }
      },
      "source": [
        "a.remove(2)"
      ],
      "execution_count": null,
      "outputs": [
        {
          "output_type": "error",
          "ename": "AttributeError",
          "evalue": "ignored",
          "traceback": [
            "\u001b[0;31m---------------------------------------------------------------------------\u001b[0m",
            "\u001b[0;31mAttributeError\u001b[0m                            Traceback (most recent call last)",
            "\u001b[0;32m<ipython-input-30-e16cf4402f25>\u001b[0m in \u001b[0;36m<module>\u001b[0;34m()\u001b[0m\n\u001b[0;32m----> 1\u001b[0;31m \u001b[0ma\u001b[0m\u001b[0;34m.\u001b[0m\u001b[0mremove\u001b[0m\u001b[0;34m(\u001b[0m\u001b[0;36m2\u001b[0m\u001b[0;34m)\u001b[0m\u001b[0;34m\u001b[0m\u001b[0;34m\u001b[0m\u001b[0m\n\u001b[0m",
            "\u001b[0;31mAttributeError\u001b[0m: 'frozenset' object has no attribute 'remove'"
          ]
        }
      ]
    },
    {
      "cell_type": "markdown",
      "metadata": {
        "id": "i8fmPEp0_TY0"
      },
      "source": [
        "# Example Programs"
      ]
    },
    {
      "cell_type": "markdown",
      "metadata": {
        "id": "LQoXHdzG_VMU"
      },
      "source": [
        "Write a program to do basic set operations"
      ]
    },
    {
      "cell_type": "code",
      "metadata": {
        "id": "3EPVSSPK_dCa",
        "outputId": "b3a9388d-5e0a-4ed3-d37c-a55d45cae226",
        "colab": {
          "base_uri": "https://localhost:8080/",
          "height": 408
        }
      },
      "source": [
        "na=int(input('Enter number of elements of the set A ..'))\n",
        "A=set()\n",
        "print(\"Enter the elements of set A...\")\n",
        "for i in range(na):\n",
        "    x=int(input())\n",
        "    A.add(x)\n",
        "nb=int(input('Enter number of elements of the set B ..'))\n",
        "B=set()\n",
        "print(\"Enter the elements of set B...\")\n",
        "for i in range(nb):\n",
        "    x=int(input())\n",
        "    B.add(x)\n",
        "print(\"set operations..\")\n",
        "print(\"union\")\n",
        "print(A|B)\n",
        "print(\"Intersection\")\n",
        "print(A&B)\n",
        "print(\"Difference A-B and B-A\")\n",
        "print(A-B)\n",
        "print(B-A)\n",
        "print(\"symmetric Difference\")\n",
        "print(A^B)"
      ],
      "execution_count": null,
      "outputs": [
        {
          "output_type": "stream",
          "text": [
            "Enter number of elements of the set A ..5\n",
            "Enter the elements of set A...\n",
            "1\n",
            "2\n",
            "3\n",
            "4\n",
            "5\n",
            "Enter number of elements of the set B ..4\n",
            "Enter the elements of set B...\n",
            "2\n",
            "4\n",
            "6\n",
            "8\n",
            "set operations..\n",
            "union\n",
            "{1, 2, 3, 4, 5, 6, 8}\n",
            "Intersection\n",
            "{2, 4}\n",
            "Difference A-B and B-A\n",
            "{1, 3, 5}\n",
            "{8, 6}\n",
            "symmetric Difference\n",
            "{1, 3, 5, 6, 8}\n"
          ],
          "name": "stdout"
        }
      ]
    },
    {
      "cell_type": "markdown",
      "metadata": {
        "id": "boMO7Wwx_-Mc"
      },
      "source": [
        "2.  remove duplicate elements from a list "
      ]
    },
    {
      "cell_type": "code",
      "metadata": {
        "id": "LGf7VcpuABU0",
        "outputId": "646848e8-00f5-4db6-ae52-c45948a2a38a",
        "colab": {
          "base_uri": "https://localhost:8080/",
          "height": 187
        }
      },
      "source": [
        "#The simple way to remove duplicate elements from a list is to convert into a set and then convert back to list\n",
        "lst=[]\n",
        "n=int(input(\"enter how many numbers..\"))\n",
        "print(\"Enter elements...\")\n",
        "for i in range(n):\n",
        "    x=int(input())\n",
        "    lst.append(x)\n",
        "nlst=list(set(lst))\n",
        "print(\"new list after removing duplicates\")\n",
        "print(nlst)"
      ],
      "execution_count": null,
      "outputs": [
        {
          "output_type": "stream",
          "text": [
            "enter how many numbers..6\n",
            "Enter elements...\n",
            "2\n",
            "5\n",
            "7\n",
            "8\n",
            "7\n",
            "3\n",
            "new list after removing duplicates\n",
            "[2, 3, 5, 7, 8]\n"
          ],
          "name": "stdout"
        }
      ]
    },
    {
      "cell_type": "markdown",
      "metadata": {
        "id": "01Ka3eaVAz1Y"
      },
      "source": [
        "3.completely remove duplicate elements without keeping any copy."
      ]
    },
    {
      "cell_type": "code",
      "metadata": {
        "id": "F7nyiAOqA2L8",
        "outputId": "747966df-d1bc-4baa-b4fb-e1aa5fd7e736",
        "colab": {
          "base_uri": "https://localhost:8080/",
          "height": 204
        }
      },
      "source": [
        "n=int(input('Enter number of elements of the list ..'))\n",
        "lst=[]\n",
        "print(\"Enter the elements...\")\n",
        "for i in range(n):\n",
        "    x=int(input())\n",
        "    lst.append(x)\n",
        "nlst=list(set(lst)) # new list with only one copy\n",
        "print(\"new list with only one copy...\")\n",
        "print(nlst)\n",
        "nlwd=[] # new list without duplicates\n",
        "for i in nlst:\n",
        "    if lst.count(i)==1: #non duplicate element\n",
        "        nlwd.append(i)\n",
        "print(\"New list after removing duplicates completely...\")\n",
        "print(nlwd)"
      ],
      "execution_count": null,
      "outputs": [
        {
          "output_type": "stream",
          "text": [
            "Enter number of elements of the list ..6\n",
            "Enter the elements...\n",
            "2\n",
            "5\n",
            "7\n",
            "8\n",
            "7\n",
            "3\n",
            "[2, 3, 5, 7, 8]\n",
            "New list after removing duplicates completely...\n",
            "[2, 3, 5, 8]\n"
          ],
          "name": "stdout"
        }
      ]
    }
  ]
}