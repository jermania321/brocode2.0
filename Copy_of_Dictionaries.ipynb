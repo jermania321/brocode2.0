{
  "nbformat": 4,
  "nbformat_minor": 0,
  "metadata": {
    "colab": {
      "name": "Copy of Dictionaries.ipynb",
      "provenance": [],
      "toc_visible": true,
      "include_colab_link": true
    },
    "kernelspec": {
      "name": "python3",
      "display_name": "Python 3"
    }
  },
  "cells": [
    {
      "cell_type": "markdown",
      "metadata": {
        "id": "view-in-github",
        "colab_type": "text"
      },
      "source": [
        "<a href=\"https://colab.research.google.com/github/jermania321/brocode2.0/blob/master/Copy_of_Dictionaries.ipynb\" target=\"_parent\"><img src=\"https://colab.research.google.com/assets/colab-badge.svg\" alt=\"Open In Colab\"/></a>"
      ]
    },
    {
      "cell_type": "markdown",
      "metadata": {
        "id": "KngfF4euPdr8"
      },
      "source": [
        "# **Dictionaries**"
      ]
    },
    {
      "cell_type": "markdown",
      "metadata": {
        "id": "i_K9TRVCPkdU"
      },
      "source": [
        "**List organize their element by position**. This mode of organization is useful when you want to locate the first element, the last element or visit each element in sequence."
      ]
    },
    {
      "cell_type": "markdown",
      "metadata": {
        "id": "nhYBAUXUP3HB"
      },
      "source": [
        "A dictionary organizes **information by association**, not position.\n",
        "We can refer to a dictionary as a mapping between a set of indices (which are called **keys**) and a set of **values**.Each key maps a value. The association of a key and a value is called a **key-value pair**.\n",
        "\n"
      ]
    },
    {
      "cell_type": "markdown",
      "metadata": {
        "id": "hRyDhL-OQmmm"
      },
      "source": [
        "A dictionary is an extremely useful data storage construct for storing and retrieving all key value pairs, where each element is accessed (or indexed) by a unique key"
      ]
    },
    {
      "cell_type": "markdown",
      "metadata": {
        "id": "OguE5N8zQ64S"
      },
      "source": [
        "* Dictionaries are **mutable**.\n",
        "* Dictionaries are **unordered**.\n",
        "* **Items** in dictionaries are **accessed via keys** and not via their position.\n",
        "* A dictionary is an **associative array** (also known as **hashes**). Any key of the dictionary is associated (or mapped) to a value. \n",
        "* The values of a dictionary can be any Python data type. So dictionaries are unordered key-value-pairs.\n",
        "* Dictionaries don't support the sequence operation of the sequence data types like strings, tuples and lists.\n",
        "* Dictionaries belong to the built-in mapping type."
      ]
    },
    {
      "cell_type": "markdown",
      "metadata": {
        "id": "6jZtNfW-RlyK"
      },
      "source": [
        "# **Creating Python Dictionary**"
      ]
    },
    {
      "cell_type": "markdown",
      "metadata": {
        "id": "UNvoUr59Rnn6"
      },
      "source": [
        "Creating a dictionary is as simple as placing items inside **curly braces {}** separated by commas.\n",
        "An item has a key and a corresponding value that is expressed as a pair (**key: value**)."
      ]
    },
    {
      "cell_type": "markdown",
      "metadata": {
        "id": "lTXSoMajR5hG"
      },
      "source": [
        "While the **values can be of any data type and can repeat**, **keys must be of immutable type (string, number or tuple with immutable elements) and must be unique **."
      ]
    },
    {
      "cell_type": "markdown",
      "metadata": {
        "id": "eroNGDYlSG9i"
      },
      "source": [
        "The following is the general **syntax** for creating a dictionary."
      ]
    },
    {
      "cell_type": "code",
      "metadata": {
        "id": "5LGWXHMOSLY4"
      },
      "source": [
        "D = {'key1': 'value1','key2': 'value2','key3': 'value3'…'keyn': 'valuen'}"
      ],
      "execution_count": null,
      "outputs": []
    },
    {
      "cell_type": "markdown",
      "metadata": {
        "id": "Q97tn0hGSJaG"
      },
      "source": [
        "Each key is separated from its value by a **colon (:)**, the items are separated by commas, and the whole thing is enclosed in **curly braces {}**."
      ]
    },
    {
      "cell_type": "markdown",
      "metadata": {
        "id": "seSUOPHOTTjY"
      },
      "source": [
        "**Empty dictionary**"
      ]
    },
    {
      "cell_type": "code",
      "metadata": {
        "id": "A0k4xR1QPZVQ"
      },
      "source": [
        "d = {}"
      ],
      "execution_count": null,
      "outputs": []
    },
    {
      "cell_type": "markdown",
      "metadata": {
        "id": "XnN6fexNT7Ub"
      },
      "source": [
        "using **dict()**"
      ]
    },
    {
      "cell_type": "code",
      "metadata": {
        "id": "4cCvxSiYTfrk"
      },
      "source": [
        "d = dict()"
      ],
      "execution_count": null,
      "outputs": []
    },
    {
      "cell_type": "code",
      "metadata": {
        "id": "_i86zofgVMst",
        "outputId": "c5316c7e-b506-45e2-ae66-38be121b48ea",
        "colab": {
          "base_uri": "https://localhost:8080/",
          "height": 34
        }
      },
      "source": [
        "d = dict({1:'apple', 2:'ball'}) \n",
        "print(d)"
      ],
      "execution_count": null,
      "outputs": [
        {
          "output_type": "stream",
          "text": [
            "{1: 'apple', 2: 'ball'}\n"
          ],
          "name": "stdout"
        }
      ]
    },
    {
      "cell_type": "markdown",
      "metadata": {
        "id": "QQMVxaZiUdje"
      },
      "source": [
        "Dictionary with integer keys"
      ]
    },
    {
      "cell_type": "code",
      "metadata": {
        "id": "ghJkZfOLUYB-",
        "outputId": "82c8a6b6-cffe-4321-d431-19a3a41c8afd",
        "colab": {
          "base_uri": "https://localhost:8080/",
          "height": 34
        }
      },
      "source": [
        "d = {}\n",
        "d[1] = 'apple'\n",
        "d[2] = 'mango'\n",
        "print(d)"
      ],
      "execution_count": null,
      "outputs": [
        {
          "output_type": "stream",
          "text": [
            "{'name': 'apple', 2: 'mango'}\n"
          ],
          "name": "stdout"
        }
      ]
    },
    {
      "cell_type": "code",
      "metadata": {
        "id": "nYu7WTIcUmBG",
        "outputId": "b2f6e8a9-c6fd-4b98-8687-c1135816108e",
        "colab": {
          "base_uri": "https://localhost:8080/",
          "height": 34
        }
      },
      "source": [
        "d = {1: 'apple', 2: 'ball'} \n",
        "print(d)"
      ],
      "execution_count": null,
      "outputs": [
        {
          "output_type": "stream",
          "text": [
            "{1: 'apple', 2: 'ball'}\n"
          ],
          "name": "stdout"
        }
      ]
    },
    {
      "cell_type": "markdown",
      "metadata": {
        "id": "8tTcqoASUB-3"
      },
      "source": [
        "Dictionary with mixed keys "
      ]
    },
    {
      "cell_type": "code",
      "metadata": {
        "id": "uCTRoQbUU1rU"
      },
      "source": [
        "my_dict = {'name': 'John', 1: [2, 4, 3]} "
      ],
      "execution_count": null,
      "outputs": []
    },
    {
      "cell_type": "markdown",
      "metadata": {
        "id": "Z66pww2EZRP6"
      },
      "source": [
        "Creating a dictionary with each item as a pair "
      ]
    },
    {
      "cell_type": "code",
      "metadata": {
        "id": "ANN09W-NZSg2",
        "outputId": "97d4f10d-9792-4375-8b08-f8c3691fbf30",
        "colab": {
          "base_uri": "https://localhost:8080/",
          "height": 34
        }
      },
      "source": [
        "my_dict = dict([(1,'apple'), (2,'ball')])\n",
        "print(my_dict)\n"
      ],
      "execution_count": null,
      "outputs": [
        {
          "output_type": "stream",
          "text": [
            "{1: 'apple', 2: 'ball'}\n"
          ],
          "name": "stdout"
        }
      ]
    },
    {
      "cell_type": "markdown",
      "metadata": {
        "id": "vc9AZPHOZfz5"
      },
      "source": [
        "Dictionaries can also be created from list. Two List can be combined into a list of tuples using the **zip()** function.The list can then be converted into a dictionary using **dict()** function."
      ]
    },
    {
      "cell_type": "code",
      "metadata": {
        "id": "6ZqoyVGeZjx-",
        "outputId": "9a314a3e-b64a-4c74-dc97-123064af7487",
        "colab": {
          "base_uri": "https://localhost:8080/",
          "height": 34
        }
      },
      "source": [
        "L1=[1,2,3]\n",
        "L2=[10,20,30]\n",
        "dict(zip(L1,L2))"
      ],
      "execution_count": null,
      "outputs": [
        {
          "output_type": "execute_result",
          "data": {
            "text/plain": [
              "{1: 10, 2: 20, 3: 30}"
            ]
          },
          "metadata": {
            "tags": []
          },
          "execution_count": 4
        }
      ]
    },
    {
      "cell_type": "markdown",
      "metadata": {
        "id": "6Yoqb8uzdnKa"
      },
      "source": [
        "**Nested Dictionary**"
      ]
    },
    {
      "cell_type": "code",
      "metadata": {
        "id": "t6-N4W8idrnV"
      },
      "source": [
        "d = {1:'Hai', 2:'Bob',3:{'A':'Welcome','B':'to','C':'Python'}}"
      ],
      "execution_count": null,
      "outputs": []
    },
    {
      "cell_type": "markdown",
      "metadata": {
        "id": "H10M2ZrkcKt1"
      },
      "source": [
        "# **Accessing Elements from Dictionary**"
      ]
    },
    {
      "cell_type": "markdown",
      "metadata": {
        "id": "4lqVYIJGcMas"
      },
      "source": [
        "While indexing is used with other data types to access values, **a dictionary uses keys**. Keys can be used either inside **square brackets [] or with the get() method**."
      ]
    },
    {
      "cell_type": "markdown",
      "metadata": {
        "id": "auCtm4wDcTEk"
      },
      "source": [
        "If we use the square brackets [], **KeyError** is raised in case a key is not found in the dictionary. On the other hand, the **get() method returns None** if the key is not found"
      ]
    },
    {
      "cell_type": "code",
      "metadata": {
        "id": "bX0WUKJRc5S6",
        "outputId": "9cfc91e0-be1a-411f-99c1-f1c189551c4e",
        "colab": {
          "base_uri": "https://localhost:8080/",
          "height": 34
        }
      },
      "source": [
        "my_dict = {'name': 'Jack', 'age': 26}\n",
        "print(my_dict['name'])"
      ],
      "execution_count": null,
      "outputs": [
        {
          "output_type": "stream",
          "text": [
            "Jack\n"
          ],
          "name": "stdout"
        }
      ]
    },
    {
      "cell_type": "code",
      "metadata": {
        "id": "sNBaRDVwdNLq",
        "outputId": "d5b9e691-df22-454e-c7b7-cfb0d6b2cf9a",
        "colab": {
          "base_uri": "https://localhost:8080/",
          "height": 34
        }
      },
      "source": [
        "my_dict = {'name': 'Jack', 'age': 26}\n",
        "print(my_dict.get('age'))"
      ],
      "execution_count": null,
      "outputs": [
        {
          "output_type": "stream",
          "text": [
            "26\n"
          ],
          "name": "stdout"
        }
      ]
    },
    {
      "cell_type": "code",
      "metadata": {
        "id": "vwkuZip4dEsF",
        "outputId": "d3d16b3e-9982-4bb5-d28a-51f090ed0e69",
        "colab": {
          "base_uri": "https://localhost:8080/",
          "height": 180
        }
      },
      "source": [
        "my_dict = {'name': 'Jack', 'age': 26}\n",
        "print(my_dict['names'])"
      ],
      "execution_count": null,
      "outputs": [
        {
          "output_type": "error",
          "ename": "KeyError",
          "evalue": "ignored",
          "traceback": [
            "\u001b[0;31m---------------------------------------------------------------------------\u001b[0m",
            "\u001b[0;31mKeyError\u001b[0m                                  Traceback (most recent call last)",
            "\u001b[0;32m<ipython-input-4-55383e2ec650>\u001b[0m in \u001b[0;36m<module>\u001b[0;34m()\u001b[0m\n\u001b[1;32m      1\u001b[0m \u001b[0mmy_dict\u001b[0m \u001b[0;34m=\u001b[0m \u001b[0;34m{\u001b[0m\u001b[0;34m'name'\u001b[0m\u001b[0;34m:\u001b[0m \u001b[0;34m'Jack'\u001b[0m\u001b[0;34m,\u001b[0m \u001b[0;34m'age'\u001b[0m\u001b[0;34m:\u001b[0m \u001b[0;36m26\u001b[0m\u001b[0;34m}\u001b[0m\u001b[0;34m\u001b[0m\u001b[0;34m\u001b[0m\u001b[0m\n\u001b[0;32m----> 2\u001b[0;31m \u001b[0mprint\u001b[0m\u001b[0;34m(\u001b[0m\u001b[0mmy_dict\u001b[0m\u001b[0;34m[\u001b[0m\u001b[0;34m'names'\u001b[0m\u001b[0;34m]\u001b[0m\u001b[0;34m)\u001b[0m\u001b[0;34m\u001b[0m\u001b[0;34m\u001b[0m\u001b[0m\n\u001b[0m",
            "\u001b[0;31mKeyError\u001b[0m: 'names'"
          ]
        }
      ]
    },
    {
      "cell_type": "code",
      "metadata": {
        "id": "yk3IUD8gdXUG"
      },
      "source": [
        "my_dict = {'name': 'Jack', 'age': 26}\n",
        "print(my_dict.get('address'))"
      ],
      "execution_count": null,
      "outputs": []
    },
    {
      "cell_type": "markdown",
      "metadata": {
        "id": "ZacnUCwP5yi0"
      },
      "source": [
        "# **Changing and Adding Dictionary elements**"
      ]
    },
    {
      "cell_type": "markdown",
      "metadata": {
        "id": "TwuWL4BF502O"
      },
      "source": [
        "Dictionaries are mutable. We can add new items or change the value of existing items using an **assignment operator**"
      ]
    },
    {
      "cell_type": "markdown",
      "metadata": {
        "id": "P8PvgwGQ7qRy"
      },
      "source": [
        "If the key is already present, then the existing value gets updated. In case the key is not present, a new (key: value) pair is added to the dictionary."
      ]
    },
    {
      "cell_type": "code",
      "metadata": {
        "id": "wX2tRGYg72KZ",
        "outputId": "483b421a-8318-4047-e25e-6f8c00d8ba22",
        "colab": {
          "base_uri": "https://localhost:8080/",
          "height": 34
        }
      },
      "source": [
        "my_dict = {'name': 'Jack', 'age': 26}\n",
        "my_dict['age'] = 27\n",
        "print(my_dict)"
      ],
      "execution_count": null,
      "outputs": [
        {
          "output_type": "stream",
          "text": [
            "{'name': 'Jack', 'age': 27}\n"
          ],
          "name": "stdout"
        }
      ]
    },
    {
      "cell_type": "code",
      "metadata": {
        "id": "z0C-KTNx79dk",
        "outputId": "22492cb8-fc5e-4c95-8a79-8215426ae0b4",
        "colab": {
          "base_uri": "https://localhost:8080/",
          "height": 34
        }
      },
      "source": [
        "my_dict = {'name': 'Jack', 'age': 26}\n",
        "my_dict['address'] = 'Downtown'\n",
        "print(my_dict)"
      ],
      "execution_count": null,
      "outputs": [
        {
          "output_type": "stream",
          "text": [
            "{'name': 'Jack', 'age': 26, 'address': 'Downtown'}\n"
          ],
          "name": "stdout"
        }
      ]
    },
    {
      "cell_type": "markdown",
      "metadata": {
        "id": "TBNoccoO8NuH"
      },
      "source": [
        "# **Removing elements from Dictionary**"
      ]
    },
    {
      "cell_type": "markdown",
      "metadata": {
        "id": "vBTe-uf98WmI"
      },
      "source": [
        "We can remove a particular item in a dictionary by using the **pop()** method. This method removes an item with the provided key and returns the value.\n"
      ]
    },
    {
      "cell_type": "markdown",
      "metadata": {
        "id": "gS7FxWPH8ZLy"
      },
      "source": [
        "The **popitem()** method can be used to pop out the last item from the dictionary. All the items can be removed at once, using the **clear()** method."
      ]
    },
    {
      "cell_type": "markdown",
      "metadata": {
        "id": "QBkV3UDX8sa-"
      },
      "source": [
        "We can also use the **del** keyword to remove individual items or the entire dictionary itself."
      ]
    },
    {
      "cell_type": "code",
      "metadata": {
        "id": "-XoDY69u8wO0",
        "outputId": "e8f3d1a3-8652-414b-ab9b-b1c3f3fe80d8",
        "colab": {
          "base_uri": "https://localhost:8080/",
          "height": 34
        }
      },
      "source": [
        "squares = {1: 1, 2: 4, 3: 9, 4: 16, 5: 25}\n",
        "squares.pop(4)\n",
        "print(squares)"
      ],
      "execution_count": null,
      "outputs": [
        {
          "output_type": "stream",
          "text": [
            "{1: 1, 2: 4, 3: 9, 5: 25}\n"
          ],
          "name": "stdout"
        }
      ]
    },
    {
      "cell_type": "code",
      "metadata": {
        "id": "r6RWUivE9N9_",
        "outputId": "f0b897f8-ebf3-47c7-c03b-7e78ec91641e",
        "colab": {
          "base_uri": "https://localhost:8080/",
          "height": 34
        }
      },
      "source": [
        "squares = {1: 1, 2: 4, 3: 9, 4: 16, 5: 25}\n",
        "squares.popitem()\n",
        "print(squares)"
      ],
      "execution_count": null,
      "outputs": [
        {
          "output_type": "stream",
          "text": [
            "{1: 1, 2: 4, 3: 9, 4: 16}\n"
          ],
          "name": "stdout"
        }
      ]
    },
    {
      "cell_type": "code",
      "metadata": {
        "id": "UAh-zBpf90Da",
        "outputId": "e769f5e9-45df-446e-f499-af6be0994cc6",
        "colab": {
          "base_uri": "https://localhost:8080/",
          "height": 34
        }
      },
      "source": [
        "squares = {1: 1, 2: 4, 3: 9, 4: 16, 5: 25}\n",
        "squares.clear()\n",
        "print(squares)"
      ],
      "execution_count": null,
      "outputs": [
        {
          "output_type": "stream",
          "text": [
            "{}\n"
          ],
          "name": "stdout"
        }
      ]
    },
    {
      "cell_type": "code",
      "metadata": {
        "id": "pZPMrbhf_FM2",
        "outputId": "8c9ed701-9812-4472-c490-8dc09c16005a",
        "colab": {
          "base_uri": "https://localhost:8080/",
          "height": 34
        }
      },
      "source": [
        "squares = {1: 1, 2: 4, 3: 9, 4: 16, 5: 25}\n",
        "del(squares[1])\n",
        "print(squares)"
      ],
      "execution_count": null,
      "outputs": [
        {
          "output_type": "stream",
          "text": [
            "{2: 4, 3: 9, 4: 16, 5: 25}\n"
          ],
          "name": "stdout"
        }
      ]
    },
    {
      "cell_type": "code",
      "metadata": {
        "id": "cUfY9On0_Nm7",
        "outputId": "72f86dd8-c5aa-4322-b517-bb9bcf81cd8e",
        "colab": {
          "base_uri": "https://localhost:8080/",
          "height": 197
        }
      },
      "source": [
        "squares = {1: 1, 2: 4, 3: 9, 4: 16, 5: 25}\n",
        "del squares\n",
        "print(squares)"
      ],
      "execution_count": null,
      "outputs": [
        {
          "output_type": "error",
          "ename": "NameError",
          "evalue": "ignored",
          "traceback": [
            "\u001b[0;31m---------------------------------------------------------------------------\u001b[0m",
            "\u001b[0;31mNameError\u001b[0m                                 Traceback (most recent call last)",
            "\u001b[0;32m<ipython-input-12-82175c0d73a0>\u001b[0m in \u001b[0;36m<module>\u001b[0;34m()\u001b[0m\n\u001b[1;32m      1\u001b[0m \u001b[0msquares\u001b[0m \u001b[0;34m=\u001b[0m \u001b[0;34m{\u001b[0m\u001b[0;36m1\u001b[0m\u001b[0;34m:\u001b[0m \u001b[0;36m1\u001b[0m\u001b[0;34m,\u001b[0m \u001b[0;36m2\u001b[0m\u001b[0;34m:\u001b[0m \u001b[0;36m4\u001b[0m\u001b[0;34m,\u001b[0m \u001b[0;36m3\u001b[0m\u001b[0;34m:\u001b[0m \u001b[0;36m9\u001b[0m\u001b[0;34m,\u001b[0m \u001b[0;36m4\u001b[0m\u001b[0;34m:\u001b[0m \u001b[0;36m16\u001b[0m\u001b[0;34m,\u001b[0m \u001b[0;36m5\u001b[0m\u001b[0;34m:\u001b[0m \u001b[0;36m25\u001b[0m\u001b[0;34m}\u001b[0m\u001b[0;34m\u001b[0m\u001b[0;34m\u001b[0m\u001b[0m\n\u001b[1;32m      2\u001b[0m \u001b[0;32mdel\u001b[0m \u001b[0msquares\u001b[0m\u001b[0;34m\u001b[0m\u001b[0;34m\u001b[0m\u001b[0m\n\u001b[0;32m----> 3\u001b[0;31m \u001b[0mprint\u001b[0m\u001b[0;34m(\u001b[0m\u001b[0msquares\u001b[0m\u001b[0;34m)\u001b[0m\u001b[0;34m\u001b[0m\u001b[0;34m\u001b[0m\u001b[0m\n\u001b[0m",
            "\u001b[0;31mNameError\u001b[0m: name 'squares' is not defined"
          ]
        }
      ]
    },
    {
      "cell_type": "markdown",
      "metadata": {
        "id": "0AxHXlcS82KM"
      },
      "source": [
        "# **Python Dictionary Built-in Functions**"
      ]
    },
    {
      "cell_type": "markdown",
      "metadata": {
        "id": "eh4HDDca_Tj7"
      },
      "source": [
        "Built-in functions like **all(), any(), len(), cmp(), sorted()**, etc. are commonly used with dictionaries to perform different tasks."
      ]
    },
    {
      "cell_type": "code",
      "metadata": {
        "id": "uFXXN0AI_zEa",
        "outputId": "32484239-0b40-4a6a-bb29-dd26d092ded4",
        "colab": {
          "base_uri": "https://localhost:8080/",
          "height": 34
        }
      },
      "source": [
        "squares = {0: 0, 1: 1, 3: 9, 5: 25, 7: 49, 9: 81}\n",
        "len(squares)"
      ],
      "execution_count": null,
      "outputs": [
        {
          "output_type": "execute_result",
          "data": {
            "text/plain": [
              "6"
            ]
          },
          "metadata": {
            "tags": []
          },
          "execution_count": 13
        }
      ]
    },
    {
      "cell_type": "markdown",
      "metadata": {
        "id": "rgUoliNz_ZFP"
      },
      "source": [
        "**all()** - Return True if all keys of the dictionary are True (or if the dictionary is empty)."
      ]
    },
    {
      "cell_type": "code",
      "metadata": {
        "id": "IK561AQACQNV",
        "outputId": "fd027ed9-4c19-4494-ba12-455406092738",
        "colab": {
          "base_uri": "https://localhost:8080/",
          "height": 34
        }
      },
      "source": [
        "squares = {0: 0, 1: 1, 3: 9, 5: 25, 7: 49, 9: 81}\n",
        "all(squares)"
      ],
      "execution_count": null,
      "outputs": [
        {
          "output_type": "execute_result",
          "data": {
            "text/plain": [
              "False"
            ]
          },
          "metadata": {
            "tags": []
          },
          "execution_count": 14
        }
      ]
    },
    {
      "cell_type": "markdown",
      "metadata": {
        "id": "0MxIrecECfv8"
      },
      "source": [
        "**any()** - Return True if any key of the dictionary is true. If the dictionary is empty, return False."
      ]
    },
    {
      "cell_type": "code",
      "metadata": {
        "id": "A1CrTXIbC2ll",
        "outputId": "f3de2bf9-fef4-48d0-ba6b-dab6dc2f1f86",
        "colab": {
          "base_uri": "https://localhost:8080/",
          "height": 34
        }
      },
      "source": [
        "squares = {0: 0, 1: 1, 3: 9, 5: 25, 7: 49, 9: 81}\n",
        "any(squares)"
      ],
      "execution_count": null,
      "outputs": [
        {
          "output_type": "execute_result",
          "data": {
            "text/plain": [
              "True"
            ]
          },
          "metadata": {
            "tags": []
          },
          "execution_count": 15
        }
      ]
    },
    {
      "cell_type": "markdown",
      "metadata": {
        "id": "HIyjkxENC92Z"
      },
      "source": [
        "**sorted()** - Return a new sorted list of keys in the dictionary."
      ]
    },
    {
      "cell_type": "code",
      "metadata": {
        "id": "k-RYq-DIC-Im",
        "outputId": "fefd737a-9a30-4175-9bed-f75d48f123dd",
        "colab": {
          "base_uri": "https://localhost:8080/",
          "height": 34
        }
      },
      "source": [
        "squares = {0: 0, 1: 1, 3: 9, 5: 25, 7: 49, 9: 81}\n",
        "sorted(squares)"
      ],
      "execution_count": null,
      "outputs": [
        {
          "output_type": "execute_result",
          "data": {
            "text/plain": [
              "[0, 1, 3, 5, 7, 9]"
            ]
          },
          "metadata": {
            "tags": []
          },
          "execution_count": 16
        }
      ]
    },
    {
      "cell_type": "markdown",
      "metadata": {
        "id": "__8RZg3UC-qx"
      },
      "source": [
        "# **Python Dictionary Methods**"
      ]
    },
    {
      "cell_type": "markdown",
      "metadata": {
        "id": "-6FD-zlfD_I0"
      },
      "source": [
        "**keys() values() and items()** returns **keys, values and key:value** pairs as lists"
      ]
    },
    {
      "cell_type": "code",
      "metadata": {
        "id": "XPn7yPOFC_BI",
        "outputId": "bf155862-15a7-4dc6-bdae-a9baad3fdd7d",
        "colab": {
          "base_uri": "https://localhost:8080/",
          "height": 34
        }
      },
      "source": [
        "D={1:10,2:20,3:30}\n",
        "D.keys()"
      ],
      "execution_count": null,
      "outputs": [
        {
          "output_type": "execute_result",
          "data": {
            "text/plain": [
              "dict_keys([1, 2, 3])"
            ]
          },
          "metadata": {
            "tags": []
          },
          "execution_count": 17
        }
      ]
    },
    {
      "cell_type": "code",
      "metadata": {
        "id": "dJ3LC645C_qU",
        "outputId": "14db3935-699b-4807-a0db-b3e32be4dea8",
        "colab": {
          "base_uri": "https://localhost:8080/",
          "height": 34
        }
      },
      "source": [
        "D={1:10,2:20,3:30}\n",
        "D.values()"
      ],
      "execution_count": null,
      "outputs": [
        {
          "output_type": "execute_result",
          "data": {
            "text/plain": [
              "dict_values([10, 20, 30])"
            ]
          },
          "metadata": {
            "tags": []
          },
          "execution_count": 18
        }
      ]
    },
    {
      "cell_type": "code",
      "metadata": {
        "id": "AsxJa3arPtYf",
        "outputId": "d777dd69-7f8a-4905-e5cf-8a1ec467fab4",
        "colab": {
          "base_uri": "https://localhost:8080/",
          "height": 34
        }
      },
      "source": [
        "D={1:10,2:20,3:30}\n",
        "D.items()"
      ],
      "execution_count": null,
      "outputs": [
        {
          "output_type": "execute_result",
          "data": {
            "text/plain": [
              "dict_items([(1, 10), (2, 20), (3, 30)])"
            ]
          },
          "metadata": {
            "tags": []
          },
          "execution_count": 19
        }
      ]
    },
    {
      "cell_type": "markdown",
      "metadata": {
        "id": "lmnCclzuP7wp"
      },
      "source": [
        "Tuples can also be used as key"
      ]
    },
    {
      "cell_type": "code",
      "metadata": {
        "id": "crRyEslKP82q",
        "outputId": "1a652599-10ce-412a-ded3-68c73fbbb6c3",
        "colab": {
          "base_uri": "https://localhost:8080/",
          "height": 34
        }
      },
      "source": [
        "D={(1,2):10,(2,3):20}\n",
        "D.keys()"
      ],
      "execution_count": null,
      "outputs": [
        {
          "output_type": "execute_result",
          "data": {
            "text/plain": [
              "dict_keys([(1, 2), (2, 3)])"
            ]
          },
          "metadata": {
            "tags": []
          },
          "execution_count": 20
        }
      ]
    },
    {
      "cell_type": "markdown",
      "metadata": {
        "id": "RruBSC_VQDUR"
      },
      "source": [
        "**copy()** method is used to create a copy of the dictionary. Note that assigning one dictionary object to another does not create a copy. It will create an alias only."
      ]
    },
    {
      "cell_type": "code",
      "metadata": {
        "id": "L56dKgYJQIeu",
        "outputId": "193668e4-5254-47e8-fbbc-b834498e2321",
        "colab": {
          "base_uri": "https://localhost:8080/"
        }
      },
      "source": [
        "D={1:10,2:20,3:30}\n",
        "C=D.copy()\n",
        "C"
      ],
      "execution_count": null,
      "outputs": [
        {
          "output_type": "execute_result",
          "data": {
            "text/plain": [
              "{1: 10, 2: 20, 3: 30}"
            ]
          },
          "metadata": {
            "tags": []
          },
          "execution_count": 1
        }
      ]
    },
    {
      "cell_type": "markdown",
      "metadata": {
        "id": "1yTtxhb8Qynv"
      },
      "source": [
        "# **Merging Dictionaries**"
      ]
    },
    {
      "cell_type": "markdown",
      "metadata": {
        "id": "k2v0wFjRQ2-J"
      },
      "source": [
        "Two dictionaries can be merged in to one by using **update()** method. It merges the keys and values of one dictionary into another and overwrites values of the same key."
      ]
    },
    {
      "cell_type": "code",
      "metadata": {
        "id": "k5fUhU_gQ8uk",
        "outputId": "e3b05569-997a-424e-d39b-f86a042c0896",
        "colab": {
          "base_uri": "https://localhost:8080/"
        }
      },
      "source": [
        "d1={1:10,2:20,3:30}\n",
        "d2={2:100,4:40,5:50}\n",
        "d1.update(d2)\n",
        "d1"
      ],
      "execution_count": null,
      "outputs": [
        {
          "output_type": "execute_result",
          "data": {
            "text/plain": [
              "{1: 10, 2: 100, 3: 30, 4: 40, 5: 50}"
            ]
          },
          "metadata": {
            "tags": []
          },
          "execution_count": 21
        }
      ]
    },
    {
      "cell_type": "markdown",
      "metadata": {
        "id": "qyNmIV4CwHG_"
      },
      "source": [
        "# **Traversing a dictionary**"
      ]
    },
    {
      "cell_type": "markdown",
      "metadata": {
        "id": "4_0eAzFRwI-u"
      },
      "source": [
        "**items()** method return the dictionary key and values.But a for loop can be used effectively to traverse the dictionary and access each item."
      ]
    },
    {
      "cell_type": "markdown",
      "metadata": {
        "id": "Vv3idC5z0m3z"
      },
      "source": [
        "Print all key names in the dictionary, one by one:"
      ]
    },
    {
      "cell_type": "code",
      "metadata": {
        "id": "8xTi4J21wOA2",
        "outputId": "d77ebf99-27c6-48b9-c353-cbea4a249c03",
        "colab": {
          "base_uri": "https://localhost:8080/",
          "height": 68
        }
      },
      "source": [
        "D={2:20,1:30,3:40}\n",
        "for k in D:\n",
        "   print(k)"
      ],
      "execution_count": null,
      "outputs": [
        {
          "output_type": "stream",
          "text": [
            "2\n",
            "1\n",
            "3\n"
          ],
          "name": "stdout"
        }
      ]
    },
    {
      "cell_type": "markdown",
      "metadata": {
        "id": "GddcE9Dx0XYp"
      },
      "source": [
        "Print all values in the dictionary , one by one:"
      ]
    },
    {
      "cell_type": "code",
      "metadata": {
        "id": "XQs_Juyg0Zd5",
        "outputId": "c18738bd-5283-4fcf-9f77-41ef524cb56d",
        "colab": {
          "base_uri": "https://localhost:8080/",
          "height": 68
        }
      },
      "source": [
        "D={2:20,1:30,3:40}\n",
        "for k in D:\n",
        "   print(D[k])"
      ],
      "execution_count": null,
      "outputs": [
        {
          "output_type": "stream",
          "text": [
            "20\n",
            "30\n",
            "40\n"
          ],
          "name": "stdout"
        }
      ]
    },
    {
      "cell_type": "markdown",
      "metadata": {
        "id": "A2ULMqWO04rn"
      },
      "source": [
        "You can also use the values() method to return values of a dictionary:"
      ]
    },
    {
      "cell_type": "code",
      "metadata": {
        "id": "EOrPcu57058D",
        "outputId": "7853c8b0-aab0-48e5-f849-3446d9e8ac6b",
        "colab": {
          "base_uri": "https://localhost:8080/",
          "height": 68
        }
      },
      "source": [
        "D={2:20,1:30,3:40}\n",
        "for x in D.values():\n",
        "  print(x)"
      ],
      "execution_count": null,
      "outputs": [
        {
          "output_type": "stream",
          "text": [
            "20\n",
            "30\n",
            "40\n"
          ],
          "name": "stdout"
        }
      ]
    },
    {
      "cell_type": "markdown",
      "metadata": {
        "id": "xUZvd-3sz3M1"
      },
      "source": [
        "The following loop will print both keys and values."
      ]
    },
    {
      "cell_type": "code",
      "metadata": {
        "id": "EVs59jbEwROh",
        "outputId": "f1d198a3-9be9-47af-c4a2-2534fba61d4b",
        "colab": {
          "base_uri": "https://localhost:8080/",
          "height": 68
        }
      },
      "source": [
        "D={2:20,1:30,3:40}\n",
        "for k in D:\n",
        "\tprint(k,D[k])"
      ],
      "execution_count": null,
      "outputs": [
        {
          "output_type": "stream",
          "text": [
            "2 20\n",
            "1 30\n",
            "3 40\n"
          ],
          "name": "stdout"
        }
      ]
    },
    {
      "cell_type": "markdown",
      "metadata": {
        "id": "gbFo5nqP00q7"
      },
      "source": [
        "Loop through both keys and values, by using the items() method:"
      ]
    },
    {
      "cell_type": "code",
      "metadata": {
        "id": "TZqvGlXl1Jfg",
        "outputId": "21f7922d-71e4-4179-b21e-66d8a4ab1a33",
        "colab": {
          "base_uri": "https://localhost:8080/",
          "height": 68
        }
      },
      "source": [
        "D={2:20,1:30,3:40}\n",
        "for x, y in D.items():\n",
        "  print(x, y)"
      ],
      "execution_count": null,
      "outputs": [
        {
          "output_type": "stream",
          "text": [
            "2 20\n",
            "1 30\n",
            "3 40\n"
          ],
          "name": "stdout"
        }
      ]
    },
    {
      "cell_type": "markdown",
      "metadata": {
        "id": "kbW9bE07TMF8"
      },
      "source": [
        "# **Dictionary Membership Test**"
      ]
    },
    {
      "cell_type": "markdown",
      "metadata": {
        "id": "3h3LZ1FjTboR"
      },
      "source": [
        "We can test if a key is in a dictionary or not using the keyword in. Notice that **the membership test is only for the keys and not for the values**."
      ]
    },
    {
      "cell_type": "code",
      "metadata": {
        "id": "hlbvKyJ0TgpP",
        "outputId": "59f6d88b-97fe-40d1-da57-136e258119e1",
        "colab": {
          "base_uri": "https://localhost:8080/",
          "height": 34
        }
      },
      "source": [
        "squares = {1: 1, 3: 9, 5: 25, 7: 49, 9: 81} \n",
        "print(1 in squares) "
      ],
      "execution_count": null,
      "outputs": [
        {
          "output_type": "stream",
          "text": [
            "True\n"
          ],
          "name": "stdout"
        }
      ]
    },
    {
      "cell_type": "code",
      "metadata": {
        "id": "leHcGf4oTxV3",
        "outputId": "fb4c4e93-1953-42cd-dd3f-38d6356bfeba",
        "colab": {
          "base_uri": "https://localhost:8080/",
          "height": 34
        }
      },
      "source": [
        "squares = {1: 1, 3: 9, 5: 25, 7: 49, 9: 81} \n",
        "print(2 not in squares) "
      ],
      "execution_count": null,
      "outputs": [
        {
          "output_type": "stream",
          "text": [
            "True\n"
          ],
          "name": "stdout"
        }
      ]
    },
    {
      "cell_type": "code",
      "metadata": {
        "id": "txdSTlUSUm70",
        "outputId": "358ba586-0c02-47d5-84b9-2cd6fdf31b07",
        "colab": {
          "base_uri": "https://localhost:8080/",
          "height": 34
        }
      },
      "source": [
        "squares = {1: 1, 3: 9, 5: 25, 7: 49, 9: 81}\n",
        "45 in squares"
      ],
      "execution_count": null,
      "outputs": [
        {
          "output_type": "execute_result",
          "data": {
            "text/plain": [
              "False"
            ]
          },
          "metadata": {
            "tags": []
          },
          "execution_count": 6
        }
      ]
    },
    {
      "cell_type": "markdown",
      "metadata": {
        "id": "3i2WFZaKmgtD"
      },
      "source": [
        "# Example Programs"
      ]
    },
    {
      "cell_type": "markdown",
      "metadata": {
        "id": "B-nlaNrYmmvE"
      },
      "source": [
        "Write a Python program to create a dictionary of roll numbers and names of five students. Display the names in the dictionary in alphabetical order."
      ]
    },
    {
      "cell_type": "code",
      "metadata": {
        "id": "Ela0RKjtmpeB",
        "outputId": "2d0cdf70-749d-471c-9c25-178c749dfdd2",
        "colab": {
          "base_uri": "https://localhost:8080/",
          "height": 522
        }
      },
      "source": [
        "d={}#d=dict() also possible \n",
        "for i in range(5):\n",
        "    rn=int(input(\"Enter roll number..\"))\n",
        "    name=input(\"Enter name …\")\n",
        "    d[rn]=name\n",
        "\n",
        "l=list(d.items())#both key and values \n",
        "l.sort(key=lambda v:v[1])#when the list is made v[0] is actaully the keys and v[1] is th values\n",
        "print(\"name and roll number in sorted order of name\")\n",
        "for i in l:\n",
        "    print(i[1],\":\",i[0]) \n"
      ],
      "execution_count": null,
      "outputs": [
        {
          "output_type": "error",
          "ename": "KeyboardInterrupt",
          "evalue": "ignored",
          "traceback": [
            "\u001b[0;31m---------------------------------------------------------------------------\u001b[0m",
            "\u001b[0;31mKeyboardInterrupt\u001b[0m                         Traceback (most recent call last)",
            "\u001b[0;32m/usr/local/lib/python3.6/dist-packages/ipykernel/kernelbase.py\u001b[0m in \u001b[0;36m_input_request\u001b[0;34m(self, prompt, ident, parent, password)\u001b[0m\n\u001b[1;32m    728\u001b[0m             \u001b[0;32mtry\u001b[0m\u001b[0;34m:\u001b[0m\u001b[0;34m\u001b[0m\u001b[0;34m\u001b[0m\u001b[0m\n\u001b[0;32m--> 729\u001b[0;31m                 \u001b[0mident\u001b[0m\u001b[0;34m,\u001b[0m \u001b[0mreply\u001b[0m \u001b[0;34m=\u001b[0m \u001b[0mself\u001b[0m\u001b[0;34m.\u001b[0m\u001b[0msession\u001b[0m\u001b[0;34m.\u001b[0m\u001b[0mrecv\u001b[0m\u001b[0;34m(\u001b[0m\u001b[0mself\u001b[0m\u001b[0;34m.\u001b[0m\u001b[0mstdin_socket\u001b[0m\u001b[0;34m,\u001b[0m \u001b[0;36m0\u001b[0m\u001b[0;34m)\u001b[0m\u001b[0;34m\u001b[0m\u001b[0;34m\u001b[0m\u001b[0m\n\u001b[0m\u001b[1;32m    730\u001b[0m             \u001b[0;32mexcept\u001b[0m \u001b[0mException\u001b[0m\u001b[0;34m:\u001b[0m\u001b[0;34m\u001b[0m\u001b[0;34m\u001b[0m\u001b[0m\n",
            "\u001b[0;32m/usr/local/lib/python3.6/dist-packages/jupyter_client/session.py\u001b[0m in \u001b[0;36mrecv\u001b[0;34m(self, socket, mode, content, copy)\u001b[0m\n\u001b[1;32m    802\u001b[0m         \u001b[0;32mtry\u001b[0m\u001b[0;34m:\u001b[0m\u001b[0;34m\u001b[0m\u001b[0;34m\u001b[0m\u001b[0m\n\u001b[0;32m--> 803\u001b[0;31m             \u001b[0mmsg_list\u001b[0m \u001b[0;34m=\u001b[0m \u001b[0msocket\u001b[0m\u001b[0;34m.\u001b[0m\u001b[0mrecv_multipart\u001b[0m\u001b[0;34m(\u001b[0m\u001b[0mmode\u001b[0m\u001b[0;34m,\u001b[0m \u001b[0mcopy\u001b[0m\u001b[0;34m=\u001b[0m\u001b[0mcopy\u001b[0m\u001b[0;34m)\u001b[0m\u001b[0;34m\u001b[0m\u001b[0;34m\u001b[0m\u001b[0m\n\u001b[0m\u001b[1;32m    804\u001b[0m         \u001b[0;32mexcept\u001b[0m \u001b[0mzmq\u001b[0m\u001b[0;34m.\u001b[0m\u001b[0mZMQError\u001b[0m \u001b[0;32mas\u001b[0m \u001b[0me\u001b[0m\u001b[0;34m:\u001b[0m\u001b[0;34m\u001b[0m\u001b[0;34m\u001b[0m\u001b[0m\n",
            "\u001b[0;32m/usr/local/lib/python3.6/dist-packages/zmq/sugar/socket.py\u001b[0m in \u001b[0;36mrecv_multipart\u001b[0;34m(self, flags, copy, track)\u001b[0m\n\u001b[1;32m    490\u001b[0m         \"\"\"\n\u001b[0;32m--> 491\u001b[0;31m         \u001b[0mparts\u001b[0m \u001b[0;34m=\u001b[0m \u001b[0;34m[\u001b[0m\u001b[0mself\u001b[0m\u001b[0;34m.\u001b[0m\u001b[0mrecv\u001b[0m\u001b[0;34m(\u001b[0m\u001b[0mflags\u001b[0m\u001b[0;34m,\u001b[0m \u001b[0mcopy\u001b[0m\u001b[0;34m=\u001b[0m\u001b[0mcopy\u001b[0m\u001b[0;34m,\u001b[0m \u001b[0mtrack\u001b[0m\u001b[0;34m=\u001b[0m\u001b[0mtrack\u001b[0m\u001b[0;34m)\u001b[0m\u001b[0;34m]\u001b[0m\u001b[0;34m\u001b[0m\u001b[0;34m\u001b[0m\u001b[0m\n\u001b[0m\u001b[1;32m    492\u001b[0m         \u001b[0;31m# have first part already, only loop while more to receive\u001b[0m\u001b[0;34m\u001b[0m\u001b[0;34m\u001b[0m\u001b[0;34m\u001b[0m\u001b[0m\n",
            "\u001b[0;32mzmq/backend/cython/socket.pyx\u001b[0m in \u001b[0;36mzmq.backend.cython.socket.Socket.recv\u001b[0;34m()\u001b[0m\n",
            "\u001b[0;32mzmq/backend/cython/socket.pyx\u001b[0m in \u001b[0;36mzmq.backend.cython.socket.Socket.recv\u001b[0;34m()\u001b[0m\n",
            "\u001b[0;32mzmq/backend/cython/socket.pyx\u001b[0m in \u001b[0;36mzmq.backend.cython.socket._recv_copy\u001b[0;34m()\u001b[0m\n",
            "\u001b[0;32m/usr/local/lib/python3.6/dist-packages/zmq/backend/cython/checkrc.pxd\u001b[0m in \u001b[0;36mzmq.backend.cython.checkrc._check_rc\u001b[0;34m()\u001b[0m\n",
            "\u001b[0;31mKeyboardInterrupt\u001b[0m: ",
            "\nDuring handling of the above exception, another exception occurred:\n",
            "\u001b[0;31mKeyboardInterrupt\u001b[0m                         Traceback (most recent call last)",
            "\u001b[0;32m<ipython-input-1-6200bc5890ab>\u001b[0m in \u001b[0;36m<module>\u001b[0;34m()\u001b[0m\n\u001b[1;32m      1\u001b[0m \u001b[0md\u001b[0m\u001b[0;34m=\u001b[0m\u001b[0;34m{\u001b[0m\u001b[0;34m}\u001b[0m\u001b[0;34m\u001b[0m\u001b[0;34m\u001b[0m\u001b[0m\n\u001b[1;32m      2\u001b[0m \u001b[0;32mfor\u001b[0m \u001b[0mi\u001b[0m \u001b[0;32min\u001b[0m \u001b[0mrange\u001b[0m\u001b[0;34m(\u001b[0m\u001b[0;36m5\u001b[0m\u001b[0;34m)\u001b[0m\u001b[0;34m:\u001b[0m\u001b[0;34m\u001b[0m\u001b[0;34m\u001b[0m\u001b[0m\n\u001b[0;32m----> 3\u001b[0;31m     \u001b[0mrn\u001b[0m\u001b[0;34m=\u001b[0m\u001b[0mint\u001b[0m\u001b[0;34m(\u001b[0m\u001b[0minput\u001b[0m\u001b[0;34m(\u001b[0m\u001b[0;34m\"Enter roll number..\"\u001b[0m\u001b[0;34m)\u001b[0m\u001b[0;34m)\u001b[0m\u001b[0;34m\u001b[0m\u001b[0;34m\u001b[0m\u001b[0m\n\u001b[0m\u001b[1;32m      4\u001b[0m     \u001b[0mname\u001b[0m\u001b[0;34m=\u001b[0m\u001b[0minput\u001b[0m\u001b[0;34m(\u001b[0m\u001b[0;34m\"Enter name …\"\u001b[0m\u001b[0;34m)\u001b[0m\u001b[0;34m\u001b[0m\u001b[0;34m\u001b[0m\u001b[0m\n\u001b[1;32m      5\u001b[0m     \u001b[0md\u001b[0m\u001b[0;34m[\u001b[0m\u001b[0mrn\u001b[0m\u001b[0;34m]\u001b[0m\u001b[0;34m=\u001b[0m\u001b[0mname\u001b[0m\u001b[0;34m\u001b[0m\u001b[0;34m\u001b[0m\u001b[0m\n",
            "\u001b[0;32m/usr/local/lib/python3.6/dist-packages/ipykernel/kernelbase.py\u001b[0m in \u001b[0;36mraw_input\u001b[0;34m(self, prompt)\u001b[0m\n\u001b[1;32m    702\u001b[0m             \u001b[0mself\u001b[0m\u001b[0;34m.\u001b[0m\u001b[0m_parent_ident\u001b[0m\u001b[0;34m,\u001b[0m\u001b[0;34m\u001b[0m\u001b[0;34m\u001b[0m\u001b[0m\n\u001b[1;32m    703\u001b[0m             \u001b[0mself\u001b[0m\u001b[0;34m.\u001b[0m\u001b[0m_parent_header\u001b[0m\u001b[0;34m,\u001b[0m\u001b[0;34m\u001b[0m\u001b[0;34m\u001b[0m\u001b[0m\n\u001b[0;32m--> 704\u001b[0;31m             \u001b[0mpassword\u001b[0m\u001b[0;34m=\u001b[0m\u001b[0;32mFalse\u001b[0m\u001b[0;34m,\u001b[0m\u001b[0;34m\u001b[0m\u001b[0;34m\u001b[0m\u001b[0m\n\u001b[0m\u001b[1;32m    705\u001b[0m         )\n\u001b[1;32m    706\u001b[0m \u001b[0;34m\u001b[0m\u001b[0m\n",
            "\u001b[0;32m/usr/local/lib/python3.6/dist-packages/ipykernel/kernelbase.py\u001b[0m in \u001b[0;36m_input_request\u001b[0;34m(self, prompt, ident, parent, password)\u001b[0m\n\u001b[1;32m    732\u001b[0m             \u001b[0;32mexcept\u001b[0m \u001b[0mKeyboardInterrupt\u001b[0m\u001b[0;34m:\u001b[0m\u001b[0;34m\u001b[0m\u001b[0;34m\u001b[0m\u001b[0m\n\u001b[1;32m    733\u001b[0m                 \u001b[0;31m# re-raise KeyboardInterrupt, to truncate traceback\u001b[0m\u001b[0;34m\u001b[0m\u001b[0;34m\u001b[0m\u001b[0;34m\u001b[0m\u001b[0m\n\u001b[0;32m--> 734\u001b[0;31m                 \u001b[0;32mraise\u001b[0m \u001b[0mKeyboardInterrupt\u001b[0m\u001b[0;34m\u001b[0m\u001b[0;34m\u001b[0m\u001b[0m\n\u001b[0m\u001b[1;32m    735\u001b[0m             \u001b[0;32melse\u001b[0m\u001b[0;34m:\u001b[0m\u001b[0;34m\u001b[0m\u001b[0;34m\u001b[0m\u001b[0m\n\u001b[1;32m    736\u001b[0m                 \u001b[0;32mbreak\u001b[0m\u001b[0;34m\u001b[0m\u001b[0;34m\u001b[0m\u001b[0m\n",
            "\u001b[0;31mKeyboardInterrupt\u001b[0m: "
          ]
        }
      ]
    },
    {
      "cell_type": "markdown",
      "metadata": {
        "id": "YTVlRxP4p-We"
      },
      "source": [
        "program uses a dictionary to convert hexadecimal number into binary."
      ]
    },
    {
      "cell_type": "code",
      "metadata": {
        "id": "NXnBB_Ebp_hF",
        "outputId": "72d33471-f24b-4bb8-b734-4dd4fa900f15",
        "colab": {
          "base_uri": "https://localhost:8080/"
        }
      },
      "source": [
        "hextobin={'0':'0000','1':'0001','2':'0010','3':'0011','4':'0100','5':'0101','6':'0110','7':'0111','8':'1000','9':'1001','A':'1010','B':'1011','C':'1100','D':'1101','E':'1110','F':'1111'}\n",
        "#this is just refenrce dict\n",
        "n=input('Enter the hexadecimal number….')\n",
        "bn=''\n",
        "n=n.upper()#since in the dictionary it is all in caps\n",
        "#print(n)\n",
        "for d in n:\n",
        "    h=hextobin.get(d)#to get value correspouding value\n",
        "    if h==None:\n",
        "       print('Invalid Number')\n",
        "       break\n",
        "    bn=bn+hextobin[d]\n",
        "else:\n",
        "    print('Binary equivalent is..',bn)"
      ],
      "execution_count": null,
      "outputs": [
        {
          "output_type": "stream",
          "text": [
            "Enter the hexadecimal number….2b\n",
            "Binary equivalent is.. 00101011\n"
          ],
          "name": "stdout"
        }
      ]
    },
    {
      "cell_type": "markdown",
      "metadata": {
        "id": "HPDKR3HLq01i"
      },
      "source": [
        "Write a Python code to create a function called list_of_frequency that takes a string and prints the letters in non-increasing order of the frequency of their occurrences. Use dictionaries."
      ]
    },
    {
      "cell_type": "code",
      "metadata": {
        "id": "bKdMvdIsq3UV",
        "outputId": "023c6a9f-e948-43fb-8061-46a7aea49aa1",
        "colab": {
          "base_uri": "https://localhost:8080/"
        }
      },
      "source": [
        "def list_of_frequency(s):\n",
        "    d=dict()\n",
        "    for c in s:\n",
        "        d[c]=d.get(c,0)+1#here actually it checks in dict whether it is there if not there (0+1=1) if there is it takes the the value and then adds one into it\n",
        "        #d.get(key,value) ie if the key is not there in the dictinonary it will return 0\n",
        "    print(\"letter count in the decresing order\")\n",
        "    l=list(d.items())\n",
        "    l.sort(key=lambda x:x[1],reverse=True)\n",
        "    print(l)\n",
        "\n",
        "s=input(\"Enter the string…..\")\n",
        "list_of_frequency(s)"
      ],
      "execution_count": null,
      "outputs": [
        {
          "output_type": "stream",
          "text": [
            "Enter the string…..pyhton programming\n",
            "letter count in the decresing order\n",
            "[('p', 2), ('o', 2), ('n', 2), ('r', 2), ('g', 2), ('m', 2), ('y', 1), ('h', 1), ('t', 1), (' ', 1), ('a', 1), ('i', 1)]\n"
          ],
          "name": "stdout"
        }
      ]
    }
  ]
}